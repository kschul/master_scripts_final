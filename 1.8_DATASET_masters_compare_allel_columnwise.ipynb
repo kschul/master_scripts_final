{
 "cells": [
  {
   "cell_type": "markdown",
   "id": "6765e200",
   "metadata": {},
   "source": [
    "## **1.8_DATASET_masters_compare_allel_columnwise.ipynb**"
   ]
  },
  {
   "cell_type": "markdown",
   "id": "b9f21e9d",
   "metadata": {},
   "source": [
    "### GOALS of this script:\n",
    "* part three of whole merging workflow for the masters\n",
    "* numbering in accordance to workflow_europe_maize_dataset_prep_masters\n",
    "* turn around calls for the array.txt column changed from mask to replace \n",
    "* combination/check of:\n",
    "    * merging_script_final-Copy1.ipynb\n",
    "    * merging_script_final.ipynb\n",
    "    * the corresponding number steps\n",
    "* OUT: xxx_allel_col_for_masters.csv (optional)"
   ]
  },
  {
   "cell_type": "markdown",
   "id": "e2613100",
   "metadata": {},
   "source": [
    "### *Import packages*"
   ]
  },
  {
   "cell_type": "code",
   "execution_count": null,
   "id": "16f8cb34",
   "metadata": {},
   "outputs": [],
   "source": [
    "import gzip\n",
    "import allel\n",
    "import pandas as pd\n",
    "import numpy as np\n",
    "import tskit\n",
    "import tsinfer\n",
    "import sys\n",
    "import json\n",
    "import csv\n",
    "from IPython.display import SVG\n",
    "from IPython.display import HTML\n",
    "from collections import Counter\n",
    "import matplotlib.pyplot as plt\n",
    "import seaborn as sns\n",
    "from openpyxl import Workbook\n",
    "from progressbar import ProgressBar\n",
    "sns.set_style('white')\n",
    "sns.set_style('ticks')"
   ]
  },
  {
   "cell_type": "markdown",
   "id": "21c1430d",
   "metadata": {},
   "source": [
    "## *Import files*"
   ]
  },
  {
   "cell_type": "code",
   "execution_count": null,
   "id": "e549a81c",
   "metadata": {},
   "outputs": [],
   "source": [
    "filtered_unterseer_2016_elite=pd.read_csv(\"filtered_unterseer_2016_elite_for_masters.csv\", sep=\"\\t\")"
   ]
  },
  {
   "cell_type": "code",
   "execution_count": null,
   "id": "30e976e2",
   "metadata": {},
   "outputs": [],
   "source": [
    "filtered_unterseer_2016_elite"
   ]
  },
  {
   "cell_type": "code",
   "execution_count": null,
   "id": "fff11680",
   "metadata": {},
   "outputs": [],
   "source": [
    "filtered_unterseer_2016_landraces=pd.read_csv(\"filtered_unterseer_2016_landraces_for_masters.csv\", sep=\"\\t\")"
   ]
  },
  {
   "cell_type": "code",
   "execution_count": null,
   "id": "249deebd",
   "metadata": {},
   "outputs": [],
   "source": [
    "filtered_unterseer_2016_landraces"
   ]
  },
  {
   "cell_type": "code",
   "execution_count": null,
   "id": "d59a6cdd",
   "metadata": {},
   "outputs": [],
   "source": [
    "filtered_mayer_2017_landraces=pd.read_csv(\"filtered_mayer_2017_landraces_for_masters.csv\", sep=\"\\t\")"
   ]
  },
  {
   "cell_type": "code",
   "execution_count": null,
   "id": "5b6f47ab",
   "metadata": {},
   "outputs": [],
   "source": [
    "filtered_mayer_2017_landraces"
   ]
  },
  {
   "cell_type": "code",
   "execution_count": null,
   "id": "0e21e3d8",
   "metadata": {},
   "outputs": [],
   "source": [
    "filtered_mayer_2020_dhlines=pd.read_csv(\"filtered_mayer_2020_dhlines_for_masters.csv\", sep=\"\\t\")"
   ]
  },
  {
   "cell_type": "code",
   "execution_count": null,
   "id": "14145160",
   "metadata": {},
   "outputs": [],
   "source": [
    "filtered_mayer_2020_dhlines"
   ]
  },
  {
   "cell_type": "markdown",
   "id": "2dbc03c6",
   "metadata": {},
   "source": [
    "## **1.8 Compare allel columns between all datasets**"
   ]
  },
  {
   "cell_type": "markdown",
   "id": "d3443f9b",
   "metadata": {},
   "source": [
    "### *1.8.1 Turn around the double genotype calls for the Unterseer datasets*"
   ]
  },
  {
   "cell_type": "markdown",
   "id": "e53b5f6d",
   "metadata": {},
   "source": [
    "#### *Unterseer_2016_elite*"
   ]
  },
  {
   "cell_type": "code",
   "execution_count": null,
   "id": "7b4b2e29",
   "metadata": {},
   "outputs": [],
   "source": [
    "#get the alleles that correspond to the marker\n",
    "unterseer_2016_elite_allel_comp=filtered_unterseer_2016_elite.loc[:,[\"variants/AD_2016_elite\",\"alleles_2016_elite\"]]\n",
    "unterseer_2016_elite_allel_comp"
   ]
  },
  {
   "cell_type": "markdown",
   "id": "12b63cd4",
   "metadata": {},
   "source": [
    "**Turn around genotype calls**"
   ]
  },
  {
   "cell_type": "markdown",
   "id": "0311c3da",
   "metadata": {},
   "source": [
    "*Look at the current genotype calls*"
   ]
  },
  {
   "cell_type": "code",
   "execution_count": null,
   "id": "ce3799a4",
   "metadata": {},
   "outputs": [],
   "source": [
    "unterseer_2016_elite_allel_test= unterseer_2016_elite_allel_comp[\"alleles_2016_elite\"].values.ravel()"
   ]
  },
  {
   "cell_type": "code",
   "execution_count": null,
   "id": "a43cd3be",
   "metadata": {},
   "outputs": [],
   "source": [
    "unterseer_2016_elite_unique_alleles=pd.unique(unterseer_2016_elite_allel_test)"
   ]
  },
  {
   "cell_type": "code",
   "execution_count": null,
   "id": "8275009b",
   "metadata": {},
   "outputs": [],
   "source": [
    "unterseer_2016_elite_unique_alleles"
   ]
  },
  {
   "cell_type": "code",
   "execution_count": null,
   "id": "2319bf7e",
   "metadata": {},
   "outputs": [],
   "source": [
    "#number of different genotype calls \n",
    "len(unterseer_2016_elite_unique_alleles)"
   ]
  },
  {
   "cell_type": "markdown",
   "id": "c7cf6512",
   "metadata": {},
   "source": [
    "*Exchange C/T for T/C*"
   ]
  },
  {
   "cell_type": "code",
   "execution_count": null,
   "id": "abba5104",
   "metadata": {},
   "outputs": [],
   "source": [
    "#update_TC=unterseer_2016_elite_allel_comp.alleles_2016_elite.mask(unterseer_2016_elite_allel_comp.alleles_2016_elite == \"C/T\",\"T/C\")"
   ]
  },
  {
   "cell_type": "code",
   "execution_count": null,
   "id": "d7c8951d",
   "metadata": {},
   "outputs": [],
   "source": [
    "unterseer_2016_elite_allel_comp=unterseer_2016_elite_allel_comp.replace(\"C/T\",\"T/C\")"
   ]
  },
  {
   "cell_type": "code",
   "execution_count": null,
   "id": "4fde5fc9",
   "metadata": {},
   "outputs": [],
   "source": [
    "#unterseer_2016_elite_allel_comp.update(update_TC)"
   ]
  },
  {
   "cell_type": "code",
   "execution_count": null,
   "id": "027c50fd",
   "metadata": {},
   "outputs": [],
   "source": [
    "#check if CTs were replace with TCs\n",
    "#unterseer_2016_elite_allel_comp\n",
    "#pd.unique(unterseer_2016_elite_allel_comp.alleles_2016_elite.values.ravel())\n",
    "len(pd.unique(unterseer_2016_elite_allel_comp.alleles_2016_elite.values.ravel())) #number reduced by one? - yes!"
   ]
  },
  {
   "cell_type": "markdown",
   "id": "9b399bd6",
   "metadata": {},
   "source": [
    "*Exchange G/T for T/G* "
   ]
  },
  {
   "cell_type": "code",
   "execution_count": null,
   "id": "6d6b271c",
   "metadata": {},
   "outputs": [],
   "source": [
    "#update_TG=unterseer_2016_elite_allel_comp.alleles_2016_elite.mask(unterseer_2016_elite_allel_comp.alleles_2016_elite == \"G/T\",\"T/G\")"
   ]
  },
  {
   "cell_type": "code",
   "execution_count": null,
   "id": "2db34bc5",
   "metadata": {},
   "outputs": [],
   "source": [
    "unterseer_2016_elite_allel_comp=unterseer_2016_elite_allel_comp.replace(\"G/T\",\"T/G\")"
   ]
  },
  {
   "cell_type": "code",
   "execution_count": null,
   "id": "7311acc4",
   "metadata": {},
   "outputs": [],
   "source": [
    "#unterseer_2016_elite_allel_comp.update(update_TG)"
   ]
  },
  {
   "cell_type": "code",
   "execution_count": null,
   "id": "2f3505f5",
   "metadata": {},
   "outputs": [],
   "source": [
    "#check if GTs were replace with TGs\n",
    "#unterseer_2016_elite_allel_comp\n",
    "#pd.unique(unterseer_2016_elite_allel_comp.alleles_2016_elite.values.ravel())\n",
    "len(pd.unique(unterseer_2016_elite_allel_comp.alleles_2016_elite.values.ravel())) #number reduced by one? - yes!"
   ]
  },
  {
   "cell_type": "markdown",
   "id": "eb369638",
   "metadata": {},
   "source": [
    "*Exchange A/T for T/A*"
   ]
  },
  {
   "cell_type": "code",
   "execution_count": null,
   "id": "be87ba77",
   "metadata": {},
   "outputs": [],
   "source": [
    "#update_TA=unterseer_2016_elite_allel_comp.alleles_2016_elite.mask(unterseer_2016_elite_allel_comp.alleles_2016_elite == \"A/T\",\"T/A\")"
   ]
  },
  {
   "cell_type": "code",
   "execution_count": null,
   "id": "a8966ead",
   "metadata": {},
   "outputs": [],
   "source": [
    "unterseer_2016_elite_allel_comp=unterseer_2016_elite_allel_comp.replace(\"A/T\",\"T/A\")"
   ]
  },
  {
   "cell_type": "code",
   "execution_count": null,
   "id": "52137afe",
   "metadata": {},
   "outputs": [],
   "source": [
    "#unterseer_2016_elite_allel_comp.update(update_TA)"
   ]
  },
  {
   "cell_type": "code",
   "execution_count": null,
   "id": "03f5daba",
   "metadata": {},
   "outputs": [],
   "source": [
    "#check if ATs were replace with TAs\n",
    "#unterseer_2016_elite_allel_comp\n",
    "#pd.unique(unterseer_2016_elite_allel_comp.alleles_2016_elite.values.ravel())\n",
    "len(pd.unique(unterseer_2016_elite_allel_comp.alleles_2016_elite.values.ravel())) #number reduced by one? - yes!"
   ]
  },
  {
   "cell_type": "markdown",
   "id": "2484ed96",
   "metadata": {},
   "source": [
    "*Exchange A/G for G/A*"
   ]
  },
  {
   "cell_type": "code",
   "execution_count": null,
   "id": "b300b6d0",
   "metadata": {},
   "outputs": [],
   "source": [
    "#update_GA=unterseer_2016_elite_allel_comp.alleles_2016_elite.mask(unterseer_2016_elite_allel_comp.alleles_2016_elite == \"A/G\",\"G/A\")"
   ]
  },
  {
   "cell_type": "code",
   "execution_count": null,
   "id": "7177e3ff",
   "metadata": {},
   "outputs": [],
   "source": [
    "unterseer_2016_elite_allel_comp=unterseer_2016_elite_allel_comp.replace(\"A/G\",\"G/A\")"
   ]
  },
  {
   "cell_type": "code",
   "execution_count": null,
   "id": "66395ca3",
   "metadata": {},
   "outputs": [],
   "source": [
    "#unterseer_2016_elite_allel_comp.update(update_GA)"
   ]
  },
  {
   "cell_type": "code",
   "execution_count": null,
   "id": "bd8feff8",
   "metadata": {},
   "outputs": [],
   "source": [
    "#check if AGs were replace with GAs\n",
    "#unterseer_2016_elite_allel_comp\n",
    "#pd.unique(unterseer_2016_elite_allel_comp.alleles_2016_elite.values.ravel())\n",
    "len(pd.unique(unterseer_2016_elite_allel_comp.alleles_2016_elite.values.ravel())) #number reduced by one? - yes!"
   ]
  },
  {
   "cell_type": "markdown",
   "id": "43cd25fb",
   "metadata": {},
   "source": [
    "*Exchange C/G for G/C*"
   ]
  },
  {
   "cell_type": "code",
   "execution_count": null,
   "id": "99aec0d6",
   "metadata": {},
   "outputs": [],
   "source": [
    "#update_GC=unterseer_2016_elite_allel_comp.alleles_2016_elite.mask(unterseer_2016_elite_allel_comp.alleles_2016_elite == \"C/G\",\"G/C\")"
   ]
  },
  {
   "cell_type": "code",
   "execution_count": null,
   "id": "afa9251b",
   "metadata": {},
   "outputs": [],
   "source": [
    "unterseer_2016_elite_allel_comp=unterseer_2016_elite_allel_comp.replace(\"C/G\",\"G/C\")"
   ]
  },
  {
   "cell_type": "code",
   "execution_count": null,
   "id": "345d4989",
   "metadata": {},
   "outputs": [],
   "source": [
    "#unterseer_2016_elite_allel_comp.update(update_GC)"
   ]
  },
  {
   "cell_type": "code",
   "execution_count": null,
   "id": "e148707d",
   "metadata": {},
   "outputs": [],
   "source": [
    "#check if CGs were replace with GCs\n",
    "#unterseer_2016_elite_allel_comp\n",
    "#pd.unique(unterseer_2016_elite_allel_comp.alleles_2016_elite.values.ravel())\n",
    "len(pd.unique(unterseer_2016_elite_allel_comp.alleles_2016_elite.values.ravel())) #number reduced by one? - yes!"
   ]
  },
  {
   "cell_type": "markdown",
   "id": "c59c1062",
   "metadata": {},
   "source": [
    "*Exchange C/A for A/C*"
   ]
  },
  {
   "cell_type": "code",
   "execution_count": null,
   "id": "ae6f89fd",
   "metadata": {},
   "outputs": [],
   "source": [
    "#update_AC=unterseer_2016_elite_allel_comp.alleles_2016_elite.mask(unterseer_2016_elite_allel_comp.alleles_2016_elite == \"C/A\",\"A/C\")"
   ]
  },
  {
   "cell_type": "code",
   "execution_count": null,
   "id": "ce335b3d",
   "metadata": {},
   "outputs": [],
   "source": [
    "unterseer_2016_elite_allel_comp=unterseer_2016_elite_allel_comp.replace(\"C/A\",\"A/C\")"
   ]
  },
  {
   "cell_type": "code",
   "execution_count": null,
   "id": "681614bb",
   "metadata": {},
   "outputs": [],
   "source": [
    "#unterseer_2016_elite_allel_comp.update(update_AC)"
   ]
  },
  {
   "cell_type": "code",
   "execution_count": null,
   "id": "761555fe",
   "metadata": {},
   "outputs": [],
   "source": [
    "#check if CAs were replace with ACs\n",
    "#unterseer_2016_elite_allel_comp\n",
    "#pd.unique(unterseer_2016_elite_allel_comp.alleles_2016_elite.values.ravel())\n",
    "len(pd.unique(unterseer_2016_elite_allel_comp.alleles_2016_elite.values.ravel())) #number reduced by one? - yes!"
   ]
  },
  {
   "cell_type": "code",
   "execution_count": null,
   "id": "e43a8621",
   "metadata": {},
   "outputs": [],
   "source": [
    "pd.unique(unterseer_2016_elite_allel_comp.alleles_2016_elite.values.ravel()) #number reduced by one? - yes!"
   ]
  },
  {
   "cell_type": "code",
   "execution_count": null,
   "id": "5c33c5cf",
   "metadata": {},
   "outputs": [],
   "source": [
    "unterseer_2016_elite_allel_comp"
   ]
  },
  {
   "cell_type": "markdown",
   "id": "215c532e",
   "metadata": {},
   "source": [
    "#### *Unterseer_2016_landraces*"
   ]
  },
  {
   "cell_type": "code",
   "execution_count": null,
   "id": "c4c24c67",
   "metadata": {},
   "outputs": [],
   "source": [
    "#get the alleles that corespond to the marker \n",
    "unterseer_2016_landraces_allel_comp=filtered_unterseer_2016_landraces.loc[:,[\"variants/AD_2016_landraces\",\"alleles_2016_landraces\"]]\n",
    "unterseer_2016_landraces_allel_comp"
   ]
  },
  {
   "cell_type": "markdown",
   "id": "ee0ddca2",
   "metadata": {},
   "source": [
    "**Turn around gentoype calls**"
   ]
  },
  {
   "cell_type": "markdown",
   "id": "b8a61ddb",
   "metadata": {},
   "source": [
    "*Look at the current genotype calls*"
   ]
  },
  {
   "cell_type": "code",
   "execution_count": null,
   "id": "0d31ac49",
   "metadata": {},
   "outputs": [],
   "source": [
    "unterseer_2016_landraces_allel_test= unterseer_2016_landraces_allel_comp[\"alleles_2016_landraces\"].values.ravel()"
   ]
  },
  {
   "cell_type": "code",
   "execution_count": null,
   "id": "7ad5ca29",
   "metadata": {},
   "outputs": [],
   "source": [
    "unterseer_2016_landraces_unique_alleles=pd.unique(unterseer_2016_landraces_allel_test)"
   ]
  },
  {
   "cell_type": "code",
   "execution_count": null,
   "id": "b90debd5",
   "metadata": {},
   "outputs": [],
   "source": [
    "unterseer_2016_landraces_unique_alleles"
   ]
  },
  {
   "cell_type": "code",
   "execution_count": null,
   "id": "5d34b6c0",
   "metadata": {},
   "outputs": [],
   "source": [
    "#number of different genotype calls \n",
    "len(unterseer_2016_landraces_unique_alleles)"
   ]
  },
  {
   "cell_type": "markdown",
   "id": "b8c077d3",
   "metadata": {},
   "source": [
    "*Exchange C/T for T/C*"
   ]
  },
  {
   "cell_type": "code",
   "execution_count": null,
   "id": "4b5c37bd",
   "metadata": {},
   "outputs": [],
   "source": [
    "#update_TC=unterseer_2016_landraces_allel_comp.alleles_2016_landraces.mask(unterseer_2016_landraces_allel_comp.alleles_2016_landraces == \"C/T\",\"T/C\")"
   ]
  },
  {
   "cell_type": "code",
   "execution_count": null,
   "id": "88f8e1f6",
   "metadata": {},
   "outputs": [],
   "source": [
    "unterseer_2016_landraces_allel_comp=unterseer_2016_landraces_allel_comp.replace(\"C/T\",\"T/C\")"
   ]
  },
  {
   "cell_type": "code",
   "execution_count": null,
   "id": "4f9ab44a",
   "metadata": {},
   "outputs": [],
   "source": [
    "#unterseer_2016_landraces_allel_comp.update(update_TC)"
   ]
  },
  {
   "cell_type": "code",
   "execution_count": null,
   "id": "7e4a6bab",
   "metadata": {},
   "outputs": [],
   "source": [
    "#check if CTs were replace with TCs\n",
    "#unterseer_2016_landraces_allel_comp\n",
    "#pd.unique(unterseer_2016_landraces_allel_comp.alleles_2016_landraces.values.ravel())\n",
    "len(pd.unique(unterseer_2016_landraces_allel_comp.alleles_2016_landraces.values.ravel())) #number reduced by one? - yes!"
   ]
  },
  {
   "cell_type": "markdown",
   "id": "4f114a3d",
   "metadata": {},
   "source": [
    "*Exchange G/T for T/G* "
   ]
  },
  {
   "cell_type": "code",
   "execution_count": null,
   "id": "6db8cb22",
   "metadata": {},
   "outputs": [],
   "source": [
    "#update_TG=unterseer_2016_landraces_allel_comp.alleles_2016_landraces.mask(unterseer_2016_landraces_allel_comp.alleles_2016_landraces == \"G/T\",\"T/G\")"
   ]
  },
  {
   "cell_type": "code",
   "execution_count": null,
   "id": "11f85493",
   "metadata": {},
   "outputs": [],
   "source": [
    "unterseer_2016_landraces_allel_comp=unterseer_2016_landraces_allel_comp.replace(\"G/T\",\"T/G\")"
   ]
  },
  {
   "cell_type": "code",
   "execution_count": null,
   "id": "2211d31c",
   "metadata": {},
   "outputs": [],
   "source": [
    "#unterseer_2016_landraces_allel_comp.update(update_TG)"
   ]
  },
  {
   "cell_type": "code",
   "execution_count": null,
   "id": "7382b027",
   "metadata": {},
   "outputs": [],
   "source": [
    "#check if GTs were replace with TGs\n",
    "#unterseer_2016_landraces_allel_comp\n",
    "#pd.unique(unterseer_2016_landraces_allel_comp.alleles_2016_landraces.values.ravel())\n",
    "len(pd.unique(unterseer_2016_landraces_allel_comp.alleles_2016_landraces.values.ravel())) #number reduced by one? - yes!"
   ]
  },
  {
   "cell_type": "markdown",
   "id": "b8e12454",
   "metadata": {},
   "source": [
    "*Exchange A/T for T/A*"
   ]
  },
  {
   "cell_type": "code",
   "execution_count": null,
   "id": "a388e955",
   "metadata": {},
   "outputs": [],
   "source": [
    "#update_TA=unterseer_2016_landraces_allel_comp.alleles_2016_landraces.mask(unterseer_2016_landraces_allel_comp.alleles_2016_landraces == \"A/T\",\"T/A\")"
   ]
  },
  {
   "cell_type": "code",
   "execution_count": null,
   "id": "dd0895a7",
   "metadata": {},
   "outputs": [],
   "source": [
    "unterseer_2016_landraces_allel_comp=unterseer_2016_landraces_allel_comp.replace(\"A/T\",\"T/A\")"
   ]
  },
  {
   "cell_type": "code",
   "execution_count": null,
   "id": "4ccbe3cf",
   "metadata": {},
   "outputs": [],
   "source": [
    "#unterseer_2016_landraces_allel_comp.update(update_TA)"
   ]
  },
  {
   "cell_type": "code",
   "execution_count": null,
   "id": "1cf5ce2c",
   "metadata": {},
   "outputs": [],
   "source": [
    "#check if ATs were replace with TAs\n",
    "#unterseer_2016_landraces_allel_comp\n",
    "#pd.unique(unterseer_2016_landraces_allel_comp.alleles_2016_landraces.values.ravel())\n",
    "len(pd.unique(unterseer_2016_landraces_allel_comp.alleles_2016_landraces.values.ravel())) #number reduced by one? - yes!"
   ]
  },
  {
   "cell_type": "markdown",
   "id": "fddaeec9",
   "metadata": {},
   "source": [
    "*Exchange A/G for G/A*"
   ]
  },
  {
   "cell_type": "code",
   "execution_count": null,
   "id": "255b1eb1",
   "metadata": {},
   "outputs": [],
   "source": [
    "#update_GA=unterseer_2016_landraces_allel_comp.alleles_2016_landraces.mask(unterseer_2016_landraces_allel_comp.alleles_2016_landraces == \"A/G\",\"G/A\")"
   ]
  },
  {
   "cell_type": "code",
   "execution_count": null,
   "id": "75cdece2",
   "metadata": {},
   "outputs": [],
   "source": [
    "unterseer_2016_landraces_allel_comp=unterseer_2016_landraces_allel_comp.replace(\"A/G\",\"G/A\")"
   ]
  },
  {
   "cell_type": "code",
   "execution_count": null,
   "id": "a5c815e8",
   "metadata": {},
   "outputs": [],
   "source": [
    "#unterseer_2016_landraces_allel_comp.update(update_GA)"
   ]
  },
  {
   "cell_type": "code",
   "execution_count": null,
   "id": "563861b6",
   "metadata": {},
   "outputs": [],
   "source": [
    "#check if AGs were replace with GAs\n",
    "#unterseer_2016_landraces_allel_comp\n",
    "#pd.unique(unterseer_2016_landraces_allel_comp.alleles_2016_landraces.values.ravel())\n",
    "len(pd.unique(unterseer_2016_landraces_allel_comp.alleles_2016_landraces.values.ravel())) #number reduced by one? - yes!"
   ]
  },
  {
   "cell_type": "markdown",
   "id": "eff77e2c",
   "metadata": {},
   "source": [
    "*Exchange C/G for G/C*"
   ]
  },
  {
   "cell_type": "code",
   "execution_count": null,
   "id": "bf939907",
   "metadata": {},
   "outputs": [],
   "source": [
    "#update_GC=unterseer_2016_landraces_allel_comp.alleles_2016_landraces.mask(unterseer_2016_landraces_allel_comp.alleles_2016_landraces == \"C/G\",\"G/C\")"
   ]
  },
  {
   "cell_type": "code",
   "execution_count": null,
   "id": "000a79c2",
   "metadata": {},
   "outputs": [],
   "source": [
    "unterseer_2016_landraces_allel_comp=unterseer_2016_landraces_allel_comp.replace(\"C/G\",\"G/C\")"
   ]
  },
  {
   "cell_type": "code",
   "execution_count": null,
   "id": "40418543",
   "metadata": {},
   "outputs": [],
   "source": [
    "#unterseer_2016_landraces_allel_comp.update(update_GC)"
   ]
  },
  {
   "cell_type": "code",
   "execution_count": null,
   "id": "b8785cd4",
   "metadata": {},
   "outputs": [],
   "source": [
    "#check if CGs were replace with GCs\n",
    "#unterseer_2016_landraces_allel_comp\n",
    "#pd.unique(unterseer_2016_landraces_allel_comp.alleles_2016_landraces.values.ravel())\n",
    "len(pd.unique(unterseer_2016_landraces_allel_comp.alleles_2016_landraces.values.ravel())) #number reduced by one? - yes!"
   ]
  },
  {
   "cell_type": "markdown",
   "id": "8dea7358",
   "metadata": {},
   "source": [
    "*Exchange C/A for A/C*"
   ]
  },
  {
   "cell_type": "code",
   "execution_count": null,
   "id": "d39ccfee",
   "metadata": {},
   "outputs": [],
   "source": [
    "#update_AC=unterseer_2016_landraces_allel_comp.alleles_2016_landraces.mask(unterseer_2016_landraces_allel_comp.alleles_2016_landraces == \"C/A\",\"A/C\")"
   ]
  },
  {
   "cell_type": "code",
   "execution_count": null,
   "id": "8ce716ea",
   "metadata": {},
   "outputs": [],
   "source": [
    "unterseer_2016_landraces_allel_comp=unterseer_2016_landraces_allel_comp.replace(\"C/A\",\"A/C\")"
   ]
  },
  {
   "cell_type": "code",
   "execution_count": null,
   "id": "166c7b96",
   "metadata": {},
   "outputs": [],
   "source": [
    "#unterseer_2016_landraces_allel_comp.update(update_AC)"
   ]
  },
  {
   "cell_type": "code",
   "execution_count": null,
   "id": "eb3bef23",
   "metadata": {},
   "outputs": [],
   "source": [
    "#check if CAs were replace with ACs\n",
    "#unterseer_2016_landraces_allel_comp\n",
    "#pd.unique(unterseer_2016_landraces_allel_comp.alleles_2016_landraces.values.ravel())\n",
    "len(pd.unique(unterseer_2016_landraces_allel_comp.alleles_2016_landraces.values.ravel())) #number reduced by one? - yes!"
   ]
  },
  {
   "cell_type": "code",
   "execution_count": null,
   "id": "5373ba68",
   "metadata": {},
   "outputs": [],
   "source": [
    "pd.unique(unterseer_2016_landraces_allel_comp.alleles_2016_landraces.values.ravel()) #number reduced by one? - yes!"
   ]
  },
  {
   "cell_type": "code",
   "execution_count": null,
   "id": "3b00b4cb",
   "metadata": {},
   "outputs": [],
   "source": [
    "unterseer_2016_landraces_allel_comp"
   ]
  },
  {
   "cell_type": "markdown",
   "id": "d0553e59",
   "metadata": {},
   "source": [
    "### *1.8.2 Generate the allele columns for the Mayer datasets*"
   ]
  },
  {
   "cell_type": "markdown",
   "id": "865df279",
   "metadata": {},
   "source": [
    "#### **Mayer_2017**"
   ]
  },
  {
   "cell_type": "code",
   "execution_count": null,
   "id": "453307c3",
   "metadata": {},
   "outputs": [],
   "source": [
    "#get a list of the remaining markers \n",
    "mayer_2017_landraces_allel_comp=filtered_mayer_2017_landraces.loc[:,[\"index_2017_landraces\"]]\n",
    "mayer_2017_landraces_allel_comp"
   ]
  },
  {
   "cell_type": "code",
   "execution_count": null,
   "id": "ae85ef3c",
   "metadata": {},
   "outputs": [],
   "source": [
    "#get the alleles\n",
    "mayer_2017_landraces_get_alleles=filtered_mayer_2017_landraces.drop(['index_2017_landraces','chr_v4_2017_landraces','pos_v4_2017_landraces','quality_2017_landraces'], axis = 1)"
   ]
  },
  {
   "cell_type": "code",
   "execution_count": null,
   "id": "cfe57b73",
   "metadata": {},
   "outputs": [],
   "source": [
    "mayer_2017_landraces_get_alleles"
   ]
  },
  {
   "cell_type": "code",
   "execution_count": null,
   "id": "4afd1d99",
   "metadata": {},
   "outputs": [],
   "source": [
    "#get the remainig genotype calls \n",
    "mayer_2017_landraces_get_alleles_str=mayer_2017_landraces_get_alleles.astype(str)"
   ]
  },
  {
   "cell_type": "code",
   "execution_count": null,
   "id": "31848c46",
   "metadata": {},
   "outputs": [],
   "source": [
    "mayer_2017_landraces_get_alleles_str"
   ]
  },
  {
   "cell_type": "code",
   "execution_count": null,
   "id": "7e59149a",
   "metadata": {},
   "outputs": [],
   "source": [
    " pd.unique(mayer_2017_landraces_get_alleles_str.values.ravel())"
   ]
  },
  {
   "cell_type": "markdown",
   "id": "57406823",
   "metadata": {},
   "source": [
    "**Replace the OO with NaN** "
   ]
  },
  {
   "cell_type": "code",
   "execution_count": null,
   "id": "caa388cb",
   "metadata": {},
   "outputs": [],
   "source": [
    "mayer_2017_landraces_get_alleles_reset = mayer_2017_landraces_get_alleles_str.replace(to_replace='OO', value=\"nan\")"
   ]
  },
  {
   "cell_type": "code",
   "execution_count": null,
   "id": "b3a3dba1",
   "metadata": {},
   "outputs": [],
   "source": [
    "mayer_2017_all_geno_values_test_replace =mayer_2017_landraces_get_alleles_reset.values.ravel()"
   ]
  },
  {
   "cell_type": "code",
   "execution_count": null,
   "id": "d3424ef7",
   "metadata": {},
   "outputs": [],
   "source": [
    "unique_values_mayer_2017_test_replace = pd.unique(mayer_2017_all_geno_values_test_replace)"
   ]
  },
  {
   "cell_type": "code",
   "execution_count": null,
   "id": "b3a8fd00",
   "metadata": {},
   "outputs": [],
   "source": [
    "unique_values_mayer_2017_test_replace"
   ]
  },
  {
   "cell_type": "code",
   "execution_count": null,
   "id": "d3fce30b",
   "metadata": {},
   "outputs": [],
   "source": [
    "len(unique_values_mayer_2017_test_replace)"
   ]
  },
  {
   "cell_type": "markdown",
   "id": "0d336609",
   "metadata": {},
   "source": [
    "**Get the row-wise alleles from the table**"
   ]
  },
  {
   "cell_type": "code",
   "execution_count": null,
   "id": "181f1fba",
   "metadata": {},
   "outputs": [],
   "source": [
    "mayer_2017_genotypes_set=list(map(set,mayer_2017_landraces_get_alleles_reset.values))"
   ]
  },
  {
   "cell_type": "code",
   "execution_count": null,
   "id": "634c061f",
   "metadata": {
    "scrolled": true
   },
   "outputs": [],
   "source": [
    "#list of sets \n",
    "mayer_2017_genotypes_set"
   ]
  },
  {
   "cell_type": "markdown",
   "id": "4a06506d",
   "metadata": {},
   "source": [
    "**Make list of sets into list of lists**"
   ]
  },
  {
   "cell_type": "code",
   "execution_count": null,
   "id": "d9b37d30",
   "metadata": {},
   "outputs": [],
   "source": [
    "#mayer_2017_genotypes\n",
    "mayer_2017_genotypes_list=[]"
   ]
  },
  {
   "cell_type": "code",
   "execution_count": null,
   "id": "4281ddde",
   "metadata": {},
   "outputs": [],
   "source": [
    "for e in mayer_2017_genotypes_set:\n",
    "    #print(e)\n",
    "    geno_row=list(e)\n",
    "    mayer_2017_genotypes_list.append(geno_row)"
   ]
  },
  {
   "cell_type": "code",
   "execution_count": null,
   "id": "9b28bb9f",
   "metadata": {
    "scrolled": true
   },
   "outputs": [],
   "source": [
    "mayer_2017_genotypes_list"
   ]
  },
  {
   "cell_type": "markdown",
   "id": "d87e6add",
   "metadata": {},
   "source": [
    "**Remove \"nan\" from the rows**"
   ]
  },
  {
   "cell_type": "code",
   "execution_count": null,
   "id": "a4d0e7ec",
   "metadata": {},
   "outputs": [],
   "source": [
    "for sublist_2017 in mayer_2017_genotypes_list:\n",
    "    #print(sublist)\n",
    "    for element_2017 in sublist_2017:\n",
    "        #print(element)\n",
    "        if element_2017 == \"nan\":\n",
    "            #print(\"yes\")\n",
    "            sublist_2017.remove(element_2017)"
   ]
  },
  {
   "cell_type": "code",
   "execution_count": null,
   "id": "87903bc7",
   "metadata": {
    "scrolled": true
   },
   "outputs": [],
   "source": [
    "mayer_2017_genotypes_list"
   ]
  },
  {
   "cell_type": "markdown",
   "id": "57bd045a",
   "metadata": {},
   "source": [
    "**Merge all the row elements into one**"
   ]
  },
  {
   "cell_type": "code",
   "execution_count": null,
   "id": "c549ae67",
   "metadata": {},
   "outputs": [],
   "source": [
    "merged_mayer_2017_genotypes_list=[]"
   ]
  },
  {
   "cell_type": "code",
   "execution_count": null,
   "id": "d830a2b3",
   "metadata": {},
   "outputs": [],
   "source": [
    "for sublist_without_2017 in mayer_2017_genotypes_list:\n",
    "    #print(sublist_without_2017)\n",
    "    s=''.join(sublist_without_2017)\n",
    "    merged_mayer_2017_genotypes_list.append(s)\n",
    "    #print(s)"
   ]
  },
  {
   "cell_type": "code",
   "execution_count": null,
   "id": "393d29ef",
   "metadata": {
    "scrolled": true
   },
   "outputs": [],
   "source": [
    "merged_mayer_2017_genotypes_list"
   ]
  },
  {
   "cell_type": "code",
   "execution_count": null,
   "id": "6737f0be",
   "metadata": {},
   "outputs": [],
   "source": [
    "substring_T_2017=\"T\"\n",
    "substring_G_2017=\"G\"\n",
    "substring_A_2017=\"A\"\n",
    "substring_C_2017=\"C\""
   ]
  },
  {
   "cell_type": "code",
   "execution_count": null,
   "id": "9eaaf79f",
   "metadata": {},
   "outputs": [],
   "source": [
    "count_row_2017=[]\n",
    "all_counts_2017=[]\n",
    "filter_boolean_2017=[]"
   ]
  },
  {
   "cell_type": "markdown",
   "id": "2e4e48c1",
   "metadata": {},
   "source": [
    "**Filter for sites with more than two alleles**"
   ]
  },
  {
   "cell_type": "code",
   "execution_count": null,
   "id": "766a37de",
   "metadata": {},
   "outputs": [],
   "source": [
    "for merged_element in merged_mayer_2017_genotypes_list:\n",
    "    #print(merged_element)\n",
    "    \n",
    "    #count how many times each allel appears in the row \n",
    "    count_T_2017=merged_element.count(substring_T_2017)\n",
    "    count_G_2017=merged_element.count(substring_G_2017)\n",
    "    count_A_2017=merged_element.count(substring_A_2017)\n",
    "    count_C_2017=merged_element.count(substring_C_2017)\n",
    "    #print(count_T)\n",
    "    \n",
    "    #add the rowwise counts of the alleles to a list\n",
    "    count_row_2017=[count_T_2017,count_G_2017,count_A_2017,count_C_2017]\n",
    "    #add the row counts to a list of lists\n",
    "    all_counts_2017.append(count_row_2017)\n",
    "\n",
    "    #count number of non-zero numbers in the count of alleles list (are there more than two alleles )\n",
    "    num_of_alleles_2017=np.count_nonzero(count_row_2017)\n",
    "    #print(num_of_alleles)\n",
    "    \n",
    "    if num_of_alleles_2017 > 2: #if there are more than two alleles \n",
    "        #print(merged_element)\n",
    "        #print(num_of_alleles)\n",
    "        filter_boolean_2017.append(False) #append False to the list \n",
    "    \n",
    "    elif num_of_alleles_2017 <=2: #if there are less than two allels\n",
    "        filter_boolean_2017.append(True)\n",
    "              \n",
    "    else:\n",
    "        print(\"Problem\")\n",
    "        break  "
   ]
  },
  {
   "cell_type": "code",
   "execution_count": null,
   "id": "3dc69fbf",
   "metadata": {},
   "outputs": [],
   "source": [
    "print(len(filter_boolean_2017))\n",
    "Counter(filter_boolean_2017)"
   ]
  },
  {
   "cell_type": "code",
   "execution_count": null,
   "id": "2b873a28",
   "metadata": {},
   "outputs": [],
   "source": [
    "#print(all_counts_2017[0])\n",
    "#print(merged_mayer_2017_genotypes_list[0])"
   ]
  },
  {
   "cell_type": "markdown",
   "id": "6f188d10",
   "metadata": {},
   "source": [
    "**Make the allele column 1**"
   ]
  },
  {
   "cell_type": "code",
   "execution_count": null,
   "id": "706ae3b1",
   "metadata": {},
   "outputs": [],
   "source": [
    "allel_column_2017=[]"
   ]
  },
  {
   "cell_type": "code",
   "execution_count": null,
   "id": "3c23a014",
   "metadata": {},
   "outputs": [],
   "source": [
    "#make the allel column \n",
    "for count_row_element_2017 in all_counts_2017 :\n",
    "            #print(count_row_element)\n",
    "            if count_row_element_2017[0] != 0 and count_row_element_2017[1] != 0:\n",
    "                allel_column_2017.extend([\"T/G\"])\n",
    "            elif count_row_element_2017[0] != 0 and count_row_element_2017[2] !=0:\n",
    "                allel_column_2017.extend([\"T/A\"])\n",
    "            elif count_row_element_2017[0] != 0 and count_row_element_2017[3] !=0:\n",
    "                allel_column_2017.extend([\"T/C\"])\n",
    "            elif count_row_element_2017[1] != 0 and count_row_element_2017[2] !=0:\n",
    "                allel_column_2017.extend([\"G/A\"])\n",
    "            elif count_row_element_2017[1] != 0 and count_row_element_2017[3] !=0:\n",
    "                allel_column_2017.extend([\"G/C\"])\n",
    "            elif count_row_element_2017[2] != 0 and count_row_element_2017[3] !=0:\n",
    "                allel_column_2017.extend([\"A/C\"])\n",
    "            elif count_row_element_2017[0] != 0 and count_row_element_2017[1] ==0 and count_row_element_2017[2] ==0 and count_row_element_2017[3]==0:\n",
    "                allel_column_2017.extend([\"T\"])\n",
    "            elif count_row_element_2017[1] != 0 and count_row_element_2017[0] ==0 and count_row_element_2017[2] ==0 and count_row_element_2017[3]==0:\n",
    "                allel_column_2017.extend([\"G\"])\n",
    "            elif count_row_element_2017[2] != 0 and count_row_element_2017[0] ==0 and count_row_element_2017[1] ==0 and count_row_element_2017[3]==0:\n",
    "                allel_column_2017.extend([\"A\"])\n",
    "            elif count_row_element_2017[3] != 0 and count_row_element_2017[0] ==0 and count_row_element_2017[1] ==0 and count_row_element_2017[2]==0:\n",
    "                allel_column_2017.extend([\"C\"])\n",
    "            else:\n",
    "                allel_column_2017.extend([\"-/-\"])\n"
   ]
  },
  {
   "cell_type": "code",
   "execution_count": null,
   "id": "708ec024",
   "metadata": {},
   "outputs": [],
   "source": [
    "len(allel_column_2017)"
   ]
  },
  {
   "cell_type": "code",
   "execution_count": null,
   "id": "69685e5a",
   "metadata": {},
   "outputs": [],
   "source": [
    "Counter(allel_column_2017)"
   ]
  },
  {
   "cell_type": "code",
   "execution_count": null,
   "id": "eb02aa88",
   "metadata": {},
   "outputs": [],
   "source": [
    "35180+57495+57340+203402+205273+48989+297+588+570+308"
   ]
  },
  {
   "cell_type": "markdown",
   "id": "825bd869",
   "metadata": {},
   "source": [
    "**Make the allele column 2**"
   ]
  },
  {
   "cell_type": "code",
   "execution_count": null,
   "id": "c83ae46b",
   "metadata": {},
   "outputs": [],
   "source": [
    "merged_condensed_mayer_2017_genotypes_list=[]"
   ]
  },
  {
   "cell_type": "code",
   "execution_count": null,
   "id": "271faaab",
   "metadata": {},
   "outputs": [],
   "source": [
    "for merged_sublist_2017 in merged_mayer_2017_genotypes_list:\n",
    "    #print(merged_sublist)\n",
    "    k=\"\".join(set(merged_sublist_2017))\n",
    "    #print(k)\n",
    "    merged_condensed_mayer_2017_genotypes_list.append(k)"
   ]
  },
  {
   "cell_type": "code",
   "execution_count": null,
   "id": "d0b42c90",
   "metadata": {},
   "outputs": [],
   "source": [
    "len(merged_condensed_mayer_2017_genotypes_list)"
   ]
  },
  {
   "cell_type": "code",
   "execution_count": null,
   "id": "113e59a6",
   "metadata": {},
   "outputs": [],
   "source": [
    "Counter([len(i) for i in merged_condensed_mayer_2017_genotypes_list])"
   ]
  },
  {
   "cell_type": "code",
   "execution_count": null,
   "id": "14597ff3",
   "metadata": {},
   "outputs": [],
   "source": [
    "Counter(merged_condensed_mayer_2017_genotypes_list)"
   ]
  },
  {
   "cell_type": "code",
   "execution_count": null,
   "id": "f4092eff",
   "metadata": {},
   "outputs": [],
   "source": [
    "allel_column_2017_2=[]"
   ]
  },
  {
   "cell_type": "code",
   "execution_count": null,
   "id": "397481e8",
   "metadata": {},
   "outputs": [],
   "source": [
    "for condensed_ele in merged_condensed_mayer_2017_genotypes_list:\n",
    "    if condensed_ele == \"AT\" or condensed_ele == \"TA\":\n",
    "        allel_column_2017_2.append(\"T/A\")\n",
    "    if condensed_ele == \"CA\" or condensed_ele == \"AC\":\n",
    "        allel_column_2017_2.append(\"A/C\")\n",
    "    if condensed_ele == \"GT\" or condensed_ele == \"TG\":\n",
    "        allel_column_2017_2.append(\"T/G\")\n",
    "    if condensed_ele == \"GA\" or condensed_ele == \"AG\":\n",
    "        allel_column_2017_2.append(\"G/A\")\n",
    "    if condensed_ele == \"CT\" or condensed_ele == \"TC\":\n",
    "        allel_column_2017_2.append(\"T/C\")\n",
    "    if condensed_ele == \"GC\" or condensed_ele == \"CG\":\n",
    "        allel_column_2017_2.append(\"G/C\")\n",
    "    if condensed_ele == \"T\":\n",
    "        allel_column_2017_2.append(\"T\")\n",
    "    if condensed_ele == \"C\":\n",
    "        allel_column_2017_2.append(\"C\")\n",
    "    if condensed_ele == \"G\":\n",
    "        allel_column_2017_2.append(\"G\")\n",
    "    if condensed_ele == \"A\":\n",
    "        allel_column_2017_2.append(\"A\")"
   ]
  },
  {
   "cell_type": "code",
   "execution_count": null,
   "id": "009096cf",
   "metadata": {},
   "outputs": [],
   "source": [
    "Counter(allel_column_2017_2)"
   ]
  },
  {
   "cell_type": "code",
   "execution_count": null,
   "id": "8b3e2ee1",
   "metadata": {},
   "outputs": [],
   "source": [
    "allel_column_2017_2 == allel_column_2017"
   ]
  },
  {
   "cell_type": "markdown",
   "id": "ae56c13f",
   "metadata": {},
   "source": [
    "### **Mayer_2020**"
   ]
  },
  {
   "cell_type": "code",
   "execution_count": null,
   "id": "95e0cd9e",
   "metadata": {},
   "outputs": [],
   "source": [
    "#get a list of the remaining markers \n",
    "mayer_2020_dhlines_allel_comp=filtered_mayer_2020_dhlines.loc[:,[\"marker_2020_dh\"]]\n",
    "mayer_2020_dhlines_allel_comp"
   ]
  },
  {
   "cell_type": "code",
   "execution_count": null,
   "id": "e729c0ff",
   "metadata": {},
   "outputs": [],
   "source": [
    "#get the alleles\n",
    "mayer_2020_dhlines_get_alleles=filtered_mayer_2020_dhlines.drop(['marker_2020_dh','chr_2020_dh','pos_2020_dh','quality_2020_dh'], axis = 1)"
   ]
  },
  {
   "cell_type": "code",
   "execution_count": null,
   "id": "86077d68",
   "metadata": {},
   "outputs": [],
   "source": [
    "mayer_2020_dhlines_get_alleles"
   ]
  },
  {
   "cell_type": "code",
   "execution_count": null,
   "id": "494cd2bd",
   "metadata": {},
   "outputs": [],
   "source": [
    "#get the remainig genotype calls \n",
    "mayer_2020_dhlines_get_alleles_str=mayer_2020_dhlines_get_alleles.astype(str)"
   ]
  },
  {
   "cell_type": "code",
   "execution_count": null,
   "id": "25dfae88",
   "metadata": {},
   "outputs": [],
   "source": [
    "mayer_2020_dhlines_get_alleles_str"
   ]
  },
  {
   "cell_type": "markdown",
   "id": "c02e9dbd",
   "metadata": {},
   "source": [
    "**Replace the OO with NaN** "
   ]
  },
  {
   "cell_type": "code",
   "execution_count": null,
   "id": "91dce7ec",
   "metadata": {},
   "outputs": [],
   "source": [
    "mayer_2020_dhlines_get_alleles_reset= mayer_2020_dhlines_get_alleles_str.replace(to_replace='OO', value=\"nan\") "
   ]
  },
  {
   "cell_type": "code",
   "execution_count": null,
   "id": "9b5d8a46",
   "metadata": {},
   "outputs": [],
   "source": [
    "mayer_2020_all_geno_values_test_replace =mayer_2020_dhlines_get_alleles_reset.values.ravel()"
   ]
  },
  {
   "cell_type": "code",
   "execution_count": null,
   "id": "b77e8902",
   "metadata": {},
   "outputs": [],
   "source": [
    "Counter(mayer_2020_dhlines_get_alleles_str.values.ravel())"
   ]
  },
  {
   "cell_type": "code",
   "execution_count": null,
   "id": "f105b18f",
   "metadata": {},
   "outputs": [],
   "source": [
    "unique_values_mayer_2020_test_replace = pd.unique(mayer_2020_all_geno_values_test_replace)"
   ]
  },
  {
   "cell_type": "code",
   "execution_count": null,
   "id": "b6ea5f6d",
   "metadata": {},
   "outputs": [],
   "source": [
    "unique_values_mayer_2020_test_replace "
   ]
  },
  {
   "cell_type": "code",
   "execution_count": null,
   "id": "c1ea5e1b",
   "metadata": {},
   "outputs": [],
   "source": [
    "len(unique_values_mayer_2020_test_replace)"
   ]
  },
  {
   "cell_type": "markdown",
   "id": "caa5e70d",
   "metadata": {},
   "source": [
    "**Get the row-wise alleles from the table**"
   ]
  },
  {
   "cell_type": "code",
   "execution_count": null,
   "id": "af94105d",
   "metadata": {},
   "outputs": [],
   "source": [
    "mayer_2020_genotypes_set=list(map(set,mayer_2020_dhlines_get_alleles_reset.values))"
   ]
  },
  {
   "cell_type": "code",
   "execution_count": null,
   "id": "e7989033",
   "metadata": {
    "scrolled": true
   },
   "outputs": [],
   "source": [
    "#list of sets\n",
    "mayer_2020_genotypes_set"
   ]
  },
  {
   "cell_type": "markdown",
   "id": "053769e0",
   "metadata": {},
   "source": [
    "**Make list of sets into list of lists**"
   ]
  },
  {
   "cell_type": "code",
   "execution_count": null,
   "id": "45c597e4",
   "metadata": {},
   "outputs": [],
   "source": [
    "#mayer_2020_genotypes\n",
    "mayer_2020_genotypes_list=[]"
   ]
  },
  {
   "cell_type": "code",
   "execution_count": null,
   "id": "16a2738a",
   "metadata": {
    "scrolled": true
   },
   "outputs": [],
   "source": [
    "for e in mayer_2020_genotypes_set:\n",
    "    #print(e)\n",
    "    geno_row=list(e)\n",
    "    mayer_2020_genotypes_list.append(geno_row)"
   ]
  },
  {
   "cell_type": "code",
   "execution_count": null,
   "id": "933d24f8",
   "metadata": {
    "scrolled": true
   },
   "outputs": [],
   "source": [
    "mayer_2020_genotypes_list"
   ]
  },
  {
   "cell_type": "markdown",
   "id": "a6eee9d9",
   "metadata": {},
   "source": [
    "**Remove \"nan\" from the rows**"
   ]
  },
  {
   "cell_type": "code",
   "execution_count": null,
   "id": "9cc6b338",
   "metadata": {
    "scrolled": true
   },
   "outputs": [],
   "source": [
    "for sublist_2020 in mayer_2020_genotypes_list:\n",
    "    #print(sublist)\n",
    "    for element_2020 in sublist_2020:\n",
    "        #print(element)\n",
    "        if element_2020 == \"nan\":\n",
    "            #print(\"yes\")\n",
    "            sublist_2020.remove(element_2020)"
   ]
  },
  {
   "cell_type": "code",
   "execution_count": null,
   "id": "405f4ec2",
   "metadata": {
    "scrolled": true
   },
   "outputs": [],
   "source": [
    "mayer_2020_genotypes_list"
   ]
  },
  {
   "cell_type": "markdown",
   "id": "b4937e62",
   "metadata": {},
   "source": [
    "**Merge all the row elements into one**"
   ]
  },
  {
   "cell_type": "code",
   "execution_count": null,
   "id": "af36f6f0",
   "metadata": {},
   "outputs": [],
   "source": [
    "merged_mayer_2020_genotypes_list=[]"
   ]
  },
  {
   "cell_type": "code",
   "execution_count": null,
   "id": "d763962b",
   "metadata": {},
   "outputs": [],
   "source": [
    "for sublist_without_2020 in mayer_2020_genotypes_list:\n",
    "    #print(sublist_without_2020)\n",
    "    s=''.join(sublist_without_2020)\n",
    "    merged_mayer_2020_genotypes_list.append(s)\n",
    "    #print(s)"
   ]
  },
  {
   "cell_type": "code",
   "execution_count": null,
   "id": "4f1f565a",
   "metadata": {
    "scrolled": true
   },
   "outputs": [],
   "source": [
    "merged_mayer_2020_genotypes_list"
   ]
  },
  {
   "cell_type": "code",
   "execution_count": null,
   "id": "45f60f11",
   "metadata": {},
   "outputs": [],
   "source": [
    "substring_T_2020=\"T\"\n",
    "substring_G_2020=\"G\"\n",
    "substring_A_2020=\"A\"\n",
    "substring_C_2020=\"C\""
   ]
  },
  {
   "cell_type": "code",
   "execution_count": null,
   "id": "6ce450cc",
   "metadata": {},
   "outputs": [],
   "source": [
    "count_row_2020=[]\n",
    "all_counts_2020=[]\n",
    "filter_boolean_2020=[]"
   ]
  },
  {
   "cell_type": "markdown",
   "id": "f6bdf8bb",
   "metadata": {},
   "source": [
    "**Filter for sites with more than two alleles**"
   ]
  },
  {
   "cell_type": "code",
   "execution_count": null,
   "id": "6d9acfd3",
   "metadata": {
    "scrolled": true
   },
   "outputs": [],
   "source": [
    "for merged_element in merged_mayer_2020_genotypes_list:\n",
    "    #print(merged_element)\n",
    "    \n",
    "    #count how many times each allel appears in the row \n",
    "    count_T_2020=merged_element.count(substring_T_2020)\n",
    "    count_G_2020=merged_element.count(substring_G_2020)\n",
    "    count_A_2020=merged_element.count(substring_A_2020)\n",
    "    count_C_2020=merged_element.count(substring_C_2020)\n",
    "    #print(count_T)\n",
    "    \n",
    "    #add the rowwise counts of the alleles to a list\n",
    "    count_row_2020=[count_T_2020,count_G_2020,count_A_2020,count_C_2020]\n",
    "    #add the row counts to a list of lists\n",
    "    all_counts_2020.append(count_row_2020)\n",
    "\n",
    "    #count number of non-zero numbers in the count of alleles list (are there more than two alleles )\n",
    "    num_of_alleles_2020=np.count_nonzero(count_row_2020)\n",
    "    #print(num_of_alleles)\n",
    "    \n",
    "    if num_of_alleles_2020 > 2: #if there are more than two alleles \n",
    "        #print(merged_element)\n",
    "        #print(num_of_alleles)\n",
    "        filter_boolean_2020.append(False) #append False to the list \n",
    "    \n",
    "    elif num_of_alleles_2020 <=2: #if there are less than two allels\n",
    "        filter_boolean_2020.append(True)\n",
    "              \n",
    "    else:\n",
    "        print(\"Problem\")\n",
    "        break  "
   ]
  },
  {
   "cell_type": "code",
   "execution_count": null,
   "id": "34b86ba7",
   "metadata": {},
   "outputs": [],
   "source": [
    "print(len(filter_boolean_2020))\n",
    "Counter(filter_boolean_2020)"
   ]
  },
  {
   "cell_type": "code",
   "execution_count": null,
   "id": "a3be2ceb",
   "metadata": {},
   "outputs": [],
   "source": [
    "#print(all_counts_2020[0])\n",
    "#print(merged_mayer_2020_genotypes_list[0])"
   ]
  },
  {
   "cell_type": "markdown",
   "id": "e6b425cb",
   "metadata": {},
   "source": [
    "**Make the allele column**"
   ]
  },
  {
   "cell_type": "code",
   "execution_count": null,
   "id": "25691da9",
   "metadata": {},
   "outputs": [],
   "source": [
    "allel_column_2020=[]"
   ]
  },
  {
   "cell_type": "code",
   "execution_count": null,
   "id": "706a9bca",
   "metadata": {},
   "outputs": [],
   "source": [
    "#make the allel column \n",
    "for count_row_element_2020 in all_counts_2020 :\n",
    "            #print(count_row_element)\n",
    "            if count_row_element_2020[0] != 0 and count_row_element_2020[1] != 0:\n",
    "                allel_column_2020.extend([\"T/G\"])\n",
    "            elif count_row_element_2020[0] != 0 and count_row_element_2020[2] !=0:\n",
    "                allel_column_2020.extend([\"T/A\"])\n",
    "            elif count_row_element_2020[0] != 0 and count_row_element_2020[3] !=0:\n",
    "                allel_column_2020.extend([\"T/C\"])\n",
    "            elif count_row_element_2020[1] != 0 and count_row_element_2020[2] !=0:\n",
    "                allel_column_2020.extend([\"G/A\"])\n",
    "            elif count_row_element_2020[1] != 0 and count_row_element_2020[3] !=0:\n",
    "                allel_column_2020.extend([\"G/C\"])\n",
    "            elif count_row_element_2020[2] != 0 and count_row_element_2020[3] !=0:\n",
    "                allel_column_2020.extend([\"A/C\"])\n",
    "            elif count_row_element_2020[0] != 0 and count_row_element_2020[1] ==0 and count_row_element_2020[2] ==0 and count_row_element_2020[3]==0:\n",
    "                allel_column_2020.extend([\"T\"])\n",
    "            elif count_row_element_2020[1] != 0 and count_row_element_2020[0] ==0 and count_row_element_2020[2] ==0 and count_row_element_2020[3]==0:\n",
    "                allel_column_2020.extend([\"G\"])\n",
    "            elif count_row_element_2020[2] != 0 and count_row_element_2020[0] ==0 and count_row_element_2020[1] ==0 and count_row_element_2020[3]==0:\n",
    "                allel_column_2020.extend([\"A\"])\n",
    "            elif count_row_element_2020[3] != 0 and count_row_element_2020[0] ==0 and count_row_element_2020[1] ==0 and count_row_element_2020[2]==0:\n",
    "                allel_column_2020.extend([\"C\"])\n",
    "            else:\n",
    "                allel_column_2020.extend([\"-/-\"])\n"
   ]
  },
  {
   "cell_type": "code",
   "execution_count": null,
   "id": "94ad1362",
   "metadata": {},
   "outputs": [],
   "source": [
    "len(allel_column_2020)"
   ]
  },
  {
   "cell_type": "code",
   "execution_count": null,
   "id": "786e3a10",
   "metadata": {},
   "outputs": [],
   "source": [
    "Counter(allel_column_2020)"
   ]
  },
  {
   "cell_type": "code",
   "execution_count": null,
   "id": "7b9fa68a",
   "metadata": {},
   "outputs": [],
   "source": [
    "198429+55506+55623+34412+196435+7788+7645+2991+47580+3033"
   ]
  },
  {
   "cell_type": "markdown",
   "id": "fc32c6a9",
   "metadata": {},
   "source": [
    "**Make the allele column 2**"
   ]
  },
  {
   "cell_type": "code",
   "execution_count": null,
   "id": "7fc58331",
   "metadata": {},
   "outputs": [],
   "source": [
    "merged_condensed_mayer_2020_genotypes_list=[]"
   ]
  },
  {
   "cell_type": "code",
   "execution_count": null,
   "id": "691318e4",
   "metadata": {},
   "outputs": [],
   "source": [
    "for merged_sublist_2020 in merged_mayer_2020_genotypes_list:\n",
    "    #print(merged_sublist)\n",
    "    l=\"\".join(set(merged_sublist_2020))\n",
    "    #print(k)\n",
    "    merged_condensed_mayer_2020_genotypes_list.append(l)"
   ]
  },
  {
   "cell_type": "code",
   "execution_count": null,
   "id": "87ea04b5",
   "metadata": {},
   "outputs": [],
   "source": [
    "len(merged_condensed_mayer_2017_genotypes_list)"
   ]
  },
  {
   "cell_type": "code",
   "execution_count": null,
   "id": "14dc8c65",
   "metadata": {},
   "outputs": [],
   "source": [
    "Counter([len(i) for i in merged_condensed_mayer_2020_genotypes_list])"
   ]
  },
  {
   "cell_type": "code",
   "execution_count": null,
   "id": "44fa9247",
   "metadata": {},
   "outputs": [],
   "source": [
    "all_counts_2020_2=[]"
   ]
  },
  {
   "cell_type": "code",
   "execution_count": null,
   "id": "9ad50ea2",
   "metadata": {},
   "outputs": [],
   "source": [
    "for condensed_ele in merged_condensed_mayer_2020_genotypes_list:\n",
    "    if condensed_ele == \"AT\" or condensed_ele == \"TA\":\n",
    "        all_counts_2020_2.append(\"T/A\")\n",
    "    if condensed_ele == \"CA\" or condensed_ele == \"AC\":\n",
    "        all_counts_2020_2.append(\"A/C\")\n",
    "    if condensed_ele == \"GT\" or condensed_ele == \"TG\":\n",
    "        all_counts_2020_2.append(\"T/G\")\n",
    "    if condensed_ele == \"GA\" or condensed_ele == \"AG\":\n",
    "        all_counts_2020_2.append(\"G/A\")\n",
    "    if condensed_ele == \"CT\" or condensed_ele == \"TC\":\n",
    "        all_counts_2020_2.append(\"T/C\")\n",
    "    if condensed_ele == \"GC\" or condensed_ele == \"CG\":\n",
    "        all_counts_2020_2.append(\"G/C\")\n",
    "    if condensed_ele == \"T\":\n",
    "        all_counts_2020_2.append(\"T\")\n",
    "    if condensed_ele == \"C\":\n",
    "        all_counts_2020_2.append(\"C\")\n",
    "    if condensed_ele == \"G\":\n",
    "        all_counts_2020_2.append(\"G\")\n",
    "    if condensed_ele == \"A\":\n",
    "        all_counts_2020_2.append(\"A\")"
   ]
  },
  {
   "cell_type": "code",
   "execution_count": null,
   "id": "af608cfd",
   "metadata": {},
   "outputs": [],
   "source": [
    "Counter(all_counts_2020_2)"
   ]
  },
  {
   "cell_type": "code",
   "execution_count": null,
   "id": "a039a3dc",
   "metadata": {},
   "outputs": [],
   "source": [
    "Counter(allel_column_2020)"
   ]
  },
  {
   "cell_type": "code",
   "execution_count": null,
   "id": "ef3f64f2",
   "metadata": {},
   "outputs": [],
   "source": [
    "all_counts_2020_2 == allel_column_2020"
   ]
  },
  {
   "cell_type": "markdown",
   "id": "57d025c1",
   "metadata": {},
   "source": [
    "### *1.8.3 Make allele table*"
   ]
  },
  {
   "cell_type": "markdown",
   "id": "6893c6a8",
   "metadata": {},
   "source": [
    "**Get the filtered markers from the array.txt**"
   ]
  },
  {
   "cell_type": "code",
   "execution_count": null,
   "id": "cea3e141",
   "metadata": {},
   "outputs": [],
   "source": [
    "#read-in the array.txt\n",
    "check_strand=pd.read_csv(\"/Users/kschul38/Documents/tsinfer-project/data/2_processed/europe_maize_dataset_600k/600k_array_info_header_removed.txt\", sep=\"\\t\", dtype = str)\n",
    "check_strand"
   ]
  },
  {
   "cell_type": "code",
   "execution_count": null,
   "id": "e55a0216",
   "metadata": {},
   "outputs": [],
   "source": [
    "#get all the genotype-calls from the array.txt\n",
    "genotype_call=check_strand[\"alleles_f\"].values.ravel()"
   ]
  },
  {
   "cell_type": "code",
   "execution_count": null,
   "id": "1f7ce8cf",
   "metadata": {},
   "outputs": [],
   "source": [
    "#check that number of genotype calls is correct\n",
    "len(genotype_call)"
   ]
  },
  {
   "cell_type": "code",
   "execution_count": null,
   "id": "892d2bec",
   "metadata": {},
   "outputs": [],
   "source": [
    "#get a list of all unique calls\n",
    "unique_values_array = pd.unique(genotype_call)"
   ]
  },
  {
   "cell_type": "code",
   "execution_count": null,
   "id": "1bd4e68e",
   "metadata": {},
   "outputs": [],
   "source": [
    "#look at complete list\n",
    "#unique_values_array"
   ]
  },
  {
   "cell_type": "code",
   "execution_count": null,
   "id": "8304a4ff",
   "metadata": {},
   "outputs": [],
   "source": [
    "#remove the \"typical genotype calls\" - so that just indels remain\n",
    "unique_values_array = np.delete(unique_values_array, [0,1,2,3,4,5])"
   ]
  },
  {
   "cell_type": "code",
   "execution_count": null,
   "id": "fa5af202",
   "metadata": {},
   "outputs": [],
   "source": [
    "#check that it only contains a-typical genotype calls\n",
    "#unique_values_array"
   ]
  },
  {
   "cell_type": "code",
   "execution_count": null,
   "id": "c1ea07bb",
   "metadata": {},
   "outputs": [],
   "source": [
    "#create a boolean over the whole allele column, where typical calls == True & atypical calls == False \n",
    "array_marker_filter_table=~check_strand[\"alleles_f\"].isin(unique_values_array)"
   ]
  },
  {
   "cell_type": "code",
   "execution_count": null,
   "id": "ad5e14ae",
   "metadata": {},
   "outputs": [],
   "source": [
    "#array_marker_filter_table"
   ]
  },
  {
   "cell_type": "code",
   "execution_count": null,
   "id": "9f53e990",
   "metadata": {},
   "outputs": [],
   "source": [
    "#Count the number of rows with typical genotype calls TRUE and a-typical genotype calls FALSE\n",
    "Counter(array_marker_filter_table)"
   ]
  },
  {
   "cell_type": "markdown",
   "id": "9359ca16",
   "metadata": {},
   "source": [
    "**Add the allel to the marker column for the Mayer datasets**"
   ]
  },
  {
   "cell_type": "markdown",
   "id": "fadbd515",
   "metadata": {},
   "source": [
    "*Mayer_2020*"
   ]
  },
  {
   "cell_type": "code",
   "execution_count": null,
   "id": "6243b047",
   "metadata": {},
   "outputs": [],
   "source": [
    "print(len(mayer_2020_dhlines_allel_comp))\n",
    "print(len(allel_column_2020))"
   ]
  },
  {
   "cell_type": "code",
   "execution_count": null,
   "id": "821ea413",
   "metadata": {},
   "outputs": [],
   "source": [
    "mayer_2020_dhlines_allel_comp['allel_column_2020'] = allel_column_2020"
   ]
  },
  {
   "cell_type": "code",
   "execution_count": null,
   "id": "aa1c8a96",
   "metadata": {},
   "outputs": [],
   "source": [
    "mayer_2020_dhlines_allel_comp"
   ]
  },
  {
   "cell_type": "markdown",
   "id": "f25d1e20",
   "metadata": {},
   "source": [
    "*Mayer_2017*"
   ]
  },
  {
   "cell_type": "code",
   "execution_count": null,
   "id": "a5dc7d6f",
   "metadata": {},
   "outputs": [],
   "source": [
    "print(len(mayer_2017_landraces_allel_comp))\n",
    "print(len(allel_column_2017))"
   ]
  },
  {
   "cell_type": "code",
   "execution_count": null,
   "id": "f0243df4",
   "metadata": {},
   "outputs": [],
   "source": [
    "mayer_2017_landraces_allel_comp['allel_column_2017'] = allel_column_2017"
   ]
  },
  {
   "cell_type": "code",
   "execution_count": null,
   "id": "736fd7df",
   "metadata": {},
   "outputs": [],
   "source": [
    "mayer_2017_landraces_allel_comp"
   ]
  },
  {
   "cell_type": "markdown",
   "id": "78f95c6c",
   "metadata": {},
   "source": [
    "**Rename the marker column for merging**"
   ]
  },
  {
   "cell_type": "markdown",
   "id": "752fe744",
   "metadata": {},
   "source": [
    "*Mayer_2017*"
   ]
  },
  {
   "cell_type": "code",
   "execution_count": null,
   "id": "32d141da",
   "metadata": {},
   "outputs": [],
   "source": [
    "#mayer_2017_landraces_allel_comp\n",
    "mayer_2017_landraces_allel_comp=mayer_2017_landraces_allel_comp.rename(columns={\"index_2017_landraces\": \"index_test\"})\n",
    "mayer_2017_landraces_allel_comp"
   ]
  },
  {
   "cell_type": "markdown",
   "id": "b2f3b8be",
   "metadata": {},
   "source": [
    "*Mayer_2020*"
   ]
  },
  {
   "cell_type": "code",
   "execution_count": null,
   "id": "0d06ebc9",
   "metadata": {},
   "outputs": [],
   "source": [
    "#mayer_2020_dhlines_allel_comp\n",
    "mayer_2020_dhlines_allel_comp=mayer_2020_dhlines_allel_comp.rename(columns={\"marker_2020_dh\": \"index_test\"})\n",
    "mayer_2020_dhlines_allel_comp"
   ]
  },
  {
   "cell_type": "markdown",
   "id": "4d73e5de",
   "metadata": {},
   "source": [
    "*Unterseer_2016_elite*"
   ]
  },
  {
   "cell_type": "code",
   "execution_count": null,
   "id": "2e35c5c5",
   "metadata": {},
   "outputs": [],
   "source": [
    "#unterseer_2016_elite_allel_comp\n",
    "unterseer_2016_elite_allel_comp=unterseer_2016_elite_allel_comp.rename(columns={\"variants/AD_2016_elite\": \"index_test\"})\n",
    "unterseer_2016_elite_allel_comp"
   ]
  },
  {
   "cell_type": "markdown",
   "id": "3c836eae",
   "metadata": {},
   "source": [
    "*Unterseer_2016_landraces*"
   ]
  },
  {
   "cell_type": "code",
   "execution_count": null,
   "id": "24f53796",
   "metadata": {},
   "outputs": [],
   "source": [
    "#unterseer_2016_landraces_allel_comp\n",
    "unterseer_2016_landraces_allel_comp=unterseer_2016_landraces_allel_comp.rename(columns={\"variants/AD_2016_landraces\": \"index_test\"})\n",
    "unterseer_2016_landraces_allel_comp"
   ]
  },
  {
   "cell_type": "code",
   "execution_count": null,
   "id": "656bf0a8",
   "metadata": {},
   "outputs": [],
   "source": [
    "pd.unique(unterseer_2016_landraces_allel_comp.alleles_2016_landraces)"
   ]
  },
  {
   "cell_type": "markdown",
   "id": "46256c68",
   "metadata": {},
   "source": [
    "**Get the filtered markers from the array.txt**"
   ]
  },
  {
   "cell_type": "code",
   "execution_count": null,
   "id": "10132ab0",
   "metadata": {},
   "outputs": [],
   "source": [
    "filter_boolean_array_txt=array_marker_filter_table #taken from the non-typical genotypes removed to use here\n",
    "#Counter(filter_boolean_array_txt)"
   ]
  },
  {
   "cell_type": "code",
   "execution_count": null,
   "id": "227efefa",
   "metadata": {},
   "outputs": [],
   "source": [
    "#filter_boolean_array_txt"
   ]
  },
  {
   "cell_type": "code",
   "execution_count": null,
   "id": "3655292a",
   "metadata": {},
   "outputs": [],
   "source": [
    "Counter(filter_boolean_array_txt)"
   ]
  },
  {
   "cell_type": "code",
   "execution_count": null,
   "id": "d4255ee7",
   "metadata": {},
   "outputs": [],
   "source": [
    "#check_strand[[\"ID\",\"alleles_f\"]]\n",
    "array_txt_alleles=check_strand[[\"ID\",\"alleles_f\"]]\n",
    "array_txt_alleles_merge=array_txt_alleles.rename(columns={\"ID\":\"index_test\"}) #rename the column for merge \n",
    "array_txt_alleles_merge_filter=array_txt_alleles_merge[filter_boolean_array_txt] # remove the lines with ne non-typical genotype calls "
   ]
  },
  {
   "cell_type": "code",
   "execution_count": null,
   "id": "4567900d",
   "metadata": {},
   "outputs": [],
   "source": [
    "array_txt_alleles_merge_filter"
   ]
  },
  {
   "cell_type": "code",
   "execution_count": null,
   "id": "97a1909c",
   "metadata": {},
   "outputs": [],
   "source": [
    "array_txt_alleles_merge_filter_ravel_unique=array_txt_alleles_merge_filter[\"alleles_f\"].values.ravel()\n",
    "Counter(array_txt_alleles_merge_filter_ravel_unique) #no untypical genotype calls "
   ]
  },
  {
   "cell_type": "code",
   "execution_count": null,
   "id": "d1c0dcef",
   "metadata": {},
   "outputs": [],
   "source": [
    "205822+203955+57702+57514+35367+49082"
   ]
  },
  {
   "cell_type": "markdown",
   "id": "28b3be8c",
   "metadata": {},
   "source": [
    "**Check genotype calls & trun around calls for the array.txt column**"
   ]
  },
  {
   "cell_type": "markdown",
   "id": "b707fba9",
   "metadata": {},
   "source": [
    "*Exchange C/T for T/C*"
   ]
  },
  {
   "cell_type": "code",
   "execution_count": null,
   "id": "d9d6b7db",
   "metadata": {},
   "outputs": [],
   "source": [
    "array_txt_alleles_merge_filter[\"alleles_f\"]=array_txt_alleles_merge_filter[\"alleles_f\"].replace(\"C/T\",\"T/C\")"
   ]
  },
  {
   "cell_type": "code",
   "execution_count": null,
   "id": "653e9739",
   "metadata": {},
   "outputs": [],
   "source": [
    "array_txt_alleles_merge_filter"
   ]
  },
  {
   "cell_type": "markdown",
   "id": "c26ea098",
   "metadata": {},
   "source": [
    "*Exchange G/T for T/G*"
   ]
  },
  {
   "cell_type": "code",
   "execution_count": null,
   "id": "cd779b56",
   "metadata": {},
   "outputs": [],
   "source": [
    "array_txt_alleles_merge_filter[\"alleles_f\"]=array_txt_alleles_merge_filter[\"alleles_f\"].replace(\"G/T\",\"T/G\")"
   ]
  },
  {
   "cell_type": "code",
   "execution_count": null,
   "id": "e03e4e17",
   "metadata": {},
   "outputs": [],
   "source": [
    "array_txt_alleles_merge_filter"
   ]
  },
  {
   "cell_type": "markdown",
   "id": "bcd00bf6",
   "metadata": {},
   "source": [
    "*Exchange A/T and T/A*"
   ]
  },
  {
   "cell_type": "code",
   "execution_count": null,
   "id": "d77654d2",
   "metadata": {},
   "outputs": [],
   "source": [
    "array_txt_alleles_merge_filter[\"alleles_f\"]=array_txt_alleles_merge_filter[\"alleles_f\"].replace(\"A/T\",\"T/A\")"
   ]
  },
  {
   "cell_type": "markdown",
   "id": "173931d2",
   "metadata": {},
   "source": [
    "*Exchange A/G and G/A*"
   ]
  },
  {
   "cell_type": "code",
   "execution_count": null,
   "id": "8f0df836",
   "metadata": {},
   "outputs": [],
   "source": [
    "array_txt_alleles_merge_filter[\"alleles_f\"]=array_txt_alleles_merge_filter[\"alleles_f\"].replace(\"A/G\",\"G/A\")"
   ]
  },
  {
   "cell_type": "markdown",
   "id": "7a0c5bf3",
   "metadata": {},
   "source": [
    "*Exchange C/G and G/C*"
   ]
  },
  {
   "cell_type": "code",
   "execution_count": null,
   "id": "b950035a",
   "metadata": {},
   "outputs": [],
   "source": [
    "array_txt_alleles_merge_filter[\"alleles_f\"]=array_txt_alleles_merge_filter[\"alleles_f\"].replace(\"C/G\",\"G/C\")"
   ]
  },
  {
   "cell_type": "markdown",
   "id": "7c6af81c",
   "metadata": {},
   "source": [
    "**Check if the lengths of the arrays are ok**"
   ]
  },
  {
   "cell_type": "code",
   "execution_count": null,
   "id": "2a030a79",
   "metadata": {},
   "outputs": [],
   "source": [
    "print(len(mayer_2017_landraces_allel_comp))\n",
    "print(len(mayer_2020_dhlines_allel_comp))\n",
    "print(len(unterseer_2016_elite_allel_comp))\n",
    "print(len(unterseer_2016_landraces_allel_comp))\n",
    "print(len(array_txt_alleles_merge_filter))"
   ]
  },
  {
   "cell_type": "markdown",
   "id": "164f6902",
   "metadata": {},
   "source": [
    "**Stepwise merge the columns together**"
   ]
  },
  {
   "cell_type": "code",
   "execution_count": null,
   "id": "de3153de",
   "metadata": {},
   "outputs": [],
   "source": [
    "unterseer_merge=pd.merge(unterseer_2016_landraces_allel_comp,unterseer_2016_elite_allel_comp, on='index_test', how='outer')\n",
    "unterseer_merge"
   ]
  },
  {
   "cell_type": "code",
   "execution_count": null,
   "id": "3823e5f2",
   "metadata": {},
   "outputs": [],
   "source": [
    "mayer_merge=pd.merge(mayer_2020_dhlines_allel_comp,mayer_2017_landraces_allel_comp, on='index_test', how='outer')\n",
    "mayer_merge"
   ]
  },
  {
   "cell_type": "code",
   "execution_count": null,
   "id": "2da64c3d",
   "metadata": {},
   "outputs": [],
   "source": [
    "merge_merge=pd.merge(unterseer_merge, mayer_merge, on='index_test', how='outer')"
   ]
  },
  {
   "cell_type": "code",
   "execution_count": null,
   "id": "e33d8ab8",
   "metadata": {},
   "outputs": [],
   "source": [
    "merge_merge"
   ]
  },
  {
   "cell_type": "markdown",
   "id": "a282682f",
   "metadata": {},
   "source": [
    "**Merge the array.txt column into the table**"
   ]
  },
  {
   "cell_type": "code",
   "execution_count": null,
   "id": "28908e24",
   "metadata": {},
   "outputs": [],
   "source": [
    "merge_merge_array=pd.merge(merge_merge,array_txt_alleles_merge_filter, on='index_test', how='outer')"
   ]
  },
  {
   "cell_type": "code",
   "execution_count": null,
   "id": "b45518a8",
   "metadata": {},
   "outputs": [],
   "source": [
    "merge_merge_array"
   ]
  },
  {
   "cell_type": "code",
   "execution_count": null,
   "id": "5897fd27",
   "metadata": {},
   "outputs": [],
   "source": [
    "#drop the marker IDs \n",
    "merge_merge_geno_comp=merge_merge_array.drop(columns=['index_test'])\n",
    "merge_merge_geno_comp"
   ]
  },
  {
   "cell_type": "code",
   "execution_count": null,
   "id": "6184109c",
   "metadata": {},
   "outputs": [],
   "source": [
    "#merge_merge_geno_comp.to_csv('merge_merge_geno.csv')"
   ]
  },
  {
   "cell_type": "markdown",
   "id": "00261b5c",
   "metadata": {},
   "source": [
    "### *1.8.4 Compare alleles row-wise*"
   ]
  },
  {
   "cell_type": "markdown",
   "id": "60b52c43",
   "metadata": {},
   "source": [
    "**Get a list of the remaining genotypes**"
   ]
  },
  {
   "cell_type": "code",
   "execution_count": null,
   "id": "8dc4c631",
   "metadata": {},
   "outputs": [],
   "source": [
    "check_merge_merge_geno_comp=merge_merge_geno_comp.astype(str)"
   ]
  },
  {
   "cell_type": "code",
   "execution_count": null,
   "id": "bff638e9",
   "metadata": {},
   "outputs": [],
   "source": [
    "pd.unique(check_merge_merge_geno_comp.values.ravel())"
   ]
  },
  {
   "cell_type": "markdown",
   "id": "cbcb3a52",
   "metadata": {},
   "source": [
    "**Get the genotype calls**"
   ]
  },
  {
   "cell_type": "markdown",
   "id": "bc38081f",
   "metadata": {},
   "source": [
    "*Make a list of sets out of it*"
   ]
  },
  {
   "cell_type": "code",
   "execution_count": null,
   "id": "eb1b736b",
   "metadata": {},
   "outputs": [],
   "source": [
    "merge_merge_geno_comp_str=merge_merge_geno_comp.astype(str)"
   ]
  },
  {
   "cell_type": "code",
   "execution_count": null,
   "id": "249fa02c",
   "metadata": {},
   "outputs": [],
   "source": [
    "merge_merge_set=list(map(set,merge_merge_geno_comp_str.values))"
   ]
  },
  {
   "cell_type": "code",
   "execution_count": null,
   "id": "bd06a175",
   "metadata": {},
   "outputs": [],
   "source": [
    "#merge_merge_set"
   ]
  },
  {
   "cell_type": "code",
   "execution_count": null,
   "id": "52274710",
   "metadata": {},
   "outputs": [],
   "source": [
    "#check length of the list of sets \n",
    "print(len(merge_merge_set))"
   ]
  },
  {
   "cell_type": "markdown",
   "id": "4bc76f75",
   "metadata": {},
   "source": [
    "*Make a list of lists out of it*"
   ]
  },
  {
   "cell_type": "code",
   "execution_count": null,
   "id": "71360ec7",
   "metadata": {},
   "outputs": [],
   "source": [
    "merge_allele_list=[]"
   ]
  },
  {
   "cell_type": "code",
   "execution_count": null,
   "id": "03b44d7c",
   "metadata": {},
   "outputs": [],
   "source": [
    "for s in merge_merge_set:\n",
    "    #print(e)\n",
    "    allele_row=list(s)\n",
    "    merge_allele_list.append(allele_row)"
   ]
  },
  {
   "cell_type": "code",
   "execution_count": null,
   "id": "1455e28a",
   "metadata": {
    "scrolled": true
   },
   "outputs": [],
   "source": [
    "#check the list of lists \n",
    "merge_allele_list"
   ]
  },
  {
   "cell_type": "code",
   "execution_count": null,
   "id": "7695dbb1",
   "metadata": {},
   "outputs": [],
   "source": [
    "#check length of the list of lists\n",
    "print(len(merge_allele_list))"
   ]
  },
  {
   "cell_type": "markdown",
   "id": "381d281e",
   "metadata": {},
   "source": [
    "**Remove the \"nan\" form the genotype calls**"
   ]
  },
  {
   "cell_type": "code",
   "execution_count": null,
   "id": "5cb5f6c1",
   "metadata": {
    "scrolled": true
   },
   "outputs": [],
   "source": [
    "for sublist_merge in merge_allele_list:\n",
    "    #print(sublist_merge)\n",
    "    for merge_element in sublist_merge:\n",
    "        #print(merge_element)\n",
    "        if merge_element == \"nan\":\n",
    "            #print(\"yes\")\n",
    "            sublist_merge.remove(merge_element)"
   ]
  },
  {
   "cell_type": "code",
   "execution_count": null,
   "id": "3f315733",
   "metadata": {},
   "outputs": [],
   "source": [
    "#check if row stays the same \n",
    "merge_merge_set[609441]"
   ]
  },
  {
   "cell_type": "code",
   "execution_count": null,
   "id": "60821f4e",
   "metadata": {},
   "outputs": [],
   "source": [
    "#check if \"nan\" call was removed from row - yes!\n",
    "merge_allele_list[609441]"
   ]
  },
  {
   "cell_type": "markdown",
   "id": "3981ba1f",
   "metadata": {},
   "source": [
    "**Check for the number of alleles per row 1**"
   ]
  },
  {
   "cell_type": "code",
   "execution_count": null,
   "id": "69aa7a7a",
   "metadata": {},
   "outputs": [],
   "source": [
    "allele_check_list=[]"
   ]
  },
  {
   "cell_type": "code",
   "execution_count": null,
   "id": "94ac16f4",
   "metadata": {},
   "outputs": [],
   "source": [
    "for merge_allele in merge_allele_list:\n",
    "    #print(merge_allele)\n",
    "    #print(len(merge_allele))\n",
    "    if len(merge_allele)==1: #check how many different diff allele calls there are in a row - just one \n",
    "        #print(\"One element\" + str(merge_allele))\n",
    "        for element_allele in merge_allele: #check how long the call is \n",
    "            if len(element_allele)==1: #one allele\n",
    "                #print(\"Short call: \" + element_allele)\n",
    "                allele_check_list.append(True) #call OK append True\n",
    "            elif len(element_allele)==3: #two alleles\n",
    "                #print(\"Long call: \" + element_allele)\n",
    "                allele_check_list.append(True) #call OK append True\n",
    "            else: #more than two alleles, problem, break\n",
    "                #print(\"More than two alleles\" + str(element_allele))\n",
    "                break\n",
    "        \n",
    "    elif len(merge_allele)==2: #check how many different diff allele calls there are - two \n",
    "        #print(\"Two elements\" + str(merge_allele))\n",
    "        for element_allele in merge_allele: #check how long the call is \n",
    "            if len(element_allele)==1: #one allele\n",
    "                subsub=element_allele #is substring \n",
    "                #print(\"Short call: \" + subsub)\n",
    "            elif len(element_allele)==3: #two allele\n",
    "                fullfull=element_allele #is fullstring \n",
    "                #print(\"Long call: \" + fullfull)\n",
    "            else: #more than two alleles, problem - break \n",
    "                #print(\"More than two alleles\" + element_allele)\n",
    "                break\n",
    "                \n",
    "        if subsub in fullfull:#check if the shorter call is the substring of the longer call (it should be A/C with either A or C as second call)\n",
    "            #print(\"Found!\")\n",
    "            allele_check_list.append(True) # calls ok append True\n",
    "        elif subsub not in fullfull: # if substring not in fullstring, problem break\n",
    "            #print(\"Not found!\" + subsub + \" - \" + fullfull) #if the small call is not a substring of the large call STOP and print\n",
    "            break\n",
    "            \n",
    "    elif len(merge_allele)==3: #check how many different diff allele calls there are - three \n",
    "        print(\"Three elements\" + str(merge_allele))\n",
    "        allele_check_list.append(True)\n",
    "        \n",
    "    elif len(merge_allele)<3: #there should not be more than three different calls per row, problem - break\n",
    "        print(\"More than three calls: \" + str(merge_allele))\n",
    "        allele_check_list.append(False)\n",
    "        break"
   ]
  },
  {
   "cell_type": "code",
   "execution_count": null,
   "id": "f3f7b68c",
   "metadata": {},
   "outputs": [],
   "source": [
    "Counter(allele_check_list)"
   ]
  },
  {
   "cell_type": "markdown",
   "id": "9905b936",
   "metadata": {},
   "source": [
    "**Check for the number of alleles per row 2**"
   ]
  },
  {
   "cell_type": "code",
   "execution_count": null,
   "id": "283c32ef",
   "metadata": {},
   "outputs": [],
   "source": [
    "merged_condensed_merge_allele_list=[]"
   ]
  },
  {
   "cell_type": "code",
   "execution_count": null,
   "id": "05e14890",
   "metadata": {},
   "outputs": [],
   "source": [
    "for merged_allel in merge_allele_list:\n",
    "    v=\"\".join(set(merged_allel))\n",
    "    #print(k)\n",
    "    merged_condensed_merge_allele_list.append(v)"
   ]
  },
  {
   "cell_type": "code",
   "execution_count": null,
   "id": "ad5671e9",
   "metadata": {},
   "outputs": [],
   "source": [
    "#merged_condensed_merge_allele_list\n",
    "len(merged_condensed_merge_allele_list)"
   ]
  },
  {
   "cell_type": "code",
   "execution_count": null,
   "id": "e4f6b298",
   "metadata": {},
   "outputs": [],
   "source": [
    "merged_second_condensed_merge_allele_list=[]"
   ]
  },
  {
   "cell_type": "code",
   "execution_count": null,
   "id": "d9da4c96",
   "metadata": {
    "scrolled": true
   },
   "outputs": [],
   "source": [
    "for sub_merged_allel in merged_condensed_merge_allele_list:\n",
    "    #print(sub_merged_allel)\n",
    "    m = sub_merged_allel.replace(\"/\",\"\")\n",
    "    merged_second_condensed_merge_allele_list.append(m)"
   ]
  },
  {
   "cell_type": "code",
   "execution_count": null,
   "id": "1307b20a",
   "metadata": {},
   "outputs": [],
   "source": [
    "#merged_second_condensed_merge_allele_list\n",
    "len(merged_second_condensed_merge_allele_list)"
   ]
  },
  {
   "cell_type": "code",
   "execution_count": null,
   "id": "073636e8",
   "metadata": {},
   "outputs": [],
   "source": [
    "merged_third_condensed_merge_allele_list=[]"
   ]
  },
  {
   "cell_type": "code",
   "execution_count": null,
   "id": "c6a933d7",
   "metadata": {},
   "outputs": [],
   "source": [
    "for sub_sub_merged_allel in merged_second_condensed_merge_allele_list:\n",
    "    n=\"\".join(set(sub_sub_merged_allel))\n",
    "    #print(k)\n",
    "    merged_third_condensed_merge_allele_list.append(n)"
   ]
  },
  {
   "cell_type": "code",
   "execution_count": null,
   "id": "8c6f6ee1",
   "metadata": {},
   "outputs": [],
   "source": [
    "#merged_third_condensed_merge_allele_list\n",
    "len(merged_third_condensed_merge_allele_list)"
   ]
  },
  {
   "cell_type": "code",
   "execution_count": null,
   "id": "7d71c2fa",
   "metadata": {},
   "outputs": [],
   "source": [
    "Counter([len(i) for i in merged_third_condensed_merge_allele_list])"
   ]
  }
 ],
 "metadata": {
  "kernelspec": {
   "display_name": "Python 3",
   "language": "python",
   "name": "python3"
  },
  "language_info": {
   "codemirror_mode": {
    "name": "ipython",
    "version": 3
   },
   "file_extension": ".py",
   "mimetype": "text/x-python",
   "name": "python",
   "nbconvert_exporter": "python",
   "pygments_lexer": "ipython3",
   "version": "3.7.9"
  }
 },
 "nbformat": 4,
 "nbformat_minor": 5
}
