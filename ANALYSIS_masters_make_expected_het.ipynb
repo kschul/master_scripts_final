{
 "cells": [
  {
   "cell_type": "markdown",
   "id": "dcd352e0",
   "metadata": {},
   "source": [
    "## **ANALYSIS_masters_make_expected_het**"
   ]
  },
  {
   "cell_type": "markdown",
   "id": "aece2aaf",
   "metadata": {},
   "source": [
    "### GOALS of this script:\n",
    "* make the expected het map for masters thesis\n",
    "* calculate expected het for all X landraces \n",
    "* plot the value and abbreviation on the map \n",
    "* final figure desgin"
   ]
  },
  {
   "cell_type": "markdown",
   "id": "8e7936a9",
   "metadata": {},
   "source": [
    "### **Import packages**"
   ]
  },
  {
   "cell_type": "code",
   "execution_count": null,
   "id": "6f3571c9",
   "metadata": {},
   "outputs": [],
   "source": [
    "import numpy as np\n",
    "import seaborn as sns\n",
    "sns.set_style('white')\n",
    "sns.set_style('ticks')\n",
    "import pandas as pd\n",
    "import matplotlib.pyplot as plt\n",
    "%matplotlib inline\n",
    "import allel\n",
    "import random\n",
    "import h5py\n",
    "import bcolz\n",
    "import csv\n",
    "from itertools import chain\n",
    "import os\n",
    "from collections import Counter\n",
    "import plotly.graph_objects as go"
   ]
  },
  {
   "cell_type": "markdown",
   "id": "bcdb8ec5",
   "metadata": {},
   "source": [
    "### **Load the data**"
   ]
  },
  {
   "cell_type": "code",
   "execution_count": null,
   "id": "11b7d9df",
   "metadata": {},
   "outputs": [],
   "source": [
    "callset = allel.read_vcf('/Users/kschul38/Documents/tsinfer-project/data/2_processed/europe_maize_dataset_600k/merge_merge_all_chrom_all_edits_with_allel_column_vcf.vcf')"
   ]
  },
  {
   "cell_type": "code",
   "execution_count": null,
   "id": "c0f0c6fb",
   "metadata": {},
   "outputs": [],
   "source": [
    "#callset"
   ]
  },
  {
   "cell_type": "code",
   "execution_count": null,
   "id": "4f2a56ee",
   "metadata": {},
   "outputs": [],
   "source": [
    "sorted(callset.keys())"
   ]
  },
  {
   "cell_type": "code",
   "execution_count": null,
   "id": "9b4f6221",
   "metadata": {},
   "outputs": [],
   "source": [
    "#get the samples in the .vcf\n",
    "samples= callset[\"samples\"]\n",
    "samples"
   ]
  },
  {
   "cell_type": "code",
   "execution_count": null,
   "id": "3eaa291f",
   "metadata": {},
   "outputs": [],
   "source": [
    "#total number of the samples inn the vcf\n",
    "len(samples)"
   ]
  },
  {
   "cell_type": "code",
   "execution_count": null,
   "id": "48a8d10a",
   "metadata": {},
   "outputs": [],
   "source": [
    "#put all the samples in a Dataframe\n",
    "sample_subset = pd.DataFrame(data=samples, columns = ['sample_names'])\n",
    "#sample_subset"
   ]
  },
  {
   "cell_type": "markdown",
   "id": "123491eb",
   "metadata": {},
   "source": [
    "### **Get the individuals for all 35 European landraces**"
   ]
  },
  {
   "cell_type": "markdown",
   "id": "0023f531",
   "metadata": {},
   "source": [
    "#### **Mayer_2017_landraces** - 952 individuals based on 35 landraces"
   ]
  },
  {
   "cell_type": "code",
   "execution_count": null,
   "id": "2c422dce",
   "metadata": {},
   "outputs": [],
   "source": [
    "#all mayer_2017 sample names\n",
    "mayer_2017_landraces_samples=sample_subset[sample_subset.sample_names.str.contains(\"_2017_landraces\")]"
   ]
  },
  {
   "cell_type": "code",
   "execution_count": null,
   "id": "75b2caff",
   "metadata": {},
   "outputs": [],
   "source": [
    "#number of all Mayer_2017_landraces\n",
    "print(len(mayer_2017_landraces_samples))\n",
    "#mayer_2017_landraces_samples"
   ]
  },
  {
   "cell_type": "code",
   "execution_count": null,
   "id": "57c61af6",
   "metadata": {},
   "outputs": [],
   "source": [
    "mayer_2017_landraces_samples"
   ]
  },
  {
   "cell_type": "code",
   "execution_count": null,
   "id": "33b7b455",
   "metadata": {},
   "outputs": [],
   "source": [
    "#add the populations to the individuals\n",
    "for index, row in mayer_2017_landraces_samples.iterrows():\n",
    "    #print(row['sample_names'])\n",
    "    mayer_string=row['sample_names']#take the sample names row\n",
    "    #print(mayer_string) \n",
    "    mayer_substring=mayer_string[0:2] #take the first two letters of the sample names\n",
    "    #print(mayer_substring)\n",
    "    mayer_2017_landraces_samples.at[index,'Population'] = mayer_substring #+ \"_mayer_2017\" #add the dataset info and make the Population column "
   ]
  },
  {
   "cell_type": "code",
   "execution_count": null,
   "id": "3ad5b82b",
   "metadata": {},
   "outputs": [],
   "source": [
    "mayer_2017_landraces_samples"
   ]
  },
  {
   "cell_type": "code",
   "execution_count": null,
   "id": "8f9f6198",
   "metadata": {},
   "outputs": [],
   "source": [
    "#get all the unique population that you have assigned and check the number \n",
    "populations_mayer = mayer_2017_landraces_samples.Population.unique()\n",
    "print(len(populations_mayer))\n",
    "print(populations_mayer)"
   ]
  },
  {
   "cell_type": "code",
   "execution_count": null,
   "id": "c832c7c4",
   "metadata": {},
   "outputs": [],
   "source": [
    "#Counter(mayer_2017_landraces_samples.Population)"
   ]
  },
  {
   "cell_type": "markdown",
   "id": "17316047",
   "metadata": {},
   "source": [
    "#### **Unterseer_2016_landraces** - 906 individuals based on 38 european landraces"
   ]
  },
  {
   "cell_type": "code",
   "execution_count": null,
   "id": "6c12db42",
   "metadata": {},
   "outputs": [],
   "source": [
    "#all Unterseer_2016_landraces sample names\n",
    "unterseer_2016_landraces_samples=sample_subset[sample_subset.sample_names.str.contains(\"_2016_landraces\")]\n",
    "#unterseer_2016_landraces_samples"
   ]
  },
  {
   "cell_type": "code",
   "execution_count": null,
   "id": "c833417d",
   "metadata": {},
   "outputs": [],
   "source": [
    "#number of all Unterseer_2016_landraces samples\n",
    "print(len(unterseer_2016_landraces_samples))\n",
    "#unterseer_2016_landraces_samples"
   ]
  },
  {
   "cell_type": "code",
   "execution_count": null,
   "id": "5c8156ae",
   "metadata": {},
   "outputs": [],
   "source": [
    "#add the populations to all the individuals \n",
    "for index, row in unterseer_2016_landraces_samples.iterrows():\n",
    "    #print(row['sample_names'])\n",
    "    unterseer_string=row['sample_names'] #take the sample names row\n",
    "    #print(unterseer_string) \n",
    "    unterseer_substring=unterseer_string[0:2] #take the first two letters of the sample names\n",
    "    #print(unterseer_substring)\n",
    "    unterseer_2016_landraces_samples.at[index,'Population'] = unterseer_substring #+ \"_unterseer_2016\" #add the dataset info and make the Population column"
   ]
  },
  {
   "cell_type": "code",
   "execution_count": null,
   "id": "53578ced",
   "metadata": {},
   "outputs": [],
   "source": [
    "unterseer_2016_landraces_samples"
   ]
  },
  {
   "cell_type": "code",
   "execution_count": null,
   "id": "1fd0f5e3",
   "metadata": {},
   "outputs": [],
   "source": [
    "#get all the unique population that you have assigned and check the number \n",
    "populations_unterseer = unterseer_2016_landraces_samples.Population.unique()\n",
    "print(len(populations_unterseer))\n",
    "print(populations_unterseer)"
   ]
  },
  {
   "cell_type": "code",
   "execution_count": null,
   "id": "2fcafe93",
   "metadata": {},
   "outputs": [],
   "source": [
    "#Counter(unterseer_2016_landraces_samples.Population)"
   ]
  },
  {
   "cell_type": "markdown",
   "id": "53ade22f",
   "metadata": {},
   "source": [
    "**Select the three unique populations from the Unterseer_2016 landraces**"
   ]
  },
  {
   "cell_type": "code",
   "execution_count": null,
   "id": "c66d49de",
   "metadata": {},
   "outputs": [],
   "source": [
    "unique_unterseer_2016_landraces_samples=unterseer_2016_landraces_samples.loc[unterseer_2016_landraces_samples['Population'].isin(['AL','SO','FL'])]"
   ]
  },
  {
   "cell_type": "code",
   "execution_count": null,
   "id": "3df3ff8b",
   "metadata": {},
   "outputs": [],
   "source": [
    "unique_unterseer_2016_landraces_samples"
   ]
  },
  {
   "cell_type": "code",
   "execution_count": null,
   "id": "2ccc9d7d",
   "metadata": {},
   "outputs": [],
   "source": [
    "#unique_unterseer_2016_landraces_samples[unique_unterseer_2016_landraces_samples['Population']==\"AL\"]"
   ]
  },
  {
   "cell_type": "code",
   "execution_count": null,
   "id": "8266ba72",
   "metadata": {},
   "outputs": [],
   "source": [
    "#unique_unterseer_2016_landraces_samples[unique_unterseer_2016_landraces_samples['Population']==\"FL\"]"
   ]
  },
  {
   "cell_type": "code",
   "execution_count": null,
   "id": "0996c2cd",
   "metadata": {},
   "outputs": [],
   "source": [
    "#unique_unterseer_2016_landraces_samples[unique_unterseer_2016_landraces_samples['Population']==\"SO\"]"
   ]
  },
  {
   "cell_type": "code",
   "execution_count": null,
   "id": "2d4b6307",
   "metadata": {},
   "outputs": [],
   "source": [
    "pd.unique(unique_unterseer_2016_landraces_samples['Population'])"
   ]
  },
  {
   "cell_type": "markdown",
   "id": "55204676",
   "metadata": {},
   "source": [
    "#### **Combine the subset of samples**"
   ]
  },
  {
   "cell_type": "code",
   "execution_count": null,
   "id": "ca6c6cfe",
   "metadata": {},
   "outputs": [],
   "source": [
    "#combine the subset of samples\n",
    "filtered_subset_samples_landraces_and_Dh_and_elite=pd.concat([unique_unterseer_2016_landraces_samples,mayer_2017_landraces_samples])"
   ]
  },
  {
   "cell_type": "code",
   "execution_count": null,
   "id": "4040651d",
   "metadata": {},
   "outputs": [],
   "source": [
    "filtered_subset_samples_landraces_and_Dh_and_elite"
   ]
  },
  {
   "cell_type": "code",
   "execution_count": null,
   "id": "a4f2d472",
   "metadata": {},
   "outputs": [],
   "source": [
    "#Counter(filtered_subset_samples_landraces_and_Dh_and_elite[\"Population\"])"
   ]
  },
  {
   "cell_type": "code",
   "execution_count": null,
   "id": "d2697a9a",
   "metadata": {},
   "outputs": [],
   "source": [
    "#summarize the lists to check the lenghts \n",
    "952+72"
   ]
  },
  {
   "cell_type": "code",
   "execution_count": null,
   "id": "110e7762",
   "metadata": {},
   "outputs": [],
   "source": [
    "populations=pd.unique(filtered_subset_samples_landraces_and_Dh_and_elite[\"Population\"])\n",
    "print(populations)\n",
    "print(len(populations))"
   ]
  },
  {
   "cell_type": "markdown",
   "id": "f0152914",
   "metadata": {},
   "source": [
    "### **Get the individuals for each of the populations**"
   ]
  },
  {
   "cell_type": "code",
   "execution_count": null,
   "id": "956a703e",
   "metadata": {
    "scrolled": true
   },
   "outputs": [],
   "source": [
    "two_row_dataframe = {}\n",
    "splits = list(filtered_subset_samples_landraces_and_Dh_and_elite.groupby(\"Population\"))\n",
    "populations_reordered=[]\n",
    "for i in range(38):\n",
    "    two_row_dataframe[i] = [] \n",
    "    # view splitted dataframe\n",
    "    pop=splits[i][1]\n",
    "    unique_pop=list(pd.unique(pop[\"Population\"]))\n",
    "    populations_reordered.append(unique_pop)\n",
    "    #print(splits[i][1])\n",
    "    two_row_dataframe[i]=splits[i][1]"
   ]
  },
  {
   "cell_type": "code",
   "execution_count": null,
   "id": "5df611e3",
   "metadata": {
    "scrolled": true
   },
   "outputs": [],
   "source": [
    "#two_row_dataframe[1]"
   ]
  },
  {
   "cell_type": "code",
   "execution_count": null,
   "id": "bc5db070",
   "metadata": {},
   "outputs": [],
   "source": [
    "flat_list_populations = [item for sublist in populations_reordered for item in sublist]"
   ]
  },
  {
   "cell_type": "code",
   "execution_count": null,
   "id": "f983e90a",
   "metadata": {},
   "outputs": [],
   "source": [
    "populations_landraces_38_reordered=np.array(flat_list_populations)\n",
    "populations_landraces_38_reordered"
   ]
  },
  {
   "cell_type": "code",
   "execution_count": null,
   "id": "0a74cac3",
   "metadata": {},
   "outputs": [],
   "source": [
    "first_row_dataframe={} \n",
    "second_row_dataframe={}\n",
    "for i in range(38):\n",
    "    first_row_dataframe[i]=[]\n",
    "    second_row_dataframe[i]=[]\n",
    "    # view splitted dataframe\n",
    "    #print(two_row_dataframe[i].sample_names)\n",
    "    #print(two_row_dataframe[i].Population)\n",
    "    first_row_dataframe[i]=two_row_dataframe[i].sample_names\n",
    "    second_row_dataframe[i]=two_row_dataframe[i].Population"
   ]
  },
  {
   "cell_type": "code",
   "execution_count": null,
   "id": "1b1148d8",
   "metadata": {},
   "outputs": [],
   "source": [
    "#first_row_dataframe"
   ]
  },
  {
   "cell_type": "code",
   "execution_count": null,
   "id": "e926c034",
   "metadata": {},
   "outputs": [],
   "source": [
    "#second_row_dataframe"
   ]
  },
  {
   "cell_type": "markdown",
   "id": "2af5f061",
   "metadata": {},
   "source": [
    "### **Calculate expected heterozygousity**"
   ]
  },
  {
   "cell_type": "code",
   "execution_count": null,
   "id": "9e113592",
   "metadata": {},
   "outputs": [],
   "source": [
    "#set up lists\n",
    "expected_het_list=[]\n",
    "#expected_het_pos_list=[]\n",
    "#expected_het_chrom_list=[]"
   ]
  },
  {
   "cell_type": "code",
   "execution_count": null,
   "id": "d33ab9cd",
   "metadata": {},
   "outputs": [],
   "source": [
    "for i in range(38):\n",
    "    #print(i)\n",
    "    \n",
    "    #load the indviduals of the population and the name of the population\n",
    "    individuals=first_row_dataframe[i]\n",
    "    #print(individuals)\n",
    "    individuals_pop=populations_landraces_38_reordered[i]\n",
    "    #print(individuals_pop)\n",
    "    \n",
    "    #load the data for the population\n",
    "    loc_samples_population= allel.read_vcf('/Users/kschul38/Documents/tsinfer-project/data/2_processed/europe_maize_dataset_600k/merge_merge_all_chrom_all_edits_with_allel_column_vcf.vcf', samples=individuals)\n",
    "    \n",
    "    #get the genotype data for the population\n",
    "    geno_samples_population=allel.allel.GenotypeArray(loc_samples_population['calldata/GT'])\n",
    "    \n",
    "    #get the allel count array for the population\n",
    "    geno_samples_population_allel_count=geno_samples_population.count_alleles()\n",
    "    \n",
    "    #boolean to check if the SNPs segregate\n",
    "    is_seg = geno_samples_population_allel_count.is_segregating()[:]\n",
    "    \n",
    "    #apply the seg boolean to the genotype data\n",
    "    loc_samples_population_is_seg=geno_samples_population #.compress(is_seg, axis=0) #geno_samples_population \n",
    "    \n",
    "    #filter the positions \n",
    "    #loc_samples_population_pos=loc_samples_population['variants/POS']\n",
    "    #loc_samples_population_pos_is_seg=loc_samples_population_pos.compress(is_seg, axis=0) #loc_samples_population_pos\n",
    "    \n",
    "    #filter the chromosomes \n",
    "    #loc_samples_population_chrom=loc_samples_population['variants/CHROM']\n",
    "    #loc_samples_population_chrom_is_seg=loc_samples_population_chrom.compress(is_seg, axis=0) #loc_samples_population_chrom\n",
    "    \n",
    "    #make allel frequency array\n",
    "    loc_samples_population_allel_freq = loc_samples_population_is_seg.count_alleles().to_frequencies()\n",
    "    \n",
    "    #calculate \n",
    "    het_expected_calc=allel.heterozygosity_expected(loc_samples_population_allel_freq, ploidy=2)\n",
    "\n",
    "    #append elements to lists\n",
    "    expected_het_list.append(het_expected_calc)\n",
    "    #expected_het_pos_list.append(loc_samples_population_pos_is_seg)\n",
    "    #expected_het_chrom_list.append(loc_samples_population_chrom_is_seg)\n",
    "    \n",
    "    #print the calculations \n",
    "    print(\"Expected heterozygoisty for %(a)s was calculated\" % {'a': individuals_pop})\n",
    "    "
   ]
  },
  {
   "cell_type": "code",
   "execution_count": null,
   "id": "47dee233",
   "metadata": {},
   "outputs": [],
   "source": [
    "expected_het_list"
   ]
  },
  {
   "cell_type": "markdown",
   "id": "f013212c",
   "metadata": {},
   "source": [
    "### **Calculate the mean expected heterozygousity**"
   ]
  },
  {
   "cell_type": "code",
   "execution_count": null,
   "id": "9dc8631e",
   "metadata": {},
   "outputs": [],
   "source": [
    "mean_expected_het_frame=pd.DataFrame()"
   ]
  },
  {
   "cell_type": "code",
   "execution_count": null,
   "id": "fbdaeffc",
   "metadata": {},
   "outputs": [],
   "source": [
    "for k in range(38):\n",
    "    individuals_pop=populations_landraces_38_reordered[k]\n",
    "    calc_mean=np.nanmean(expected_het_list[k])\n",
    "    \n",
    "    mean_expected_het_frame = mean_expected_het_frame.append({'Population': individuals_pop, 'mean expected heterozygosity': calc_mean}, ignore_index=True)\n",
    "    \n",
    "    print(\"Mean observed heterozygoisty for %(a)s was calculated\" % {'a':individuals_pop})"
   ]
  },
  {
   "cell_type": "code",
   "execution_count": null,
   "id": "4890730d",
   "metadata": {},
   "outputs": [],
   "source": [
    "mean_expected_het_frame=mean_expected_het_frame.set_index('Population')\n",
    "mean_expected_het_frame"
   ]
  },
  {
   "cell_type": "markdown",
   "id": "16926dd4",
   "metadata": {},
   "source": [
    "### **Prepare table for plotting the values on the map**"
   ]
  },
  {
   "cell_type": "code",
   "execution_count": null,
   "id": "16bc21e0",
   "metadata": {},
   "outputs": [],
   "source": [
    "#write the expected heterozygosity column to file \n",
    "#mean_expected_het_frame.to_csv(\"mean_expected_het_frame_all_pos.csv\")"
   ]
  },
  {
   "cell_type": "code",
   "execution_count": null,
   "id": "3d17162d",
   "metadata": {},
   "outputs": [],
   "source": [
    "#load the full metadata file\n",
    "meta_full_landraces=pd.read_csv('meta_full_landraces_with_PCA_shapes_reordered_new_colorpalette.csv') \n",
    "meta_full_landraces"
   ]
  },
  {
   "cell_type": "code",
   "execution_count": null,
   "id": "dfa83e0d",
   "metadata": {},
   "outputs": [],
   "source": [
    "#subselect the 38 unique European landraces \n",
    "landraces_unique_38=meta_full_landraces.loc[meta_full_landraces['Abb.'].isin(populations_landraces_38_reordered)].set_index('Abb.')\n",
    "landraces_unique_38"
   ]
  },
  {
   "cell_type": "code",
   "execution_count": null,
   "id": "170205b1",
   "metadata": {},
   "outputs": [],
   "source": [
    "len(landraces_unique_38[\"Full name\"])"
   ]
  },
  {
   "cell_type": "code",
   "execution_count": null,
   "id": "c629a722",
   "metadata": {},
   "outputs": [],
   "source": [
    "#add the expected het value into the table \n",
    "merged = landraces_unique_38.merge(mean_expected_het_frame, left_index=True, right_index=True, how='inner')"
   ]
  },
  {
   "cell_type": "code",
   "execution_count": null,
   "id": "90424f71",
   "metadata": {},
   "outputs": [],
   "source": [
    "merged"
   ]
  },
  {
   "cell_type": "markdown",
   "id": "eb4da676",
   "metadata": {},
   "source": [
    "#### **Edit the expected het values**"
   ]
  },
  {
   "cell_type": "code",
   "execution_count": null,
   "id": "dd3ce0a8",
   "metadata": {},
   "outputs": [],
   "source": [
    "#rounded up value for three numbers after dot\n",
    "merged_rounded=merged.round({\"mean expected heterozygosity\":3})"
   ]
  },
  {
   "cell_type": "code",
   "execution_count": null,
   "id": "0bd20ebf",
   "metadata": {},
   "outputs": [],
   "source": [
    "#merged_rounded"
   ]
  },
  {
   "cell_type": "code",
   "execution_count": null,
   "id": "d42aba48",
   "metadata": {},
   "outputs": [],
   "source": [
    "#make value into type string\n",
    "merged_rounded=merged_rounded.astype({\"mean expected heterozygosity\": str})"
   ]
  },
  {
   "cell_type": "code",
   "execution_count": null,
   "id": "1476ea09",
   "metadata": {},
   "outputs": [],
   "source": [
    "#merged_rounded"
   ]
  },
  {
   "cell_type": "markdown",
   "id": "13681f90",
   "metadata": {},
   "source": [
    "### **Prepare table for plotting the values on the map**"
   ]
  },
  {
   "cell_type": "code",
   "execution_count": null,
   "id": "80d2d8de",
   "metadata": {},
   "outputs": [],
   "source": [
    "#get the index, here to population abbreviations \n",
    "merged_rounded_index=merged_rounded.index"
   ]
  },
  {
   "cell_type": "code",
   "execution_count": null,
   "id": "c2cea592",
   "metadata": {},
   "outputs": [],
   "source": [
    "merged_rounded_index"
   ]
  },
  {
   "cell_type": "code",
   "execution_count": null,
   "id": "4069e65d",
   "metadata": {},
   "outputs": [],
   "source": [
    "fig = go.Figure(data=go.Scattergeo(\n",
    "        lon = merged_rounded['Longitude'], #londitude\n",
    "        lat = merged_rounded['Latitude'], #latitude\n",
    "        mode=\"markers+text\", #print both the markers & the text\n",
    "        text= merged_rounded_index + \" \" + merged_rounded['mean expected heterozygosity'], #text is the pop abbreviations & rounded value\n",
    "        marker_color = merged['hex_col'], #customize the color of the marker\n",
    "        marker = dict(\n",
    "            symbol = merged['shape'], #customize the shape of the marker\n",
    "            size = 15, #meta_full_landraces['size'], #customize the size of the marker\n",
    "            )\n",
    "        ))\n",
    "\n",
    "fig.update_geos( #customize the visualization of the map\n",
    "    visible=False, resolution=50, scope=\"europe\",\n",
    "    showcountries=True, countrycolor=\"Black\",\n",
    "    showsubunits=True, subunitcolor=\"Blue\",\n",
    "    showland=True, landcolor=\"LightGrey\",\n",
    ")\n",
    "\n",
    "fig.update_traces(textfont_size=15, textposition= \"middle right\" \n",
    "    )#change text size & location \n",
    "\n",
    "#customize the fig size & the look of the hover text box\n",
    "fig.update_layout(\n",
    "    \n",
    "    height=1000,\n",
    "    margin={\"r\":0,\"t\":0,\"l\":0,\"b\":0},\n",
    ")\n",
    "#write the figure to html\n",
    "fig.write_html('map_europe_for_master.html', auto_open=True)\n",
    "\n",
    "#write the figure to file \n",
    "#fig.write_image('map_europe_for_poster_for_inkspace_check.pdf',  format='.pdf',width=3000, height=3000)"
   ]
  }
 ],
 "metadata": {
  "kernelspec": {
   "display_name": "Python 3",
   "language": "python",
   "name": "python3"
  },
  "language_info": {
   "codemirror_mode": {
    "name": "ipython",
    "version": 3
   },
   "file_extension": ".py",
   "mimetype": "text/x-python",
   "name": "python",
   "nbconvert_exporter": "python",
   "pygments_lexer": "ipython3",
   "version": "3.7.9"
  }
 },
 "nbformat": 4,
 "nbformat_minor": 5
}
