{
 "cells": [
  {
   "cell_type": "markdown",
   "id": "1c3192eb",
   "metadata": {},
   "source": [
    "## **1.7_DATASET_masters_remove_atypical_genotype_calls.ipynb**"
   ]
  },
  {
   "cell_type": "markdown",
   "id": "7c018fa3",
   "metadata": {},
   "source": [
    "### GOALS of this script:\n",
    "* part two of whole merging workflow for the masters\n",
    "* numbering in accordance to workflow_europe_maize_dataset_prep_masters\n",
    "* checked the columns of the 600k array info file\n",
    "* combination/check of:\n",
    "    * merging_script_final-Copy1.ipynb\n",
    "    * merging_script_final.ipynb\n",
    "    * the corresponding number steps\n",
    "* OUT: filtered_xxx_for_masters.csv"
   ]
  },
  {
   "cell_type": "markdown",
   "id": "ae15c57b",
   "metadata": {},
   "source": [
    "### *Import packages*"
   ]
  },
  {
   "cell_type": "code",
   "execution_count": null,
   "id": "caa0e5c3",
   "metadata": {},
   "outputs": [],
   "source": [
    "import gzip\n",
    "import allel\n",
    "import pandas as pd\n",
    "import numpy as np\n",
    "import tskit\n",
    "import tsinfer\n",
    "import sys\n",
    "import json\n",
    "import csv\n",
    "from IPython.display import SVG\n",
    "from IPython.display import HTML\n",
    "from collections import Counter\n",
    "import matplotlib.pyplot as plt\n",
    "import seaborn as sns\n",
    "from openpyxl import Workbook\n",
    "from progressbar import ProgressBar\n",
    "sns.set_style('white')\n",
    "sns.set_style('ticks')"
   ]
  },
  {
   "cell_type": "markdown",
   "id": "09520aff",
   "metadata": {},
   "source": [
    "### *Import files*"
   ]
  },
  {
   "cell_type": "code",
   "execution_count": null,
   "id": "f455ac23",
   "metadata": {},
   "outputs": [],
   "source": [
    "final_columns_unterseer_2016_elite=pd.read_csv(\"final_columns_unterseer_2016_elite_for_masters.csv\",sep=\"\\t\")"
   ]
  },
  {
   "cell_type": "code",
   "execution_count": null,
   "id": "93d24251",
   "metadata": {},
   "outputs": [],
   "source": [
    "final_columns_unterseer_2016_elite"
   ]
  },
  {
   "cell_type": "code",
   "execution_count": null,
   "id": "8e8862d0",
   "metadata": {},
   "outputs": [],
   "source": [
    "final_columns_unterseer_2016_landraces=pd.read_csv(\"final_columns_unterseer_2016_landraces_for_masters.csv\",sep=\"\\t\")"
   ]
  },
  {
   "cell_type": "code",
   "execution_count": null,
   "id": "29275fa7",
   "metadata": {},
   "outputs": [],
   "source": [
    "final_columns_unterseer_2016_landraces"
   ]
  },
  {
   "cell_type": "code",
   "execution_count": null,
   "id": "a55d43cf",
   "metadata": {},
   "outputs": [],
   "source": [
    "final_columns_mayer_2017_landraces=pd.read_csv(\"final_columns_mayer_2017_landraces_for_masters.csv\",sep=\"\\t\")"
   ]
  },
  {
   "cell_type": "code",
   "execution_count": null,
   "id": "fdddf328",
   "metadata": {},
   "outputs": [],
   "source": [
    "final_columns_mayer_2017_landraces"
   ]
  },
  {
   "cell_type": "code",
   "execution_count": null,
   "id": "07fbbca7",
   "metadata": {},
   "outputs": [],
   "source": [
    "final_columns_mayer_2020_dhlines=pd.read_csv(\"final_columns_mayer_2020_dhlines_for_masters.csv\",sep=\"\\t\")"
   ]
  },
  {
   "cell_type": "code",
   "execution_count": null,
   "id": "dc1e8dcf",
   "metadata": {},
   "outputs": [],
   "source": [
    "final_columns_mayer_2020_dhlines"
   ]
  },
  {
   "cell_type": "markdown",
   "id": "e24c0c15",
   "metadata": {},
   "source": [
    "### *1.7.1 Get an array with markers from array.txt which are associated with a-typical genotype calls*"
   ]
  },
  {
   "cell_type": "code",
   "execution_count": null,
   "id": "e4d31ba8",
   "metadata": {},
   "outputs": [],
   "source": [
    "#read-in the array.txt\n",
    "check_strand=pd.read_csv(\"/Users/kschul38/Documents/tsinfer-project/data/2_processed/europe_maize_dataset_600k/600k_array_info_header_removed.txt\", sep=\"\\t\", dtype = str)\n",
    "check_strand"
   ]
  },
  {
   "cell_type": "markdown",
   "id": "d9833ce7",
   "metadata": {},
   "source": [
    "**Print the header for the 600k array info file**"
   ]
  },
  {
   "cell_type": "code",
   "execution_count": null,
   "id": "b1ee2722",
   "metadata": {},
   "outputs": [],
   "source": [
    "N=16"
   ]
  },
  {
   "cell_type": "code",
   "execution_count": null,
   "id": "2cbe14e7",
   "metadata": {},
   "outputs": [],
   "source": [
    "with open(\"/Users/kschul38/Documents/tsinfer-project/data/1_raw/600k_array_info_raw.txt\") as myfile:\n",
    "    header = [next(myfile) for x in range(N)]"
   ]
  },
  {
   "cell_type": "code",
   "execution_count": null,
   "id": "1280d2ac",
   "metadata": {},
   "outputs": [],
   "source": [
    "header"
   ]
  },
  {
   "cell_type": "markdown",
   "id": "dc898160",
   "metadata": {},
   "source": [
    "**Check the columns**"
   ]
  },
  {
   "cell_type": "code",
   "execution_count": null,
   "id": "18b2116a",
   "metadata": {},
   "outputs": [],
   "source": [
    "#Counter(check_strand[\"ID\"]==check_strand[\"probe_set_ID\"])"
   ]
  },
  {
   "cell_type": "code",
   "execution_count": null,
   "id": "c902f458",
   "metadata": {},
   "outputs": [],
   "source": [
    "#Counter(check_strand[\"organism\"])"
   ]
  },
  {
   "cell_type": "code",
   "execution_count": null,
   "id": "4f28dc03",
   "metadata": {},
   "outputs": [],
   "source": [
    "#Counter(check_strand[\"genome_acc\"])"
   ]
  },
  {
   "cell_type": "code",
   "execution_count": null,
   "id": "36b46966",
   "metadata": {},
   "outputs": [],
   "source": [
    "#Counter(check_strand[\"chromosome\"])"
   ]
  },
  {
   "cell_type": "code",
   "execution_count": null,
   "id": "dfc96165",
   "metadata": {},
   "outputs": [],
   "source": [
    "Counter(check_strand[\"allele_A\"])"
   ]
  },
  {
   "cell_type": "code",
   "execution_count": null,
   "id": "c5290740",
   "metadata": {
    "scrolled": true
   },
   "outputs": [],
   "source": [
    "Counter(check_strand[\"allele_B\"])"
   ]
  },
  {
   "cell_type": "markdown",
   "id": "65421909",
   "metadata": {},
   "source": [
    "#### *Create boolean to filter the markers*"
   ]
  },
  {
   "cell_type": "code",
   "execution_count": null,
   "id": "33bb7578",
   "metadata": {},
   "outputs": [],
   "source": [
    "#get all the genotype-calls from the array.txt\n",
    "genotype_call=check_strand[\"alleles_f\"].values.ravel()"
   ]
  },
  {
   "cell_type": "code",
   "execution_count": null,
   "id": "09b47474",
   "metadata": {},
   "outputs": [],
   "source": [
    "#check that number of genotype calls is correct\n",
    "len(genotype_call)"
   ]
  },
  {
   "cell_type": "code",
   "execution_count": null,
   "id": "b82e6cc3",
   "metadata": {},
   "outputs": [],
   "source": [
    "#get a list of all unique calls\n",
    "unique_values_array = pd.unique(genotype_call)"
   ]
  },
  {
   "cell_type": "code",
   "execution_count": null,
   "id": "846656a3",
   "metadata": {},
   "outputs": [],
   "source": [
    "#unique_values_array"
   ]
  },
  {
   "cell_type": "code",
   "execution_count": null,
   "id": "233909fb",
   "metadata": {},
   "outputs": [],
   "source": [
    "#look at complete list\n",
    "#unique_values_array"
   ]
  },
  {
   "cell_type": "code",
   "execution_count": null,
   "id": "190db0fd",
   "metadata": {},
   "outputs": [],
   "source": [
    "#remove the \"typical genotype calls\" - so that just indels remain\n",
    "unique_values_array = np.delete(unique_values_array, [0,1,2,3,4,5])"
   ]
  },
  {
   "cell_type": "code",
   "execution_count": null,
   "id": "52ea0bda",
   "metadata": {},
   "outputs": [],
   "source": [
    "#check that it only contains a-typical genotype calls\n",
    "#unique_values_array"
   ]
  },
  {
   "cell_type": "code",
   "execution_count": null,
   "id": "1db32ba6",
   "metadata": {},
   "outputs": [],
   "source": [
    "#create a boolean over the whole allele column, where typical calls == True & atypical calls == False \n",
    "array_marker_filter_table=~check_strand[\"alleles_f\"].isin(unique_values_array)"
   ]
  },
  {
   "cell_type": "code",
   "execution_count": null,
   "id": "f1b848fa",
   "metadata": {},
   "outputs": [],
   "source": [
    "array_marker_filter_table"
   ]
  },
  {
   "cell_type": "code",
   "execution_count": null,
   "id": "dda7c78e",
   "metadata": {},
   "outputs": [],
   "source": [
    "Counter(array_marker_filter_table)"
   ]
  },
  {
   "cell_type": "markdown",
   "id": "d350db7a",
   "metadata": {},
   "source": [
    "#### *Apply the boolean to the array-marker column*"
   ]
  },
  {
   "cell_type": "code",
   "execution_count": null,
   "id": "cd8b8bc2",
   "metadata": {},
   "outputs": [],
   "source": [
    "#get all marker IDs from the array.txt\n",
    "array_non_typical_genotype_calls_marker=check_strand['ID']"
   ]
  },
  {
   "cell_type": "code",
   "execution_count": null,
   "id": "88ae40ab",
   "metadata": {},
   "outputs": [],
   "source": [
    "#list of all marker IDs\n",
    "#array_non_typical_genotype_calls_marker"
   ]
  },
  {
   "cell_type": "code",
   "execution_count": null,
   "id": "822053a8",
   "metadata": {},
   "outputs": [],
   "source": [
    "#convert to array\n",
    "array_non_typical_genotype_calls_marker=array_non_typical_genotype_calls_marker.to_numpy()"
   ]
  },
  {
   "cell_type": "code",
   "execution_count": null,
   "id": "acad9478",
   "metadata": {},
   "outputs": [],
   "source": [
    "#array of all marker IDs\n",
    "#array_non_typical_genotype_calls_marker"
   ]
  },
  {
   "cell_type": "code",
   "execution_count": null,
   "id": "d5b234a7",
   "metadata": {},
   "outputs": [],
   "source": [
    "#filter marker array using the inversion of the boolean (TRUE=atypical, FALSE=typical)\n",
    "array_non_typical_genotype_calls_marker=array_non_typical_genotype_calls_marker[~array_marker_filter_table]"
   ]
  },
  {
   "cell_type": "code",
   "execution_count": null,
   "id": "dafc2a40",
   "metadata": {},
   "outputs": [],
   "source": [
    "#list of marker IDs that belong to the a-typical genotype calls\n",
    "array_non_typical_genotype_calls_marker"
   ]
  },
  {
   "cell_type": "code",
   "execution_count": null,
   "id": "8b123066",
   "metadata": {},
   "outputs": [],
   "source": [
    "#check length\n",
    "len(array_non_typical_genotype_calls_marker)"
   ]
  },
  {
   "cell_type": "markdown",
   "id": "7cc0b0d4",
   "metadata": {},
   "source": [
    "**Reapply the boolean to the 600k array info txt**"
   ]
  },
  {
   "cell_type": "code",
   "execution_count": null,
   "id": "2376f0ad",
   "metadata": {},
   "outputs": [],
   "source": [
    "filter_array_600k=~check_strand[\"ID\"].isin(array_non_typical_genotype_calls_marker)"
   ]
  },
  {
   "cell_type": "code",
   "execution_count": null,
   "id": "5d545de4",
   "metadata": {},
   "outputs": [],
   "source": [
    "Counter(filter_array_600k)"
   ]
  },
  {
   "cell_type": "code",
   "execution_count": null,
   "id": "1b915310",
   "metadata": {},
   "outputs": [],
   "source": [
    "filtered_array_600k=check_strand[filter_array_600k]"
   ]
  },
  {
   "cell_type": "code",
   "execution_count": null,
   "id": "cb6d196a",
   "metadata": {},
   "outputs": [],
   "source": [
    "filtered_array_600k"
   ]
  },
  {
   "cell_type": "code",
   "execution_count": null,
   "id": "0ef9f6ca",
   "metadata": {},
   "outputs": [],
   "source": [
    "Counter(filtered_array_600k[\"alleles_f\"])"
   ]
  },
  {
   "cell_type": "code",
   "execution_count": null,
   "id": "b0a0e87a",
   "metadata": {},
   "outputs": [],
   "source": [
    "Counter(filtered_array_600k[\"allele_A\"])"
   ]
  },
  {
   "cell_type": "code",
   "execution_count": null,
   "id": "5300a9cb",
   "metadata": {},
   "outputs": [],
   "source": [
    "Counter(filtered_array_600k[\"allele_B\"])"
   ]
  },
  {
   "cell_type": "markdown",
   "id": "2378abbd",
   "metadata": {},
   "source": [
    "### *1.7.2 Filter the dataset - Unterseer_elite_2016*"
   ]
  },
  {
   "cell_type": "markdown",
   "id": "93309ab0",
   "metadata": {},
   "source": [
    "*Create boolean based on Unterseer_elite_2016*"
   ]
  },
  {
   "cell_type": "code",
   "execution_count": null,
   "id": "447b1e2e",
   "metadata": {},
   "outputs": [],
   "source": [
    "#615884 row number of the table before filtering"
   ]
  },
  {
   "cell_type": "code",
   "execution_count": null,
   "id": "ab12191c",
   "metadata": {},
   "outputs": [],
   "source": [
    "#filter out the a-typical genotype calls by first filering the for isin and then using the inverse\n",
    "filter_boolean_unterseer_elite_2016=~final_columns_unterseer_2016_elite[\"variants/AD_2016_elite\"].isin(array_non_typical_genotype_calls_marker)"
   ]
  },
  {
   "cell_type": "code",
   "execution_count": null,
   "id": "9ec77dd5",
   "metadata": {},
   "outputs": [],
   "source": [
    "Counter(filter_boolean_unterseer_elite_2016)"
   ]
  },
  {
   "cell_type": "code",
   "execution_count": null,
   "id": "e15ddd48",
   "metadata": {},
   "outputs": [],
   "source": [
    "#615884-6752=609132 row number of the table after filtering"
   ]
  },
  {
   "cell_type": "code",
   "execution_count": null,
   "id": "2a714596",
   "metadata": {},
   "outputs": [],
   "source": [
    "#apply the filter to the unfiltered table\n",
    "filtered_unterseer_2016_elite_right_pos=final_columns_unterseer_2016_elite[filter_boolean_unterseer_elite_2016]"
   ]
  },
  {
   "cell_type": "code",
   "execution_count": null,
   "id": "914cb1f9",
   "metadata": {},
   "outputs": [],
   "source": [
    "#the filtered table\n",
    "#filtered_unterseer_2016_elite_right_pos"
   ]
  },
  {
   "cell_type": "markdown",
   "id": "f648ef50",
   "metadata": {},
   "source": [
    "### *1.7.3 Filter the dataset - Unterseer_landraces_2016*"
   ]
  },
  {
   "cell_type": "markdown",
   "id": "e6b36139",
   "metadata": {},
   "source": [
    "*Create boolean based on Unterseer_landraces_2016*"
   ]
  },
  {
   "cell_type": "code",
   "execution_count": null,
   "id": "b3889296",
   "metadata": {},
   "outputs": [],
   "source": [
    "#615884 row number of the table before filtering"
   ]
  },
  {
   "cell_type": "code",
   "execution_count": null,
   "id": "57beb824",
   "metadata": {},
   "outputs": [],
   "source": [
    "#filter out the a-typical genotype calls by first filering the for isin and then using the inverse\n",
    "filter_boolean_unterseer_landraces_2016=~final_columns_unterseer_2016_landraces[\"variants/AD_2016_landraces\"].isin(array_non_typical_genotype_calls_marker)"
   ]
  },
  {
   "cell_type": "code",
   "execution_count": null,
   "id": "72440f2b",
   "metadata": {},
   "outputs": [],
   "source": [
    "Counter(filter_boolean_unterseer_landraces_2016)"
   ]
  },
  {
   "cell_type": "code",
   "execution_count": null,
   "id": "d2cf457f",
   "metadata": {},
   "outputs": [],
   "source": [
    "#615884-6752=609132 row number of the table after filtering"
   ]
  },
  {
   "cell_type": "code",
   "execution_count": null,
   "id": "b9deff0b",
   "metadata": {},
   "outputs": [],
   "source": [
    "#apply the filter to the unfiltered table\n",
    "filtered_unterseer_2016_landraces_right_pos=final_columns_unterseer_2016_landraces[filter_boolean_unterseer_landraces_2016]"
   ]
  },
  {
   "cell_type": "code",
   "execution_count": null,
   "id": "5ab65d54",
   "metadata": {},
   "outputs": [],
   "source": [
    "#the filtered table\n",
    "#filtered_unterseer_2016_landraces_right_pos"
   ]
  },
  {
   "cell_type": "markdown",
   "id": "0b74220d",
   "metadata": {},
   "source": [
    "### *1.7.4 Filter the dataset - Mayer_2017_landraces*"
   ]
  },
  {
   "cell_type": "markdown",
   "id": "5b816711",
   "metadata": {},
   "source": [
    "*Create boolean based on Mayer_2017_landraces*"
   ]
  },
  {
   "cell_type": "code",
   "execution_count": null,
   "id": "321a6efb",
   "metadata": {},
   "outputs": [],
   "source": [
    "#616201 row number of the table before filtering"
   ]
  },
  {
   "cell_type": "code",
   "execution_count": null,
   "id": "1638da8e",
   "metadata": {},
   "outputs": [],
   "source": [
    "#filter out the a-typical genotype calls by first filering the for isin and then using the inverse\n",
    "filter_boolean_mayer_2017_landraces_suffix=~final_columns_mayer_2017_landraces[\"index_2017_landraces\"].isin(array_non_typical_genotype_calls_marker)"
   ]
  },
  {
   "cell_type": "code",
   "execution_count": null,
   "id": "f6ff72f4",
   "metadata": {},
   "outputs": [],
   "source": [
    "Counter(filter_boolean_mayer_2017_landraces_suffix)"
   ]
  },
  {
   "cell_type": "code",
   "execution_count": null,
   "id": "53a54783",
   "metadata": {},
   "outputs": [],
   "source": [
    "#616201-6759=609442 row number of the table after filtering"
   ]
  },
  {
   "cell_type": "code",
   "execution_count": null,
   "id": "b6d21837",
   "metadata": {},
   "outputs": [],
   "source": [
    "#apply the filter to the unfiltered table\n",
    "filtered_mayer_2017_landraces_suffix=final_columns_mayer_2017_landraces[filter_boolean_mayer_2017_landraces_suffix]"
   ]
  },
  {
   "cell_type": "code",
   "execution_count": null,
   "id": "25aebce3",
   "metadata": {},
   "outputs": [],
   "source": [
    "#the filtered table\n",
    "#filtered_mayer_2017_landraces_suffix"
   ]
  },
  {
   "cell_type": "markdown",
   "id": "5df386ca",
   "metadata": {},
   "source": [
    "### *1.7.5 Filter the dataset - Mayer_2020_dhlines*"
   ]
  },
  {
   "cell_type": "markdown",
   "id": "83b175e1",
   "metadata": {},
   "source": [
    "*Create boolean based on Mayer_2020_dhlines*"
   ]
  },
  {
   "cell_type": "code",
   "execution_count": null,
   "id": "847cad56",
   "metadata": {},
   "outputs": [],
   "source": [
    "#616201 row number of the table before filtering"
   ]
  },
  {
   "cell_type": "code",
   "execution_count": null,
   "id": "8df29ef7",
   "metadata": {},
   "outputs": [],
   "source": [
    "#filter out the a-typical genotype calls by first filering the for isin and then using the inverse\n",
    "filter_boolean_mayer_2020_dhlines_suffix=~final_columns_mayer_2020_dhlines[\"marker_2020_dh\"].isin(array_non_typical_genotype_calls_marker)"
   ]
  },
  {
   "cell_type": "code",
   "execution_count": null,
   "id": "9fed739b",
   "metadata": {},
   "outputs": [],
   "source": [
    "Counter(filter_boolean_mayer_2020_dhlines_suffix)"
   ]
  },
  {
   "cell_type": "code",
   "execution_count": null,
   "id": "99ee50db",
   "metadata": {},
   "outputs": [],
   "source": [
    "#616201-6759=609442 row number of the table after filtering"
   ]
  },
  {
   "cell_type": "code",
   "execution_count": null,
   "id": "5ec59985",
   "metadata": {},
   "outputs": [],
   "source": [
    "#apply the filter to the unfiltered table\n",
    "filtered_mayer_2020_dhlines_suffix=final_columns_mayer_2020_dhlines[filter_boolean_mayer_2020_dhlines_suffix]"
   ]
  },
  {
   "cell_type": "code",
   "execution_count": null,
   "id": "465d1eb0",
   "metadata": {},
   "outputs": [],
   "source": [
    "#the filtered table\n",
    "filtered_mayer_2020_dhlines_suffix"
   ]
  },
  {
   "cell_type": "markdown",
   "id": "90a815d9",
   "metadata": {},
   "source": [
    "### *1.7.6 Check if tables now only contain typical genotype calls*"
   ]
  },
  {
   "cell_type": "markdown",
   "id": "4364b3bd",
   "metadata": {},
   "source": [
    "**Unterseer_2016 elite**"
   ]
  },
  {
   "cell_type": "code",
   "execution_count": null,
   "id": "8c1c31f6",
   "metadata": {},
   "outputs": [],
   "source": [
    "#Counter(final_columns_unterseer_2016_elite[\"alleles_2016_elite\"])"
   ]
  },
  {
   "cell_type": "code",
   "execution_count": null,
   "id": "3eecbdc0",
   "metadata": {},
   "outputs": [],
   "source": [
    "Counter(filtered_unterseer_2016_elite_right_pos[\"alleles_2016_elite\"])"
   ]
  },
  {
   "cell_type": "markdown",
   "id": "225938bc",
   "metadata": {},
   "source": [
    "**Unterseer_2016 landraces**"
   ]
  },
  {
   "cell_type": "code",
   "execution_count": null,
   "id": "3a1d62b7",
   "metadata": {},
   "outputs": [],
   "source": [
    "#Counter(final_columns_unterseer_2016_landraces[\"alleles_2016_landraces\"])"
   ]
  },
  {
   "cell_type": "code",
   "execution_count": null,
   "id": "dd5ffd60",
   "metadata": {},
   "outputs": [],
   "source": [
    "Counter(filtered_unterseer_2016_landraces_right_pos[\"alleles_2016_landraces\"])"
   ]
  },
  {
   "cell_type": "markdown",
   "id": "97cdedab",
   "metadata": {},
   "source": [
    "**Mayer_2017 landraces**"
   ]
  },
  {
   "cell_type": "code",
   "execution_count": null,
   "id": "598243c0",
   "metadata": {},
   "outputs": [],
   "source": [
    "mayer_2017_landraces_get_alleles_before_filter=final_columns_mayer_2017_landraces.drop(['index_2017_landraces','chr_v4_2017_landraces','pos_v4_2017_landraces','quality_2017_landraces'], axis = 1)"
   ]
  },
  {
   "cell_type": "code",
   "execution_count": null,
   "id": "b439f020",
   "metadata": {},
   "outputs": [],
   "source": [
    "#mayer_2017_landraces_get_alleles_before_filter"
   ]
  },
  {
   "cell_type": "code",
   "execution_count": null,
   "id": "11601da5",
   "metadata": {},
   "outputs": [],
   "source": [
    "mayer_2017_all_geno_values_before_filter = mayer_2017_landraces_get_alleles_before_filter.values.ravel()"
   ]
  },
  {
   "cell_type": "code",
   "execution_count": null,
   "id": "c718ce99",
   "metadata": {},
   "outputs": [],
   "source": [
    "unique_values_mayer_2017_before_filter = pd.unique(mayer_2017_all_geno_values_before_filter)"
   ]
  },
  {
   "cell_type": "code",
   "execution_count": null,
   "id": "023e425b",
   "metadata": {},
   "outputs": [],
   "source": [
    "unique_values_mayer_2017_before_filter"
   ]
  },
  {
   "cell_type": "markdown",
   "id": "6013e6cf",
   "metadata": {},
   "source": [
    "*Filtered*"
   ]
  },
  {
   "cell_type": "code",
   "execution_count": null,
   "id": "9dda8170",
   "metadata": {},
   "outputs": [],
   "source": [
    "mayer_2017_landraces_get_alleles=filtered_mayer_2017_landraces_suffix.drop(['index_2017_landraces','chr_v4_2017_landraces','pos_v4_2017_landraces','quality_2017_landraces'], axis = 1)"
   ]
  },
  {
   "cell_type": "code",
   "execution_count": null,
   "id": "adb88260",
   "metadata": {},
   "outputs": [],
   "source": [
    "#mayer_2017_landraces_get_alleles"
   ]
  },
  {
   "cell_type": "code",
   "execution_count": null,
   "id": "08820f00",
   "metadata": {},
   "outputs": [],
   "source": [
    "mayer_2017_all_geno_values = mayer_2017_landraces_get_alleles.values.ravel()"
   ]
  },
  {
   "cell_type": "code",
   "execution_count": null,
   "id": "c72af7fe",
   "metadata": {},
   "outputs": [],
   "source": [
    "unique_values_mayer_2017 = pd.unique(mayer_2017_all_geno_values)"
   ]
  },
  {
   "cell_type": "code",
   "execution_count": null,
   "id": "817760c6",
   "metadata": {},
   "outputs": [],
   "source": [
    "unique_values_mayer_2017 "
   ]
  },
  {
   "cell_type": "markdown",
   "id": "7aad61b0",
   "metadata": {},
   "source": [
    "**Mayer_2020 dhlines**"
   ]
  },
  {
   "cell_type": "code",
   "execution_count": null,
   "id": "7fe832a1",
   "metadata": {},
   "outputs": [],
   "source": [
    "mayer_2020_dhlines_get_alleles_before_filter=final_columns_mayer_2020_dhlines.drop(['marker_2020_dh','chr_2020_dh','pos_2020_dh','quality_2020_dh'], axis = 1)"
   ]
  },
  {
   "cell_type": "code",
   "execution_count": null,
   "id": "796bad87",
   "metadata": {},
   "outputs": [],
   "source": [
    "mayer_2020_dhlines_get_alleles_before_filter"
   ]
  },
  {
   "cell_type": "code",
   "execution_count": null,
   "id": "21d2441a",
   "metadata": {},
   "outputs": [],
   "source": [
    "mayer_2020_all_geno_values_before_filter = mayer_2020_dhlines_get_alleles_before_filter.values.ravel()"
   ]
  },
  {
   "cell_type": "code",
   "execution_count": null,
   "id": "47fa7e11",
   "metadata": {},
   "outputs": [],
   "source": [
    "unique_values_mayer_2020_before_filter = pd.unique(mayer_2020_all_geno_values_before_filter)"
   ]
  },
  {
   "cell_type": "code",
   "execution_count": null,
   "id": "1447efc7",
   "metadata": {},
   "outputs": [],
   "source": [
    "unique_values_mayer_2020_before_filter"
   ]
  },
  {
   "cell_type": "markdown",
   "id": "5a50e4f0",
   "metadata": {},
   "source": [
    "*Filtered*"
   ]
  },
  {
   "cell_type": "code",
   "execution_count": null,
   "id": "f3eafaaf",
   "metadata": {},
   "outputs": [],
   "source": [
    "mayer_2020_dhlines_get_alleles=filtered_mayer_2020_dhlines_suffix.drop(['marker_2020_dh','chr_2020_dh','pos_2020_dh','quality_2020_dh'], axis = 1)"
   ]
  },
  {
   "cell_type": "code",
   "execution_count": null,
   "id": "51b2feec",
   "metadata": {},
   "outputs": [],
   "source": [
    "mayer_2020_dhlines_get_alleles"
   ]
  },
  {
   "cell_type": "code",
   "execution_count": null,
   "id": "256f5828",
   "metadata": {},
   "outputs": [],
   "source": [
    "mayer_2020_all_geno_values =mayer_2020_dhlines_get_alleles.values.ravel()"
   ]
  },
  {
   "cell_type": "code",
   "execution_count": null,
   "id": "4e1ec3e6",
   "metadata": {},
   "outputs": [],
   "source": [
    "unique_values_mayer_2020 = pd.unique(mayer_2020_all_geno_values)"
   ]
  },
  {
   "cell_type": "code",
   "execution_count": null,
   "id": "7bd8316b",
   "metadata": {},
   "outputs": [],
   "source": [
    "unique_values_mayer_2020"
   ]
  },
  {
   "cell_type": "markdown",
   "id": "c5f1e420",
   "metadata": {},
   "source": [
    "## **OUTPUT**"
   ]
  },
  {
   "cell_type": "markdown",
   "id": "031d8997",
   "metadata": {},
   "source": [
    "### **Write to file**"
   ]
  },
  {
   "cell_type": "code",
   "execution_count": null,
   "id": "471d9bba",
   "metadata": {},
   "outputs": [],
   "source": [
    "#filtered_unterseer_2016_elite_right_pos.to_csv(\"filtered_unterseer_2016_elite_for_masters.csv\", sep=\"\\t\", index = False)"
   ]
  },
  {
   "cell_type": "code",
   "execution_count": null,
   "id": "60a11c35",
   "metadata": {},
   "outputs": [],
   "source": [
    "#filtered_unterseer_2016_landraces_right_pos.to_csv(\"filtered_unterseer_2016_landraces_for_masters.csv\", sep=\"\\t\", index = False)"
   ]
  },
  {
   "cell_type": "code",
   "execution_count": null,
   "id": "9a52cd06",
   "metadata": {},
   "outputs": [],
   "source": [
    "#filtered_mayer_2017_landraces_suffix.to_csv(\"filtered_mayer_2017_landraces_for_masters.csv\",sep=\"\\t\", index = False)"
   ]
  },
  {
   "cell_type": "code",
   "execution_count": null,
   "id": "7f86f7a4",
   "metadata": {},
   "outputs": [],
   "source": [
    "#filtered_mayer_2020_dhlines_suffix.to_csv(\"filtered_mayer_2020_dhlines_for_masters.csv\",sep=\"\\t\", index = False)"
   ]
  }
 ],
 "metadata": {
  "kernelspec": {
   "display_name": "Python 3",
   "language": "python",
   "name": "python3"
  },
  "language_info": {
   "codemirror_mode": {
    "name": "ipython",
    "version": 3
   },
   "file_extension": ".py",
   "mimetype": "text/x-python",
   "name": "python",
   "nbconvert_exporter": "python",
   "pygments_lexer": "ipython3",
   "version": "3.7.9"
  }
 },
 "nbformat": 4,
 "nbformat_minor": 5
}
