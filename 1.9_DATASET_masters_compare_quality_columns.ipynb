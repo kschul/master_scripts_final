{
 "cells": [
  {
   "cell_type": "markdown",
   "id": "9a2eb648",
   "metadata": {},
   "source": [
    "## **1.9_DATASET_masters_compare_quality_columns.ipynb**"
   ]
  },
  {
   "cell_type": "markdown",
   "id": "449e7199",
   "metadata": {},
   "source": [
    "### GOALS of this script:\n",
    "* use the filtered_XXX.csv\n",
    "* compare qualitx columns for all datasets based on the ID column\n",
    "    * making a barplot of the number of markers that have the same quality class across all datasets\n",
    "    * making a barplot for the non-optimal marker classes within each dataset\n",
    "    * makeing a barplot for the comparison for the best quality categories vs. all other categorie\n",
    "* OUT: three graphs as png "
   ]
  },
  {
   "cell_type": "markdown",
   "id": "193a2060",
   "metadata": {},
   "source": [
    "### *Import packages*"
   ]
  },
  {
   "cell_type": "code",
   "execution_count": null,
   "id": "bc305f5b",
   "metadata": {},
   "outputs": [],
   "source": [
    "import gzip\n",
    "import allel\n",
    "import pandas as pd\n",
    "import numpy as np\n",
    "import tskit\n",
    "import tsinfer\n",
    "import sys\n",
    "import json\n",
    "import csv\n",
    "from IPython.display import SVG\n",
    "from IPython.display import HTML\n",
    "from collections import Counter\n",
    "import matplotlib.pyplot as plt\n",
    "import seaborn as sns\n",
    "from openpyxl import Workbook\n",
    "from progressbar import ProgressBar\n",
    "sns.set_style('white')\n",
    "sns.set_style('ticks')\n",
    "import matplotlib.ticker as mticker"
   ]
  },
  {
   "cell_type": "markdown",
   "id": "b62b48b7",
   "metadata": {},
   "source": [
    "## *Import files*"
   ]
  },
  {
   "cell_type": "markdown",
   "id": "5a5bc1db",
   "metadata": {},
   "source": [
    "**Load filtered datasets**"
   ]
  },
  {
   "cell_type": "code",
   "execution_count": null,
   "id": "bb786ef1",
   "metadata": {},
   "outputs": [],
   "source": [
    "filtered_unterseer_2016_elite=pd.read_csv(\"filtered_unterseer_2016_elite_for_masters.csv\", sep=\"\\t\")"
   ]
  },
  {
   "cell_type": "code",
   "execution_count": null,
   "id": "d34574f6",
   "metadata": {},
   "outputs": [],
   "source": [
    "filtered_unterseer_2016_elite"
   ]
  },
  {
   "cell_type": "code",
   "execution_count": null,
   "id": "0093680d",
   "metadata": {},
   "outputs": [],
   "source": [
    "filtered_unterseer_2016_landraces=pd.read_csv(\"filtered_unterseer_2016_landraces_for_masters.csv\", sep=\"\\t\")"
   ]
  },
  {
   "cell_type": "code",
   "execution_count": null,
   "id": "d892b59d",
   "metadata": {},
   "outputs": [],
   "source": [
    "filtered_unterseer_2016_landraces"
   ]
  },
  {
   "cell_type": "code",
   "execution_count": null,
   "id": "a00d80e9",
   "metadata": {},
   "outputs": [],
   "source": [
    "filtered_mayer_2017_landraces=pd.read_csv(\"filtered_mayer_2017_landraces_for_masters.csv\", sep=\"\\t\")"
   ]
  },
  {
   "cell_type": "code",
   "execution_count": null,
   "id": "05bbf34f",
   "metadata": {},
   "outputs": [],
   "source": [
    "filtered_mayer_2017_landraces"
   ]
  },
  {
   "cell_type": "code",
   "execution_count": null,
   "id": "021da392",
   "metadata": {},
   "outputs": [],
   "source": [
    "filtered_mayer_2020_dhlines=pd.read_csv(\"filtered_mayer_2020_dhlines_for_masters.csv\", sep=\"\\t\")"
   ]
  },
  {
   "cell_type": "code",
   "execution_count": null,
   "id": "84f338a2",
   "metadata": {},
   "outputs": [],
   "source": [
    "filtered_mayer_2020_dhlines"
   ]
  },
  {
   "cell_type": "markdown",
   "id": "913b1509",
   "metadata": {},
   "source": [
    "## **1.9 Compare quality columns between all datasets & make bar plots**"
   ]
  },
  {
   "cell_type": "markdown",
   "id": "82e6bf41",
   "metadata": {},
   "source": [
    "### **1.9.1 Get the marker and the quality column from each dataset**"
   ]
  },
  {
   "cell_type": "markdown",
   "id": "d1923d4d",
   "metadata": {},
   "source": [
    "**Unterseer_2016 - Elite**"
   ]
  },
  {
   "cell_type": "code",
   "execution_count": null,
   "id": "dd2a16ec",
   "metadata": {},
   "outputs": [],
   "source": [
    "#take the table where the non-typical genotype calls are removed already\n",
    "quality_select_unterseer_2016_elite=filtered_unterseer_2016_elite[[\"variants/AD_2016_elite\",\"variants/CMT_2016_elite\"]]\n",
    "quality_select_unterseer_2016_elite=quality_select_unterseer_2016_elite.rename(columns={\"variants/AD_2016_elite\": \"marker_ID\"})\n",
    "quality_select_unterseer_2016_elite"
   ]
  },
  {
   "cell_type": "markdown",
   "id": "d01e143d",
   "metadata": {},
   "source": [
    "**Unterseer_2016 - Landraces**"
   ]
  },
  {
   "cell_type": "code",
   "execution_count": null,
   "id": "63f991a9",
   "metadata": {},
   "outputs": [],
   "source": [
    "#take the table where the non-typical genotype calls are removed already\n",
    "quality_select_unterseer_2016_landraces=filtered_unterseer_2016_landraces[[\"variants/AD_2016_landraces\",\"variants/CMT_2016_landraces\"]]\n",
    "quality_select_unterseer_2016_landraces=quality_select_unterseer_2016_landraces.rename(columns={\"variants/AD_2016_landraces\": \"marker_ID\"})\n",
    "quality_select_unterseer_2016_landraces"
   ]
  },
  {
   "cell_type": "markdown",
   "id": "5273782a",
   "metadata": {},
   "source": [
    "**Mayer_2017_landraces**"
   ]
  },
  {
   "cell_type": "code",
   "execution_count": null,
   "id": "500901de",
   "metadata": {},
   "outputs": [],
   "source": [
    "##take the table where the non-typical genotype calls are removed already\n",
    "quality_select_mayer_2017_landraces=filtered_mayer_2017_landraces[[\"index_2017_landraces\",\"quality_2017_landraces\"]]\n",
    "quality_select_mayer_2017_landraces=quality_select_mayer_2017_landraces.rename(columns={\"index_2017_landraces\": \"marker_ID\"})\n",
    "quality_select_mayer_2017_landraces"
   ]
  },
  {
   "cell_type": "markdown",
   "id": "ccc6fbe1",
   "metadata": {},
   "source": [
    "**Mayer_2020_dhlines**"
   ]
  },
  {
   "cell_type": "code",
   "execution_count": null,
   "id": "92e6fb31",
   "metadata": {},
   "outputs": [],
   "source": [
    "##take the table where the non-typical genotype calls are removed already\n",
    "quality_select_mayer_2020_dhlines=filtered_mayer_2020_dhlines[[\"marker_2020_dh\",\"quality_2020_dh\"]]\n",
    "quality_select_mayer_2020_dhlines=quality_select_mayer_2020_dhlines.rename(columns={\"marker_2020_dh\":\"marker_ID\"})\n",
    "quality_select_mayer_2020_dhlines"
   ]
  },
  {
   "cell_type": "markdown",
   "id": "d7cfa802",
   "metadata": {},
   "source": [
    "### **1.9.2 Merge all the marker quality columns into one table**"
   ]
  },
  {
   "cell_type": "code",
   "execution_count": null,
   "id": "2a1873c4",
   "metadata": {},
   "outputs": [],
   "source": [
    "#Merge the Unterseer columns\n",
    "merge_marker_unterseer=pd.merge(quality_select_unterseer_2016_elite,quality_select_unterseer_2016_landraces, on='marker_ID', how='outer')\n",
    "merge_marker_unterseer"
   ]
  },
  {
   "cell_type": "code",
   "execution_count": null,
   "id": "3502506a",
   "metadata": {},
   "outputs": [],
   "source": [
    "#Merge the Mayer columns \n",
    "merge_marker_mayer=pd.merge(quality_select_mayer_2020_dhlines,quality_select_mayer_2017_landraces, on='marker_ID', how='outer')\n",
    "merge_marker_mayer"
   ]
  },
  {
   "cell_type": "code",
   "execution_count": null,
   "id": "de643a01",
   "metadata": {},
   "outputs": [],
   "source": [
    "#Merge the two merge tables  \n",
    "merge_marker_all=pd.merge(merge_marker_mayer,merge_marker_unterseer, on='marker_ID', how='outer')\n",
    "merge_marker_all"
   ]
  },
  {
   "cell_type": "markdown",
   "id": "ecd31c11",
   "metadata": {},
   "source": [
    "*Check which markers are in the columns*"
   ]
  },
  {
   "cell_type": "code",
   "execution_count": null,
   "id": "d78ffcd4",
   "metadata": {},
   "outputs": [],
   "source": [
    "check_marker_all=merge_marker_all[[\"quality_2020_dh\",\"quality_2017_landraces\",\"variants/CMT_2016_elite\",\"variants/CMT_2016_landraces\"]].astype(str)"
   ]
  },
  {
   "cell_type": "code",
   "execution_count": null,
   "id": "7c49f0e3",
   "metadata": {},
   "outputs": [],
   "source": [
    "counter_marker_all=check_marker_all.values.ravel()"
   ]
  },
  {
   "cell_type": "code",
   "execution_count": null,
   "id": "23560393",
   "metadata": {},
   "outputs": [],
   "source": [
    "Counter(counter_marker_all)"
   ]
  },
  {
   "cell_type": "code",
   "execution_count": null,
   "id": "1c93ca70",
   "metadata": {},
   "outputs": [],
   "source": [
    "609442-609132 #difference in length between the Unterseer and Mayer is 310 lines, two row are missing 310 lines therefore 620 \"nan\" make sense "
   ]
  },
  {
   "cell_type": "code",
   "execution_count": null,
   "id": "944266b2",
   "metadata": {},
   "outputs": [],
   "source": [
    "unique_marker_all=pd.unique(check_marker_all.values.ravel())"
   ]
  },
  {
   "cell_type": "code",
   "execution_count": null,
   "id": "024f5701",
   "metadata": {},
   "outputs": [],
   "source": [
    "Counter(unique_marker_all)"
   ]
  },
  {
   "cell_type": "code",
   "execution_count": null,
   "id": "976d2237",
   "metadata": {},
   "outputs": [],
   "source": [
    "unique_marker_all=pd.unique(check_marker_all.values.ravel())"
   ]
  },
  {
   "cell_type": "code",
   "execution_count": null,
   "id": "5f77aaf9",
   "metadata": {},
   "outputs": [],
   "source": [
    "Counter(unique_marker_all)"
   ]
  },
  {
   "cell_type": "markdown",
   "id": "ca404a3c",
   "metadata": {},
   "source": [
    "### **1.9.2 Count the occurences of each marker per dataset**"
   ]
  },
  {
   "cell_type": "markdown",
   "id": "827d9e15",
   "metadata": {},
   "source": [
    "*Count occurences in dataset for the bar plot* - **Unterseer_2016_elite**"
   ]
  },
  {
   "cell_type": "code",
   "execution_count": null,
   "id": "5a7f56b0",
   "metadata": {},
   "outputs": [],
   "source": [
    "unterseer_2016_elite_quality_count=quality_select_unterseer_2016_elite['variants/CMT_2016_elite'].value_counts()"
   ]
  },
  {
   "cell_type": "code",
   "execution_count": null,
   "id": "84443ef8",
   "metadata": {},
   "outputs": [],
   "source": [
    "unterseer_2016_elite_quality_count"
   ]
  },
  {
   "cell_type": "code",
   "execution_count": null,
   "id": "340957f8",
   "metadata": {},
   "outputs": [],
   "source": [
    "#609132\n",
    "560483+45387+2572+387+273+30"
   ]
  },
  {
   "cell_type": "code",
   "execution_count": null,
   "id": "e7106122",
   "metadata": {},
   "outputs": [],
   "source": [
    "unterseer_2016_elite_quality_count_list=unterseer_2016_elite_quality_count.tolist()"
   ]
  },
  {
   "cell_type": "code",
   "execution_count": null,
   "id": "ab083ec0",
   "metadata": {},
   "outputs": [],
   "source": [
    "#tolist for plotting in the bargraph \n",
    "unterseer_2016_elite_quality_count_list"
   ]
  },
  {
   "cell_type": "markdown",
   "id": "6d15917e",
   "metadata": {},
   "source": [
    "*Count occurences in dataset for the bar plot* - **Unterseer_2016_landraces**"
   ]
  },
  {
   "cell_type": "code",
   "execution_count": null,
   "id": "8199be8a",
   "metadata": {},
   "outputs": [],
   "source": [
    "unterseer_2016_landraces_quality_count=quality_select_unterseer_2016_landraces['variants/CMT_2016_landraces'].value_counts()"
   ]
  },
  {
   "cell_type": "code",
   "execution_count": null,
   "id": "4f98356b",
   "metadata": {},
   "outputs": [],
   "source": [
    "unterseer_2016_landraces_quality_count"
   ]
  },
  {
   "cell_type": "code",
   "execution_count": null,
   "id": "3332c302",
   "metadata": {},
   "outputs": [],
   "source": [
    "#609132\n",
    "527511+60954+11392+7908+846+521"
   ]
  },
  {
   "cell_type": "markdown",
   "id": "810b1db8",
   "metadata": {},
   "source": [
    "*Count occurences in dataset for the bar plot* - **Mayer_2016_landraces**"
   ]
  },
  {
   "cell_type": "code",
   "execution_count": null,
   "id": "9431441d",
   "metadata": {},
   "outputs": [],
   "source": [
    "mayer_2017_landraces_quality_count=quality_select_mayer_2017_landraces[\"quality_2017_landraces\"].value_counts()"
   ]
  },
  {
   "cell_type": "code",
   "execution_count": null,
   "id": "2d24972f",
   "metadata": {},
   "outputs": [],
   "source": [
    "mayer_2017_landraces_quality_count"
   ]
  },
  {
   "cell_type": "code",
   "execution_count": null,
   "id": "b4b5235e",
   "metadata": {},
   "outputs": [],
   "source": [
    "#609442\n",
    "527743+61023+11395+7912+848+521"
   ]
  },
  {
   "cell_type": "markdown",
   "id": "4fba570e",
   "metadata": {},
   "source": [
    "*Count occurences in dataset for the bar plot* - **Mayer_2020_dhlines**"
   ]
  },
  {
   "cell_type": "code",
   "execution_count": null,
   "id": "d6c6a32b",
   "metadata": {},
   "outputs": [],
   "source": [
    "mayer_2020_dhlines_quality_count=quality_select_mayer_2020_dhlines[\"quality_2020_dh\"].value_counts()"
   ]
  },
  {
   "cell_type": "code",
   "execution_count": null,
   "id": "8ad2f04d",
   "metadata": {},
   "outputs": [],
   "source": [
    "mayer_2020_dhlines_quality_count"
   ]
  },
  {
   "cell_type": "code",
   "execution_count": null,
   "id": "bb11a3e7",
   "metadata": {},
   "outputs": [],
   "source": [
    "#609442\n",
    "523955+47683+20258+15740+1058+748"
   ]
  },
  {
   "cell_type": "code",
   "execution_count": null,
   "id": "1b8063f4",
   "metadata": {},
   "outputs": [],
   "source": [
    "Counter(unique_marker_all)"
   ]
  },
  {
   "cell_type": "markdown",
   "id": "a3a7e6cf",
   "metadata": {},
   "source": [
    "### **1.9.3 Count the quality marker combinations for each marker across all datasets**"
   ]
  },
  {
   "cell_type": "code",
   "execution_count": null,
   "id": "5a12253a",
   "metadata": {},
   "outputs": [],
   "source": [
    "polyhigh_check=merge_marker_all[(merge_marker_all[\"quality_2020_dh\"]==\"PolyHighResolution\")&(merge_marker_all[\"quality_2017_landraces\"]==\"PolyHighResolution\")&(merge_marker_all[\"variants/CMT_2016_elite\"]==\"PolyHighResolution\")&(merge_marker_all[\"variants/CMT_2016_landraces\"]==\"PolyHighResolution\")]"
   ]
  },
  {
   "cell_type": "code",
   "execution_count": null,
   "id": "ba93bf1e",
   "metadata": {},
   "outputs": [],
   "source": [
    "len(polyhigh_check)"
   ]
  },
  {
   "cell_type": "code",
   "execution_count": null,
   "id": "13b62d7b",
   "metadata": {},
   "outputs": [],
   "source": [
    "OTV_check=merge_marker_all[(merge_marker_all[\"quality_2020_dh\"]==\"OTV\")&(merge_marker_all[\"quality_2017_landraces\"]==\"OTV\")&(merge_marker_all[\"variants/CMT_2016_elite\"]==\"OTV\")&(merge_marker_all[\"variants/CMT_2016_landraces\"]==\"OTV\")]"
   ]
  },
  {
   "cell_type": "code",
   "execution_count": null,
   "id": "8254134f",
   "metadata": {},
   "outputs": [],
   "source": [
    "len(OTV_check[\"marker_ID\"])"
   ]
  },
  {
   "cell_type": "code",
   "execution_count": null,
   "id": "76cb1a15",
   "metadata": {},
   "outputs": [],
   "source": [
    "Other_check=merge_marker_all[(merge_marker_all[\"quality_2020_dh\"]==\"Other\")&(merge_marker_all[\"quality_2017_landraces\"]==\"Other\")&(merge_marker_all[\"variants/CMT_2016_elite\"]==\"Other\")&(merge_marker_all[\"variants/CMT_2016_landraces\"]==\"Other\")]"
   ]
  },
  {
   "cell_type": "code",
   "execution_count": null,
   "id": "ea1a2d37",
   "metadata": {},
   "outputs": [],
   "source": [
    "len(Other_check)"
   ]
  },
  {
   "cell_type": "code",
   "execution_count": null,
   "id": "e006c364",
   "metadata": {},
   "outputs": [],
   "source": [
    "MonoHighResolution_check=merge_marker_all[(merge_marker_all[\"quality_2020_dh\"]==\"MonoHighResolution\")&(merge_marker_all[\"quality_2017_landraces\"]==\"MonoHighResolution\")&(merge_marker_all[\"variants/CMT_2016_elite\"]==\"MonoHighResolution\")&(merge_marker_all[\"variants/CMT_2016_landraces\"]==\"MonoHighResolution\")]"
   ]
  },
  {
   "cell_type": "code",
   "execution_count": null,
   "id": "96b5c973",
   "metadata": {},
   "outputs": [],
   "source": [
    "len(MonoHighResolution_check)"
   ]
  },
  {
   "cell_type": "code",
   "execution_count": null,
   "id": "98daba14",
   "metadata": {},
   "outputs": [],
   "source": [
    "NoMinorHom_check=merge_marker_all[(merge_marker_all[\"quality_2020_dh\"]==\"NoMinorHom\")&(merge_marker_all[\"quality_2017_landraces\"]==\"NoMinorHom\")&(merge_marker_all[\"variants/CMT_2016_elite\"]==\"NoMinorHom\")&(merge_marker_all[\"variants/CMT_2016_landraces\"]==\"NoMinorHom\")]"
   ]
  },
  {
   "cell_type": "code",
   "execution_count": null,
   "id": "ca280a00",
   "metadata": {},
   "outputs": [],
   "source": [
    "len(NoMinorHom_check)"
   ]
  },
  {
   "cell_type": "code",
   "execution_count": null,
   "id": "0a9bc46e",
   "metadata": {},
   "outputs": [],
   "source": [
    "CallRateBelowThreshold_check=merge_marker_all[(merge_marker_all[\"quality_2020_dh\"]==\"CallRateBelowThreshold\")&(merge_marker_all[\"quality_2017_landraces\"]==\"CallRateBelowThreshold\")&(merge_marker_all[\"variants/CMT_2016_elite\"]==\"CallRateBelowThreshold\")&(merge_marker_all[\"variants/CMT_2016_landraces\"]==\"CallRateBelowThreshold\")]"
   ]
  },
  {
   "cell_type": "code",
   "execution_count": null,
   "id": "71146128",
   "metadata": {},
   "outputs": [],
   "source": [
    "len(CallRateBelowThreshold_check)"
   ]
  },
  {
   "cell_type": "code",
   "execution_count": null,
   "id": "35be2e5c",
   "metadata": {},
   "outputs": [],
   "source": [
    "nan_check=merge_marker_all[(merge_marker_all[\"quality_2020_dh\"]==\"nan\")&(merge_marker_all[\"quality_2017_landraces\"]==\"nan\")&(merge_marker_all[\"variants/CMT_2016_elite\"]==\"nan\")&(merge_marker_all[\"variants/CMT_2016_landraces\"]==\"nan\")]"
   ]
  },
  {
   "cell_type": "code",
   "execution_count": null,
   "id": "78620cce",
   "metadata": {},
   "outputs": [],
   "source": [
    "len(nan_check)"
   ]
  },
  {
   "cell_type": "markdown",
   "id": "11dd9b7d",
   "metadata": {},
   "source": [
    "### **1.9.4 Count distribution of row-wise number of markers & number of all the same marker across**"
   ]
  },
  {
   "cell_type": "code",
   "execution_count": null,
   "id": "2141d6e6",
   "metadata": {},
   "outputs": [],
   "source": [
    "#take the marker qualities across all datasets\n",
    "merge_marker_all=merge_marker_all.drop(columns=['marker_ID'])"
   ]
  },
  {
   "cell_type": "code",
   "execution_count": null,
   "id": "8a4d3157",
   "metadata": {},
   "outputs": [],
   "source": [
    "#make a list of sets out of them \n",
    "merge_marker_all_set=list(map(set,merge_marker_all.values))"
   ]
  },
  {
   "cell_type": "code",
   "execution_count": null,
   "id": "fd9203c3",
   "metadata": {},
   "outputs": [],
   "source": [
    "#merge_marker_all_set"
   ]
  },
  {
   "cell_type": "code",
   "execution_count": null,
   "id": "05be759a",
   "metadata": {},
   "outputs": [],
   "source": [
    "#make a list of lists of out them \n",
    "merge_marker_all_list=[]"
   ]
  },
  {
   "cell_type": "code",
   "execution_count": null,
   "id": "95c8a5d3",
   "metadata": {},
   "outputs": [],
   "source": [
    "for s in merge_marker_all_set:\n",
    "    #print(e)\n",
    "    quality_row=list(s)\n",
    "    merge_marker_all_list.append(quality_row)"
   ]
  },
  {
   "cell_type": "code",
   "execution_count": null,
   "id": "708790d7",
   "metadata": {},
   "outputs": [],
   "source": [
    "#merge_marker_all_list"
   ]
  },
  {
   "cell_type": "code",
   "execution_count": null,
   "id": "9593323e",
   "metadata": {},
   "outputs": [],
   "source": [
    "#number of quality marker list\n",
    "one_marker=0\n",
    "two_markers=0\n",
    "three_markers=0\n",
    "four_markers=0"
   ]
  },
  {
   "cell_type": "code",
   "execution_count": null,
   "id": "83af8f67",
   "metadata": {},
   "outputs": [],
   "source": [
    "#counter for all the same marker across \n",
    "counter_PolyHighResolution_across=0\n",
    "counter_NoMinorHom_across=0\n",
    "counter_MonoHighResolution_across=0\n",
    "counter_OTV_across=0\n",
    "counter_CallRateBelowThreshold_across=0\n",
    "counter_Other_across=0\n",
    "counter_nan_across=0"
   ]
  },
  {
   "cell_type": "code",
   "execution_count": null,
   "id": "531be33e",
   "metadata": {},
   "outputs": [],
   "source": [
    "for merge_marker in merge_marker_all_list:\n",
    "    #print(merge_marker)\n",
    "    if len(merge_marker)==1:# if there is only one quality == all the same \n",
    "        one_marker=one_marker+1\n",
    "        #print(\"One quality marker: \" + str(merge_marker))\n",
    "        for element_marker in merge_marker:\n",
    "            if element_marker == \"PolyHighResolution\": # best quality across all datasets - keep\n",
    "                #print(element_marker + \": best quality across all\")\n",
    "                counter_PolyHighResolution_across = counter_PolyHighResolution_across+1\n",
    "            if element_marker == \"NoMinorHom\": #second best quality acorss all datasets - keep \n",
    "                #print(element_marker + \": second best quality across all\")\n",
    "                counter_NoMinorHom_across = counter_NoMinorHom_across+1\n",
    "            if element_marker == \"MonoHighResolution\": #might be homozygous across all datasets - keep for now \n",
    "                #print(element_marker + \": might be homozygous across all - keep for now\")\n",
    "                counter_MonoHighResolution_across = counter_MonoHighResolution_across+1\n",
    "            if element_marker == \"OTV\": \n",
    "                #print(element_marker + \": other target - remove\")\n",
    "                counter_OTV_across = counter_OTV_across+1\n",
    "            if element_marker == \"CallRateBelowThreshold\": # if the marker quality across all the datasets is the second lowest quality, remove row (append FALSE)\n",
    "                #print(element_marker + \": second lowest quality across all\")\n",
    "                counter_CallRateBelowThreshold_across = counter_CallRateBelowThreshold_across+1\n",
    "            if element_marker == \"Other\": #if the marker quality across all datasets is the lowest quality, remove row (append FALSE)\n",
    "                #print(element_marker + \": lowest quality across all\")\n",
    "                counter_Other_across = counter_Other_across+1\n",
    "            if element_marker == \"nan\": #if the marker quality across all datasets is missing something is wrong - STOP\n",
    "                counter_nan_across = counter_nan_across+1\n",
    "                break\n",
    "    if len(merge_marker)==2:\n",
    "        two_markers=two_markers+1\n",
    "        #print(\"Two quality markers: \" + str(merge_marker))\n",
    "    if len(merge_marker)==3:\n",
    "        three_markers=three_markers+1\n",
    "        #print(\"Three quality markers: \" + str(merge_marker))\n",
    "    if len(merge_marker)==4:\n",
    "        four_markers=four_markers+1\n",
    "        #print(\"Four quality markers: \" + str(merge_marker))"
   ]
  },
  {
   "cell_type": "code",
   "execution_count": null,
   "id": "2047f1ac",
   "metadata": {},
   "outputs": [],
   "source": [
    "#same marker across all datasets \n",
    "print(\"counter_PolyHighResolution_across: \" + str(counter_PolyHighResolution_across))\n",
    "print(\"counter_NoMinorHom_across: \" + str(counter_NoMinorHom_across))\n",
    "print(\"counter_MonoHighResolution_across: \" + str(counter_MonoHighResolution_across))\n",
    "print(\"counter_OTV_across: \" + str(counter_OTV_across))\n",
    "print(\"counter_CallRateBelowThreshold_across: \" + str(counter_CallRateBelowThreshold_across))\n",
    "print(\"counter_Other_across: \" + str(counter_Other_across))\n",
    "print(\"counter_nan_across: \" + str(counter_nan_across))\n",
    "across_sum=counter_PolyHighResolution_across+counter_NoMinorHom_across+counter_MonoHighResolution_across+counter_OTV_across+counter_CallRateBelowThreshold_across+counter_Other_across+counter_nan_across\n",
    "print(\"SUM:\" + str(across_sum))"
   ]
  },
  {
   "cell_type": "code",
   "execution_count": null,
   "id": "14c68923",
   "metadata": {},
   "outputs": [],
   "source": [
    "#row-wise number of markers\n",
    "print(\"one_marker: \" + str(one_marker))\n",
    "print(\"two_markers: \" + str(two_markers))\n",
    "print(\"three_markers: \" + str(three_markers))\n",
    "print(\"four_markers: \" + str(four_markers))\n",
    "row_wise_sum=one_marker+two_markers+three_markers+four_markers\n",
    "print(\"SUM:\" + str(row_wise_sum))"
   ]
  },
  {
   "cell_type": "markdown",
   "id": "38dcc265",
   "metadata": {},
   "source": [
    "### **1.9.5 Make barplots**"
   ]
  },
  {
   "cell_type": "code",
   "execution_count": null,
   "id": "2f2878c4",
   "metadata": {},
   "outputs": [],
   "source": [
    "#permanantly change the display fig size in the jupyter notebook\n",
    "plt.rcParams[\"figure.figsize\"]=50,25\n",
    "plt.rcParams.update({'font.size': 35})"
   ]
  },
  {
   "cell_type": "markdown",
   "id": "4ce594df",
   "metadata": {},
   "source": [
    "#### **1.9.5.1 Making a barplot of the number of markers that have the same quality class across all datasets**"
   ]
  },
  {
   "cell_type": "code",
   "execution_count": null,
   "id": "3ec762b4",
   "metadata": {},
   "outputs": [],
   "source": [
    "labels_aa = ['OTV', 'Other', 'MonoHighResolution', 'NoMinorHom', 'CallRateBelowThreshold', 'nan']\n",
    "across_number=[7112, 735, 146, 53, 0, 0]\n",
    "\n",
    "\n",
    "fig = plt.figure()\n",
    "ax = fig.add_axes([0,0,1,1])\n",
    "ax.bar(labels_aa,across_number)\n",
    "\n",
    "#Add some text for labels, title and custom x-axis tick labels, etc.\n",
    "ax.set_ylabel('number of markers',fontsize='large', fontweight= \"bold\")\n",
    "ax.set_title('Axiom Array 600k Marker Quality Category - same across all datasets', fontsize='xx-large', fontweight= \"bold\")\n",
    "\n",
    "plt.show()\n",
    "#plt.savefig('/Users/kschul38/Documents/tsinfer-project/figures/Stetter_phd_europe_maize_figures/same_across_all_datasets.png')"
   ]
  },
  {
   "cell_type": "markdown",
   "id": "26c761ce",
   "metadata": {},
   "source": [
    "#### **1.9.5.2 Making a barplot for the non-optimal marker classes**"
   ]
  },
  {
   "cell_type": "markdown",
   "id": "dcfe783d",
   "metadata": {},
   "source": [
    "*Convert the datasetwise counts into dataframes*"
   ]
  },
  {
   "cell_type": "code",
   "execution_count": null,
   "id": "a543d65a",
   "metadata": {},
   "outputs": [],
   "source": [
    "unterseer_2016_landraces_quality_count_table=unterseer_2016_landraces_quality_count.to_frame()\n",
    "#unterseer_2016_landraces_quality_count_table"
   ]
  },
  {
   "cell_type": "code",
   "execution_count": null,
   "id": "7f72e4fe",
   "metadata": {},
   "outputs": [],
   "source": [
    "unterseer_2016_landraces_quality_count_table.sum()"
   ]
  },
  {
   "cell_type": "code",
   "execution_count": null,
   "id": "cafb960e",
   "metadata": {},
   "outputs": [],
   "source": [
    "unterseer_2016_elite_quality_count_table=unterseer_2016_elite_quality_count.to_frame()\n",
    "#unterseer_2016_elite_quality_count_table"
   ]
  },
  {
   "cell_type": "code",
   "execution_count": null,
   "id": "d0f8026f",
   "metadata": {},
   "outputs": [],
   "source": [
    "unterseer_2016_elite_quality_count_table.sum()"
   ]
  },
  {
   "cell_type": "code",
   "execution_count": null,
   "id": "79796845",
   "metadata": {},
   "outputs": [],
   "source": [
    "mayer_2017_landraces_quality_count_table=mayer_2017_landraces_quality_count.to_frame()\n",
    "#mayer_2017_landraces_quality_count_table"
   ]
  },
  {
   "cell_type": "code",
   "execution_count": null,
   "id": "515f6a0c",
   "metadata": {},
   "outputs": [],
   "source": [
    "mayer_2017_landraces_quality_count_table.sum()"
   ]
  },
  {
   "cell_type": "code",
   "execution_count": null,
   "id": "d81c7dd4",
   "metadata": {},
   "outputs": [],
   "source": [
    "mayer_2020_dhlines_quality_count_table=mayer_2020_dhlines_quality_count.to_frame()\n",
    "#mayer_2020_dhlines_quality_count_table"
   ]
  },
  {
   "cell_type": "code",
   "execution_count": null,
   "id": "e1f701ce",
   "metadata": {},
   "outputs": [],
   "source": [
    "mayer_2020_dhlines_quality_count_table.sum()"
   ]
  },
  {
   "cell_type": "code",
   "execution_count": null,
   "id": "0e07a2c9",
   "metadata": {},
   "outputs": [],
   "source": [
    "# lists put together by hand from the count_tables above\n",
    "PolyHighResolution_count=[527511, 560483, 527743, 523955]\n",
    "MonoHighResolution_count=[521,387, 521,1058]\n",
    "NoMinorHom_count=[7908,273,7912,15740]\n",
    "CallRateBelowThreshold_count=[846,30,848,748]\n",
    "OTV_count=[11392, 45387, 11395, 20258]\n",
    "Other_count=[60954, 2572, 61023, 47683]"
   ]
  },
  {
   "cell_type": "markdown",
   "id": "853154b8",
   "metadata": {},
   "source": [
    "*Plot*"
   ]
  },
  {
   "cell_type": "code",
   "execution_count": null,
   "id": "69c1b58a",
   "metadata": {},
   "outputs": [],
   "source": [
    "labels = ['Unterseer_2016_landraces', 'Unterseer_2016_elite', 'Mayer_2017', 'Mayer_2020']\n",
    "\n",
    "x = np.arange(len(labels))  # the label locations\n",
    "width = 0.15  # the width of the bars\n",
    "\n",
    "# Set position of bar on X axis\n",
    "r2 = np.arange(4)\n",
    "r3 = [x + width for x in r2]\n",
    "r4 = [x + width for x in r3]\n",
    "r5 = [x + width for x in r4]\n",
    "r6 = [x + width for x in r5]\n",
    "\n",
    "fig, ax = plt.subplots()\n",
    "\n",
    "rects2 = ax.bar(r2, MonoHighResolution_count, width, label='MonoHighResolution')\n",
    "rects3 = ax.bar(r3, NoMinorHom_count, width, label='NoMinorHom')\n",
    "rects4 = ax.bar(r4, CallRateBelowThreshold_count, width, label='CallRateBelowThreshold')\n",
    "rects5 = ax.bar(r5, OTV_count, width, label='OTV')\n",
    "rects6 = ax.bar(r6, Other_count, width, label='Other')\n",
    "\n",
    "def autolabel(rects):\n",
    "    \"\"\"Attach a text label above each bar in *rects*, displaying its height.\"\"\"\n",
    "    for rect in rects:\n",
    "        height = rect.get_height()\n",
    "        ax.annotate('{}'.format(height),\n",
    "                    xy=(rect.get_x() + rect.get_width() / 2, height),\n",
    "                    xytext=(0, 3),  # 3 points vertical offset\n",
    "                    textcoords=\"offset points\",\n",
    "                    ha='center', va='bottom')\n",
    "        \n",
    "autolabel(rects2)\n",
    "autolabel(rects3)\n",
    "autolabel(rects4)\n",
    "autolabel(rects5)\n",
    "autolabel(rects6)\n",
    "\n",
    "# Add some text for labels, title and custom x-axis tick labels, etc.\n",
    "ax.set_ylabel('number of markers',fontsize='large', fontweight= \"bold\")\n",
    "ax.set_title('Axiom Array 600k Marker Quality Category', fontsize='xx-large', fontweight= \"bold\")\n",
    "ax.set_xticks(x)\n",
    "ax.set_xticklabels(labels, fontsize='large', ha=\"left\", fontweight= \"bold\")\n",
    "ax.legend()\n",
    "\n",
    "\n",
    "plt.show()\n",
    "#plt.savefig('/Users/kschul38/Documents/tsinfer-project/figures/Stetter_phd_europe_maize_figures/count_all_minor_categories.png')"
   ]
  },
  {
   "cell_type": "markdown",
   "id": "f8ac5542",
   "metadata": {},
   "source": [
    "#### **1.9.5.3 Make a barplot for the comparison for the best quality categories vs. all other categories**"
   ]
  },
  {
   "cell_type": "code",
   "execution_count": null,
   "id": "449956fb",
   "metadata": {},
   "outputs": [],
   "source": [
    "labels = ['Unterseer_2016_landraces', 'Unterseer_2016_elite', 'Mayer_2017', 'Mayer_2020']\n",
    "\n",
    "PolyHighResolution_count=[527511, 560483, 527743, 523955]\n",
    "count_other=[(521+7908+846+11392+60954),(387+273+30+45387+2572),(521+7912+848+11395+61023),(1058+15740+748+20258+47683)]\n",
    "\n",
    "x = np.arange(len(labels))  # the label locations\n",
    "width = 0.25  # the width of the bars\n",
    "\n",
    "# Set position of bar on X axis\n",
    "f1 = np.arange(4)\n",
    "f2 = [x + width for x in f1]\n",
    "\n",
    "\n",
    "fig, ax = plt.subplots()\n",
    "rects1 = ax.bar(f1, PolyHighResolution_count, width, label='PolyHighResolution')\n",
    "rects2 = ax.bar(f2, count_other, width, label='Markers of other qualities')\n",
    "\n",
    "\n",
    "def autolabel(rects):\n",
    "    \"\"\"Attach a text label above each bar in *rects*, displaying its height.\"\"\"\n",
    "    for rect in rects:\n",
    "        height = rect.get_height()\n",
    "        ax.annotate('{}'.format(height),\n",
    "                    xy=(rect.get_x() + rect.get_width() / 2, height),\n",
    "                    xytext=(0, 3),  # 3 points vertical offset\n",
    "                    textcoords=\"offset points\",\n",
    "                    ha='center', va='bottom')\n",
    "autolabel(rects1)\n",
    "autolabel(rects2)\n",
    "\n",
    "\n",
    "# Add some text for labels, title and custom x-axis tick labels, etc.\n",
    "ax.set_ylabel('number of markers',fontsize='large', fontweight= \"bold\")\n",
    "ax.set_title('Axiom Array 600k Marker Quality Category', fontsize='xx-large', fontweight= \"bold\")\n",
    "ax.set_xticks(x)\n",
    "ax.set_xticklabels(labels, fontsize='large', ha=\"left\", fontweight= \"bold\")\n",
    "ax.legend()\n",
    "\n",
    "\n",
    "plt.show()\n",
    "#plt.savefig('/Users/kschul38/Documents/tsinfer-project/figures/Stetter_phd_europe_maize_figures/marker_best_quality_categories_vs_all_other_categories.png')"
   ]
  },
  {
   "cell_type": "markdown",
   "id": "da22986c",
   "metadata": {},
   "source": [
    "#### **1.9.5.4 Make a barplot for all combinations that dont include Polyhigh at all**"
   ]
  },
  {
   "cell_type": "markdown",
   "id": "2eed6394",
   "metadata": {},
   "source": [
    "*Count all quality marker combinations for each marker across all datasets*"
   ]
  },
  {
   "cell_type": "code",
   "execution_count": null,
   "id": "f47d0779",
   "metadata": {},
   "outputs": [],
   "source": [
    "count_marker_qual_combis=merge_marker_all.apply(Counter, axis='columns').value_counts()"
   ]
  },
  {
   "cell_type": "code",
   "execution_count": null,
   "id": "fd2dc160",
   "metadata": {},
   "outputs": [],
   "source": [
    "#convert to dataframe\n",
    "count_marker_qual_combis=count_marker_qual_combis.to_frame()\n",
    "count_marker_qual_combis"
   ]
  },
  {
   "cell_type": "code",
   "execution_count": null,
   "id": "23ebf2b8",
   "metadata": {},
   "outputs": [],
   "source": [
    "#convert number of combinations to list \n",
    "occurences=count_marker_qual_combis.values.tolist()"
   ]
  },
  {
   "cell_type": "code",
   "execution_count": null,
   "id": "c9190184",
   "metadata": {},
   "outputs": [],
   "source": [
    "#convert the index (description of combinations) into list of strings\n",
    "index_count_marker_qual_combis=count_marker_qual_combis.index.values.tolist() \n",
    "index_count_marker_qual_combis=[str(i) for i in index_count_marker_qual_combis]"
   ]
  },
  {
   "cell_type": "code",
   "execution_count": null,
   "id": "e390a5a8",
   "metadata": {},
   "outputs": [],
   "source": [
    "index_count_marker_qual_combis"
   ]
  },
  {
   "cell_type": "code",
   "execution_count": null,
   "id": "7a8965f4",
   "metadata": {},
   "outputs": [],
   "source": [
    "#clean up the index, removing the Counter etc.\n",
    "new_row_index=[]"
   ]
  },
  {
   "cell_type": "code",
   "execution_count": null,
   "id": "456d7bc0",
   "metadata": {},
   "outputs": [],
   "source": [
    "for row_index in index_count_marker_qual_combis:\n",
    "    #print(row_index)\n",
    "    new_index=row_index.replace(\"Counter(\", \"\").replace(\"{\", \"\").replace(\"})\", \"\")\n",
    "    new_row_index.append(new_index)\n",
    "    #print(row_index)"
   ]
  },
  {
   "cell_type": "code",
   "execution_count": null,
   "id": "4e5bc7c4",
   "metadata": {},
   "outputs": [],
   "source": [
    "#new_row_index"
   ]
  },
  {
   "cell_type": "markdown",
   "id": "48214df3",
   "metadata": {},
   "source": [
    "*Make dataframe of the quality marker combination counts*"
   ]
  },
  {
   "cell_type": "code",
   "execution_count": null,
   "id": "e6dd7466",
   "metadata": {},
   "outputs": [],
   "source": [
    "#make dataframe & clean up dataframe \n",
    "call_qual_marker_combies = pd.DataFrame(occurences) #dataframe counts\n",
    "call_qual_marker_combies['Combinations'] = new_row_index #add index \n",
    "call_qual_marker_combies=call_qual_marker_combies.rename(columns={0: \"Counts\"}) #remain column\n",
    "call_qual_marker_combies\n",
    "call_qual_marker_combies = call_qual_marker_combies[['Combinations','Counts']] #reorder the columns\n",
    "call_qual_marker_combies"
   ]
  },
  {
   "cell_type": "markdown",
   "id": "f635380d",
   "metadata": {},
   "source": [
    "*Subset all rows that contain a substring in their index/description*"
   ]
  },
  {
   "cell_type": "code",
   "execution_count": null,
   "id": "dab102fa",
   "metadata": {},
   "outputs": [],
   "source": [
    "#subset all rows that contain a substring in their index/description\n",
    "contain_values = call_qual_marker_combies[call_qual_marker_combies['Combinations'].str.contains('PolyHighResolution')]\n",
    "#contain_values"
   ]
  },
  {
   "cell_type": "code",
   "execution_count": null,
   "id": "135acbcb",
   "metadata": {},
   "outputs": [],
   "source": [
    "#subset all rows that dont contain a substring in their index/description\n",
    "contain_vaules_without_polyhigh=call_qual_marker_combies[~call_qual_marker_combies['Combinations'].str.contains('PolyHighResolution')]"
   ]
  },
  {
   "cell_type": "code",
   "execution_count": null,
   "id": "ca058741",
   "metadata": {},
   "outputs": [],
   "source": [
    "#sum over the subset dataframe \n",
    "print(contain_values.sum())"
   ]
  },
  {
   "cell_type": "code",
   "execution_count": null,
   "id": "56e69a7b",
   "metadata": {},
   "outputs": [],
   "source": [
    "#sum over the subset dataframe \n",
    "contain_vaules_without_polyhigh.sum()"
   ]
  },
  {
   "cell_type": "code",
   "execution_count": null,
   "id": "4ae203f6",
   "metadata": {},
   "outputs": [],
   "source": [
    "#sum to get number of total SNPs\n",
    "593760+15682"
   ]
  }
 ],
 "metadata": {
  "kernelspec": {
   "display_name": "Python 3",
   "language": "python",
   "name": "python3"
  },
  "language_info": {
   "codemirror_mode": {
    "name": "ipython",
    "version": 3
   },
   "file_extension": ".py",
   "mimetype": "text/x-python",
   "name": "python",
   "nbconvert_exporter": "python",
   "pygments_lexer": "ipython3",
   "version": "3.7.9"
  }
 },
 "nbformat": 4,
 "nbformat_minor": 5
}
