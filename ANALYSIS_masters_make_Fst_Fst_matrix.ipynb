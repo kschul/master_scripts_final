{
 "cells": [
  {
   "cell_type": "markdown",
   "id": "68a0f710",
   "metadata": {},
   "source": [
    "## **ANALYSIS_masters_make_Fst_Fst_matrix**"
   ]
  },
  {
   "cell_type": "markdown",
   "id": "7751651a",
   "metadata": {},
   "source": [
    "### GOALS of this script:\n",
    "* calculate Hudson FstxFst matrix for 35 landraces \n",
    "* make heatmap with/without dendrogram\n"
   ]
  },
  {
   "cell_type": "markdown",
   "id": "29c62d46",
   "metadata": {},
   "source": [
    "> #### **currently the pairwise Fst only runs on the 25 Mayer_2017 landraces**"
   ]
  },
  {
   "cell_type": "markdown",
   "id": "4f8ce1a1",
   "metadata": {},
   "source": [
    "> #### **make sure that SNPs on Chr0 is not included - maybe in the future currently not priority**"
   ]
  },
  {
   "cell_type": "markdown",
   "id": "d5583ed1",
   "metadata": {},
   "source": [
    "### **Import packages**"
   ]
  },
  {
   "cell_type": "code",
   "execution_count": null,
   "id": "72026046",
   "metadata": {},
   "outputs": [],
   "source": [
    "import numpy as np\n",
    "import seaborn as sns\n",
    "sns.set_style('white')\n",
    "sns.set_style('ticks')\n",
    "import pandas as pd\n",
    "import matplotlib.pyplot as plt\n",
    "%matplotlib inline\n",
    "import allel\n",
    "import random\n",
    "import h5py\n",
    "import bcolz\n",
    "import csv\n",
    "from itertools import chain\n",
    "import itertools\n",
    "import os\n",
    "from collections import Counter\n",
    "from itertools import combinations\n",
    "import seaborn as sns; sns.set_theme(color_codes=True)\n",
    "from matplotlib import pyplot"
   ]
  },
  {
   "cell_type": "markdown",
   "id": "8f6b43ba",
   "metadata": {},
   "source": [
    "### **Load the data**"
   ]
  },
  {
   "cell_type": "code",
   "execution_count": null,
   "id": "f763280e",
   "metadata": {},
   "outputs": [],
   "source": [
    "callset = allel.read_vcf('/Users/kschul38/Documents/tsinfer-project/data/2_processed/europe_maize_dataset_600k/merge_merge_all_chrom_all_edits_with_allel_column_vcf.vcf')"
   ]
  },
  {
   "cell_type": "code",
   "execution_count": null,
   "id": "22b1c7cd",
   "metadata": {},
   "outputs": [],
   "source": [
    "#callset"
   ]
  },
  {
   "cell_type": "code",
   "execution_count": null,
   "id": "c988df49",
   "metadata": {},
   "outputs": [],
   "source": [
    "sorted(callset.keys())"
   ]
  },
  {
   "cell_type": "code",
   "execution_count": null,
   "id": "730dc834",
   "metadata": {},
   "outputs": [],
   "source": [
    "#get the samples in the .vcf\n",
    "samples= callset[\"samples\"]\n",
    "#samples"
   ]
  },
  {
   "cell_type": "code",
   "execution_count": null,
   "id": "e7605481",
   "metadata": {},
   "outputs": [],
   "source": [
    "#total number of the samples inn the vcf\n",
    "len(samples)"
   ]
  },
  {
   "cell_type": "code",
   "execution_count": null,
   "id": "d368b686",
   "metadata": {},
   "outputs": [],
   "source": [
    "#put all the samples in a Dataframe\n",
    "sample_subset = pd.DataFrame(data=samples, columns = ['sample_names'])\n",
    "#sample_subset"
   ]
  },
  {
   "cell_type": "markdown",
   "id": "1bcc0d94",
   "metadata": {},
   "source": [
    "### **Get the names of the landraces from the .vcf file**"
   ]
  },
  {
   "cell_type": "markdown",
   "id": "fa10c17d",
   "metadata": {},
   "source": [
    "#### **Mayer_2017_landraces** - 952 individuals based on **35** landraces"
   ]
  },
  {
   "cell_type": "code",
   "execution_count": null,
   "id": "6840d066",
   "metadata": {},
   "outputs": [],
   "source": [
    "#all mayer_2017 sample names\n",
    "mayer_2017_landraces_samples=sample_subset[sample_subset.sample_names.str.contains(\"_2017_landraces\")]"
   ]
  },
  {
   "cell_type": "code",
   "execution_count": null,
   "id": "b176bc3c",
   "metadata": {},
   "outputs": [],
   "source": [
    "#number of all Mayer_2017_landraces\n",
    "print(len(mayer_2017_landraces_samples))\n",
    "#mayer_2017_landraces_samples"
   ]
  },
  {
   "cell_type": "code",
   "execution_count": null,
   "id": "9dcfd2d1",
   "metadata": {},
   "outputs": [],
   "source": [
    "mayer_2017_35_landraces=mayer_2017_landraces_samples[mayer_2017_landraces_samples.sample_names.str.contains(\"\\\\.01\")]\n",
    "print(len(mayer_2017_35_landraces))\n",
    "#print(mayer_2017_35_landraces)"
   ]
  },
  {
   "cell_type": "markdown",
   "id": "cac3d322",
   "metadata": {},
   "source": [
    "### **Metadata - Add the populations to the individuals**"
   ]
  },
  {
   "cell_type": "markdown",
   "id": "40317193",
   "metadata": {},
   "source": [
    "#### **Mayer_2017_landraces** - 952 individuals based on **35** landraces"
   ]
  },
  {
   "cell_type": "code",
   "execution_count": null,
   "id": "d8654f17",
   "metadata": {
    "scrolled": true
   },
   "outputs": [],
   "source": [
    "for index, row in mayer_2017_landraces_samples.iterrows():\n",
    "    #print(row['sample_names'])\n",
    "    mayer_string=row['sample_names']#take the sample names row\n",
    "    #print(mayer_string) \n",
    "    mayer_substring=mayer_string[0:2] #take the first two letters of the sample names\n",
    "    #print(mayer_substring)\n",
    "    mayer_2017_landraces_samples.at[index,'Population'] = mayer_substring + \"_mayer_2017\" #add the dataset info and make the Population column                                                                                                                                                     "
   ]
  },
  {
   "cell_type": "code",
   "execution_count": null,
   "id": "dbc0f035",
   "metadata": {},
   "outputs": [],
   "source": [
    "mayer_2017_landraces_samples"
   ]
  },
  {
   "cell_type": "code",
   "execution_count": null,
   "id": "9cbb7f5c",
   "metadata": {},
   "outputs": [],
   "source": [
    "#get all the unique population that you have assigned and check the number \n",
    "populations_mayer = mayer_2017_landraces_samples.Population.unique()\n",
    "print(len(populations_mayer))\n",
    "print(populations_mayer)"
   ]
  },
  {
   "cell_type": "markdown",
   "id": "f56941c3",
   "metadata": {},
   "source": [
    "### **Get all combinations of the different populations for the pairwise-Fst**"
   ]
  },
  {
   "cell_type": "markdown",
   "id": "298dc716",
   "metadata": {},
   "source": [
    "#### **Get the names for the combinations**"
   ]
  },
  {
   "cell_type": "code",
   "execution_count": null,
   "id": "b1c6bb4f",
   "metadata": {
    "scrolled": true
   },
   "outputs": [],
   "source": [
    "two_row_dataframe = {}\n",
    "splits = list(mayer_2017_landraces_samples.groupby(\"Population\"))\n",
    "for i in range(35):\n",
    "    two_row_dataframe[i] = [] \n",
    "    # view splitted dataframe\n",
    "    #print(splits[i][1])\n",
    "    two_row_dataframe[i]=splits[i][1]"
   ]
  },
  {
   "cell_type": "code",
   "execution_count": null,
   "id": "f571155e",
   "metadata": {},
   "outputs": [],
   "source": [
    "first_row_dataframe={} \n",
    "second_row_dataframe={}\n",
    "for i in range(35):\n",
    "    first_row_dataframe[i]=[]\n",
    "    second_row_dataframe[i]=[]\n",
    "    # view splitted dataframe\n",
    "    #print(two_row_dataframe[i].sample_names)\n",
    "    #print(two_row_dataframe[i].Population)\n",
    "    first_row_dataframe[i]=two_row_dataframe[i].sample_names\n",
    "    second_row_dataframe[i]=two_row_dataframe[i].Population"
   ]
  },
  {
   "cell_type": "code",
   "execution_count": null,
   "id": "859f513b",
   "metadata": {},
   "outputs": [],
   "source": [
    "#first_row_dataframe"
   ]
  },
  {
   "cell_type": "code",
   "execution_count": null,
   "id": "f941d89b",
   "metadata": {},
   "outputs": [],
   "source": [
    "#second_row_dataframe"
   ]
  },
  {
   "cell_type": "markdown",
   "id": "739b8a99",
   "metadata": {},
   "source": [
    "#### **Make the combinations by numbers**"
   ]
  },
  {
   "cell_type": "code",
   "execution_count": null,
   "id": "bafd99b5",
   "metadata": {},
   "outputs": [],
   "source": [
    "#make a list of the length 35 from 0 to 34\n",
    "L=list(range(35))\n",
    "print(len(L))\n",
    "print(L)"
   ]
  },
  {
   "cell_type": "code",
   "execution_count": null,
   "id": "4e03246c",
   "metadata": {},
   "outputs": [],
   "source": [
    "#make a list of all combinations - **including the reciprocal (O,1) and (1,0)** because they are needed for the heatmap\n",
    "combo=list(itertools.permutations(L,2))\n",
    "print(len(combo))\n",
    "#print(combo)"
   ]
  },
  {
   "cell_type": "code",
   "execution_count": null,
   "id": "29fe5f25",
   "metadata": {},
   "outputs": [],
   "source": [
    "#append the self ones to the combo list \n",
    "combo.append((0,0))\n",
    "combo.append((1,1))\n",
    "combo.append((2,2))\n",
    "combo.append((3,3))\n",
    "combo.append((4,4))\n",
    "combo.append((5,5))\n",
    "combo.append((6,6))\n",
    "combo.append((7,7))\n",
    "combo.append((8,8))\n",
    "combo.append((9,9))\n",
    "combo.append((10,10))\n",
    "combo.append((11,11))\n",
    "combo.append((12,12))\n",
    "combo.append((13,13))\n",
    "combo.append((14,14))\n",
    "combo.append((15,15))\n",
    "combo.append((16,16))\n",
    "combo.append((17,17))\n",
    "combo.append((18,18))\n",
    "combo.append((19,19))\n",
    "combo.append((20,20))\n",
    "combo.append((21,21))\n",
    "combo.append((22,22))\n",
    "combo.append((23,23))\n",
    "combo.append((24,24))\n",
    "combo.append((25,25))\n",
    "combo.append((26,26))\n",
    "combo.append((27,27))\n",
    "combo.append((28,28))\n",
    "combo.append((29,29))\n",
    "combo.append((30,30))\n",
    "combo.append((31,31))\n",
    "combo.append((32,32))\n",
    "combo.append((33,33))\n",
    "combo.append((34,34))"
   ]
  },
  {
   "cell_type": "code",
   "execution_count": null,
   "id": "9ab54cb2",
   "metadata": {},
   "outputs": [],
   "source": [
    "#sort the combo list\n",
    "combo.sort()"
   ]
  },
  {
   "cell_type": "code",
   "execution_count": null,
   "id": "2811a8c9",
   "metadata": {},
   "outputs": [],
   "source": [
    "#check the final combo list\n",
    "print(len(combo))\n",
    "#print(combo)\n",
    "1225-1190"
   ]
  },
  {
   "cell_type": "markdown",
   "id": "97dc594a",
   "metadata": {},
   "source": [
    "### **Calculate the pairwise-Fst**"
   ]
  },
  {
   "cell_type": "code",
   "execution_count": null,
   "id": "f726b626",
   "metadata": {},
   "outputs": [],
   "source": [
    "combis=combo\n",
    "combis.sort()\n",
    "print(combis)\n",
    "print(len(combis))"
   ]
  },
  {
   "cell_type": "code",
   "execution_count": null,
   "id": "8ee97e2f",
   "metadata": {},
   "outputs": [],
   "source": [
    "combi_list= {}\n",
    "for i in range(1225):\n",
    "    combis_element=combis[i]\n",
    "    combis_fist=combis_element[0]\n",
    "    combis_second=combis_element[1]\n",
    "    #print(combis_element)\n",
    "    #print(combis_fist)\n",
    "    #print(combis_second)\n",
    "    list_first=(list(first_row_dataframe[combis_fist]))\n",
    "    list_second=(list(first_row_dataframe[combis_second]))\n",
    "    #print(list_first)\n",
    "    #print(list_second)\n",
    "    combi_list[i]=[]\n",
    "    combi_list[i]=list_first+list_second\n",
    "    #print(combi_list)\n",
    "    #print(len(combi_list))"
   ]
  },
  {
   "cell_type": "code",
   "execution_count": null,
   "id": "cecdd7a3",
   "metadata": {},
   "outputs": [],
   "source": [
    "#combi_list"
   ]
  },
  {
   "cell_type": "code",
   "execution_count": null,
   "id": "2f759a67",
   "metadata": {},
   "outputs": [],
   "source": [
    "#set up the lists for the Fst values and the corresponding Fst standard deviations\n",
    "fst_list=[]\n",
    "fst_se_list=[]"
   ]
  },
  {
   "cell_type": "code",
   "execution_count": null,
   "id": "d49ee9b2",
   "metadata": {},
   "outputs": [],
   "source": [
    "#set up a list of all Mayer_2017 landraces names for the print statement of the calculations\n",
    "unique_populations_mayer=pd.unique(populations_mayer)\n",
    "print(len(unique_populations_mayer))\n",
    "print(unique_populations_mayer)"
   ]
  },
  {
   "cell_type": "code",
   "execution_count": null,
   "id": "e9ffade4",
   "metadata": {
    "scrolled": true
   },
   "outputs": [],
   "source": [
    "#calculate the pairwise Fst values and corresponding deviations \n",
    "for k in range(1225):\n",
    "    combis_element=combis[k]\n",
    "    combis_fist=combis_element[0]\n",
    "    first_landrace_name=unique_populations_mayer[combis_fist]\n",
    "    combis_second=combis_element[1]\n",
    "    second_landrace_name=unique_populations_mayer[combis_second]\n",
    "    combi_list_element=combi_list[k]\n",
    "    #print(combis_element)\n",
    "    #print(combis_fist)\n",
    "    #print(combis_second)\n",
    "    #print(first_landrace_name)\n",
    "    #print(second_landrace_name)\n",
    "    #print(combi_list_element)\n",
    "    \n",
    "    #load the data for the two landraces seperatly \n",
    "    loc_samples_pop1 = allel.read_vcf('/Users/kschul38/Documents/tsinfer-project/data/2_processed/europe_maize_dataset_600k/merge_merge_all_chrom_all_edits_with_allel_column_vcf.vcf', samples= first_row_dataframe[combis_fist])\n",
    "    loc_samples_pop2 = allel.read_vcf('/Users/kschul38/Documents/tsinfer-project/data/2_processed/europe_maize_dataset_600k/merge_merge_all_chrom_all_edits_with_allel_column_vcf.vcf', samples= first_row_dataframe[combis_second])\n",
    "    \n",
    "    #load the data for the combination of the two samples \n",
    "    loc_samples_combi_pops = allel.read_vcf('/Users/kschul38/Documents/tsinfer-project/data/2_processed/europe_maize_dataset_600k/merge_merge_all_chrom_all_edits_with_allel_column_vcf.vcf', samples= combi_list_element)  \n",
    "    \n",
    "    #get the genotype data for the two landraces seperatly\n",
    "    geno_samples_pop1=allel.GenotypeArray(loc_samples_pop1['calldata/GT'])\n",
    "    geno_samples_pop2=allel.GenotypeArray(loc_samples_pop2['calldata/GT'])\n",
    "    \n",
    "    #get the genotype data for the combination\n",
    "    geno_samples_combi_pop=allel.allel.GenotypeArray(loc_samples_combi_pops['calldata/GT'])\n",
    "    \n",
    "    #get the allel count array for the two landraces seperatly\n",
    "    geno_samples_pop1_allel_count=geno_samples_pop1.count_alleles()\n",
    "    geno_samples_pop2_allel_count=geno_samples_pop2.count_alleles()\n",
    "    \n",
    "    #get the allel count array for the combination of the two landraces\n",
    "    geno_samples_combi_pop_allel_count=geno_samples_combi_pop.count_alleles()\n",
    "    \n",
    "    #boolean to check if the selected individuals segregeate at the SNPs\n",
    "    is_seg = geno_samples_combi_pop_allel_count.is_segregating()[:]\n",
    "    \n",
    "    #apply the boolean to the allel count arrays \n",
    "    geno_samples_pop1_allel_count_seg=geno_samples_pop1_allel_count.compress(is_seg, axis=0)\n",
    "    geno_samples_pop2_allel_count_seg=geno_samples_pop2_allel_count.compress(is_seg, axis=0)\n",
    "    \n",
    "    \n",
    "    #calculate the Fst\n",
    "    fst, fst_se, _, _ = allel.blockwise_hudson_fst(geno_samples_pop1_allel_count_seg,geno_samples_pop2_allel_count_seg, blen=100000)\n",
    "    \n",
    "    print(fst)\n",
    "    print(fst_se)\n",
    "    #append fst and fst_se to list\n",
    "    fst_list.append(fst)\n",
    "    fst_se_list.append(fst_se)\n",
    "    \n",
    "    #print(\"Fst for %s combination - landraces %s/%s was calculated\" % (str(combis_element)))\n",
    "    print(\"Fst for %(a)s combination - landraces %(b)s/%(c)s was calculated\" % {'a': str(combis_element), 'b': first_landrace_name, 'c':second_landrace_name})\n",
    "    "
   ]
  },
  {
   "cell_type": "code",
   "execution_count": null,
   "id": "8ba8f12d",
   "metadata": {},
   "outputs": [],
   "source": [
    "#check the length of the Fst value list - should be 1225 (35*35)\n",
    "len(fst_list)"
   ]
  },
  {
   "cell_type": "code",
   "execution_count": null,
   "id": "f6c8a450",
   "metadata": {},
   "outputs": [],
   "source": [
    "xxxxx"
   ]
  },
  {
   "cell_type": "markdown",
   "id": "c9588afb",
   "metadata": {},
   "source": [
    "#### **Write fst values to file**"
   ]
  },
  {
   "cell_type": "code",
   "execution_count": null,
   "id": "1208802a",
   "metadata": {},
   "outputs": [],
   "source": [
    "#print(fst_list)"
   ]
  },
  {
   "cell_type": "code",
   "execution_count": null,
   "id": "e69950b8",
   "metadata": {},
   "outputs": [],
   "source": [
    "textfile = open(\"fst_hudson_list_for_masters.txt\", \"w\")\n",
    "for element in fst_list:\n",
    "    textfile.write(str(element)+ \"\\n\")\n",
    "textfile.close()"
   ]
  },
  {
   "cell_type": "markdown",
   "id": "47881c93",
   "metadata": {},
   "source": [
    "#### **Load random values for FstxFst matrix to check quit edits**"
   ]
  },
  {
   "cell_type": "code",
   "execution_count": null,
   "id": "5b0ab412",
   "metadata": {},
   "outputs": [],
   "source": [
    "randomlist =  np.random.uniform(0.0,1.0, 1225)\n",
    "print(len(randomlist))\n",
    "fst_list=randomlist"
   ]
  },
  {
   "cell_type": "markdown",
   "id": "aa5c8a04",
   "metadata": {},
   "source": [
    "### **Make FstxFst matrix heatmap plot**"
   ]
  },
  {
   "cell_type": "markdown",
   "id": "d25117e5",
   "metadata": {},
   "source": [
    "#### **Shape fst values to fit the heatmap**"
   ]
  },
  {
   "cell_type": "code",
   "execution_count": null,
   "id": "8cf18594",
   "metadata": {},
   "outputs": [],
   "source": [
    "#round to three decimals\n",
    "fst_rounded=np.around(fst_list, decimals=3)"
   ]
  },
  {
   "cell_type": "code",
   "execution_count": null,
   "id": "6a71bd22",
   "metadata": {},
   "outputs": [],
   "source": [
    "#replace the negative values from the self calculation with 0es\n",
    "fst_rounded[fst_rounded < 0] = 0"
   ]
  },
  {
   "cell_type": "code",
   "execution_count": null,
   "id": "54dcc6cf",
   "metadata": {},
   "outputs": [],
   "source": [
    "#split array into arrays with length of populations 35 for each column of the heatmap\n",
    "split_fst_array=np.split(fst_rounded,35)"
   ]
  },
  {
   "cell_type": "code",
   "execution_count": null,
   "id": "ce5f529f",
   "metadata": {},
   "outputs": [],
   "source": [
    "#stack the 35 length arrays for the heatmap\n",
    "split_fst_stacks=np.stack(split_fst_array)"
   ]
  },
  {
   "cell_type": "code",
   "execution_count": null,
   "id": "4fa1efbd",
   "metadata": {},
   "outputs": [],
   "source": [
    "split_fst_stacks"
   ]
  },
  {
   "cell_type": "markdown",
   "id": "7b2ee72d",
   "metadata": {},
   "source": [
    "#### **Set up the names for the y and x-axis of the heatmap**"
   ]
  },
  {
   "cell_type": "code",
   "execution_count": null,
   "id": "9b243fa6",
   "metadata": {},
   "outputs": [],
   "source": [
    "#set up the lists \n",
    "labels=[]\n",
    "y_labels=[]\n",
    "x_labels=[]"
   ]
  },
  {
   "cell_type": "code",
   "execution_count": null,
   "id": "7904bdd9",
   "metadata": {},
   "outputs": [],
   "source": [
    "#shorten the pop names to the abbreviations \n",
    "for first_two in populations_mayer:\n",
    "    #print(first_two[:2])\n",
    "    labels.append(first_two[:2])"
   ]
  },
  {
   "cell_type": "code",
   "execution_count": null,
   "id": "29fd7490",
   "metadata": {},
   "outputs": [],
   "source": [
    "y_labels= labels\n",
    "x_labels= labels"
   ]
  },
  {
   "cell_type": "code",
   "execution_count": null,
   "id": "22643590",
   "metadata": {},
   "outputs": [],
   "source": [
    "#check what the axis labels contain\n",
    "#print(y_labels)\n",
    "#print(x_labels)"
   ]
  },
  {
   "cell_type": "code",
   "execution_count": null,
   "id": "fa21e9e0",
   "metadata": {},
   "outputs": [],
   "source": [
    "#turn around one of the axis labels \n",
    "y_labels=x_labels[::-1]"
   ]
  },
  {
   "cell_type": "code",
   "execution_count": null,
   "id": "3acd012e",
   "metadata": {},
   "outputs": [],
   "source": [
    "#check the orientations \n",
    "print(y_labels)\n",
    "print(x_labels)"
   ]
  },
  {
   "cell_type": "code",
   "execution_count": null,
   "id": "d9a863fd",
   "metadata": {},
   "outputs": [],
   "source": [
    "rev_split_fst_stacks=[]"
   ]
  },
  {
   "cell_type": "code",
   "execution_count": null,
   "id": "4d35fc1a",
   "metadata": {},
   "outputs": [],
   "source": [
    "split_fst_stacks[34]"
   ]
  },
  {
   "cell_type": "code",
   "execution_count": null,
   "id": "08aed96d",
   "metadata": {},
   "outputs": [],
   "source": [
    "for i in range(35):\n",
    "    num=34-i\n",
    "    print(num)\n",
    "    rev_split_fst_stacks.append(split_fst_stacks[num])\n",
    "    "
   ]
  },
  {
   "cell_type": "code",
   "execution_count": null,
   "id": "1fd8ead9",
   "metadata": {},
   "outputs": [],
   "source": [
    "#rev_split_fst_stacks"
   ]
  },
  {
   "cell_type": "markdown",
   "id": "983de471",
   "metadata": {},
   "source": [
    "#### **Make the heatmap plot**"
   ]
  },
  {
   "cell_type": "code",
   "execution_count": null,
   "id": "126c4080",
   "metadata": {},
   "outputs": [],
   "source": [
    "fst_heat_values = split_fst_stacks"
   ]
  },
  {
   "cell_type": "code",
   "execution_count": null,
   "id": "dc910af9",
   "metadata": {},
   "outputs": [],
   "source": [
    "cbarlabel=\"Fst value\""
   ]
  },
  {
   "cell_type": "code",
   "execution_count": null,
   "id": "0ae2b67a",
   "metadata": {},
   "outputs": [],
   "source": [
    "fig, ax = plt.subplots()\n",
    "im = ax.imshow(fst_heat_values)\n",
    "\n",
    "\n",
    "# Create colorbar\n",
    "cbar = ax.figure.colorbar(im, ax=ax)\n",
    "cbar.ax.set_ylabel(cbarlabel,rotation=-90, va=\"bottom\",fontsize=25)\n",
    "\n",
    "\n",
    "# We want to show all ticks...\n",
    "ax.set_xticks(np.arange(len(x_labels)))\n",
    "ax.set_yticks(np.arange(len(y_labels)))\n",
    "# ... and label them with the respective list entries\n",
    "ax.set_xticklabels(x_labels, size=20)\n",
    "ax.set_yticklabels(y_labels, size=20)\n",
    "ax.grid(False) #remove the gridlines\n",
    "\n",
    "# Rotate the tick labels and set their alignment.\n",
    "plt.setp(ax.get_xticklabels(), rotation=45, ha=\"right\",\n",
    "         rotation_mode=\"anchor\")\n",
    "\n",
    "# Loop over data dimensions and create text annotations.\n",
    "for i in range(len(y_labels)):\n",
    "    for j in range(len(x_labels)):\n",
    "        text = ax.text(j, i, fst_heat_values[i, j],\n",
    "                       ha=\"center\", va=\"center\", color=\"white\",size=12,fontweight=\"bold\")\n",
    "\n",
    "#ax.set_title(\"Pairwise Fst\",fontsize=40)\n",
    "#fig.tight_layout()\n",
    "fig.set_size_inches(30, 30)\n",
    "#fig.savefig('full_heatmap_without_dendrogram.png')\n",
    "plt.show()"
   ]
  },
  {
   "cell_type": "code",
   "execution_count": null,
   "id": "9be5523c",
   "metadata": {},
   "outputs": [],
   "source": [
    "df= pd.DataFrame(data=split_fst_stacks)"
   ]
  },
  {
   "cell_type": "code",
   "execution_count": null,
   "id": "2ee4d0c9",
   "metadata": {},
   "outputs": [],
   "source": [
    "np.ones_like(df, dtype=np.bool)"
   ]
  },
  {
   "cell_type": "code",
   "execution_count": null,
   "id": "9566a6dd",
   "metadata": {},
   "outputs": [],
   "source": [
    "mask = np.triu(np.ones_like(df, dtype=np.bool))"
   ]
  },
  {
   "cell_type": "code",
   "execution_count": null,
   "id": "730f9fb6",
   "metadata": {},
   "outputs": [],
   "source": [
    "mask"
   ]
  },
  {
   "cell_type": "code",
   "execution_count": null,
   "id": "be49dc68",
   "metadata": {},
   "outputs": [],
   "source": [
    "new_mask=mask[::-1]\n",
    "new_mask"
   ]
  },
  {
   "cell_type": "code",
   "execution_count": null,
   "id": "aca1ac5c",
   "metadata": {},
   "outputs": [],
   "source": [
    "new_new_mask=np.invert(new_mask)"
   ]
  },
  {
   "cell_type": "code",
   "execution_count": null,
   "id": "a12c768f",
   "metadata": {},
   "outputs": [],
   "source": [
    "df_masked=df.mask(new_new_mask)"
   ]
  },
  {
   "cell_type": "code",
   "execution_count": null,
   "id": "86839b92",
   "metadata": {},
   "outputs": [],
   "source": [
    "df_masked_0=df_masked.fillna(0)"
   ]
  },
  {
   "cell_type": "code",
   "execution_count": null,
   "id": "019b1f33",
   "metadata": {},
   "outputs": [],
   "source": [
    "df_rev=rev_split_fst_stacks"
   ]
  },
  {
   "cell_type": "code",
   "execution_count": null,
   "id": "ec5f9605",
   "metadata": {
    "scrolled": true
   },
   "outputs": [],
   "source": [
    "df_rev"
   ]
  },
  {
   "cell_type": "code",
   "execution_count": null,
   "id": "61f6978e",
   "metadata": {},
   "outputs": [],
   "source": [
    "row_cluster=False\n",
    "col_cluster=False\n",
    "xticklabels=x_labels\n",
    "yticklabels=y_labels\n",
    "mask=new_new_mask"
   ]
  },
  {
   "cell_type": "code",
   "execution_count": null,
   "id": "4512fb96",
   "metadata": {},
   "outputs": [],
   "source": [
    "cmap = sns.cm.rocket_r"
   ]
  },
  {
   "cell_type": "markdown",
   "id": "4daf1d16",
   "metadata": {},
   "source": [
    "#### **Make the heatmap plot with dendrogram**"
   ]
  },
  {
   "cell_type": "code",
   "execution_count": null,
   "id": "cd6e9d71",
   "metadata": {},
   "outputs": [],
   "source": [
    "sns.set(font_scale=1.5)"
   ]
  },
  {
   "cell_type": "code",
   "execution_count": null,
   "id": "2866e68a",
   "metadata": {},
   "outputs": [],
   "source": [
    "g = sns.clustermap(df_rev, annot=True, xticklabels=x_labels, yticklabels=y_labels[::-1],figsize=(30, 30), cmap=\"rocket_r\",tree_kws=dict(linewidths=3.5))"
   ]
  },
  {
   "cell_type": "code",
   "execution_count": null,
   "id": "eff2b71c",
   "metadata": {},
   "outputs": [],
   "source": [
    "#g.fig.savefig(\"full_heatmap_with_bold_dengro_diagonal.pdf\")"
   ]
  },
  {
   "cell_type": "code",
   "execution_count": null,
   "id": "ae8b17ae",
   "metadata": {},
   "outputs": [],
   "source": [
    "g1 = sns.clustermap(fst_heat_values, annot=True, xticklabels=x_labels, yticklabels=y_labels,mask=new_mask, figsize=(30, 30),cbar_pos = None)\n",
    "\n"
   ]
  },
  {
   "cell_type": "code",
   "execution_count": null,
   "id": "b1a59db8",
   "metadata": {},
   "outputs": [],
   "source": [
    "#g1.fig.savefig(\"half_heatmap_row_dendro.png\")"
   ]
  },
  {
   "cell_type": "code",
   "execution_count": null,
   "id": "5dd740b0",
   "metadata": {},
   "outputs": [],
   "source": [
    "g2 = sns.clustermap(fst_heat_values, annot=True, xticklabels=x_labels, yticklabels=y_labels,row_cluster=False,col_cluster=False,figsize=(30, 30),cbar_pos = None)\n"
   ]
  },
  {
   "cell_type": "code",
   "execution_count": null,
   "id": "a8d18aa8",
   "metadata": {},
   "outputs": [],
   "source": [
    "#g2.fig.savefig(\"half_heatmap_col_dendro.png\")"
   ]
  }
 ],
 "metadata": {
  "kernelspec": {
   "display_name": "Python 3",
   "language": "python",
   "name": "python3"
  },
  "language_info": {
   "codemirror_mode": {
    "name": "ipython",
    "version": 3
   },
   "file_extension": ".py",
   "mimetype": "text/x-python",
   "name": "python",
   "nbconvert_exporter": "python",
   "pygments_lexer": "ipython3",
   "version": "3.7.9"
  }
 },
 "nbformat": 4,
 "nbformat_minor": 5
}
