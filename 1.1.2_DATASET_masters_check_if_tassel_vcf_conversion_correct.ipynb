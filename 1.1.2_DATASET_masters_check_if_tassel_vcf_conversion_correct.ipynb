{
 "cells": [
  {
   "cell_type": "markdown",
   "id": "690b7e5f",
   "metadata": {},
   "source": [
    "## **1.1.2_DATASET_masters_check_if_tassel_vcf_conversion_correct.ipynb**"
   ]
  },
  {
   "cell_type": "markdown",
   "id": "4296491f",
   "metadata": {},
   "source": [
    "### GOALS of this script:\n",
    "* check if the conversion of Unterseer_2016.vcf file into HapMap files is correct by copying rows from the .vcf into the HapMap\n",
    "* check one row allel column equal to row calls (IUPAC nucleotide code)"
   ]
  },
  {
   "cell_type": "code",
   "execution_count": null,
   "id": "5fbffa35",
   "metadata": {},
   "outputs": [],
   "source": [
    "import gzip\n",
    "import allel\n",
    "import pandas as pd\n",
    "import numpy as np\n",
    "import tskit\n",
    "import tsinfer\n",
    "import sys\n",
    "import json\n",
    "import csv\n",
    "from IPython.display import SVG\n",
    "from IPython.display import HTML\n",
    "from collections import Counter\n",
    "import matplotlib.pyplot as plt\n",
    "import seaborn as sns\n",
    "from openpyxl import Workbook\n",
    "from progressbar import ProgressBar\n",
    "sns.set_style('white')\n",
    "sns.set_style('ticks')"
   ]
  },
  {
   "cell_type": "markdown",
   "id": "0778b8fb",
   "metadata": {},
   "source": [
    "## **Read in all dataset files as hapmap format**"
   ]
  },
  {
   "cell_type": "markdown",
   "id": "6a0303db",
   "metadata": {},
   "source": [
    "### *Read in hapmap Unterseer_2016 files*"
   ]
  },
  {
   "cell_type": "code",
   "execution_count": null,
   "id": "59667b8a",
   "metadata": {},
   "outputs": [],
   "source": [
    "unterseer_2016_landraces_hapmap=pd.read_csv(\"/Users/kschul38/Documents/tsinfer-project/data/2_processed/europe_maize_dataset_600k/unterseer_2016_landraces_hapmap.hmp.txt\",sep=\"\\t\")\n",
    "unterseer_2016_landraces_hapmap"
   ]
  },
  {
   "cell_type": "code",
   "execution_count": null,
   "id": "efd12f34",
   "metadata": {},
   "outputs": [],
   "source": [
    "unterseer_2016_elite_hapmap=pd.read_csv(\"/Users/kschul38/Documents/tsinfer-project/data/2_processed/europe_maize_dataset_600k/unterseer_2016_elite_hapmap.hmp.txt\",sep=\"\\t\")\n",
    "unterseer_2016_elite_hapmap"
   ]
  },
  {
   "cell_type": "markdown",
   "id": "c2101377",
   "metadata": {},
   "source": [
    "### **Read in duplicate hapmap files**"
   ]
  },
  {
   "cell_type": "markdown",
   "id": "eddc61b3",
   "metadata": {},
   "source": [
    "test_unterseer_for_masters_elite=pd.read_csv(\"/Users/kschul38/Documents/Tassel_5.0/test_unterseer_for_master_elite.hmp.txt\",sep=\"\\t\")\n",
    "test_unterseer_for_masters_elite"
   ]
  },
  {
   "cell_type": "markdown",
   "id": "de48097a",
   "metadata": {},
   "source": [
    "test_unterseer_for_masters_landraces=pd.read_csv(\"/Users/kschul38/Documents/Tassel_5.0/test_unterseer_for_master_landraces.hmp.txt\",sep=\"\\t\")\n",
    "test_unterseer_for_masters_landraces"
   ]
  },
  {
   "cell_type": "markdown",
   "id": "81caa7f3",
   "metadata": {},
   "source": [
    "## **Read in all dataset files as .vcf format**"
   ]
  },
  {
   "cell_type": "markdown",
   "id": "24417bf8",
   "metadata": {},
   "source": [
    "### *Read in Unterseer_2016 files*"
   ]
  },
  {
   "cell_type": "code",
   "execution_count": null,
   "id": "8aa6af6d",
   "metadata": {},
   "outputs": [],
   "source": [
    "unterseer_2016_landraces_vcf= allel.read_vcf('/Users/kschul38/Documents/tsinfer-project/data/1_raw/5_Unterseer_2016/TUM-PLANTBREEDING_Maize600k_landraces.vcf',fields='*', log=sys.stdout)"
   ]
  },
  {
   "cell_type": "code",
   "execution_count": null,
   "id": "640f999a",
   "metadata": {},
   "outputs": [],
   "source": [
    "unterseer_2016_elite_vcf= allel.read_vcf('/Users/kschul38/Documents/tsinfer-project/data/1_raw/5_Unterseer_2016/TUM-PLANTBREEDING_Maize600k_elitelines.vcf',fields='*', log=sys.stdout)"
   ]
  },
  {
   "cell_type": "code",
   "execution_count": null,
   "id": "79e0d500",
   "metadata": {},
   "outputs": [],
   "source": [
    "sorted(unterseer_2016_landraces_vcf.keys())"
   ]
  },
  {
   "cell_type": "code",
   "execution_count": null,
   "id": "42f03ce1",
   "metadata": {},
   "outputs": [],
   "source": [
    "sorted(unterseer_2016_elite_vcf.keys())"
   ]
  },
  {
   "cell_type": "markdown",
   "id": "b04d3729",
   "metadata": {},
   "source": [
    "## **Get the relevant column from the .vcf file**"
   ]
  },
  {
   "cell_type": "markdown",
   "id": "11544a71",
   "metadata": {},
   "source": [
    "### *Get 600k array marker names*"
   ]
  },
  {
   "cell_type": "code",
   "execution_count": null,
   "id": "22c4259a",
   "metadata": {},
   "outputs": [],
   "source": [
    "axiom_marker_unterseer_2016_elite_vcf=unterseer_2016_elite_vcf['variants/AD']\n",
    "axiom_marker_unterseer_2016_landraces_vcf=unterseer_2016_landraces_vcf['variants/AD']"
   ]
  },
  {
   "cell_type": "code",
   "execution_count": null,
   "id": "1c37b232",
   "metadata": {},
   "outputs": [],
   "source": [
    "print(axiom_marker_unterseer_2016_elite_vcf)\n",
    "print(len(axiom_marker_unterseer_2016_elite_vcf))\n",
    "print(axiom_marker_unterseer_2016_landraces_vcf)\n",
    "print(len(axiom_marker_unterseer_2016_landraces_vcf))"
   ]
  },
  {
   "cell_type": "code",
   "execution_count": null,
   "id": "23bd5503",
   "metadata": {},
   "outputs": [],
   "source": [
    "#compare the marker names between the hapmap files\n",
    "np.array_equal(axiom_marker_unterseer_2016_elite_vcf,axiom_marker_unterseer_2016_landraces_vcf)"
   ]
  },
  {
   "cell_type": "markdown",
   "id": "2bb16ac9",
   "metadata": {},
   "source": [
    "### *Get 600k array marker qualities*"
   ]
  },
  {
   "cell_type": "code",
   "execution_count": null,
   "id": "dfbdbaf2",
   "metadata": {},
   "outputs": [],
   "source": [
    "axiom_quality_marker_unterseer_2016_elite_vcf=unterseer_2016_elite_vcf['variants/CMT']\n",
    "axiom_quality_marker_unterseer_2016_landraces_vcf=unterseer_2016_landraces_vcf['variants/CMT']"
   ]
  },
  {
   "cell_type": "markdown",
   "id": "485c8b12",
   "metadata": {},
   "source": [
    "* dosent make sense to compare because marker qualities are determined by the sample"
   ]
  },
  {
   "cell_type": "code",
   "execution_count": null,
   "id": "c738782b",
   "metadata": {},
   "outputs": [],
   "source": [
    "print(axiom_quality_marker_unterseer_2016_elite_vcf)\n",
    "print(len(axiom_quality_marker_unterseer_2016_elite_vcf))\n",
    "print(axiom_quality_marker_unterseer_2016_landraces_vcf)\n",
    "print(len(axiom_quality_marker_unterseer_2016_landraces_vcf))"
   ]
  },
  {
   "cell_type": "markdown",
   "id": "05a2c7a2",
   "metadata": {},
   "source": [
    "### *Get 600k array marker positions*"
   ]
  },
  {
   "cell_type": "code",
   "execution_count": null,
   "id": "4dfd6f3b",
   "metadata": {},
   "outputs": [],
   "source": [
    "pos_unterseer_2016_elite_vcf=unterseer_2016_elite_vcf[\"variants/POS\"]\n",
    "pos_unterseer_2016_landraces_vcf=unterseer_2016_landraces_vcf[\"variants/POS\"]"
   ]
  },
  {
   "cell_type": "code",
   "execution_count": null,
   "id": "e5ef383f",
   "metadata": {},
   "outputs": [],
   "source": [
    "print(pos_unterseer_2016_elite_vcf)\n",
    "print(len(pos_unterseer_2016_elite_vcf))\n",
    "print(pos_unterseer_2016_landraces_vcf)\n",
    "print(len(pos_unterseer_2016_landraces_vcf))"
   ]
  },
  {
   "cell_type": "code",
   "execution_count": null,
   "id": "714533bf",
   "metadata": {},
   "outputs": [],
   "source": [
    "#compare the columns between Unterseer elite & landrace file\n",
    "np.array_equal(pos_unterseer_2016_elite_vcf,pos_unterseer_2016_landraces_vcf)"
   ]
  },
  {
   "cell_type": "markdown",
   "id": "e20bb819",
   "metadata": {},
   "source": [
    "### *Get reference allele column*"
   ]
  },
  {
   "cell_type": "code",
   "execution_count": null,
   "id": "57b10b35",
   "metadata": {},
   "outputs": [],
   "source": [
    "ref_unterseer_2016_elite_vcf=unterseer_2016_elite_vcf[\"variants/REF\"]\n",
    "ref_unterseer_2016_landraces_vcf=unterseer_2016_landraces_vcf[\"variants/REF\"]"
   ]
  },
  {
   "cell_type": "code",
   "execution_count": null,
   "id": "cf818191",
   "metadata": {},
   "outputs": [],
   "source": [
    "print(ref_unterseer_2016_elite_vcf)\n",
    "print(len(ref_unterseer_2016_elite_vcf))\n",
    "print(ref_unterseer_2016_landraces_vcf)\n",
    "print(len(ref_unterseer_2016_landraces_vcf))"
   ]
  },
  {
   "cell_type": "code",
   "execution_count": null,
   "id": "a9ed77a5",
   "metadata": {},
   "outputs": [],
   "source": [
    "#compare the columns between Unterseer elite & landrace files\n",
    "np.array_equal(ref_unterseer_2016_elite_vcf,ref_unterseer_2016_landraces_vcf)"
   ]
  },
  {
   "cell_type": "markdown",
   "id": "ea5e743a",
   "metadata": {},
   "source": [
    "### *Get alternative allele column*"
   ]
  },
  {
   "cell_type": "code",
   "execution_count": null,
   "id": "5d00bc17",
   "metadata": {},
   "outputs": [],
   "source": [
    "alt_unterseer_2016_elite_vcf=unterseer_2016_elite_vcf[\"variants/ALT\"]\n",
    "alt_unterseer_2016_landraces_vcf=unterseer_2016_landraces_vcf[\"variants/ALT\"]"
   ]
  },
  {
   "cell_type": "code",
   "execution_count": null,
   "id": "3eb46b32",
   "metadata": {},
   "outputs": [],
   "source": [
    "print(alt_unterseer_2016_elite_vcf)\n",
    "print(len(alt_unterseer_2016_elite_vcf))\n",
    "print(alt_unterseer_2016_landraces_vcf)\n",
    "print(len(alt_unterseer_2016_landraces_vcf))"
   ]
  },
  {
   "cell_type": "code",
   "execution_count": null,
   "id": "7288e490",
   "metadata": {},
   "outputs": [],
   "source": [
    "#compare the columns between Unterseer elite & landrace files\n",
    "np.array_equal(alt_unterseer_2016_elite_vcf,alt_unterseer_2016_landraces_vcf)"
   ]
  },
  {
   "cell_type": "markdown",
   "id": "29ad5c4d",
   "metadata": {},
   "source": [
    "### *Get the IDs*"
   ]
  },
  {
   "cell_type": "code",
   "execution_count": null,
   "id": "71b086b5",
   "metadata": {},
   "outputs": [],
   "source": [
    "id_unterseer_2016_elite_vcf=unterseer_2016_elite_vcf[\"variants/ID\"]\n",
    "id_unterseer_2016_landraces_vcf=unterseer_2016_landraces_vcf[\"variants/ID\"]"
   ]
  },
  {
   "cell_type": "code",
   "execution_count": null,
   "id": "4a15e1c2",
   "metadata": {},
   "outputs": [],
   "source": [
    "print(id_unterseer_2016_elite_vcf)\n",
    "print(len(id_unterseer_2016_elite_vcf))\n",
    "print(id_unterseer_2016_landraces_vcf)\n",
    "print(len(id_unterseer_2016_landraces_vcf))"
   ]
  },
  {
   "cell_type": "code",
   "execution_count": null,
   "id": "12323f82",
   "metadata": {},
   "outputs": [],
   "source": [
    "np.array_equal(id_unterseer_2016_elite_vcf,id_unterseer_2016_landraces_vcf)"
   ]
  },
  {
   "cell_type": "markdown",
   "id": "5645f85e",
   "metadata": {},
   "source": [
    "## **Make the comparisons between .vcf and .hmp.txt**"
   ]
  },
  {
   "cell_type": "markdown",
   "id": "6257e94e",
   "metadata": {},
   "source": [
    "### *Get the hapmap columns*"
   ]
  },
  {
   "cell_type": "code",
   "execution_count": null,
   "id": "7dbff87f",
   "metadata": {},
   "outputs": [],
   "source": [
    "#get the hapmap columns \n",
    "print(unterseer_2016_elite_hapmap.columns)\n",
    "print(unterseer_2016_landraces_hapmap.columns)"
   ]
  },
  {
   "cell_type": "markdown",
   "id": "9335673b",
   "metadata": {},
   "source": [
    "### *Get the IDs*"
   ]
  },
  {
   "cell_type": "code",
   "execution_count": null,
   "id": "6e12f0f0",
   "metadata": {},
   "outputs": [],
   "source": [
    "print(unterseer_2016_elite_hapmap[\"rs#\"])\n",
    "print(len(unterseer_2016_elite_hapmap[\"rs#\"]))\n",
    "print(unterseer_2016_landraces_hapmap[\"rs#\"])\n",
    "print(len(unterseer_2016_landraces_hapmap[\"rs#\"]))"
   ]
  },
  {
   "cell_type": "markdown",
   "id": "b63aa54c",
   "metadata": {},
   "source": [
    "### *Get the positions*"
   ]
  },
  {
   "cell_type": "code",
   "execution_count": null,
   "id": "253f32cc",
   "metadata": {},
   "outputs": [],
   "source": [
    "print(unterseer_2016_elite_hapmap[\"pos\"])\n",
    "print(len(unterseer_2016_elite_hapmap[\"pos\"]))\n",
    "print(unterseer_2016_landraces_hapmap[\"pos\"])\n",
    "print(len(unterseer_2016_landraces_hapmap[\"pos\"]))"
   ]
  },
  {
   "cell_type": "code",
   "execution_count": null,
   "id": "b743e682",
   "metadata": {},
   "outputs": [],
   "source": [
    "#compare the positions between the hapmap files\n",
    "np.array_equal(np.array(unterseer_2016_elite_hapmap[\"pos\"]),np.array(unterseer_2016_landraces_hapmap[\"pos\"]))"
   ]
  },
  {
   "cell_type": "code",
   "execution_count": null,
   "id": "a96798fd",
   "metadata": {},
   "outputs": [],
   "source": [
    "#compare the positions between the elite vcf file and the hapmap file \n",
    "np.array_equal(pos_unterseer_2016_elite_vcf,np.array(unterseer_2016_elite_hapmap[\"pos\"]))"
   ]
  },
  {
   "cell_type": "code",
   "execution_count": null,
   "id": "cfe39404",
   "metadata": {},
   "outputs": [],
   "source": [
    "#compare the positions between the landraces vcf file and the hapmap file\n",
    "np.array_equal(pos_unterseer_2016_landraces_vcf,np.array(unterseer_2016_landraces_hapmap[\"pos\"]))"
   ]
  },
  {
   "cell_type": "markdown",
   "id": "1837d89a",
   "metadata": {},
   "source": [
    "### *Get the ID columns*"
   ]
  },
  {
   "cell_type": "code",
   "execution_count": null,
   "id": "0ff44bb6",
   "metadata": {},
   "outputs": [],
   "source": [
    "print(unterseer_2016_elite_hapmap[\"alleles\"])\n",
    "print(len(unterseer_2016_elite_hapmap[\"alleles\"]))\n",
    "print(unterseer_2016_landraces_hapmap[\"alleles\"])\n",
    "print(len(unterseer_2016_landraces_hapmap[\"alleles\"]))"
   ]
  },
  {
   "cell_type": "code",
   "execution_count": null,
   "id": "a03ea521",
   "metadata": {},
   "outputs": [],
   "source": [
    "unterseer_2016_landraces_hapmap[\"alleles\"].str.split(pat=\"/\")"
   ]
  },
  {
   "cell_type": "code",
   "execution_count": null,
   "id": "766e452f",
   "metadata": {},
   "outputs": [],
   "source": [
    "unterseer_2016_elite_hapmap[\"alleles\"].str.split(pat=\"/\")"
   ]
  },
  {
   "cell_type": "markdown",
   "id": "b1b9d855",
   "metadata": {},
   "source": [
    "## **Check suspicios row (last row) of the unterseer_2016_elite_hapmap**"
   ]
  },
  {
   "cell_type": "markdown",
   "id": "a39f917d",
   "metadata": {},
   "source": [
    "### *Check suspicios row (last row) of the unterseer_2016_elite_hapmap*"
   ]
  },
  {
   "cell_type": "markdown",
   "id": "c07c0a49",
   "metadata": {},
   "source": [
    "* why does the last line of the hapmap elite file just contain A in the allel colum?"
   ]
  },
  {
   "cell_type": "code",
   "execution_count": null,
   "id": "753df1fd",
   "metadata": {},
   "outputs": [],
   "source": [
    "only_IUPAC_calls_unterseer_2016_landraces=unterseer_2016_landraces_hapmap.iloc[:,16:]\n",
    "only_IUPAC_calls_unterseer_2016_landraces"
   ]
  },
  {
   "cell_type": "code",
   "execution_count": null,
   "id": "13dba266",
   "metadata": {},
   "outputs": [],
   "source": [
    "last_row_unterseer_2016=only_IUPAC_calls_unterseer_2016_landraces[615883:]"
   ]
  },
  {
   "cell_type": "code",
   "execution_count": null,
   "id": "643c7062",
   "metadata": {},
   "outputs": [],
   "source": [
    "last_row_unterseer_2016_numpy=last_row_unterseer_2016.to_numpy().flatten()"
   ]
  },
  {
   "cell_type": "code",
   "execution_count": null,
   "id": "4e16545f",
   "metadata": {},
   "outputs": [],
   "source": [
    "pd.unique(last_row_unterseer_2016_numpy) #N = any base, A = Adenine and R= Adenine/Guanine so fine "
   ]
  }
 ],
 "metadata": {
  "kernelspec": {
   "display_name": "Python 3",
   "language": "python",
   "name": "python3"
  },
  "language_info": {
   "codemirror_mode": {
    "name": "ipython",
    "version": 3
   },
   "file_extension": ".py",
   "mimetype": "text/x-python",
   "name": "python",
   "nbconvert_exporter": "python",
   "pygments_lexer": "ipython3",
   "version": "3.7.9"
  }
 },
 "nbformat": 4,
 "nbformat_minor": 5
}
