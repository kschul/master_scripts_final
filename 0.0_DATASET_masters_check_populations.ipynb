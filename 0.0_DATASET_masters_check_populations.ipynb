{
 "cells": [
  {
   "cell_type": "markdown",
   "id": "5cf24515",
   "metadata": {},
   "source": [
    "## **0.0_DATASET_masters_check_populations**"
   ]
  },
  {
   "cell_type": "markdown",
   "id": "fe73b559",
   "metadata": {},
   "source": [
    "### GOALS of this script:\n",
    "* check the populations contained in the data files\n",
    "* check numbers and assignment of the samples to the populations\n",
    "* all markers in the Unterseer vcf files only have one alt allele\n",
    "* the variants/FILTER_PASS column has no meaning \n",
    "* strand column in the hapmap file has no meaning\n",
    "* the variants/LID and variants/ID columns contain the same thing \n",
    "* the variants/VRT and variants/is_snp columns contain the same thing \n",
    "* checked if read_vcf() and vcf_to_dataframe() create the same dataframe"
   ]
  },
  {
   "cell_type": "markdown",
   "id": "94882752",
   "metadata": {},
   "source": [
    "### *Import packages*"
   ]
  },
  {
   "cell_type": "code",
   "execution_count": null,
   "id": "7372d53f",
   "metadata": {},
   "outputs": [],
   "source": [
    "import numpy as np\n",
    "import seaborn as sns\n",
    "sns.set_style('white')\n",
    "sns.set_style('ticks')\n",
    "import pandas as pd\n",
    "import matplotlib.pyplot as plt\n",
    "%matplotlib inline\n",
    "import allel\n",
    "import random\n",
    "import h5py\n",
    "import bcolz\n",
    "import csv\n",
    "from itertools import chain\n",
    "import os\n",
    "import re\n",
    "from collections import Counter\n",
    "from matplotlib.patches import Patch\n",
    "from matplotlib.lines import Line2D\n",
    "from matplotlib.legend_handler import HandlerLine2D"
   ]
  },
  {
   "cell_type": "code",
   "execution_count": null,
   "id": "2b06919c",
   "metadata": {},
   "outputs": [],
   "source": [
    "xxxx"
   ]
  },
  {
   "cell_type": "markdown",
   "id": "572cce09",
   "metadata": {},
   "source": [
    "### *Check the lines in Unterseer_2016_landraces*"
   ]
  },
  {
   "cell_type": "markdown",
   "id": "140c853f",
   "metadata": {},
   "source": [
    "#### *Read in hapmap file*"
   ]
  },
  {
   "cell_type": "code",
   "execution_count": null,
   "id": "cd76f695",
   "metadata": {},
   "outputs": [],
   "source": [
    "unterseer_2016_landraces_hapmap=pd.read_csv(\"/Users/kschul38/Documents/tsinfer-project/data/2_processed/europe_maize_dataset_600k/unterseer_2016_landraces_hapmap.hmp.txt\",sep=\"\\t\")\n",
    "unterseer_2016_landraces_hapmap"
   ]
  },
  {
   "cell_type": "markdown",
   "id": "f6f3000a",
   "metadata": {},
   "source": [
    "**Check the number of samples**"
   ]
  },
  {
   "cell_type": "code",
   "execution_count": null,
   "id": "c1b97e90",
   "metadata": {},
   "outputs": [],
   "source": [
    "#get the samples in the hapmap\n",
    "unterseer_2016_landraces_hapmap_columns=list(unterseer_2016_landraces_hapmap.columns)\n",
    "unterseer_2016_landraces_hapmap_columns=unterseer_2016_landraces_hapmap_columns[11:]\n",
    "#unterseer_2016_landraces_hapmap_columns\n",
    "print(len(unterseer_2016_landraces_hapmap_columns))"
   ]
  },
  {
   "cell_type": "markdown",
   "id": "d1211c79",
   "metadata": {},
   "source": [
    "**Check the assignment to the populations**"
   ]
  },
  {
   "cell_type": "code",
   "execution_count": null,
   "id": "53547c41",
   "metadata": {
    "scrolled": true
   },
   "outputs": [],
   "source": [
    "#unterseer_2016_landraces_hapmap_columns"
   ]
  },
  {
   "cell_type": "code",
   "execution_count": null,
   "id": "c6e5f7ad",
   "metadata": {},
   "outputs": [],
   "source": [
    "#Counter([elem.split(\".\", 1)[0] for elem in unterseer_2016_landraces_hapmap_columns])"
   ]
  },
  {
   "cell_type": "markdown",
   "id": "09a363e6",
   "metadata": {},
   "source": [
    "#### *Read in vcf file*"
   ]
  },
  {
   "cell_type": "code",
   "execution_count": null,
   "id": "10dd1c5e",
   "metadata": {},
   "outputs": [],
   "source": [
    "unterseer_2016_landraces_vcf= allel.read_vcf('/Users/kschul38/Documents/tsinfer-project/data/1_raw/5_Unterseer_2016/TUM-PLANTBREEDING_Maize600k_landraces.vcf', fields='*')"
   ]
  },
  {
   "cell_type": "code",
   "execution_count": null,
   "id": "e20844e2",
   "metadata": {},
   "outputs": [],
   "source": [
    "sorted(unterseer_2016_landraces_vcf.keys())"
   ]
  },
  {
   "cell_type": "code",
   "execution_count": null,
   "id": "d21921f8",
   "metadata": {},
   "outputs": [],
   "source": [
    "Counter(unterseer_2016_landraces_vcf['variants/is_snp'])"
   ]
  },
  {
   "cell_type": "code",
   "execution_count": null,
   "id": "f80f0892",
   "metadata": {},
   "outputs": [],
   "source": [
    "Counter(unterseer_2016_landraces_vcf['variants/VRT']==unterseer_2016_landraces_vcf['variants/is_snp'])"
   ]
  },
  {
   "cell_type": "code",
   "execution_count": null,
   "id": "615d5cf9",
   "metadata": {},
   "outputs": [],
   "source": [
    "Counter(unterseer_2016_landraces_vcf['variants/LID']==unterseer_2016_landraces_vcf['variants/ID'])"
   ]
  },
  {
   "cell_type": "code",
   "execution_count": null,
   "id": "2ac6d445",
   "metadata": {},
   "outputs": [],
   "source": [
    "Counter(unterseer_2016_landraces_vcf['variants/numalt'])"
   ]
  },
  {
   "cell_type": "code",
   "execution_count": null,
   "id": "d3b8c410",
   "metadata": {},
   "outputs": [],
   "source": [
    "Counter(unterseer_2016_landraces_vcf['variants/FILTER_PASS'])"
   ]
  },
  {
   "cell_type": "code",
   "execution_count": null,
   "id": "393136d4",
   "metadata": {},
   "outputs": [],
   "source": [
    "#unterseer_2016_landraces_vcf['variants/QUAL']"
   ]
  },
  {
   "cell_type": "markdown",
   "id": "71918bb1",
   "metadata": {},
   "source": [
    "**Check the number of samples**"
   ]
  },
  {
   "cell_type": "code",
   "execution_count": null,
   "id": "4a12641c",
   "metadata": {},
   "outputs": [],
   "source": [
    "#get the samples in the .vcf\n",
    "unterseer_2016_landraces_vcf_samples= unterseer_2016_landraces_vcf[\"samples\"]\n",
    "print(len(unterseer_2016_landraces_vcf_samples))"
   ]
  },
  {
   "cell_type": "markdown",
   "id": "2c7b55e2",
   "metadata": {},
   "source": [
    "**Check the assignment to the populations**"
   ]
  },
  {
   "cell_type": "code",
   "execution_count": null,
   "id": "3370fe2d",
   "metadata": {},
   "outputs": [],
   "source": [
    "#Counter([elem.split(\".\", 1)[0] for elem in unterseer_2016_landraces_vcf])"
   ]
  },
  {
   "cell_type": "markdown",
   "id": "b187e284",
   "metadata": {},
   "source": [
    "### *Check the lines in Unterseer_2016_elite lines*"
   ]
  },
  {
   "cell_type": "code",
   "execution_count": null,
   "id": "e6e92c08",
   "metadata": {},
   "outputs": [],
   "source": [
    "unterseer_2016_elite_hapmap=pd.read_csv(\"/Users/kschul38/Documents/tsinfer-project/data/2_processed/europe_maize_dataset_600k/unterseer_2016_elite_hapmap.hmp.txt\",sep=\"\\t\")\n",
    "unterseer_2016_elite_hapmap"
   ]
  },
  {
   "cell_type": "markdown",
   "id": "48bb119a",
   "metadata": {},
   "source": [
    "**Check the number of samples**"
   ]
  },
  {
   "cell_type": "code",
   "execution_count": null,
   "id": "cf43dcc4",
   "metadata": {},
   "outputs": [],
   "source": [
    "#get the samples in the .vcf\n",
    "unterseer_2016_elite_hapmap_columns=list(unterseer_2016_elite_hapmap.columns)\n",
    "unterseer_2016_elite_hapmap_columns=unterseer_2016_elite_hapmap_columns[11:]\n",
    "#unterseer_2016_elite_hapmap_columns\n",
    "print(len(unterseer_2016_elite_hapmap_columns))"
   ]
  },
  {
   "cell_type": "code",
   "execution_count": null,
   "id": "4f48e549",
   "metadata": {},
   "outputs": [],
   "source": [
    "#unterseer_2016_elite_hapmap_columns"
   ]
  },
  {
   "cell_type": "markdown",
   "id": "6c078648",
   "metadata": {},
   "source": [
    "#### *Read in vcf file*"
   ]
  },
  {
   "cell_type": "code",
   "execution_count": null,
   "id": "b6117215",
   "metadata": {},
   "outputs": [],
   "source": [
    "unterseer_2016_elite_vcf= allel.read_vcf('/Users/kschul38/Documents/tsinfer-project/data/1_raw/5_Unterseer_2016/TUM-PLANTBREEDING_Maize600k_elitelines.vcf',fields='*')"
   ]
  },
  {
   "cell_type": "code",
   "execution_count": null,
   "id": "0325340e",
   "metadata": {},
   "outputs": [],
   "source": [
    "sorted(unterseer_2016_elite_vcf.keys())"
   ]
  },
  {
   "cell_type": "code",
   "execution_count": null,
   "id": "70bd1642",
   "metadata": {},
   "outputs": [],
   "source": [
    "Counter(unterseer_2016_elite_vcf['variants/VRT']==unterseer_2016_elite_vcf['variants/is_snp'])"
   ]
  },
  {
   "cell_type": "code",
   "execution_count": null,
   "id": "39e0af93",
   "metadata": {},
   "outputs": [],
   "source": [
    "Counter(unterseer_2016_elite_vcf['variants/LID']==unterseer_2016_elite_vcf['variants/ID'])"
   ]
  },
  {
   "cell_type": "code",
   "execution_count": null,
   "id": "b5656c9e",
   "metadata": {},
   "outputs": [],
   "source": [
    "Counter(unterseer_2016_elite_vcf['variants/numalt'])"
   ]
  },
  {
   "cell_type": "code",
   "execution_count": null,
   "id": "981c4cc0",
   "metadata": {},
   "outputs": [],
   "source": [
    "Counter(unterseer_2016_elite_vcf['variants/FILTER_PASS'])"
   ]
  },
  {
   "cell_type": "markdown",
   "id": "0cb151d9",
   "metadata": {},
   "source": [
    "**Check the number of samples**"
   ]
  },
  {
   "cell_type": "code",
   "execution_count": null,
   "id": "a7da7b21",
   "metadata": {},
   "outputs": [],
   "source": [
    "#get the samples in the .vcf\n",
    "unterseer_2016_elite_vcf_samples= unterseer_2016_elite_vcf[\"samples\"]\n",
    "print(len(unterseer_2016_elite_vcf_samples))"
   ]
  },
  {
   "cell_type": "code",
   "execution_count": null,
   "id": "8b35240b",
   "metadata": {},
   "outputs": [],
   "source": [
    "#unterseer_2016_elite_vcf"
   ]
  },
  {
   "cell_type": "markdown",
   "id": "a21acb63",
   "metadata": {},
   "source": [
    "### *Check the lines in Mayer_2017_landraces*"
   ]
  },
  {
   "cell_type": "code",
   "execution_count": null,
   "id": "df48bdad",
   "metadata": {},
   "outputs": [],
   "source": [
    "#read in the .txt file from the /data/1_raw/4_Mayer_2017 folder \n",
    "mayer_2017_landraces=pd.read_csv('/Users/kschul38/Documents/tsinfer-project/data/1_raw/4_Mayer_2017/TUM-PLANTBREEDING_Maize600k_35landraces_952individuals_raw.txt', sep=\" \")\n",
    "mayer_2017_landraces=mayer_2017_landraces.reset_index()\n",
    "mayer_2017_landraces\n",
    "#markers already used as row names "
   ]
  },
  {
   "cell_type": "markdown",
   "id": "b4e83b1d",
   "metadata": {},
   "source": [
    "**Check the number of samples**"
   ]
  },
  {
   "cell_type": "code",
   "execution_count": null,
   "id": "b08b60b9",
   "metadata": {},
   "outputs": [],
   "source": [
    "##get the samples in the hapmap\n",
    "mayer_2017_landraces_columns=list(mayer_2017_landraces.columns)\n",
    "mayer_2017_landraces_columns=mayer_2017_landraces_columns[6:]\n",
    "#mayer_2017_landraces_columns\n",
    "print(len(mayer_2017_landraces_columns))"
   ]
  },
  {
   "cell_type": "markdown",
   "id": "4f78bc34",
   "metadata": {},
   "source": [
    "**Check the assignment to the populations**"
   ]
  },
  {
   "cell_type": "code",
   "execution_count": null,
   "id": "a3f00294",
   "metadata": {},
   "outputs": [],
   "source": [
    "#Counter([elem.split(\".\", 1)[0] for elem in mayer_2017_landraces_columns])"
   ]
  },
  {
   "cell_type": "markdown",
   "id": "f42564f8",
   "metadata": {},
   "source": [
    "### *Check the lines in Mayer_2020_dhlines*"
   ]
  },
  {
   "cell_type": "code",
   "execution_count": null,
   "id": "6fb88098",
   "metadata": {},
   "outputs": [],
   "source": [
    "#read in the .txt file from the /data/1_raw/4_Mayer_2017 folder \n",
    "mayer_2020_dhlines=pd.read_csv('/Users/kschul38/Documents/tsinfer-project/data/1_raw/3_Mayer_2020/Mayer_et_al_genotypes_DHlines_600k_raw.txt.gz', sep=\" \")\n",
    "#markers already used as row names "
   ]
  },
  {
   "cell_type": "code",
   "execution_count": null,
   "id": "5953467e",
   "metadata": {},
   "outputs": [],
   "source": [
    "mayer_2020_dhlines"
   ]
  },
  {
   "cell_type": "markdown",
   "id": "99359809",
   "metadata": {},
   "source": [
    "**Check the number of samples**"
   ]
  },
  {
   "cell_type": "code",
   "execution_count": null,
   "id": "3372eb41",
   "metadata": {},
   "outputs": [],
   "source": [
    "##get the samples in the hapmap\n",
    "mayer_2020_dhlines_columns=list(mayer_2020_dhlines.columns)\n",
    "mayer_2020_dhlines_columns=mayer_2020_dhlines_columns[4:]\n",
    "#mayer_2020_dhlines_columns\n",
    "print(len(mayer_2020_dhlines_columns))"
   ]
  },
  {
   "cell_type": "markdown",
   "id": "439603bb",
   "metadata": {},
   "source": [
    "**Check the assignment to the populations**"
   ]
  },
  {
   "cell_type": "code",
   "execution_count": null,
   "id": "cddc328a",
   "metadata": {},
   "outputs": [],
   "source": [
    "pattern = '[0-9]'\n",
    "Counter([re.sub(pattern, '', i) for i in mayer_2020_dhlines_columns])"
   ]
  },
  {
   "cell_type": "markdown",
   "id": "989084f4",
   "metadata": {},
   "source": [
    "### *Check the strand in Unterseer Hapmap*"
   ]
  },
  {
   "cell_type": "code",
   "execution_count": null,
   "id": "7d88d77b",
   "metadata": {},
   "outputs": [],
   "source": [
    "Counter(unterseer_2016_landraces_hapmap[\"strand\"])"
   ]
  },
  {
   "cell_type": "code",
   "execution_count": null,
   "id": "eaf7b3a9",
   "metadata": {},
   "outputs": [],
   "source": [
    "Counter(unterseer_2016_elite_hapmap[\"strand\"])"
   ]
  },
  {
   "cell_type": "markdown",
   "id": "0052121d",
   "metadata": {},
   "source": [
    "### *Check if read_vcf and vcf_to_dataframe create the same dataframe*"
   ]
  },
  {
   "cell_type": "markdown",
   "id": "7a269ab4",
   "metadata": {},
   "source": [
    "**Unterseer_landraces**"
   ]
  },
  {
   "cell_type": "code",
   "execution_count": null,
   "id": "045127fb",
   "metadata": {},
   "outputs": [],
   "source": [
    "unterseer_landraces_dataframe = allel.vcf_to_dataframe('/Users/kschul38/Documents/tsinfer-project/data/1_raw/5_Unterseer_2016/TUM-PLANTBREEDING_Maize600k_landraces.vcf', fields= ['variants/ID','variants/AD', 'variants/CMT'])\n",
    "unterseer_landraces_dataframe = unterseer_landraces_dataframe.reset_index(drop=True)"
   ]
  },
  {
   "cell_type": "code",
   "execution_count": null,
   "id": "8ce16ac7",
   "metadata": {},
   "outputs": [],
   "source": [
    "unterseer_2016_landraces_vcf_dataframe = unterseer_landraces_dataframe.rename(columns={\"AD\": \"variants/AD_2016_landraces\",\"CMT\": \"variants/CMT_2016_landraces\", \"ID\": \"rs#_2016_landraces\" })"
   ]
  },
  {
   "cell_type": "code",
   "execution_count": null,
   "id": "2abd6224",
   "metadata": {},
   "outputs": [],
   "source": [
    "unterseer_2016_landraces_vcf_dataframe"
   ]
  },
  {
   "cell_type": "code",
   "execution_count": null,
   "id": "446faa81",
   "metadata": {},
   "outputs": [],
   "source": [
    "unterseer_2016_landraces_vcf_3= allel.read_vcf('/Users/kschul38/Documents/tsinfer-project/data/1_raw/5_Unterseer_2016/TUM-PLANTBREEDING_Maize600k_landraces.vcf',fields=['variants/ID','variants/AD', 'variants/CMT'])"
   ]
  },
  {
   "cell_type": "code",
   "execution_count": null,
   "id": "c1335ae0",
   "metadata": {},
   "outputs": [],
   "source": [
    "unterseer_2016_landraces_vcf_file = pd.DataFrame(data=unterseer_2016_landraces_vcf_3)\n",
    "#unterseer_2016_landraces_vcf = unterseer_2016_landraces_vcf.set_index(\"variants/ID\")\n",
    "unterseer_2016_landraces_vcf_file = unterseer_2016_landraces_vcf_file.rename(columns={\"variants/AD\": \"variants/AD_2016_landraces\",\"variants/CMT\": \"variants/CMT_2016_landraces\", \"variants/ID\": \"rs#_2016_landraces\" })"
   ]
  },
  {
   "cell_type": "code",
   "execution_count": null,
   "id": "3392b8da",
   "metadata": {},
   "outputs": [],
   "source": [
    "unterseer_2016_landraces_vcf_file=unterseer_2016_landraces_vcf_file[['rs#_2016_landraces','variants/AD_2016_landraces','variants/CMT_2016_landraces']]"
   ]
  },
  {
   "cell_type": "code",
   "execution_count": null,
   "id": "e3b283cf",
   "metadata": {},
   "outputs": [],
   "source": [
    "unterseer_2016_landraces_vcf_file.equals(unterseer_2016_landraces_vcf_dataframe)"
   ]
  },
  {
   "cell_type": "markdown",
   "id": "e1c9c395",
   "metadata": {},
   "source": [
    "**Unterseer_elite**"
   ]
  },
  {
   "cell_type": "code",
   "execution_count": null,
   "id": "f9e31c03",
   "metadata": {},
   "outputs": [],
   "source": [
    "unterseer_elite_dataframe = allel.vcf_to_dataframe('/Users/kschul38/Documents/tsinfer-project/data/1_raw/5_Unterseer_2016/TUM-PLANTBREEDING_Maize600k_elitelines.vcf',fields=['variants/ID','variants/AD', 'variants/CMT'])\n",
    "unterseer_elite_dataframe = unterseer_elite_dataframe.reset_index(drop=True)"
   ]
  },
  {
   "cell_type": "code",
   "execution_count": null,
   "id": "568865d5",
   "metadata": {},
   "outputs": [],
   "source": [
    "unterseer_2016_elite_vcf_dataframe = unterseer_elite_dataframe.rename(columns={\"AD\": \"variants/AD_2016_elite\",\"CMT\": \"variants/CMT_2016_elite\", \"ID\": \"rs#_2016_elite\"})"
   ]
  },
  {
   "cell_type": "code",
   "execution_count": null,
   "id": "6af00c59",
   "metadata": {},
   "outputs": [],
   "source": [
    "unterseer_2016_elite_vcf_dataframe"
   ]
  },
  {
   "cell_type": "code",
   "execution_count": null,
   "id": "1e851080",
   "metadata": {},
   "outputs": [],
   "source": [
    "unterseer_2016_elite_vcf_3= allel.read_vcf('/Users/kschul38/Documents/tsinfer-project/data/1_raw/5_Unterseer_2016/TUM-PLANTBREEDING_Maize600k_elitelines.vcf',fields=['variants/ID','variants/AD', 'variants/CMT'])"
   ]
  },
  {
   "cell_type": "code",
   "execution_count": null,
   "id": "29a9ece3",
   "metadata": {},
   "outputs": [],
   "source": [
    "unterseer_2016_elite_vcf_file = pd.DataFrame(data=unterseer_2016_elite_vcf_3)\n",
    "#unterseer_2016_elite_vcf = unterseer_2016_elite_vcf.set_index(\"variants/ID\")\n",
    "unterseer_2016_elite_vcf_file = unterseer_2016_elite_vcf_file.rename(columns={\"variants/AD\": \"variants/AD_2016_elite\",\"variants/CMT\": \"variants/CMT_2016_elite\", \"variants/ID\": \"rs#_2016_elite\"})"
   ]
  },
  {
   "cell_type": "code",
   "execution_count": null,
   "id": "8c96e65a",
   "metadata": {},
   "outputs": [],
   "source": [
    "unterseer_2016_elite_vcf_file = unterseer_2016_elite_vcf_file[['rs#_2016_elite','variants/AD_2016_elite','variants/CMT_2016_elite']]"
   ]
  },
  {
   "cell_type": "code",
   "execution_count": null,
   "id": "92e7de98",
   "metadata": {},
   "outputs": [],
   "source": [
    "unterseer_2016_elite_vcf_file"
   ]
  },
  {
   "cell_type": "code",
   "execution_count": null,
   "id": "2b8ec440",
   "metadata": {},
   "outputs": [],
   "source": [
    "unterseer_2016_elite_vcf_file.equals(unterseer_2016_elite_vcf_dataframe)"
   ]
  },
  {
   "cell_type": "code",
   "execution_count": null,
   "id": "72ed1201",
   "metadata": {},
   "outputs": [],
   "source": [
    "xxxxx"
   ]
  },
  {
   "cell_type": "markdown",
   "id": "4d26a298",
   "metadata": {},
   "source": [
    "###  *Check if final_columns_xxx.csv & final_columns_xxx_for_masters.csv are the same*"
   ]
  },
  {
   "cell_type": "markdown",
   "id": "aa8c9d1d",
   "metadata": {},
   "source": [
    "**final_columns_xxx.csv**"
   ]
  },
  {
   "cell_type": "code",
   "execution_count": null,
   "id": "5fe7e9ec",
   "metadata": {},
   "outputs": [],
   "source": [
    "final_columns_unterseer_2016_elite=pd.read_csv('/Users/kschul38/Documents/tsinfer-project/data/2_processed/europe_maize_dataset_600k/final_columns_unterseer_2016_elite.csv', sep=\"\\t\")"
   ]
  },
  {
   "cell_type": "code",
   "execution_count": null,
   "id": "7ca28cd2",
   "metadata": {},
   "outputs": [],
   "source": [
    "final_columns_unterseer_2016_landraces=pd.read_csv('/Users/kschul38/Documents/tsinfer-project/data/2_processed/europe_maize_dataset_600k/final_columns_unterseer_2016_landraces.csv', sep=\"\\t\")"
   ]
  },
  {
   "cell_type": "code",
   "execution_count": null,
   "id": "22f5b9d0",
   "metadata": {},
   "outputs": [],
   "source": [
    "final_columns_mayer_2017_landraces=pd.read_csv('/Users/kschul38/Documents/tsinfer-project/data/2_processed/europe_maize_dataset_600k/final_columns_mayer_2017_landraces.csv', sep=\"\\t\")"
   ]
  },
  {
   "cell_type": "code",
   "execution_count": null,
   "id": "13f7f5fe",
   "metadata": {},
   "outputs": [],
   "source": [
    "final_columns_mayer_2020_dhlines=pd.read_csv('/Users/kschul38/Documents/tsinfer-project/data/2_processed/europe_maize_dataset_600k/final_columns_mayer_2020_dhlines.csv', sep=\"\\t\")"
   ]
  },
  {
   "cell_type": "markdown",
   "id": "58dd97d2",
   "metadata": {},
   "source": [
    "**final_columns_xxx_for_masters.csv**"
   ]
  },
  {
   "cell_type": "code",
   "execution_count": null,
   "id": "acb80ca4",
   "metadata": {},
   "outputs": [],
   "source": [
    "final_columns_unterseer_2016_elite_for_masters=pd.read_csv('final_columns_unterseer_2016_elite_for_masters.csv', sep=\"\\t\")"
   ]
  },
  {
   "cell_type": "code",
   "execution_count": null,
   "id": "fef21dbf",
   "metadata": {},
   "outputs": [],
   "source": [
    "final_columns_unterseer_2016_landraces_for_masters=pd.read_csv('final_columns_unterseer_2016_landraces_for_masters.csv', sep=\"\\t\")"
   ]
  },
  {
   "cell_type": "code",
   "execution_count": null,
   "id": "6fee9a86",
   "metadata": {},
   "outputs": [],
   "source": [
    "final_columns_mayer_2017_landraces_for_masters=pd.read_csv('final_columns_mayer_2017_landraces_for_masters.csv', sep=\"\\t\")"
   ]
  },
  {
   "cell_type": "code",
   "execution_count": null,
   "id": "adc74cef",
   "metadata": {},
   "outputs": [],
   "source": [
    "final_columns_mayer_2020_dhlines_for_masters=pd.read_csv('final_columns_mayer_2020_dhlines_for_masters.csv', sep=\"\\t\")"
   ]
  },
  {
   "cell_type": "markdown",
   "id": "175d8f3d",
   "metadata": {},
   "source": [
    "**Compare**"
   ]
  },
  {
   "cell_type": "code",
   "execution_count": null,
   "id": "d7e6ab8e",
   "metadata": {},
   "outputs": [],
   "source": [
    "final_columns_unterseer_2016_elite.equals(final_columns_unterseer_2016_elite_for_masters)"
   ]
  },
  {
   "cell_type": "code",
   "execution_count": null,
   "id": "bcdbe47b",
   "metadata": {},
   "outputs": [],
   "source": [
    "final_columns_unterseer_2016_landraces.equals(final_columns_unterseer_2016_landraces_for_masters)"
   ]
  },
  {
   "cell_type": "code",
   "execution_count": null,
   "id": "cf6dd607",
   "metadata": {},
   "outputs": [],
   "source": [
    "final_columns_mayer_2017_landraces.equals(final_columns_mayer_2017_landraces_for_masters)"
   ]
  },
  {
   "cell_type": "code",
   "execution_count": null,
   "id": "4fc6da74",
   "metadata": {},
   "outputs": [],
   "source": [
    "final_columns_mayer_2020_dhlines.equals(final_columns_mayer_2020_dhlines_for_masters)"
   ]
  },
  {
   "cell_type": "markdown",
   "id": "e20f4730",
   "metadata": {},
   "source": [
    "###  *Check if filtered_xxx.csv & filtered_xxx_for_masters.csv are the same*"
   ]
  },
  {
   "cell_type": "markdown",
   "id": "b098dc0d",
   "metadata": {},
   "source": [
    "**filtered_xxx.csv**"
   ]
  },
  {
   "cell_type": "code",
   "execution_count": null,
   "id": "6af279c6",
   "metadata": {},
   "outputs": [],
   "source": [
    "filtered_unterseer_2016_elite_right_pos=pd.read_csv(\"/Users/kschul38/Documents/tsinfer-project/data/2_processed/europe_maize_dataset_600k/filtered_unterseer_2016_elite.csv\", sep=\"\\t\")"
   ]
  },
  {
   "cell_type": "code",
   "execution_count": null,
   "id": "2d2214e0",
   "metadata": {},
   "outputs": [],
   "source": [
    "filtered_unterseer_2016_landraces_right_pos=pd.read_csv(\"/Users/kschul38/Documents/tsinfer-project/data/2_processed/europe_maize_dataset_600k/filtered_unterseer_2016_landraces.csv\", sep=\"\\t\")"
   ]
  },
  {
   "cell_type": "code",
   "execution_count": null,
   "id": "71e01f67",
   "metadata": {},
   "outputs": [],
   "source": [
    "filtered_mayer_2017_landraces_suffix=pd.read_csv(\"/Users/kschul38/Documents/tsinfer-project/data/2_processed/europe_maize_dataset_600k/filtered_mayer_2017_landraces.csv\",sep=\"\\t\")"
   ]
  },
  {
   "cell_type": "code",
   "execution_count": null,
   "id": "077241b2",
   "metadata": {},
   "outputs": [],
   "source": [
    "filtered_mayer_2020_dhlines_suffix=pd.read_csv(\"/Users/kschul38/Documents/tsinfer-project/data/2_processed/europe_maize_dataset_600k/filtered_mayer_2020_dhlines.csv\",sep=\"\\t\")"
   ]
  },
  {
   "cell_type": "markdown",
   "id": "4aed57bf",
   "metadata": {},
   "source": [
    "**filtered_xxx_for_masters.csv**"
   ]
  },
  {
   "cell_type": "code",
   "execution_count": null,
   "id": "098f02e0",
   "metadata": {},
   "outputs": [],
   "source": [
    "filtered_unterseer_2016_elite_for_masters=pd.read_csv(\"filtered_unterseer_2016_elite_for_masters.csv\",sep=\"\\t\")"
   ]
  },
  {
   "cell_type": "code",
   "execution_count": null,
   "id": "ef1e5d8d",
   "metadata": {},
   "outputs": [],
   "source": [
    "filtered_unterseer_2016_landraces_for_masters=pd.read_csv(\"filtered_unterseer_2016_landraces_for_masters.csv\",sep=\"\\t\")"
   ]
  },
  {
   "cell_type": "code",
   "execution_count": null,
   "id": "cdc348a8",
   "metadata": {},
   "outputs": [],
   "source": [
    "filtered_mayer_2017_landraces_for_masters=pd.read_csv(\"filtered_mayer_2017_landraces_for_masters.csv\",sep=\"\\t\")"
   ]
  },
  {
   "cell_type": "code",
   "execution_count": null,
   "id": "37b177bd",
   "metadata": {},
   "outputs": [],
   "source": [
    "filtered_mayer_2020_dhlines_for_masters=pd.read_csv(\"filtered_mayer_2020_dhlines_for_masters.csv\",sep=\"\\t\")"
   ]
  },
  {
   "cell_type": "markdown",
   "id": "4d339534",
   "metadata": {},
   "source": [
    "**Compare**"
   ]
  },
  {
   "cell_type": "code",
   "execution_count": null,
   "id": "fef6a747",
   "metadata": {},
   "outputs": [],
   "source": [
    "filtered_unterseer_2016_elite_right_pos.equals(filtered_unterseer_2016_elite_for_masters)"
   ]
  },
  {
   "cell_type": "code",
   "execution_count": null,
   "id": "89b13507",
   "metadata": {},
   "outputs": [],
   "source": [
    "filtered_unterseer_2016_landraces_right_pos.equals(filtered_unterseer_2016_landraces_for_masters)"
   ]
  },
  {
   "cell_type": "code",
   "execution_count": null,
   "id": "d042bab0",
   "metadata": {},
   "outputs": [],
   "source": [
    "filtered_mayer_2017_landraces_suffix.equals(filtered_mayer_2017_landraces_for_masters)"
   ]
  },
  {
   "cell_type": "code",
   "execution_count": null,
   "id": "342b3a34",
   "metadata": {},
   "outputs": [],
   "source": [
    "filtered_mayer_2020_dhlines_suffix.equals(filtered_mayer_2020_dhlines_for_masters)"
   ]
  },
  {
   "cell_type": "markdown",
   "id": "86c68fe4",
   "metadata": {},
   "source": [
    "###  *Check if alleles are the same in vcf & array_600k_info*"
   ]
  },
  {
   "cell_type": "markdown",
   "id": "9a3fcad6",
   "metadata": {},
   "source": [
    "**Array 600k info**"
   ]
  },
  {
   "cell_type": "code",
   "execution_count": null,
   "id": "37d86d47",
   "metadata": {},
   "outputs": [],
   "source": [
    "array_600k_info=pd.read_csv(\"/Users/kschul38/Documents/tsinfer-project/data/2_processed/europe_maize_dataset_600k/600k_array_info_header_removed.txt\",sep=\"\\t\")"
   ]
  },
  {
   "cell_type": "code",
   "execution_count": null,
   "id": "415482e9",
   "metadata": {},
   "outputs": [],
   "source": [
    "array_600k_info"
   ]
  },
  {
   "cell_type": "code",
   "execution_count": null,
   "id": "d22a4a24",
   "metadata": {},
   "outputs": [],
   "source": [
    "array_600k_info.loc[array_600k_info['ID'] == \"AX-90525992\"]"
   ]
  },
  {
   "cell_type": "markdown",
   "id": "f1c3552c",
   "metadata": {},
   "source": [
    "**Final vcf file**"
   ]
  },
  {
   "cell_type": "code",
   "execution_count": null,
   "id": "fe49e6d5",
   "metadata": {},
   "outputs": [],
   "source": [
    "callset = allel.vcf_to_dataframe('/Users/kschul38/Documents/tsinfer-project/data/2_processed/europe_maize_dataset_600k/merge_merge_all_chrom_all_edits_with_allel_column_vcf.vcf')"
   ]
  },
  {
   "cell_type": "code",
   "execution_count": null,
   "id": "d30eae4b",
   "metadata": {},
   "outputs": [],
   "source": [
    "#callset"
   ]
  },
  {
   "cell_type": "code",
   "execution_count": null,
   "id": "e0cebfb1",
   "metadata": {},
   "outputs": [],
   "source": [
    "callset.loc[callset['ID'] == \"AX-90525992\"]"
   ]
  },
  {
   "cell_type": "markdown",
   "id": "8e46f275",
   "metadata": {},
   "source": [
    "**One of the input datasets**"
   ]
  },
  {
   "cell_type": "code",
   "execution_count": null,
   "id": "d1bc867e",
   "metadata": {},
   "outputs": [],
   "source": [
    "mayer_2017_landraces.loc[mayer_2017_landraces[\"index\"]==\"AX-90525992\"]"
   ]
  },
  {
   "cell_type": "code",
   "execution_count": null,
   "id": "668ba846",
   "metadata": {},
   "outputs": [],
   "source": [
    "Counter(mayer_2017_landraces.loc[387028])"
   ]
  },
  {
   "cell_type": "markdown",
   "id": "b5f6bb6f",
   "metadata": {},
   "source": [
    "### **Check if is_snp markers were removed**"
   ]
  },
  {
   "cell_type": "markdown",
   "id": "7d37c920",
   "metadata": {},
   "source": [
    "*Unterseer*"
   ]
  },
  {
   "cell_type": "code",
   "execution_count": null,
   "id": "488e505b",
   "metadata": {},
   "outputs": [],
   "source": [
    "unterseer_2016_landraces_vcf_test= allel.vcf_to_dataframe('/Users/kschul38/Documents/tsinfer-project/data/1_raw/5_Unterseer_2016/TUM-PLANTBREEDING_Maize600k_landraces.vcf', fields='*')"
   ]
  },
  {
   "cell_type": "code",
   "execution_count": null,
   "id": "a78d85bc",
   "metadata": {},
   "outputs": [],
   "source": [
    "#unterseer_2016_landraces_vcf_test"
   ]
  },
  {
   "cell_type": "code",
   "execution_count": null,
   "id": "991262e0",
   "metadata": {},
   "outputs": [],
   "source": [
    "is_snp_variants=unterseer_2016_landraces_vcf_test[~unterseer_2016_landraces_vcf['variants/is_snp']]"
   ]
  },
  {
   "cell_type": "code",
   "execution_count": null,
   "id": "5161ed71",
   "metadata": {},
   "outputs": [],
   "source": [
    "#is_snp_variants"
   ]
  },
  {
   "cell_type": "code",
   "execution_count": null,
   "id": "9c21e968",
   "metadata": {},
   "outputs": [],
   "source": [
    "Counter(test[\"is_snp\"])"
   ]
  },
  {
   "cell_type": "code",
   "execution_count": null,
   "id": "0d5fe446",
   "metadata": {},
   "outputs": [],
   "source": [
    "is_snp_variants_AD=is_snp_variants[\"AD\"]"
   ]
  },
  {
   "cell_type": "code",
   "execution_count": null,
   "id": "50942075",
   "metadata": {},
   "outputs": [],
   "source": [
    "#is_snp_variants_AD"
   ]
  },
  {
   "cell_type": "markdown",
   "id": "57f8ee64",
   "metadata": {},
   "source": [
    "*Array 600k info*"
   ]
  },
  {
   "cell_type": "code",
   "execution_count": null,
   "id": "6c71e95a",
   "metadata": {},
   "outputs": [],
   "source": [
    "#get all the genotype-calls from the array.txt\n",
    "genotype_call=array_600k_info[\"alleles_f\"].values.ravel()"
   ]
  },
  {
   "cell_type": "code",
   "execution_count": null,
   "id": "89bbe4e3",
   "metadata": {},
   "outputs": [],
   "source": [
    "#check that number of genotype calls is correct\n",
    "len(genotype_call)"
   ]
  },
  {
   "cell_type": "code",
   "execution_count": null,
   "id": "2f8b8eed",
   "metadata": {},
   "outputs": [],
   "source": [
    "#get a list of all unique calls\n",
    "unique_values_array = pd.unique(genotype_call)"
   ]
  },
  {
   "cell_type": "code",
   "execution_count": null,
   "id": "c13133a1",
   "metadata": {},
   "outputs": [],
   "source": [
    "#unique_values_array"
   ]
  },
  {
   "cell_type": "code",
   "execution_count": null,
   "id": "02be85e2",
   "metadata": {},
   "outputs": [],
   "source": [
    "#look at complete list\n",
    "#unique_values_array"
   ]
  },
  {
   "cell_type": "code",
   "execution_count": null,
   "id": "01c5faf2",
   "metadata": {},
   "outputs": [],
   "source": [
    "#remove the \"typical genotype calls\" - so that just indels remain\n",
    "unique_values_array = np.delete(unique_values_array, [0,1,2,3,4,5])"
   ]
  },
  {
   "cell_type": "code",
   "execution_count": null,
   "id": "e1cc605e",
   "metadata": {},
   "outputs": [],
   "source": [
    "#check that it only contains a-typical genotype calls\n",
    "#unique_values_array"
   ]
  },
  {
   "cell_type": "code",
   "execution_count": null,
   "id": "7c5bbdfd",
   "metadata": {},
   "outputs": [],
   "source": [
    "#create a boolean over the whole allele column, where typical calls == True & atypical calls == False \n",
    "array_marker_filter_table=~array_600k_info[\"alleles_f\"].isin(unique_values_array)"
   ]
  },
  {
   "cell_type": "code",
   "execution_count": null,
   "id": "da9451ad",
   "metadata": {},
   "outputs": [],
   "source": [
    "array_marker_filter_table"
   ]
  },
  {
   "cell_type": "code",
   "execution_count": null,
   "id": "476ee118",
   "metadata": {},
   "outputs": [],
   "source": [
    "#get all marker IDs from the array.txt\n",
    "array_non_typical_genotype_calls_marker=array_600k_info['ID']"
   ]
  },
  {
   "cell_type": "code",
   "execution_count": null,
   "id": "d3a5e988",
   "metadata": {},
   "outputs": [],
   "source": [
    "#list of all marker IDs\n",
    "#array_non_typical_genotype_calls_marker"
   ]
  },
  {
   "cell_type": "code",
   "execution_count": null,
   "id": "d956e086",
   "metadata": {},
   "outputs": [],
   "source": [
    "#convert to array\n",
    "array_non_typical_genotype_calls_marker=array_non_typical_genotype_calls_marker.to_numpy()"
   ]
  },
  {
   "cell_type": "code",
   "execution_count": null,
   "id": "b0bc5011",
   "metadata": {},
   "outputs": [],
   "source": [
    "#array of all marker IDs\n",
    "#array_non_typical_genotype_calls_marker"
   ]
  },
  {
   "cell_type": "code",
   "execution_count": null,
   "id": "a2a47d43",
   "metadata": {},
   "outputs": [],
   "source": [
    "#filter marker array using the inversion of the boolean (TRUE=atypical, FALSE=typical)\n",
    "array_non_typical_genotype_calls_marker=array_non_typical_genotype_calls_marker[~array_marker_filter_table]"
   ]
  },
  {
   "cell_type": "code",
   "execution_count": null,
   "id": "7bc34454",
   "metadata": {},
   "outputs": [],
   "source": [
    "#list of marker IDs that belong to the a-typical genotype calls\n",
    "array_non_typical_genotype_calls_marker"
   ]
  },
  {
   "cell_type": "code",
   "execution_count": null,
   "id": "ec371ecd",
   "metadata": {},
   "outputs": [],
   "source": [
    "#check length array 600k info\n",
    "len(array_non_typical_genotype_calls_marker)"
   ]
  },
  {
   "cell_type": "code",
   "execution_count": null,
   "id": "af86f6f6",
   "metadata": {},
   "outputs": [],
   "source": [
    "#check length unterseer\n",
    "len(is_snp_variants_AD)"
   ]
  },
  {
   "cell_type": "markdown",
   "id": "55f1d366",
   "metadata": {},
   "source": [
    "*Check the intersection*"
   ]
  },
  {
   "cell_type": "code",
   "execution_count": null,
   "id": "dee219d8",
   "metadata": {},
   "outputs": [],
   "source": [
    "len(list(set(array_non_typical_genotype_calls_marker) & set(unterseer_test)))"
   ]
  },
  {
   "cell_type": "code",
   "execution_count": null,
   "id": "3cc13ffe",
   "metadata": {},
   "outputs": [],
   "source": [
    "len(set(array_non_typical_genotype_calls_marker).intersection(unterseer_test))"
   ]
  },
  {
   "cell_type": "code",
   "execution_count": null,
   "id": "39c13f0b",
   "metadata": {},
   "outputs": [],
   "source": [
    "len(np.intersect1d(array_non_typical_genotype_calls_marker,unterseer_test))"
   ]
  },
  {
   "cell_type": "code",
   "execution_count": null,
   "id": "e4fbd653",
   "metadata": {},
   "outputs": [],
   "source": [
    "len(list(set(array_non_typical_genotype_calls_marker) - set(unterseer_test)))"
   ]
  },
  {
   "cell_type": "markdown",
   "id": "7426dd44",
   "metadata": {},
   "source": [
    "### **Check if vcf info columns are the same**"
   ]
  },
  {
   "cell_type": "code",
   "execution_count": null,
   "id": "7b2d7111",
   "metadata": {},
   "outputs": [],
   "source": [
    "callset_new = allel.vcf_to_dataframe('merge_merge_all_chrom_all_edits_with_allel_column_for_masters_vcf.vcf')"
   ]
  },
  {
   "cell_type": "code",
   "execution_count": null,
   "id": "ec91657c",
   "metadata": {},
   "outputs": [],
   "source": [
    "callset_new"
   ]
  },
  {
   "cell_type": "code",
   "execution_count": null,
   "id": "459a39ee",
   "metadata": {},
   "outputs": [],
   "source": [
    "callset_old = allel.vcf_to_dataframe('/Users/kschul38/Documents/tsinfer-project/data/2_processed/europe_maize_dataset_600k/merge_merge_all_chrom_all_edits_with_allel_column_vcf.vcf')"
   ]
  },
  {
   "cell_type": "code",
   "execution_count": null,
   "id": "8c87a4f1",
   "metadata": {},
   "outputs": [],
   "source": [
    "callset_old"
   ]
  },
  {
   "cell_type": "code",
   "execution_count": null,
   "id": "e13e2453",
   "metadata": {},
   "outputs": [],
   "source": [
    "callset_new.equals(callset_old)"
   ]
  },
  {
   "cell_type": "markdown",
   "id": "1cd8c2f1",
   "metadata": {},
   "source": [
    "### **Check if intermediate merge scripts are the same**"
   ]
  },
  {
   "cell_type": "code",
   "execution_count": null,
   "id": "f3d44105",
   "metadata": {},
   "outputs": [],
   "source": [
    "merge_merge_turn_around_new=pd.read_csv(\"merge_merge_all_chromosomes_turn_around_for_masters.hmp.txt\", sep=\"\\t\")"
   ]
  },
  {
   "cell_type": "code",
   "execution_count": null,
   "id": "82988566",
   "metadata": {},
   "outputs": [],
   "source": [
    "merge_merge_turn_around_new_str=merge_merge_turn_around_new.astype(str)"
   ]
  },
  {
   "cell_type": "code",
   "execution_count": null,
   "id": "0c094f1f",
   "metadata": {},
   "outputs": [],
   "source": [
    "merge_merge_turn_around_old=pd.read_csv(\"/Users/kschul38/Documents/tsinfer-project/data/2_processed/europe_maize_dataset_600k/merge_merge_all_chromosomes_turn_around.hmp.txt\", sep=\"\\t\")"
   ]
  },
  {
   "cell_type": "code",
   "execution_count": null,
   "id": "f349a109",
   "metadata": {},
   "outputs": [],
   "source": [
    "merge_merge_turn_around_old_str=merge_merge_turn_around_old.astype(str)"
   ]
  },
  {
   "cell_type": "code",
   "execution_count": null,
   "id": "6cae2116",
   "metadata": {},
   "outputs": [],
   "source": [
    "merge_merge_turn_around_new_str.equals(merge_merge_turn_around_old_str)"
   ]
  },
  {
   "cell_type": "markdown",
   "id": "cf6f9a78",
   "metadata": {},
   "source": [
    "### **Check if the final allele column and the array info allele column are the same**"
   ]
  },
  {
   "cell_type": "code",
   "execution_count": null,
   "id": "6afc1d07",
   "metadata": {},
   "outputs": [],
   "source": [
    "#read-in the array.txt\n",
    "check_strand=pd.read_csv(\"/Users/kschul38/Documents/tsinfer-project/data/2_processed/europe_maize_dataset_600k/600k_array_info_header_removed.txt\", sep=\"\\t\", dtype = str)\n",
    "check_strand"
   ]
  },
  {
   "cell_type": "code",
   "execution_count": null,
   "id": "5eb200b3",
   "metadata": {},
   "outputs": [],
   "source": [
    "#get all the genotype-calls from the array.txt\n",
    "genotype_call=check_strand[\"alleles_f\"].values.ravel()"
   ]
  },
  {
   "cell_type": "code",
   "execution_count": null,
   "id": "f18aba72",
   "metadata": {},
   "outputs": [],
   "source": [
    "#check that number of genotype calls is correct\n",
    "len(genotype_call)"
   ]
  },
  {
   "cell_type": "code",
   "execution_count": null,
   "id": "6a8d1e43",
   "metadata": {},
   "outputs": [],
   "source": [
    "#get a list of all unique calls\n",
    "unique_values_array = pd.unique(genotype_call)"
   ]
  },
  {
   "cell_type": "code",
   "execution_count": null,
   "id": "24fbadfc",
   "metadata": {},
   "outputs": [],
   "source": [
    "#look at complete list\n",
    "#unique_values_array"
   ]
  },
  {
   "cell_type": "code",
   "execution_count": null,
   "id": "734128d3",
   "metadata": {},
   "outputs": [],
   "source": [
    "#remove the \"typical genotype calls\" - so that just indels remain\n",
    "unique_values_array = np.delete(unique_values_array, [0,1,2,3,4,5])"
   ]
  },
  {
   "cell_type": "code",
   "execution_count": null,
   "id": "5f4b5744",
   "metadata": {},
   "outputs": [],
   "source": [
    "#check that it only contains a-typical genotype calls\n",
    "#unique_values_array"
   ]
  },
  {
   "cell_type": "code",
   "execution_count": null,
   "id": "06518ee1",
   "metadata": {},
   "outputs": [],
   "source": [
    "#create a boolean over the whole allele column, where typical calls == True & atypical calls == False \n",
    "array_marker_filter_table=~check_strand[\"alleles_f\"].isin(unique_values_array)"
   ]
  },
  {
   "cell_type": "code",
   "execution_count": null,
   "id": "4df54486",
   "metadata": {},
   "outputs": [],
   "source": [
    "array_marker_filter_table"
   ]
  },
  {
   "cell_type": "markdown",
   "id": "84eeac68",
   "metadata": {},
   "source": [
    "**Get the filtered markers from the array.txt**"
   ]
  },
  {
   "cell_type": "code",
   "execution_count": null,
   "id": "604242e7",
   "metadata": {},
   "outputs": [],
   "source": [
    "filter_boolean_array_txt=array_marker_filter_table #taken from the non-typical genotypes removed to use here\n",
    "#Counter(filter_boolean_array_txt)"
   ]
  },
  {
   "cell_type": "code",
   "execution_count": null,
   "id": "b8e5ab36",
   "metadata": {},
   "outputs": [],
   "source": [
    "#filter_boolean_array_txt"
   ]
  },
  {
   "cell_type": "code",
   "execution_count": null,
   "id": "a9bc3e2a",
   "metadata": {},
   "outputs": [],
   "source": [
    "Counter(filter_boolean_array_txt)"
   ]
  },
  {
   "cell_type": "code",
   "execution_count": null,
   "id": "03ddc3e9",
   "metadata": {},
   "outputs": [],
   "source": [
    "#check_strand[[\"ID\",\"alleles_f\"]]\n",
    "array_txt_alleles=check_strand[[\"ID\",\"alleles_f\"]]\n",
    "array_txt_alleles_merge=array_txt_alleles.rename(columns={\"ID\":\"index_test\"}) #rename the column for merge \n",
    "array_txt_alleles_merge_filter=array_txt_alleles_merge[filter_boolean_array_txt] # remove the lines with ne non-typical genotype calls "
   ]
  },
  {
   "cell_type": "code",
   "execution_count": null,
   "id": "7a215460",
   "metadata": {},
   "outputs": [],
   "source": [
    "array_txt_alleles_merge_filter"
   ]
  },
  {
   "cell_type": "code",
   "execution_count": null,
   "id": "d079d578",
   "metadata": {},
   "outputs": [],
   "source": [
    "Counter(array_txt_alleles_merge_filter[\"alleles_f\"])"
   ]
  },
  {
   "cell_type": "code",
   "execution_count": null,
   "id": "b0f52541",
   "metadata": {},
   "outputs": [],
   "source": [
    "205822-205756"
   ]
  },
  {
   "cell_type": "code",
   "execution_count": null,
   "id": "f51e3a52",
   "metadata": {},
   "outputs": [],
   "source": [
    "203955-203870"
   ]
  },
  {
   "cell_type": "code",
   "execution_count": null,
   "id": "7b06dd68",
   "metadata": {},
   "outputs": [],
   "source": [
    "57702-57654"
   ]
  },
  {
   "cell_type": "code",
   "execution_count": null,
   "id": "dcd1e9d2",
   "metadata": {},
   "outputs": [],
   "source": [
    "57514-57468"
   ]
  },
  {
   "cell_type": "code",
   "execution_count": null,
   "id": "3dfab94e",
   "metadata": {},
   "outputs": [],
   "source": [
    "35367-35345"
   ]
  },
  {
   "cell_type": "code",
   "execution_count": null,
   "id": "33f978fc",
   "metadata": {},
   "outputs": [],
   "source": [
    "49082-49079"
   ]
  },
  {
   "cell_type": "code",
   "execution_count": null,
   "id": "aa3c35f1",
   "metadata": {},
   "outputs": [],
   "source": [
    "66+85+48+46+22+3"
   ]
  },
  {
   "cell_type": "code",
   "execution_count": null,
   "id": "576dfb0e",
   "metadata": {},
   "outputs": [],
   "source": [
    "Counter(allel_column)\n",
    "Counter({'T/C': 205756,\n",
    "         'G/A': 203870,\n",
    "         'G/C': 49079,\n",
    "         'T/A': 35345,\n",
    "         'T/G': 57468,\n",
    "         'A/C': 57654,\n",
    "         'A': 56,\n",
    "         'T': 59,\n",
    "         'C': 66,\n",
    "         'G': 89})"
   ]
  },
  {
   "cell_type": "code",
   "execution_count": null,
   "id": "e31a1251",
   "metadata": {},
   "outputs": [],
   "source": [
    "56+59+66+89"
   ]
  },
  {
   "cell_type": "code",
   "execution_count": null,
   "id": "b35fcdee",
   "metadata": {},
   "outputs": [],
   "source": [
    "no_header=pd.read_csv(\"no_header.vcf\", sep=\"\\t\")"
   ]
  },
  {
   "cell_type": "code",
   "execution_count": null,
   "id": "da3d05de",
   "metadata": {},
   "outputs": [],
   "source": [
    "no_header"
   ]
  },
  {
   "cell_type": "code",
   "execution_count": null,
   "id": "56f43bc0",
   "metadata": {},
   "outputs": [],
   "source": [
    "vcf_check=no_header.drop(['1','0'], axis=1)"
   ]
  },
  {
   "cell_type": "markdown",
   "id": "2e0f05ae",
   "metadata": {},
   "source": [
    "### *Check the genotype call in the .vcf file*"
   ]
  },
  {
   "cell_type": "code",
   "execution_count": null,
   "id": "7cd98143",
   "metadata": {},
   "outputs": [],
   "source": [
    "#recheck the genotype calls for everything but the first 11 columns\n",
    "check_vcf_geno=vcf_check.iloc[:,7:]"
   ]
  },
  {
   "cell_type": "code",
   "execution_count": null,
   "id": "3dd38d38",
   "metadata": {},
   "outputs": [],
   "source": [
    "check_vcf_geno"
   ]
  },
  {
   "cell_type": "code",
   "execution_count": null,
   "id": "e966e041",
   "metadata": {},
   "outputs": [],
   "source": [
    "check_genotype_counts_values_vcf=check_vcf_geno.values.ravel()"
   ]
  },
  {
   "cell_type": "code",
   "execution_count": null,
   "id": "16486f56",
   "metadata": {},
   "outputs": [],
   "source": [
    "flatten_list_unique_values_vcf=pd.unique(check_genotype_counts_values_vcf)"
   ]
  },
  {
   "cell_type": "code",
   "execution_count": null,
   "id": "48ed9a29",
   "metadata": {},
   "outputs": [],
   "source": [
    "flatten_list_unique_values_vcf"
   ]
  },
  {
   "cell_type": "code",
   "execution_count": null,
   "id": "ad08a7ce",
   "metadata": {},
   "outputs": [],
   "source": []
  }
 ],
 "metadata": {
  "kernelspec": {
   "display_name": "Python 3",
   "language": "python",
   "name": "python3"
  },
  "language_info": {
   "codemirror_mode": {
    "name": "ipython",
    "version": 3
   },
   "file_extension": ".py",
   "mimetype": "text/x-python",
   "name": "python",
   "nbconvert_exporter": "python",
   "pygments_lexer": "ipython3",
   "version": "3.7.9"
  }
 },
 "nbformat": 4,
 "nbformat_minor": 5
}
