{
 "cells": [
  {
   "cell_type": "markdown",
   "id": "7bc8385c",
   "metadata": {},
   "source": [
    "## **DATASET_masters_1.1.convert_Unterseer_vcf_to_hmp.txt_tassel_5.0.ipynb**"
   ]
  },
  {
   "cell_type": "markdown",
   "id": "14023bba",
   "metadata": {},
   "source": [
    "### GOALS of this script:\n",
    "* convert the Unterseer_2016 VCF (.vcf) files into Hapmap files (.hmp.txt)"
   ]
  },
  {
   "cell_type": "markdown",
   "id": "5bee673b",
   "metadata": {},
   "source": [
    "## **NOTES:**"
   ]
  },
  {
   "cell_type": "markdown",
   "id": "0d1bf366",
   "metadata": {},
   "source": [
    "* open Tassel GUI: ./start\\textunderscore tassel.pl -Xmx4g\n",
    "* load file \n",
    "* save as .hmp.txt"
   ]
  },
  {
   "cell_type": "code",
   "execution_count": null,
   "id": "84ceb5ee",
   "metadata": {},
   "outputs": [],
   "source": []
  }
 ],
 "metadata": {
  "kernelspec": {
   "display_name": "Python 3",
   "language": "python",
   "name": "python3"
  },
  "language_info": {
   "codemirror_mode": {
    "name": "ipython",
    "version": 3
   },
   "file_extension": ".py",
   "mimetype": "text/x-python",
   "name": "python",
   "nbconvert_exporter": "python",
   "pygments_lexer": "ipython3",
   "version": "3.7.9"
  }
 },
 "nbformat": 4,
 "nbformat_minor": 5
}
