{
 "cells": [
  {
   "cell_type": "markdown",
   "id": "80166cf3",
   "metadata": {},
   "source": [
    "## **ANALYSIS_masters_make_iHS_DH**"
   ]
  },
  {
   "cell_type": "markdown",
   "id": "6f016294",
   "metadata": {},
   "source": [
    "### GOALS of this script:\n",
    "* make the iHS scan within each DH line pool for masters thesis\n",
    "* calculate for each chromosome seperatly - make sure that calculations dont wrap\n",
    "* final figure desgin\n",
    "    * grouped manhattan plot for all chromosomes together?"
   ]
  },
  {
   "cell_type": "markdown",
   "id": "f879e066",
   "metadata": {},
   "source": [
    "### **Import packages**"
   ]
  },
  {
   "cell_type": "code",
   "execution_count": null,
   "id": "d26e9a80",
   "metadata": {},
   "outputs": [],
   "source": [
    "import numpy as np\n",
    "import pandas as pd\n",
    "import matplotlib.pyplot as plt\n",
    "%matplotlib inline\n",
    "import allel\n",
    "import random\n",
    "import h5py\n",
    "import bcolz\n",
    "import csv\n",
    "import itertools\n",
    "import os\n",
    "import seaborn as sns; sns.set_theme(color_codes=True)\n",
    "from collections import Counter\n",
    "from itertools import combinations\n",
    "from scipy.stats import uniform\n",
    "from scipy.stats import randint\n",
    "from itertools import chain\n",
    "sns.set_style('white')\n",
    "sns.set_style('ticks')\n",
    "import scipy.stats as stats\n",
    "import math"
   ]
  },
  {
   "cell_type": "markdown",
   "id": "6567e63b",
   "metadata": {},
   "source": [
    "### **Load the data**"
   ]
  },
  {
   "cell_type": "code",
   "execution_count": null,
   "id": "37b3a20a",
   "metadata": {},
   "outputs": [],
   "source": [
    "callset = allel.read_vcf('/Users/kschul38/Documents/tsinfer-project/data/2_processed/europe_maize_dataset_600k/merge_merge_all_chrom_all_edits_with_allel_column_vcf.vcf')"
   ]
  },
  {
   "cell_type": "code",
   "execution_count": null,
   "id": "7750c7e4",
   "metadata": {},
   "outputs": [],
   "source": [
    "#callset"
   ]
  },
  {
   "cell_type": "code",
   "execution_count": null,
   "id": "4340c9c5",
   "metadata": {},
   "outputs": [],
   "source": [
    "sorted(callset.keys())"
   ]
  },
  {
   "cell_type": "code",
   "execution_count": null,
   "id": "3513130c",
   "metadata": {},
   "outputs": [],
   "source": [
    "IDs=callset['variants/ID']\n",
    "IDs"
   ]
  },
  {
   "cell_type": "code",
   "execution_count": null,
   "id": "b76f3744",
   "metadata": {},
   "outputs": [],
   "source": [
    "len(IDs)"
   ]
  },
  {
   "cell_type": "code",
   "execution_count": null,
   "id": "2c120a36",
   "metadata": {},
   "outputs": [],
   "source": [
    "positions=callset['variants/POS']\n",
    "positions"
   ]
  },
  {
   "cell_type": "code",
   "execution_count": null,
   "id": "17306b99",
   "metadata": {},
   "outputs": [],
   "source": [
    "len(positions)"
   ]
  },
  {
   "cell_type": "code",
   "execution_count": null,
   "id": "7d0a2a98",
   "metadata": {},
   "outputs": [],
   "source": [
    "#get the samples in the .vcf\n",
    "samples= callset[\"samples\"]\n",
    "#samples"
   ]
  },
  {
   "cell_type": "code",
   "execution_count": null,
   "id": "98f3d96c",
   "metadata": {},
   "outputs": [],
   "source": [
    "#total number of the samples inn the vcf\n",
    "len(samples)"
   ]
  },
  {
   "cell_type": "code",
   "execution_count": null,
   "id": "a98eb353",
   "metadata": {},
   "outputs": [],
   "source": [
    "#put all the samples in a Dataframe\n",
    "sample_subset = pd.DataFrame(data=samples, columns = ['sample_names'])\n",
    "sample_subset"
   ]
  },
  {
   "cell_type": "code",
   "execution_count": null,
   "id": "b840f373",
   "metadata": {},
   "outputs": [],
   "source": [
    "for_axis = allel.vcf_to_dataframe('/Users/kschul38/Documents/tsinfer-project/data/2_processed/europe_maize_dataset_600k/merge_merge_all_chrom_all_edits_with_allel_column_vcf.vcf', fields= ['variants/ID', 'variants/CHROM', 'variants/POS'])\n",
    "for_axis"
   ]
  },
  {
   "cell_type": "markdown",
   "id": "6606ccd3",
   "metadata": {},
   "source": [
    "### **Get the names of the landraces from the .vcf file**"
   ]
  },
  {
   "cell_type": "markdown",
   "id": "af649cc5",
   "metadata": {},
   "source": [
    "#### **Mayer_2020_dhlines** - 941 DH individuals based on three landraces"
   ]
  },
  {
   "cell_type": "markdown",
   "id": "04f07337",
   "metadata": {},
   "source": [
    "941 DH individuals based on three landraces - 31 individuals per Pop"
   ]
  },
  {
   "cell_type": "code",
   "execution_count": null,
   "id": "eff61b49",
   "metadata": {},
   "outputs": [],
   "source": [
    "#all Mayer_2020 sample names in the dataframe\n",
    "mayer_2020_dhlines_samples=sample_subset[sample_subset.sample_names.str.contains(\"_2020_dh\")]\n",
    "#mayer_2020_dhlines_samples"
   ]
  },
  {
   "cell_type": "code",
   "execution_count": null,
   "id": "a209e3fe",
   "metadata": {},
   "outputs": [],
   "source": [
    "#number of all Mayer_2020_dhline individuals\n",
    "print(len(mayer_2020_dhlines_samples))\n",
    "#mayer_2020_dhlines_samples"
   ]
  },
  {
   "cell_type": "markdown",
   "id": "179b0dc4",
   "metadata": {},
   "source": [
    "#### *DH_KE*"
   ]
  },
  {
   "cell_type": "code",
   "execution_count": null,
   "id": "374f8752",
   "metadata": {},
   "outputs": [],
   "source": [
    "#all DH_KE samples in the Mayer_2020_dhlines\n",
    "df_DH_KE_samples=mayer_2020_dhlines_samples[mayer_2020_dhlines_samples.sample_names.str.contains(\"DH_KE\")]"
   ]
  },
  {
   "cell_type": "code",
   "execution_count": null,
   "id": "dabda452",
   "metadata": {},
   "outputs": [],
   "source": [
    "df_DH_KE_samples"
   ]
  },
  {
   "cell_type": "code",
   "execution_count": null,
   "id": "d635c755",
   "metadata": {},
   "outputs": [],
   "source": [
    "#number of all DH_KE individuals\n",
    "print(len(df_DH_KE_samples))\n",
    "#df_DH_KE_samples"
   ]
  },
  {
   "cell_type": "markdown",
   "id": "44eaad42",
   "metadata": {},
   "source": [
    "#### *DH_LL*"
   ]
  },
  {
   "cell_type": "code",
   "execution_count": null,
   "id": "4e1c2e4b",
   "metadata": {},
   "outputs": [],
   "source": [
    "#all DH_LL samples in the Mayer_2020_dhlines\n",
    "df_DH_LL_samples=mayer_2020_dhlines_samples[mayer_2020_dhlines_samples.sample_names.str.contains(\"DH_LL\")]"
   ]
  },
  {
   "cell_type": "code",
   "execution_count": null,
   "id": "239de635",
   "metadata": {},
   "outputs": [],
   "source": [
    "#df_DH_LL_samples"
   ]
  },
  {
   "cell_type": "code",
   "execution_count": null,
   "id": "dbe5fc46",
   "metadata": {},
   "outputs": [],
   "source": [
    "#number of all DH_LL individuals\n",
    "print(len(df_DH_LL_samples))\n",
    "#df_DH_LL_samples"
   ]
  },
  {
   "cell_type": "markdown",
   "id": "3a17d434",
   "metadata": {},
   "source": [
    "#### *DH_PE*"
   ]
  },
  {
   "cell_type": "code",
   "execution_count": null,
   "id": "cc8fac34",
   "metadata": {},
   "outputs": [],
   "source": [
    "#all DH_PE samples in the Mayer_2020_dhlines\n",
    "df_DH_PE_samples=mayer_2020_dhlines_samples[mayer_2020_dhlines_samples.sample_names.str.contains(\"DH_PE\")]"
   ]
  },
  {
   "cell_type": "code",
   "execution_count": null,
   "id": "62d00ce3",
   "metadata": {},
   "outputs": [],
   "source": [
    "df_DH_PE_samples"
   ]
  },
  {
   "cell_type": "code",
   "execution_count": null,
   "id": "0c148880",
   "metadata": {},
   "outputs": [],
   "source": [
    "#number of all DH_PE individuals \n",
    "print(len(df_DH_PE_samples))\n",
    "#df_DH_PE_samples"
   ]
  },
  {
   "cell_type": "code",
   "execution_count": null,
   "id": "a1a31e6a",
   "metadata": {},
   "outputs": [],
   "source": [
    "#flatten the DH line lists\n",
    "df_DH_KE_samples_list=df_DH_KE_samples['sample_names'].values.tolist()\n",
    "df_DH_LL_samples_list=df_DH_LL_samples['sample_names'].values.tolist()\n",
    "df_DH_PE_samples_list=df_DH_PE_samples['sample_names'].values.tolist()"
   ]
  },
  {
   "cell_type": "markdown",
   "id": "2e0738f9",
   "metadata": {},
   "source": [
    "#### **Rename the DH lines lists**"
   ]
  },
  {
   "cell_type": "code",
   "execution_count": null,
   "id": "c3decb79",
   "metadata": {},
   "outputs": [],
   "source": [
    "combi_list_KL_DH_landraces=df_DH_KE_samples_list\n",
    "combi_list_LL_DH_landraces=df_DH_LL_samples_list\n",
    "combi_list_PE_DH_landraces=df_DH_PE_samples_list"
   ]
  },
  {
   "cell_type": "code",
   "execution_count": null,
   "id": "2f3abf23",
   "metadata": {},
   "outputs": [],
   "source": [
    "Counter(callset['variants/CHROM'])"
   ]
  },
  {
   "cell_type": "code",
   "execution_count": null,
   "id": "f9255852",
   "metadata": {},
   "outputs": [],
   "source": [
    "len(Counter(callset['variants/CHROM']))"
   ]
  },
  {
   "cell_type": "markdown",
   "id": "a4d53655",
   "metadata": {},
   "source": [
    "#### **Calculate the IHS - DH KL**"
   ]
  },
  {
   "cell_type": "code",
   "execution_count": null,
   "id": "558a1265",
   "metadata": {},
   "outputs": [],
   "source": [
    "#make IHS lists for KL and KL DH \n",
    "list_single_chrom_IHS_KL=[]\n",
    "list_all_chrom_IHS_KL=[]\n",
    "IHS_pos_list_KL=[]\n",
    "IHS_chrom_list_KL=[]\n",
    "list_ID_KL=[]"
   ]
  },
  {
   "cell_type": "code",
   "execution_count": null,
   "id": "118a60bd",
   "metadata": {},
   "outputs": [],
   "source": [
    "for chrom_KE in range(11):\n",
    "    #print(chrom)\n",
    "    chrom_str_KE=str(chrom_KE)\n",
    "    \n",
    "    #load the data for DH line\n",
    "    loc_samples_KL_DH = allel.read_vcf('/Users/kschul38/Documents/tsinfer-project/data/2_processed/europe_maize_dataset_600k/merge_merge_all_chrom_all_edits_with_allel_column_vcf.vcf', samples= df_DH_KE_samples_list, region= chrom_str_KE)\n",
    "    \n",
    "    #get the genotype data for the DH line\n",
    "    geno_samples_KL_DH=allel.GenotypeArray(loc_samples_KL_DH['calldata/GT'])\n",
    "    print(len(geno_samples_KL_DH))\n",
    "    \n",
    "    #make allele counts array\n",
    "    count_samples_KL_DH=geno_samples_KL_DH.count_alleles()\n",
    "    \n",
    "    #boolean to check if the SNPs segregate\n",
    "    is_seg_KL = count_samples_KL_DH.is_segregating()[:]\n",
    "    \n",
    "    #apply the seg boolean to the genotype data\n",
    "    samples_population_KL_is_seg=geno_samples_KL_DH.compress(is_seg_KL, axis=0)\n",
    "    print(len(samples_population_KL_is_seg))\n",
    "    \n",
    "    #make allele counts array form the new genotype array\n",
    "    count_samples_KL_DH_is_seg=samples_population_KL_is_seg.count_alleles()\n",
    "    \n",
    "    #make array of alternate allele counts from the new allele count array\n",
    "    alt_allele_KL_DH=count_samples_KL_DH_is_seg[:, 1]\n",
    "\n",
    "    #make haplotype array from the new genotype array\n",
    "    haplo_samples_KL_DH= samples_population_KL_is_seg.haploidify_samples()\n",
    "    \n",
    "    #get the positions for the whole data \n",
    "    samples_KL_DH_pos=loc_samples_KL_DH['variants/POS']\n",
    "    \n",
    "    #filter the position\n",
    "    samples_KL_DH_pos_is_seg=samples_KL_DH_pos.compress(is_seg_KL, axis=0)\n",
    "    \n",
    "    #get the chromosomes for the whole data\n",
    "    samples_KL_DH_chrom=loc_samples_KL_DH['variants/CHROM']\n",
    "    \n",
    "    #filter the chrom\n",
    "    samples_KL_DH_chrom_is_seg=samples_KL_DH_chrom.compress(is_seg_KL, axis=0)\n",
    "    \n",
    "    #get the IDs for the SNPs\n",
    "    samples_KL_DH_ID=loc_samples_KL_DH['variants/ID']\n",
    "    \n",
    "    #filter the IDs\n",
    "    samples_KL_DH_ID_is_seg=samples_KL_DH_ID.compress(is_seg_KL, axis=0)\n",
    "    \n",
    "    #calculate IHS for KL\n",
    "    list_single_chrom_IHS_KL_raw=allel.ihs(haplo_samples_KL_DH,samples_KL_DH_pos_is_seg)\n",
    "    list_single_chrom_IHS_KL_standard, bins =allel.standardize_by_allele_count(list_single_chrom_IHS_KL_raw,alt_allele_KL_DH)\n",
    "    \n",
    "    #append elements to IHS lists\n",
    "    list_all_chrom_IHS_KL.append(list_single_chrom_IHS_KL_standard)\n",
    "    IHS_pos_list_KL.append(samples_KL_DH_pos_is_seg)\n",
    "    IHS_chrom_list_KL.append(samples_KL_DH_chrom_is_seg)\n",
    "    list_ID_KL.append(samples_KL_DH_ID_is_seg)\n",
    "    \n",
    "    #print the progress of the calculations \n",
    "    print(\"IHS for DH KL calcualted - %(a)s CHROM\" % {'a': str(chrom_KE)})"
   ]
  },
  {
   "cell_type": "markdown",
   "id": "c8d52da5",
   "metadata": {},
   "source": [
    "#### **Calculate the IHS - DH LL**"
   ]
  },
  {
   "cell_type": "code",
   "execution_count": null,
   "id": "ba585904",
   "metadata": {},
   "outputs": [],
   "source": [
    "#make IHS lists for LL DH \n",
    "list_single_chrom_IHS_LL=[]\n",
    "list_all_chrom_IHS_LL=[]\n",
    "IHS_pos_list_LL=[]\n",
    "IHS_chrom_list_LL=[]\n",
    "list_ID_LL=[]"
   ]
  },
  {
   "cell_type": "code",
   "execution_count": null,
   "id": "07e6fcc5",
   "metadata": {},
   "outputs": [],
   "source": [
    "for chrom_LL in range(11):\n",
    "    #print(chrom)\n",
    "    chrom_str_LL=str(chrom_LL)\n",
    "    \n",
    "    #load the data for DH line\n",
    "    loc_samples_LL_DH = allel.read_vcf('/Users/kschul38/Documents/tsinfer-project/data/2_processed/europe_maize_dataset_600k/merge_merge_all_chrom_all_edits_with_allel_column_vcf.vcf', samples= df_DH_LL_samples_list, region= chrom_str_LL)\n",
    "\n",
    "    #get the genotype data for the DH line\n",
    "    geno_samples_LL_DH=allel.GenotypeArray(loc_samples_LL_DH['calldata/GT'])\n",
    "    print(len(geno_samples_LL_DH))\n",
    "    \n",
    "    #make allele counts array\n",
    "    count_samples_LL_DH=geno_samples_LL_DH.count_alleles()\n",
    "    \n",
    "    #boolean to check if the SNPs segregate\n",
    "    is_seg_LL = count_samples_LL_DH.is_segregating()[:]\n",
    "    \n",
    "    #apply the seg boolean to the genotype data\n",
    "    samples_population_LL_is_seg=geno_samples_LL_DH.compress(is_seg_LL, axis=0)\n",
    "    print(len(samples_population_LL_is_seg))\n",
    "    \n",
    "    #make allele counts array form the new genotype array\n",
    "    count_samples_LL_DH_is_seg=samples_population_LL_is_seg.count_alleles()\n",
    "    \n",
    "    #make array of alternate allele counts from the new allele count array\n",
    "    alt_allele_LL_DH=count_samples_LL_DH_is_seg[:, 1]\n",
    "    \n",
    "    #make haplotype array\n",
    "    haplo_samples_LL_DH= samples_population_LL_is_seg.haploidify_samples()\n",
    "    \n",
    "    #get the positions for the whole data \n",
    "    samples_LL_DH_pos=loc_samples_LL_DH['variants/POS']\n",
    "    \n",
    "    #filter the position\n",
    "    samples_LL_DH_pos_is_seg=samples_LL_DH_pos.compress(is_seg_LL, axis=0)\n",
    "    \n",
    "    #get the chromosomes for the whole data\n",
    "    samples_LL_DH_chrom=loc_samples_LL_DH['variants/CHROM']\n",
    "    \n",
    "    #filter the chrom\n",
    "    samples_LL_DH_chrom_is_seg=samples_LL_DH_chrom.compress(is_seg_LL, axis=0)\n",
    "    \n",
    "    #get the IDs for the SNPs\n",
    "    samples_LL_DH_ID=loc_samples_LL_DH['variants/ID']\n",
    "    \n",
    "    #filter the IDs\n",
    "    samples_LL_DH_ID_is_seg=samples_LL_DH_ID.compress(is_seg_LL, axis=0)\n",
    "    \n",
    "    #calculate IHS for LL\n",
    "    list_single_chrom_IHS_LL_raw=allel.ihs(haplo_samples_LL_DH,samples_LL_DH_pos_is_seg)\n",
    "    list_single_chrom_IHS_LL_standard, bins=allel.standardize_by_allele_count(list_single_chrom_IHS_LL_raw,alt_allele_LL_DH)\n",
    "    \n",
    "    #append elements to IHS lists\n",
    "    list_all_chrom_IHS_LL.append(list_single_chrom_IHS_LL_standard)\n",
    "    IHS_pos_list_LL.append(samples_LL_DH_pos_is_seg)\n",
    "    IHS_chrom_list_LL.append(samples_LL_DH_chrom_is_seg)\n",
    "    list_ID_LL.append(samples_LL_DH_ID_is_seg)\n",
    "    \n",
    "    #print the progress of the calculations \n",
    "    print(\"IHS for DH LL calcualted - %(a)s CHROM\" % {'a': str(chrom_LL)})"
   ]
  },
  {
   "cell_type": "markdown",
   "id": "3e1a35c2",
   "metadata": {},
   "source": [
    "#### **Calculate the IHS - DH PE**"
   ]
  },
  {
   "cell_type": "code",
   "execution_count": null,
   "id": "3a811da7",
   "metadata": {},
   "outputs": [],
   "source": [
    "#make xpehh lists for PE and PE DH \n",
    "list_single_chrom_IHS_PE=[]\n",
    "list_all_chrom_IHS_PE=[]\n",
    "IHS_pos_list_PE=[]\n",
    "IHS_chrom_list_PE=[]\n",
    "list_ID_PE=[]"
   ]
  },
  {
   "cell_type": "code",
   "execution_count": null,
   "id": "51437d6f",
   "metadata": {},
   "outputs": [],
   "source": [
    "for chrom_PE in range(11):\n",
    "    #print(chrom)\n",
    "    chrom_str_PE=str(chrom_PE)\n",
    "    \n",
    "    #load the data for DH line and the corresponding landrace seperatly \n",
    "    loc_samples_PE_DH = allel.read_vcf('/Users/kschul38/Documents/tsinfer-project/data/2_processed/europe_maize_dataset_600k/merge_merge_all_chrom_all_edits_with_allel_column_vcf.vcf', samples= df_DH_PE_samples_list, region= chrom_str_PE)\n",
    "\n",
    "    #get the genotype data for the \n",
    "    geno_samples_PE_DH=allel.GenotypeArray(loc_samples_PE_DH['calldata/GT'])\n",
    "    print(len(geno_samples_PE_DH))\n",
    "    \n",
    "    #make allele counts array\n",
    "    count_samples_PE_DH=geno_samples_PE_DH.count_alleles()\n",
    "    \n",
    "    #boolean to check if the SNPs segregate\n",
    "    is_seg_PE = count_samples_PE_DH.is_segregating()[:]\n",
    "    \n",
    "    #apply the seg boolean to the genotype data\n",
    "    samples_population_PE_is_seg=geno_samples_PE_DH.compress(is_seg_PE, axis=0)\n",
    "    print(len(samples_population_PE_is_seg))\n",
    "    \n",
    "    #make allele counts array form the new genotype array\n",
    "    count_samples_PE_DH_is_seg=samples_population_PE_is_seg.count_alleles()\n",
    "    \n",
    "    #make array of alternate allele counts from the new allele count array\n",
    "    alt_allele_PE_DH=count_samples_PE_DH_is_seg[:, 1]\n",
    "    \n",
    "    #make haplotype array\n",
    "    haplo_samples_PE_DH= samples_population_PE_is_seg=samples_population_PE_is_seg.haploidify_samples()\n",
    "    \n",
    "    #get the positions for the whole data\n",
    "    samples_PE_DH_pos=loc_samples_PE_DH['variants/POS']\n",
    "    \n",
    "    #filter the position\n",
    "    samples_PE_DH_pos_is_seg=samples_PE_DH_pos.compress(is_seg_PE, axis=0)\n",
    "\n",
    "    #get the chromosomes for the whole data\n",
    "    samples_PE_DH_chrom=loc_samples_PE_DH['variants/CHROM']\n",
    "    \n",
    "    #filter the chrom\n",
    "    samples_PE_DH_chrom_is_seg=samples_PE_DH_chrom.compress(is_seg_PE, axis=0)\n",
    "    \n",
    "    #get the IDs for the SNPs\n",
    "    samples_PE_DH_ID=loc_samples_PE_DH['variants/ID']\n",
    "    \n",
    "    #filter the IDs\n",
    "    samples_PE_DH_ID_is_seg=samples_PE_DH_ID.compress(is_seg_PE, axis=0)\n",
    "    \n",
    "    #calculate IHS for PE\n",
    "    list_single_chrom_IHS_PE_raw=allel.ihs(haplo_samples_PE_DH,samples_PE_DH_pos_is_seg)\n",
    "    list_single_chrom_IHS_PE_standard, bins =allel.standardize_by_allele_count(list_single_chrom_IHS_PE_raw,alt_allele_PE_DH)\n",
    "    \n",
    "    #append elements to xpehh lists \n",
    "    list_all_chrom_IHS_PE.append(list_single_chrom_IHS_PE_standard)\n",
    "    IHS_pos_list_PE.append(samples_PE_DH_pos_is_seg)\n",
    "    IHS_chrom_list_PE.append(samples_PE_DH_chrom_is_seg)\n",
    "    list_ID_PE.append(samples_PE_DH_ID_is_seg)\n",
    "    \n",
    "    #print the progress of the calculations \n",
    "    print(\"IHS for DH PE calcualted - %(a)s CHROM\"% {'a': str(chrom_PE)})"
   ]
  },
  {
   "cell_type": "markdown",
   "id": "a9f6d29a",
   "metadata": {},
   "source": [
    "#### **Check the other XPEHH lists**"
   ]
  },
  {
   "cell_type": "markdown",
   "id": "c581dc8f",
   "metadata": {},
   "source": [
    "**Check the list legnths based on chrom lengths**"
   ]
  },
  {
   "cell_type": "code",
   "execution_count": null,
   "id": "94976c51",
   "metadata": {},
   "outputs": [],
   "source": [
    "Counter(callset['variants/CHROM'])"
   ]
  },
  {
   "cell_type": "markdown",
   "id": "8a1dd895",
   "metadata": {},
   "source": [
    "*KL & KL DH*"
   ]
  },
  {
   "cell_type": "code",
   "execution_count": null,
   "id": "4b6c0d4b",
   "metadata": {},
   "outputs": [],
   "source": [
    "for KL_chrom in list_all_chrom_IHS_KL:\n",
    "    print(len(KL_chrom))"
   ]
  },
  {
   "cell_type": "code",
   "execution_count": null,
   "id": "dc7a76c4",
   "metadata": {},
   "outputs": [],
   "source": [
    "for KL_pos in IHS_pos_list_KL:\n",
    "    print(len(KL_pos))"
   ]
  },
  {
   "cell_type": "code",
   "execution_count": null,
   "id": "cde92338",
   "metadata": {},
   "outputs": [],
   "source": [
    "for KL_chrom_num in IHS_chrom_list_KL:\n",
    "    print(len(KL_chrom_num))"
   ]
  },
  {
   "cell_type": "markdown",
   "id": "b8aa01a3",
   "metadata": {},
   "source": [
    "*LL & LL DH*"
   ]
  },
  {
   "cell_type": "code",
   "execution_count": null,
   "id": "882d102e",
   "metadata": {},
   "outputs": [],
   "source": [
    "for LL_chrom in list_all_chrom_IHS_LL:\n",
    "    print(len(LL_chrom))"
   ]
  },
  {
   "cell_type": "code",
   "execution_count": null,
   "id": "003a742b",
   "metadata": {},
   "outputs": [],
   "source": [
    "for LL_pos in IHS_pos_list_LL:\n",
    "    print(len(LL_pos))"
   ]
  },
  {
   "cell_type": "code",
   "execution_count": null,
   "id": "f3537041",
   "metadata": {},
   "outputs": [],
   "source": [
    "for LL_chrom_num in IHS_chrom_list_LL:\n",
    "    print(len(LL_chrom_num))"
   ]
  },
  {
   "cell_type": "markdown",
   "id": "3d57fa1f",
   "metadata": {},
   "source": [
    "*PE & PE DH*"
   ]
  },
  {
   "cell_type": "code",
   "execution_count": null,
   "id": "277774d1",
   "metadata": {},
   "outputs": [],
   "source": [
    "for PE_chrom in list_all_chrom_IHS_PE:\n",
    "    print(len(PE_chrom))"
   ]
  },
  {
   "cell_type": "code",
   "execution_count": null,
   "id": "5af926fb",
   "metadata": {},
   "outputs": [],
   "source": [
    "for PE_pos in IHS_pos_list_PE:\n",
    "    print(len(PE_pos))"
   ]
  },
  {
   "cell_type": "code",
   "execution_count": null,
   "id": "39258cfa",
   "metadata": {},
   "outputs": [],
   "source": [
    "for PE_chrom_num in IHS_chrom_list_PE:\n",
    "    print(len(PE_chrom_num))"
   ]
  },
  {
   "cell_type": "markdown",
   "id": "44bd27b5",
   "metadata": {},
   "source": [
    "#### **Make density plot for each DH population**"
   ]
  },
  {
   "cell_type": "markdown",
   "id": "9087e7e5",
   "metadata": {},
   "source": [
    "**Flatten the IHS vlaue lists**"
   ]
  },
  {
   "cell_type": "code",
   "execution_count": null,
   "id": "fc6e5b64",
   "metadata": {},
   "outputs": [],
   "source": [
    "list_all_chrom_IHS_KL_flatten=list(itertools.chain(*list_all_chrom_IHS_KL))"
   ]
  },
  {
   "cell_type": "code",
   "execution_count": null,
   "id": "63d10d7e",
   "metadata": {},
   "outputs": [],
   "source": [
    "list_all_chrom_IHS_LL_flatten=list(itertools.chain(*list_all_chrom_IHS_LL))"
   ]
  },
  {
   "cell_type": "code",
   "execution_count": null,
   "id": "f084d62e",
   "metadata": {},
   "outputs": [],
   "source": [
    "list_all_chrom_IHS_PE_flatten=list(itertools.chain(*list_all_chrom_IHS_PE))"
   ]
  },
  {
   "cell_type": "code",
   "execution_count": null,
   "id": "885d79b5",
   "metadata": {},
   "outputs": [],
   "source": [
    "len(list_all_chrom_IHS_KL_flatten)"
   ]
  },
  {
   "cell_type": "code",
   "execution_count": null,
   "id": "2b6e1c59",
   "metadata": {},
   "outputs": [],
   "source": [
    "len(list_all_chrom_IHS_LL_flatten)"
   ]
  },
  {
   "cell_type": "code",
   "execution_count": null,
   "id": "158272af",
   "metadata": {},
   "outputs": [],
   "source": [
    "len(list_all_chrom_IHS_PE_flatten)"
   ]
  },
  {
   "cell_type": "markdown",
   "id": "d80bdd3c",
   "metadata": {},
   "source": [
    "**Make the Gaussian Distributions**"
   ]
  },
  {
   "cell_type": "code",
   "execution_count": null,
   "id": "f53289c5",
   "metadata": {},
   "outputs": [],
   "source": [
    "#normal distribution\n",
    "mu = 0 #mu is the mean or expectation, location of max \n",
    "variance = 1 #variance is standard deviation\n",
    "sigma = math.sqrt(variance) #sigma is standard deviation squared\n",
    "x = np.linspace(mu - 3*sigma, mu + 3*sigma, 100) #make a normal distribution with 100 values \n",
    "plt.plot(x, stats.norm.pdf(x, mu, sigma)) # plot the normal distribution \n",
    "\n",
    "#set the plot parameters \n",
    "plt.xlim(-5,5) #x-axis limits \n",
    "plt.ylim(0,0.45) #y-axis limits \n",
    "sns.despine(offset={'bottom': 20}) #move the x-axis away\n",
    "plt.show()"
   ]
  },
  {
   "cell_type": "markdown",
   "id": "bcd523cb",
   "metadata": {},
   "source": [
    "**Plot the IHS density plot & Gaussian distribution**"
   ]
  },
  {
   "cell_type": "code",
   "execution_count": null,
   "id": "efb752e6",
   "metadata": {},
   "outputs": [],
   "source": [
    "#KL IHS\n",
    "sns.kdeplot(data=list_all_chrom_IHS_KL_flatten).set_title(\"Genome-wide distribution standardized IHS - DH KL\") #plot IHS\n",
    "plt.plot(x, stats.norm.pdf(x, mu, sigma)) #plot normal distribution\n",
    "\n",
    "#set the plot parameters\n",
    "plt.xlim(-5,5) #x-limit axis\n",
    "plt.ylim(0,0.45) #y-limit axis\n",
    "sns.despine(offset={'bottom': 20}) #move the x-axis away\n",
    "plt.show()"
   ]
  },
  {
   "cell_type": "code",
   "execution_count": null,
   "id": "41131c9f",
   "metadata": {},
   "outputs": [],
   "source": [
    "#LL IHS\n",
    "sns.kdeplot(list_all_chrom_IHS_LL_flatten).set_title(\"Genome-wide distribution standardized IHS - DH LL\") #plot IHS\n",
    "plt.plot(x, stats.norm.pdf(x, mu, sigma)) #plot normal distribution\n",
    "\n",
    "#set the plot parameters\n",
    "plt.xlim(-5,5) #x-limit axis\n",
    "plt.ylim(0,0.45) #y-limit axis \n",
    "sns.despine(offset={'bottom': 20}) #move the x-axis away\n",
    "plt.show()"
   ]
  },
  {
   "cell_type": "code",
   "execution_count": null,
   "id": "61643282",
   "metadata": {},
   "outputs": [],
   "source": [
    "#PE IHS\n",
    "sns.kdeplot(list_all_chrom_IHS_PE_flatten).set_title(\"Genome-wide distribution standardized IHS - DH PE\") #plot IHS\n",
    "plt.plot(x, stats.norm.pdf(x, mu, sigma)) #plot normal distribution\n",
    "\n",
    "#set the plot parameters\n",
    "plt.xlim(-5,5) #x-limit axis\n",
    "plt.ylim(0,0.45) #y-limit axis \n",
    "sns.despine(offset={'bottom': 20}) # move the x-axis aways\n",
    "plt.show()"
   ]
  },
  {
   "cell_type": "markdown",
   "id": "9d5c7063",
   "metadata": {},
   "source": [
    "#### **Make a IHS dataframe**"
   ]
  },
  {
   "cell_type": "markdown",
   "id": "7dcf811f",
   "metadata": {},
   "source": [
    "**Flatten the lists for the dataframes** - sum(l, []) should also work"
   ]
  },
  {
   "cell_type": "markdown",
   "id": "4d9dccc6",
   "metadata": {},
   "source": [
    "*KL DH*"
   ]
  },
  {
   "cell_type": "code",
   "execution_count": null,
   "id": "223b604d",
   "metadata": {},
   "outputs": [],
   "source": [
    "IHS_pos_list_KL_flatten=list(itertools.chain(*IHS_pos_list_KL))"
   ]
  },
  {
   "cell_type": "code",
   "execution_count": null,
   "id": "8b6726fa",
   "metadata": {},
   "outputs": [],
   "source": [
    "IHS_chrom_list_KL_flatten=list(itertools.chain(*IHS_chrom_list_KL))"
   ]
  },
  {
   "cell_type": "code",
   "execution_count": null,
   "id": "855a54e0",
   "metadata": {},
   "outputs": [],
   "source": [
    "IHS_ID_list_KL_flatten=list(itertools.chain(*list_ID_KL))"
   ]
  },
  {
   "cell_type": "code",
   "execution_count": null,
   "id": "ebb62cd6",
   "metadata": {},
   "outputs": [],
   "source": [
    "#check the lengths \n",
    "print(len(list_all_chrom_IHS_KL_flatten))\n",
    "print(len(IHS_pos_list_KL_flatten))\n",
    "print(len(IHS_chrom_list_KL_flatten))\n",
    "print(len(IHS_ID_list_KL_flatten))"
   ]
  },
  {
   "cell_type": "code",
   "execution_count": null,
   "id": "6d5ce9c7",
   "metadata": {},
   "outputs": [],
   "source": [
    "range_len_KL=len(list_all_chrom_IHS_KL_flatten)"
   ]
  },
  {
   "cell_type": "code",
   "execution_count": null,
   "id": "0530c738",
   "metadata": {},
   "outputs": [],
   "source": [
    "#make the dataframe\n",
    "KL_dataframe = pd.DataFrame(\n",
    "    {'ID_KL':IHS_ID_list_KL_flatten,\n",
    "     'chrom_KL': IHS_chrom_list_KL_flatten,\n",
    "     'pos_KL': IHS_pos_list_KL_flatten,\n",
    "     'IHS_KL': list_all_chrom_IHS_KL_flatten,\n",
    "     'ind': range(len(range(range_len_KL)))\n",
    "    })"
   ]
  },
  {
   "cell_type": "code",
   "execution_count": null,
   "id": "f7433885",
   "metadata": {},
   "outputs": [],
   "source": [
    "KL_dataframe['chrom_KL'] = 'Chr ' + KL_dataframe['chrom_KL'].astype(str)"
   ]
  },
  {
   "cell_type": "code",
   "execution_count": null,
   "id": "fe33c2bd",
   "metadata": {},
   "outputs": [],
   "source": [
    "KL_dataframe"
   ]
  },
  {
   "cell_type": "markdown",
   "id": "efc7eac2",
   "metadata": {},
   "source": [
    "*LL DH*"
   ]
  },
  {
   "cell_type": "code",
   "execution_count": null,
   "id": "6429708b",
   "metadata": {},
   "outputs": [],
   "source": [
    "IHS_pos_list_LL_flatten=list(itertools.chain(*IHS_pos_list_LL))"
   ]
  },
  {
   "cell_type": "code",
   "execution_count": null,
   "id": "eb242961",
   "metadata": {},
   "outputs": [],
   "source": [
    "IHS_chrom_list_LL_flatten=list(itertools.chain(*IHS_chrom_list_LL))"
   ]
  },
  {
   "cell_type": "code",
   "execution_count": null,
   "id": "196ad6ed",
   "metadata": {},
   "outputs": [],
   "source": [
    "IHS_ID_list_LL_flatten=list(itertools.chain(*list_ID_LL))"
   ]
  },
  {
   "cell_type": "code",
   "execution_count": null,
   "id": "f33e0cb0",
   "metadata": {},
   "outputs": [],
   "source": [
    "#check the lengths \n",
    "print(len(list_all_chrom_IHS_LL_flatten))\n",
    "print(len(IHS_pos_list_LL_flatten))\n",
    "print(len(IHS_chrom_list_LL_flatten))\n",
    "print(len(IHS_ID_list_LL_flatten))"
   ]
  },
  {
   "cell_type": "code",
   "execution_count": null,
   "id": "17c67823",
   "metadata": {
    "scrolled": true
   },
   "outputs": [],
   "source": [
    "range_len_LL=len(list_all_chrom_IHS_LL_flatten)"
   ]
  },
  {
   "cell_type": "code",
   "execution_count": null,
   "id": "fd0659c3",
   "metadata": {},
   "outputs": [],
   "source": [
    "#make the dataframe \n",
    "LL_dataframe = pd.DataFrame(\n",
    "    {'ID_LL':IHS_ID_list_LL_flatten,\n",
    "     'chrom_LL': IHS_chrom_list_LL_flatten,\n",
    "     'pos_LL': IHS_pos_list_LL_flatten,\n",
    "     'IHS_LL': list_all_chrom_IHS_LL_flatten,\n",
    "     'ind': range(len(range(range_len_LL)))\n",
    "    })"
   ]
  },
  {
   "cell_type": "code",
   "execution_count": null,
   "id": "1f6317e0",
   "metadata": {},
   "outputs": [],
   "source": [
    "LL_dataframe['chrom_LL'] = 'Chr ' + LL_dataframe['chrom_LL'].astype(str)"
   ]
  },
  {
   "cell_type": "code",
   "execution_count": null,
   "id": "03ad6b43",
   "metadata": {},
   "outputs": [],
   "source": [
    "LL_dataframe"
   ]
  },
  {
   "cell_type": "markdown",
   "id": "9aee3f03",
   "metadata": {},
   "source": [
    "*PE DH*"
   ]
  },
  {
   "cell_type": "code",
   "execution_count": null,
   "id": "f4155b49",
   "metadata": {},
   "outputs": [],
   "source": [
    "IHS_pos_list_PE_flatten=list(itertools.chain(*IHS_pos_list_PE))"
   ]
  },
  {
   "cell_type": "code",
   "execution_count": null,
   "id": "0eef306d",
   "metadata": {},
   "outputs": [],
   "source": [
    "IHS_chrom_list_PE_flatten=list(itertools.chain(*IHS_chrom_list_PE))"
   ]
  },
  {
   "cell_type": "code",
   "execution_count": null,
   "id": "772474ae",
   "metadata": {},
   "outputs": [],
   "source": [
    "IHS_ID_list_PE_flatten=list(itertools.chain(*list_ID_PE))"
   ]
  },
  {
   "cell_type": "code",
   "execution_count": null,
   "id": "c32eb01d",
   "metadata": {},
   "outputs": [],
   "source": [
    "#check the lengths \n",
    "print(len(list_all_chrom_IHS_PE_flatten))\n",
    "print(len(IHS_pos_list_PE_flatten))\n",
    "print(len(IHS_chrom_list_PE_flatten))\n",
    "print(len(IHS_ID_list_PE_flatten))"
   ]
  },
  {
   "cell_type": "code",
   "execution_count": null,
   "id": "df7149d3",
   "metadata": {},
   "outputs": [],
   "source": [
    "range_len_PE=len(list_all_chrom_IHS_PE_flatten)"
   ]
  },
  {
   "cell_type": "code",
   "execution_count": null,
   "id": "1bd48a9c",
   "metadata": {},
   "outputs": [],
   "source": [
    "#make the dataframe \n",
    "PE_dataframe = pd.DataFrame(\n",
    "    {'ID_PE':IHS_ID_list_PE_flatten,\n",
    "     'chrom_PE': IHS_chrom_list_PE_flatten,\n",
    "     'pos_PE': IHS_pos_list_PE_flatten,\n",
    "     'IHS_PE': list_all_chrom_IHS_PE_flatten,\n",
    "     'ind': range(len(range(range_len_PE)))\n",
    "    })"
   ]
  },
  {
   "cell_type": "code",
   "execution_count": null,
   "id": "c2ebe829",
   "metadata": {},
   "outputs": [],
   "source": [
    "PE_dataframe['chrom_PE'] = 'Chr ' + PE_dataframe['chrom_PE'].astype(str)"
   ]
  },
  {
   "cell_type": "code",
   "execution_count": null,
   "id": "8ae67537",
   "metadata": {},
   "outputs": [],
   "source": [
    "PE_dataframe"
   ]
  },
  {
   "cell_type": "markdown",
   "id": "993d0bb5",
   "metadata": {},
   "source": [
    "#### **Calculate p-value for each IHS value**"
   ]
  },
  {
   "cell_type": "markdown",
   "id": "77f5b39b",
   "metadata": {},
   "source": [
    "piHS=−log10(2Φ(−|iHS|))"
   ]
  },
  {
   "cell_type": "code",
   "execution_count": null,
   "id": "2c337c60",
   "metadata": {},
   "outputs": [],
   "source": [
    "KL_dataframe['pIHS_KL']=-np.log10(2 * stats.norm.cdf(-abs(KL_dataframe.IHS_KL)))"
   ]
  },
  {
   "cell_type": "code",
   "execution_count": null,
   "id": "70aebf25",
   "metadata": {},
   "outputs": [],
   "source": [
    "LL_dataframe['pIHS_LL']=-np.log10(2 * stats.norm.cdf(-abs(LL_dataframe.IHS_LL)))"
   ]
  },
  {
   "cell_type": "code",
   "execution_count": null,
   "id": "cba657ee",
   "metadata": {},
   "outputs": [],
   "source": [
    "PE_dataframe['pIHS_PE']=-np.log10(2 * stats.norm.cdf(-abs(PE_dataframe.IHS_PE)))"
   ]
  },
  {
   "cell_type": "markdown",
   "id": "aaf7dd64",
   "metadata": {},
   "source": [
    "#### **Make Manhattan Plot**"
   ]
  },
  {
   "cell_type": "code",
   "execution_count": null,
   "id": "7b4b35d4",
   "metadata": {},
   "outputs": [],
   "source": [
    "for_axis"
   ]
  },
  {
   "cell_type": "code",
   "execution_count": null,
   "id": "cb84d480",
   "metadata": {},
   "outputs": [],
   "source": [
    "KL_dataframe_re=KL_dataframe.rename(columns={\"ID_KL\": \"ID\", \"chrom_KL\":\"CHROM\" , \"pos_KL\":\"POS\"})"
   ]
  },
  {
   "cell_type": "code",
   "execution_count": null,
   "id": "b8a030de",
   "metadata": {},
   "outputs": [],
   "source": [
    "#KL_dataframe_re"
   ]
  },
  {
   "cell_type": "code",
   "execution_count": null,
   "id": "a882f772",
   "metadata": {},
   "outputs": [],
   "source": [
    "KL_dataframe_re_dropped=KL_dataframe_re.drop(columns=[\"ind\",\"IHS_KL\",\"CHROM\"])\n",
    "KL_dataframe_re_dropped"
   ]
  },
  {
   "cell_type": "code",
   "execution_count": null,
   "id": "1c0755ce",
   "metadata": {},
   "outputs": [],
   "source": [
    "LL_dataframe_re=LL_dataframe.rename(columns={\"ID_LL\": \"ID\", \"chrom_LL\":\"CHROM\" , \"pos_LL\":\"POS\"})"
   ]
  },
  {
   "cell_type": "code",
   "execution_count": null,
   "id": "eaa4d983",
   "metadata": {},
   "outputs": [],
   "source": [
    "#LL_dataframe_re"
   ]
  },
  {
   "cell_type": "code",
   "execution_count": null,
   "id": "eace22ee",
   "metadata": {},
   "outputs": [],
   "source": [
    "LL_dataframe_re_dropped=LL_dataframe_re.drop(columns=[\"ind\",\"IHS_LL\",\"CHROM\"])\n",
    "LL_dataframe_re_dropped"
   ]
  },
  {
   "cell_type": "code",
   "execution_count": null,
   "id": "81093f41",
   "metadata": {},
   "outputs": [],
   "source": [
    "PE_dataframe_re=PE_dataframe.rename(columns={\"ID_PE\": \"ID\", \"chrom_PE\":\"CHROM\" , \"pos_PE\":\"POS\"})"
   ]
  },
  {
   "cell_type": "code",
   "execution_count": null,
   "id": "fd941715",
   "metadata": {},
   "outputs": [],
   "source": [
    "#PE_dataframe_re"
   ]
  },
  {
   "cell_type": "code",
   "execution_count": null,
   "id": "a4f0315a",
   "metadata": {},
   "outputs": [],
   "source": [
    "PE_dataframe_re_dropped=PE_dataframe_re.drop(columns=[\"ind\",\"IHS_PE\",\"CHROM\"])\n",
    "PE_dataframe_re_dropped"
   ]
  },
  {
   "cell_type": "code",
   "execution_count": null,
   "id": "1f192234",
   "metadata": {},
   "outputs": [],
   "source": [
    "merge_1 = pd.merge(for_axis,KL_dataframe_re_dropped, how=\"outer\", on=[\"ID\",\"POS\"])"
   ]
  },
  {
   "cell_type": "code",
   "execution_count": null,
   "id": "443b7168",
   "metadata": {},
   "outputs": [],
   "source": [
    "merge_1"
   ]
  },
  {
   "cell_type": "code",
   "execution_count": null,
   "id": "9b36c45d",
   "metadata": {},
   "outputs": [],
   "source": [
    "merge_2 = pd.merge(for_axis,LL_dataframe_re_dropped, how=\"outer\", on=[\"ID\",\"POS\"])"
   ]
  },
  {
   "cell_type": "code",
   "execution_count": null,
   "id": "4cd4bacb",
   "metadata": {},
   "outputs": [],
   "source": [
    "merge_2"
   ]
  },
  {
   "cell_type": "code",
   "execution_count": null,
   "id": "debd93b1",
   "metadata": {},
   "outputs": [],
   "source": [
    "merge_3 = pd.merge(for_axis,PE_dataframe_re_dropped, how=\"outer\", on=[\"ID\",\"POS\"])"
   ]
  },
  {
   "cell_type": "code",
   "execution_count": null,
   "id": "077aace4",
   "metadata": {},
   "outputs": [],
   "source": [
    "merge_3"
   ]
  },
  {
   "cell_type": "code",
   "execution_count": null,
   "id": "56f1fbe5",
   "metadata": {},
   "outputs": [],
   "source": [
    "merge_all=merge_1.merge(merge_2,on=[\"ID\",\"POS\",\"CHROM\"]).merge(merge_3,on=[\"ID\",\"POS\",\"CHROM\"])\n",
    "merge_all"
   ]
  },
  {
   "cell_type": "code",
   "execution_count": null,
   "id": "f1818d2e",
   "metadata": {},
   "outputs": [],
   "source": [
    "merge_all.loc[merge_all['pIHS_PE'] > 6.9]\n",
    "\n"
   ]
  },
  {
   "cell_type": "code",
   "execution_count": null,
   "id": "27df1444",
   "metadata": {},
   "outputs": [],
   "source": [
    "result_1=merge_all.loc[merge_all['CHROM'] == \"1\"]\n",
    "result_1"
   ]
  },
  {
   "cell_type": "code",
   "execution_count": null,
   "id": "37aeef0e",
   "metadata": {},
   "outputs": [],
   "source": [
    "result_2=merge_all.loc[merge_all['CHROM'] == \"2\"]\n",
    "result_2"
   ]
  },
  {
   "cell_type": "code",
   "execution_count": null,
   "id": "d105c053",
   "metadata": {},
   "outputs": [],
   "source": [
    "result_3=merge_all.loc[merge_all['CHROM'] == \"3\"]\n",
    "result_3"
   ]
  },
  {
   "cell_type": "code",
   "execution_count": null,
   "id": "d6e448ab",
   "metadata": {},
   "outputs": [],
   "source": [
    "result_4=merge_all.loc[merge_all['CHROM'] == \"4\"]\n",
    "result_4"
   ]
  },
  {
   "cell_type": "code",
   "execution_count": null,
   "id": "c541b36b",
   "metadata": {},
   "outputs": [],
   "source": [
    "result_5=merge_all.loc[merge_all['CHROM'] == \"5\"]\n",
    "result_5"
   ]
  },
  {
   "cell_type": "code",
   "execution_count": null,
   "id": "8c2bf19f",
   "metadata": {},
   "outputs": [],
   "source": [
    "result_6=merge_all.loc[merge_all['CHROM'] == \"6\"]\n",
    "result_6"
   ]
  },
  {
   "cell_type": "code",
   "execution_count": null,
   "id": "65d364bb",
   "metadata": {},
   "outputs": [],
   "source": [
    "result_7=merge_all.loc[merge_all['CHROM'] == \"7\"]\n",
    "result_7"
   ]
  },
  {
   "cell_type": "code",
   "execution_count": null,
   "id": "88cf555e",
   "metadata": {},
   "outputs": [],
   "source": [
    "result_8=merge_all.loc[merge_all['CHROM'] == \"8\"]\n",
    "result_8"
   ]
  },
  {
   "cell_type": "code",
   "execution_count": null,
   "id": "85d27553",
   "metadata": {},
   "outputs": [],
   "source": [
    "result_9=merge_all.loc[merge_all['CHROM'] == \"9\"]\n",
    "result_9"
   ]
  },
  {
   "cell_type": "code",
   "execution_count": null,
   "id": "ed464808",
   "metadata": {},
   "outputs": [],
   "source": [
    "result_10=merge_all.loc[merge_all['CHROM'] == \"10\"]\n",
    "result_10"
   ]
  },
  {
   "cell_type": "code",
   "execution_count": null,
   "id": "746c8db1",
   "metadata": {},
   "outputs": [],
   "source": [
    "result_list=[\"result_1\",\"result_2\",\"result_3\",\"result_4\",\"result_5\",\"result_6\",\"result_7\",\"result_8\",\"result_9\",\"result_10\"]"
   ]
  },
  {
   "cell_type": "code",
   "execution_count": null,
   "id": "24c6f74b",
   "metadata": {},
   "outputs": [],
   "source": [
    "pal=sns.color_palette(\"hls\", 10)\n",
    "hex_col=pal.as_hex()\n",
    "print(hex_col)"
   ]
  },
  {
   "cell_type": "code",
   "execution_count": null,
   "id": "fe8b503e",
   "metadata": {},
   "outputs": [],
   "source": [
    "for i in range(10):\n",
    "    #print(i)\n",
    "    num=i+1\n",
    "    #print(num)\n",
    "    data_select=merge_all.loc[merge_all['CHROM'] == str(num)] \n",
    "    \n",
    "    fig1, (ax1, ax2, ax3) = plt.subplots(nrows=3, ncols=1)\n",
    "    \n",
    "    fig1.set_size_inches(10, 15)\n",
    "    fig1.subplots_adjust(hspace=0.2)\n",
    "    \n",
    "    sns.scatterplot(data=data_select, x=\"POS\", y=\"pIHS_KL\", ax=ax1, color=hex_col[i])\n",
    "    ax1.set(ylim=(0,17))\n",
    "    ax1.spines['top'].set_visible(False)\n",
    "    ax1.spines['right'].set_visible(False)\n",
    "    ax1.set_ylabel(\"-log10(pIHS value)\",fontweight=\"bold\")\n",
    "    ax1.set_xlabel(\"Chr \" + str(num) + \" - pIHS_KL\",fontweight=\"bold\",fontsize=10)\n",
    "    ax1.axhline(y=6.99, color='black', linestyle='dashed',linewidth=1)\n",
    "\n",
    "    sns.scatterplot(data=data_select, x=\"POS\", y=\"pIHS_LL\", ax=ax2, color=hex_col[i])\n",
    "    ax2.set(ylim=(0,17))\n",
    "    ax2.spines['top'].set_visible(False)\n",
    "    ax2.spines['right'].set_visible(False)\n",
    "    ax2.set_ylabel(\"-log10(pIHS value)\",fontweight=\"bold\")\n",
    "    ax2.set_xlabel(\"Chr \" + str(num) + \" - pIHS_LL\",fontweight=\"bold\",fontsize=10)\n",
    "    ax2.axhline(y=6.99, color='black', linestyle='dashed',linewidth=1)\n",
    "\n",
    "    sns.scatterplot(data=data_select, x=\"POS\", y=\"pIHS_PE\", ax=ax3, color=hex_col[i])\n",
    "    ax3.set(ylim=(0,17))\n",
    "    ax3.spines['top'].set_visible(False)\n",
    "    ax3.spines['right'].set_visible(False)\n",
    "    ax3.set_ylabel(\"-log10(pIHS value)\",fontweight=\"bold\")\n",
    "    ax3.set_xlabel(\"Chr \" + str(num) + \" - pIHS_PE\",fontweight=\"bold\",fontsize=10)\n",
    "    ax3.axhline(y=6.99, color='black', linestyle='dashed',linewidth=1)\n",
    "    \n",
    "    plt.savefig('piHS'+str(num)+'.png')\n",
    "    \n",
    "    plt.clf()\n",
    "    "
   ]
  },
  {
   "cell_type": "code",
   "execution_count": null,
   "id": "1cc79910",
   "metadata": {},
   "outputs": [],
   "source": []
  }
 ],
 "metadata": {
  "kernelspec": {
   "display_name": "Python 3",
   "language": "python",
   "name": "python3"
  },
  "language_info": {
   "codemirror_mode": {
    "name": "ipython",
    "version": 3
   },
   "file_extension": ".py",
   "mimetype": "text/x-python",
   "name": "python",
   "nbconvert_exporter": "python",
   "pygments_lexer": "ipython3",
   "version": "3.7.9"
  }
 },
 "nbformat": 4,
 "nbformat_minor": 5
}
