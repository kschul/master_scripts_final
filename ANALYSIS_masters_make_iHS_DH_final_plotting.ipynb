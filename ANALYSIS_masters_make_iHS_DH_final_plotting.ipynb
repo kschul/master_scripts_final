{
 "cells": [
  {
   "cell_type": "markdown",
   "id": "57a8199e",
   "metadata": {},
   "source": [
    "## **ANALYSIS_masters_make_iHS_DH**"
   ]
  },
  {
   "cell_type": "markdown",
   "id": "c7f7858a",
   "metadata": {},
   "source": [
    "### GOALS of this script:\n",
    "* make the iHS scan within each DH line pool for masters thesis\n",
    "* calculate for each chromosome seperatly - make sure that calculations dont wrap\n",
    "* final figure desgin\n",
    "    * grouped manhattan plot for all chromosomes together?"
   ]
  },
  {
   "cell_type": "markdown",
   "id": "e932b349",
   "metadata": {},
   "source": [
    "### **Import packages**"
   ]
  },
  {
   "cell_type": "code",
   "execution_count": null,
   "id": "402aaf32",
   "metadata": {},
   "outputs": [],
   "source": [
    "import numpy as np\n",
    "import pandas as pd\n",
    "import matplotlib.pyplot as plt\n",
    "%matplotlib inline\n",
    "import allel\n",
    "import random\n",
    "import h5py\n",
    "import bcolz\n",
    "import csv\n",
    "import itertools\n",
    "import os\n",
    "import seaborn as sns; sns.set_theme(color_codes=True)\n",
    "from collections import Counter\n",
    "from itertools import combinations\n",
    "from scipy.stats import uniform\n",
    "from scipy.stats import randint\n",
    "from itertools import chain\n",
    "sns.set_style('white')\n",
    "sns.set_style('ticks')\n",
    "import scipy.stats as stats\n",
    "import math"
   ]
  },
  {
   "cell_type": "markdown",
   "id": "fd779f6f",
   "metadata": {},
   "source": [
    "### **Load the data**"
   ]
  },
  {
   "cell_type": "code",
   "execution_count": null,
   "id": "e2ab101e",
   "metadata": {},
   "outputs": [],
   "source": [
    "callset = allel.read_vcf('/Users/kschul38/Documents/tsinfer-project/data/2_processed/europe_maize_dataset_600k/merge_merge_all_chrom_all_edits_with_allel_column_vcf.vcf')"
   ]
  },
  {
   "cell_type": "code",
   "execution_count": null,
   "id": "998bb575",
   "metadata": {},
   "outputs": [],
   "source": [
    "#callset"
   ]
  },
  {
   "cell_type": "code",
   "execution_count": null,
   "id": "c19cf083",
   "metadata": {},
   "outputs": [],
   "source": [
    "sorted(callset.keys())"
   ]
  },
  {
   "cell_type": "code",
   "execution_count": null,
   "id": "5258312d",
   "metadata": {},
   "outputs": [],
   "source": [
    "IDs=callset['variants/ID']\n",
    "IDs"
   ]
  },
  {
   "cell_type": "code",
   "execution_count": null,
   "id": "4e168994",
   "metadata": {},
   "outputs": [],
   "source": [
    "len(IDs)"
   ]
  },
  {
   "cell_type": "code",
   "execution_count": null,
   "id": "5bc69c8a",
   "metadata": {},
   "outputs": [],
   "source": [
    "positions=callset['variants/POS']\n",
    "positions"
   ]
  },
  {
   "cell_type": "code",
   "execution_count": null,
   "id": "e4c286be",
   "metadata": {},
   "outputs": [],
   "source": [
    "len(positions)"
   ]
  },
  {
   "cell_type": "code",
   "execution_count": null,
   "id": "f6600bc0",
   "metadata": {},
   "outputs": [],
   "source": [
    "#get the samples in the .vcf\n",
    "samples= callset[\"samples\"]\n",
    "#samples"
   ]
  },
  {
   "cell_type": "code",
   "execution_count": null,
   "id": "0740e434",
   "metadata": {},
   "outputs": [],
   "source": [
    "#total number of the samples inn the vcf\n",
    "len(samples)"
   ]
  },
  {
   "cell_type": "code",
   "execution_count": null,
   "id": "30006746",
   "metadata": {},
   "outputs": [],
   "source": [
    "#put all the samples in a Dataframe\n",
    "sample_subset = pd.DataFrame(data=samples, columns = ['sample_names'])\n",
    "sample_subset"
   ]
  },
  {
   "cell_type": "code",
   "execution_count": null,
   "id": "1a0292c8",
   "metadata": {},
   "outputs": [],
   "source": [
    "for_axis = allel.vcf_to_dataframe('/Users/kschul38/Documents/tsinfer-project/data/2_processed/europe_maize_dataset_600k/merge_merge_all_chrom_all_edits_with_allel_column_vcf.vcf', fields= ['variants/ID', 'variants/CHROM', 'variants/POS'])\n",
    "for_axis"
   ]
  },
  {
   "cell_type": "markdown",
   "id": "4a487161",
   "metadata": {},
   "source": [
    "### **Get the names of the landraces from the .vcf file**"
   ]
  },
  {
   "cell_type": "markdown",
   "id": "4aa2afba",
   "metadata": {},
   "source": [
    "#### **Mayer_2020_dhlines** - 941 DH individuals based on three landraces"
   ]
  },
  {
   "cell_type": "markdown",
   "id": "a047d23f",
   "metadata": {},
   "source": [
    "941 DH individuals based on three landraces - 31 individuals per Pop"
   ]
  },
  {
   "cell_type": "code",
   "execution_count": null,
   "id": "f41e3951",
   "metadata": {},
   "outputs": [],
   "source": [
    "#all Mayer_2020 sample names in the dataframe\n",
    "mayer_2020_dhlines_samples=sample_subset[sample_subset.sample_names.str.contains(\"_2020_dh\")]\n",
    "#mayer_2020_dhlines_samples"
   ]
  },
  {
   "cell_type": "code",
   "execution_count": null,
   "id": "7888d313",
   "metadata": {},
   "outputs": [],
   "source": [
    "#number of all Mayer_2020_dhline individuals\n",
    "print(len(mayer_2020_dhlines_samples))\n",
    "#mayer_2020_dhlines_samples"
   ]
  },
  {
   "cell_type": "markdown",
   "id": "cbfde293",
   "metadata": {},
   "source": [
    "#### *DH_KE*"
   ]
  },
  {
   "cell_type": "code",
   "execution_count": null,
   "id": "67f2d6b1",
   "metadata": {},
   "outputs": [],
   "source": [
    "#all DH_KE samples in the Mayer_2020_dhlines\n",
    "df_DH_KE_samples=mayer_2020_dhlines_samples[mayer_2020_dhlines_samples.sample_names.str.contains(\"DH_KE\")]"
   ]
  },
  {
   "cell_type": "code",
   "execution_count": null,
   "id": "f57d1b49",
   "metadata": {},
   "outputs": [],
   "source": [
    "df_DH_KE_samples"
   ]
  },
  {
   "cell_type": "code",
   "execution_count": null,
   "id": "13186657",
   "metadata": {},
   "outputs": [],
   "source": [
    "#number of all DH_KE individuals\n",
    "print(len(df_DH_KE_samples))\n",
    "#df_DH_KE_samples"
   ]
  },
  {
   "cell_type": "markdown",
   "id": "ebd28e18",
   "metadata": {},
   "source": [
    "#### *DH_LL*"
   ]
  },
  {
   "cell_type": "code",
   "execution_count": null,
   "id": "a0f01b30",
   "metadata": {},
   "outputs": [],
   "source": [
    "#all DH_LL samples in the Mayer_2020_dhlines\n",
    "df_DH_LL_samples=mayer_2020_dhlines_samples[mayer_2020_dhlines_samples.sample_names.str.contains(\"DH_LL\")]"
   ]
  },
  {
   "cell_type": "code",
   "execution_count": null,
   "id": "17821f6c",
   "metadata": {},
   "outputs": [],
   "source": [
    "#df_DH_LL_samples"
   ]
  },
  {
   "cell_type": "code",
   "execution_count": null,
   "id": "23a174f8",
   "metadata": {},
   "outputs": [],
   "source": [
    "#number of all DH_LL individuals\n",
    "print(len(df_DH_LL_samples))\n",
    "#df_DH_LL_samples"
   ]
  },
  {
   "cell_type": "markdown",
   "id": "87203803",
   "metadata": {},
   "source": [
    "#### *DH_PE*"
   ]
  },
  {
   "cell_type": "code",
   "execution_count": null,
   "id": "19949261",
   "metadata": {},
   "outputs": [],
   "source": [
    "#all DH_PE samples in the Mayer_2020_dhlines\n",
    "df_DH_PE_samples=mayer_2020_dhlines_samples[mayer_2020_dhlines_samples.sample_names.str.contains(\"DH_PE\")]"
   ]
  },
  {
   "cell_type": "code",
   "execution_count": null,
   "id": "e7938542",
   "metadata": {},
   "outputs": [],
   "source": [
    "df_DH_PE_samples"
   ]
  },
  {
   "cell_type": "code",
   "execution_count": null,
   "id": "014bacba",
   "metadata": {},
   "outputs": [],
   "source": [
    "#number of all DH_PE individuals \n",
    "print(len(df_DH_PE_samples))\n",
    "#df_DH_PE_samples"
   ]
  },
  {
   "cell_type": "code",
   "execution_count": null,
   "id": "232be8bc",
   "metadata": {},
   "outputs": [],
   "source": [
    "#flatten the DH line lists\n",
    "df_DH_KE_samples_list=df_DH_KE_samples['sample_names'].values.tolist()\n",
    "df_DH_LL_samples_list=df_DH_LL_samples['sample_names'].values.tolist()\n",
    "df_DH_PE_samples_list=df_DH_PE_samples['sample_names'].values.tolist()"
   ]
  },
  {
   "cell_type": "markdown",
   "id": "96b41f39",
   "metadata": {},
   "source": [
    "#### **Rename the DH lines lists**"
   ]
  },
  {
   "cell_type": "code",
   "execution_count": null,
   "id": "ebf291cc",
   "metadata": {},
   "outputs": [],
   "source": [
    "combi_list_KL_DH_landraces=df_DH_KE_samples_list\n",
    "combi_list_LL_DH_landraces=df_DH_LL_samples_list\n",
    "combi_list_PE_DH_landraces=df_DH_PE_samples_list"
   ]
  },
  {
   "cell_type": "code",
   "execution_count": null,
   "id": "62b7f912",
   "metadata": {},
   "outputs": [],
   "source": [
    "Counter(callset['variants/CHROM'])"
   ]
  },
  {
   "cell_type": "code",
   "execution_count": null,
   "id": "0451aa50",
   "metadata": {},
   "outputs": [],
   "source": [
    "len(Counter(callset['variants/CHROM']))"
   ]
  },
  {
   "cell_type": "markdown",
   "id": "d836f998",
   "metadata": {},
   "source": [
    "#### **Calculate the IHS - DH KL**"
   ]
  },
  {
   "cell_type": "code",
   "execution_count": null,
   "id": "5f070932",
   "metadata": {},
   "outputs": [],
   "source": [
    "#make IHS lists for KL and KL DH \n",
    "list_single_chrom_IHS_KL=[]\n",
    "list_all_chrom_IHS_KL=[]\n",
    "IHS_pos_list_KL=[]\n",
    "IHS_chrom_list_KL=[]\n",
    "list_ID_KL=[]"
   ]
  },
  {
   "cell_type": "code",
   "execution_count": null,
   "id": "4caed89e",
   "metadata": {},
   "outputs": [],
   "source": [
    "for chrom_KE in range(11):\n",
    "    #print(chrom)\n",
    "    chrom_str_KE=str(chrom_KE)\n",
    "    \n",
    "    #load the data for DH line\n",
    "    loc_samples_KL_DH = allel.read_vcf('/Users/kschul38/Documents/tsinfer-project/data/2_processed/europe_maize_dataset_600k/merge_merge_all_chrom_all_edits_with_allel_column_vcf.vcf', samples= df_DH_KE_samples_list, region= chrom_str_KE)\n",
    "    \n",
    "    #get the genotype data for the DH line\n",
    "    geno_samples_KL_DH=allel.GenotypeArray(loc_samples_KL_DH['calldata/GT'])\n",
    "    print(len(geno_samples_KL_DH))\n",
    "    \n",
    "    #make allele counts array\n",
    "    count_samples_KL_DH=geno_samples_KL_DH.count_alleles()\n",
    "    \n",
    "    #boolean to check if the SNPs segregate\n",
    "    is_seg_KL = count_samples_KL_DH.is_segregating()[:]\n",
    "    \n",
    "    #apply the seg boolean to the genotype data\n",
    "    samples_population_KL_is_seg=geno_samples_KL_DH.compress(is_seg_KL, axis=0)\n",
    "    print(len(samples_population_KL_is_seg))\n",
    "    \n",
    "    #make allele counts array form the new genotype array\n",
    "    count_samples_KL_DH_is_seg=samples_population_KL_is_seg.count_alleles()\n",
    "    \n",
    "    #make array of alternate allele counts from the new allele count array\n",
    "    alt_allele_KL_DH=count_samples_KL_DH_is_seg[:, 1]\n",
    "\n",
    "    #make haplotype array from the new genotype array\n",
    "    haplo_samples_KL_DH= samples_population_KL_is_seg.haploidify_samples()\n",
    "    \n",
    "    #get the positions for the whole data \n",
    "    samples_KL_DH_pos=loc_samples_KL_DH['variants/POS']\n",
    "    \n",
    "    #filter the position\n",
    "    samples_KL_DH_pos_is_seg=samples_KL_DH_pos.compress(is_seg_KL, axis=0)\n",
    "    \n",
    "    #get the chromosomes for the whole data\n",
    "    samples_KL_DH_chrom=loc_samples_KL_DH['variants/CHROM']\n",
    "    \n",
    "    #filter the chrom\n",
    "    samples_KL_DH_chrom_is_seg=samples_KL_DH_chrom.compress(is_seg_KL, axis=0)\n",
    "    \n",
    "    #get the IDs for the SNPs\n",
    "    samples_KL_DH_ID=loc_samples_KL_DH['variants/ID']\n",
    "    \n",
    "    #filter the IDs\n",
    "    samples_KL_DH_ID_is_seg=samples_KL_DH_ID.compress(is_seg_KL, axis=0)\n",
    "    \n",
    "    #calculate IHS for KL\n",
    "    list_single_chrom_IHS_KL_raw=allel.ihs(haplo_samples_KL_DH,samples_KL_DH_pos_is_seg)\n",
    "    list_single_chrom_IHS_KL_standard, bins =allel.standardize_by_allele_count(list_single_chrom_IHS_KL_raw,alt_allele_KL_DH)\n",
    "    \n",
    "    #append elements to IHS lists\n",
    "    list_all_chrom_IHS_KL.append(list_single_chrom_IHS_KL_standard)\n",
    "    IHS_pos_list_KL.append(samples_KL_DH_pos_is_seg)\n",
    "    IHS_chrom_list_KL.append(samples_KL_DH_chrom_is_seg)\n",
    "    list_ID_KL.append(samples_KL_DH_ID_is_seg)\n",
    "    \n",
    "    #print the progress of the calculations \n",
    "    print(\"IHS for DH KL calcualted - %(a)s CHROM\" % {'a': str(chrom_KE)})"
   ]
  },
  {
   "cell_type": "markdown",
   "id": "94518759",
   "metadata": {},
   "source": [
    "#### **Calculate the IHS - DH LL**"
   ]
  },
  {
   "cell_type": "code",
   "execution_count": null,
   "id": "6d0ecf84",
   "metadata": {},
   "outputs": [],
   "source": [
    "#make IHS lists for LL DH \n",
    "list_single_chrom_IHS_LL=[]\n",
    "list_all_chrom_IHS_LL=[]\n",
    "IHS_pos_list_LL=[]\n",
    "IHS_chrom_list_LL=[]\n",
    "list_ID_LL=[]"
   ]
  },
  {
   "cell_type": "code",
   "execution_count": null,
   "id": "49621830",
   "metadata": {},
   "outputs": [],
   "source": [
    "for chrom_LL in range(11):\n",
    "    #print(chrom)\n",
    "    chrom_str_LL=str(chrom_LL)\n",
    "    \n",
    "    #load the data for DH line\n",
    "    loc_samples_LL_DH = allel.read_vcf('/Users/kschul38/Documents/tsinfer-project/data/2_processed/europe_maize_dataset_600k/merge_merge_all_chrom_all_edits_with_allel_column_vcf.vcf', samples= df_DH_LL_samples_list, region= chrom_str_LL)\n",
    "\n",
    "    #get the genotype data for the DH line\n",
    "    geno_samples_LL_DH=allel.GenotypeArray(loc_samples_LL_DH['calldata/GT'])\n",
    "    print(len(geno_samples_LL_DH))\n",
    "    \n",
    "    #make allele counts array\n",
    "    count_samples_LL_DH=geno_samples_LL_DH.count_alleles()\n",
    "    \n",
    "    #boolean to check if the SNPs segregate\n",
    "    is_seg_LL = count_samples_LL_DH.is_segregating()[:]\n",
    "    \n",
    "    #apply the seg boolean to the genotype data\n",
    "    samples_population_LL_is_seg=geno_samples_LL_DH.compress(is_seg_LL, axis=0)\n",
    "    print(len(samples_population_LL_is_seg))\n",
    "    \n",
    "    #make allele counts array form the new genotype array\n",
    "    count_samples_LL_DH_is_seg=samples_population_LL_is_seg.count_alleles()\n",
    "    \n",
    "    #make array of alternate allele counts from the new allele count array\n",
    "    alt_allele_LL_DH=count_samples_LL_DH_is_seg[:, 1]\n",
    "    \n",
    "    #make haplotype array\n",
    "    haplo_samples_LL_DH= samples_population_LL_is_seg.haploidify_samples()\n",
    "    \n",
    "    #get the positions for the whole data \n",
    "    samples_LL_DH_pos=loc_samples_LL_DH['variants/POS']\n",
    "    \n",
    "    #filter the position\n",
    "    samples_LL_DH_pos_is_seg=samples_LL_DH_pos.compress(is_seg_LL, axis=0)\n",
    "    \n",
    "    #get the chromosomes for the whole data\n",
    "    samples_LL_DH_chrom=loc_samples_LL_DH['variants/CHROM']\n",
    "    \n",
    "    #filter the chrom\n",
    "    samples_LL_DH_chrom_is_seg=samples_LL_DH_chrom.compress(is_seg_LL, axis=0)\n",
    "    \n",
    "    #get the IDs for the SNPs\n",
    "    samples_LL_DH_ID=loc_samples_LL_DH['variants/ID']\n",
    "    \n",
    "    #filter the IDs\n",
    "    samples_LL_DH_ID_is_seg=samples_LL_DH_ID.compress(is_seg_LL, axis=0)\n",
    "    \n",
    "    #calculate IHS for LL\n",
    "    list_single_chrom_IHS_LL_raw=allel.ihs(haplo_samples_LL_DH,samples_LL_DH_pos_is_seg)\n",
    "    list_single_chrom_IHS_LL_standard, bins=allel.standardize_by_allele_count(list_single_chrom_IHS_LL_raw,alt_allele_LL_DH)\n",
    "    \n",
    "    #append elements to IHS lists\n",
    "    list_all_chrom_IHS_LL.append(list_single_chrom_IHS_LL_standard)\n",
    "    IHS_pos_list_LL.append(samples_LL_DH_pos_is_seg)\n",
    "    IHS_chrom_list_LL.append(samples_LL_DH_chrom_is_seg)\n",
    "    list_ID_LL.append(samples_LL_DH_ID_is_seg)\n",
    "    \n",
    "    #print the progress of the calculations \n",
    "    print(\"IHS for DH LL calcualted - %(a)s CHROM\" % {'a': str(chrom_LL)})"
   ]
  },
  {
   "cell_type": "markdown",
   "id": "aec862b4",
   "metadata": {},
   "source": [
    "#### **Calculate the IHS - DH PE**"
   ]
  },
  {
   "cell_type": "code",
   "execution_count": null,
   "id": "4f3d229f",
   "metadata": {},
   "outputs": [],
   "source": [
    "#make xpehh lists for PE and PE DH \n",
    "list_single_chrom_IHS_PE=[]\n",
    "list_all_chrom_IHS_PE=[]\n",
    "IHS_pos_list_PE=[]\n",
    "IHS_chrom_list_PE=[]\n",
    "list_ID_PE=[]"
   ]
  },
  {
   "cell_type": "code",
   "execution_count": null,
   "id": "a373beef",
   "metadata": {},
   "outputs": [],
   "source": [
    "for chrom_PE in range(11):\n",
    "    #print(chrom)\n",
    "    chrom_str_PE=str(chrom_PE)\n",
    "    \n",
    "    #load the data for DH line and the corresponding landrace seperatly \n",
    "    loc_samples_PE_DH = allel.read_vcf('/Users/kschul38/Documents/tsinfer-project/data/2_processed/europe_maize_dataset_600k/merge_merge_all_chrom_all_edits_with_allel_column_vcf.vcf', samples= df_DH_PE_samples_list, region= chrom_str_PE)\n",
    "\n",
    "    #get the genotype data for the \n",
    "    geno_samples_PE_DH=allel.GenotypeArray(loc_samples_PE_DH['calldata/GT'])\n",
    "    print(len(geno_samples_PE_DH))\n",
    "    \n",
    "    #make allele counts array\n",
    "    count_samples_PE_DH=geno_samples_PE_DH.count_alleles()\n",
    "    \n",
    "    #boolean to check if the SNPs segregate\n",
    "    is_seg_PE = count_samples_PE_DH.is_segregating()[:]\n",
    "    \n",
    "    #apply the seg boolean to the genotype data\n",
    "    samples_population_PE_is_seg=geno_samples_PE_DH.compress(is_seg_PE, axis=0)\n",
    "    print(len(samples_population_PE_is_seg))\n",
    "    \n",
    "    #make allele counts array form the new genotype array\n",
    "    count_samples_PE_DH_is_seg=samples_population_PE_is_seg.count_alleles()\n",
    "    \n",
    "    #make array of alternate allele counts from the new allele count array\n",
    "    alt_allele_PE_DH=count_samples_PE_DH_is_seg[:, 1]\n",
    "    \n",
    "    #make haplotype array\n",
    "    haplo_samples_PE_DH= samples_population_PE_is_seg=samples_population_PE_is_seg.haploidify_samples()\n",
    "    \n",
    "    #get the positions for the whole data\n",
    "    samples_PE_DH_pos=loc_samples_PE_DH['variants/POS']\n",
    "    \n",
    "    #filter the position\n",
    "    samples_PE_DH_pos_is_seg=samples_PE_DH_pos.compress(is_seg_PE, axis=0)\n",
    "\n",
    "    #get the chromosomes for the whole data\n",
    "    samples_PE_DH_chrom=loc_samples_PE_DH['variants/CHROM']\n",
    "    \n",
    "    #filter the chrom\n",
    "    samples_PE_DH_chrom_is_seg=samples_PE_DH_chrom.compress(is_seg_PE, axis=0)\n",
    "    \n",
    "    #get the IDs for the SNPs\n",
    "    samples_PE_DH_ID=loc_samples_PE_DH['variants/ID']\n",
    "    \n",
    "    #filter the IDs\n",
    "    samples_PE_DH_ID_is_seg=samples_PE_DH_ID.compress(is_seg_PE, axis=0)\n",
    "    \n",
    "    #calculate IHS for PE\n",
    "    list_single_chrom_IHS_PE_raw=allel.ihs(haplo_samples_PE_DH,samples_PE_DH_pos_is_seg)\n",
    "    list_single_chrom_IHS_PE_standard, bins =allel.standardize_by_allele_count(list_single_chrom_IHS_PE_raw,alt_allele_PE_DH)\n",
    "    \n",
    "    #append elements to xpehh lists \n",
    "    list_all_chrom_IHS_PE.append(list_single_chrom_IHS_PE_standard)\n",
    "    IHS_pos_list_PE.append(samples_PE_DH_pos_is_seg)\n",
    "    IHS_chrom_list_PE.append(samples_PE_DH_chrom_is_seg)\n",
    "    list_ID_PE.append(samples_PE_DH_ID_is_seg)\n",
    "    \n",
    "    #print the progress of the calculations \n",
    "    print(\"IHS for DH PE calcualted - %(a)s CHROM\"% {'a': str(chrom_PE)})"
   ]
  },
  {
   "cell_type": "markdown",
   "id": "8882f2d3",
   "metadata": {},
   "source": [
    "#### **Check the other XPEHH lists**"
   ]
  },
  {
   "cell_type": "markdown",
   "id": "9f7cfaae",
   "metadata": {},
   "source": [
    "**Check the list legnths based on chrom lengths**"
   ]
  },
  {
   "cell_type": "code",
   "execution_count": null,
   "id": "4b99783b",
   "metadata": {},
   "outputs": [],
   "source": [
    "Counter(callset['variants/CHROM'])"
   ]
  },
  {
   "cell_type": "markdown",
   "id": "3ebe59f8",
   "metadata": {},
   "source": [
    "*KL & KL DH*"
   ]
  },
  {
   "cell_type": "code",
   "execution_count": null,
   "id": "0082d04f",
   "metadata": {},
   "outputs": [],
   "source": [
    "for KL_chrom in list_all_chrom_IHS_KL:\n",
    "    print(len(KL_chrom))"
   ]
  },
  {
   "cell_type": "code",
   "execution_count": null,
   "id": "96a3c0bd",
   "metadata": {},
   "outputs": [],
   "source": [
    "for KL_pos in IHS_pos_list_KL:\n",
    "    print(len(KL_pos))"
   ]
  },
  {
   "cell_type": "code",
   "execution_count": null,
   "id": "bee86540",
   "metadata": {},
   "outputs": [],
   "source": [
    "for KL_chrom_num in IHS_chrom_list_KL:\n",
    "    print(len(KL_chrom_num))"
   ]
  },
  {
   "cell_type": "markdown",
   "id": "6e447a4e",
   "metadata": {},
   "source": [
    "*LL & LL DH*"
   ]
  },
  {
   "cell_type": "code",
   "execution_count": null,
   "id": "1f52059f",
   "metadata": {},
   "outputs": [],
   "source": [
    "for LL_chrom in list_all_chrom_IHS_LL:\n",
    "    print(len(LL_chrom))"
   ]
  },
  {
   "cell_type": "code",
   "execution_count": null,
   "id": "8f9b5d02",
   "metadata": {},
   "outputs": [],
   "source": [
    "for LL_pos in IHS_pos_list_LL:\n",
    "    print(len(LL_pos))"
   ]
  },
  {
   "cell_type": "code",
   "execution_count": null,
   "id": "ae48499c",
   "metadata": {},
   "outputs": [],
   "source": [
    "for LL_chrom_num in IHS_chrom_list_LL:\n",
    "    print(len(LL_chrom_num))"
   ]
  },
  {
   "cell_type": "markdown",
   "id": "902262ab",
   "metadata": {},
   "source": [
    "*PE & PE DH*"
   ]
  },
  {
   "cell_type": "code",
   "execution_count": null,
   "id": "cb3380a9",
   "metadata": {},
   "outputs": [],
   "source": [
    "for PE_chrom in list_all_chrom_IHS_PE:\n",
    "    print(len(PE_chrom))"
   ]
  },
  {
   "cell_type": "code",
   "execution_count": null,
   "id": "39f96ad3",
   "metadata": {},
   "outputs": [],
   "source": [
    "for PE_pos in IHS_pos_list_PE:\n",
    "    print(len(PE_pos))"
   ]
  },
  {
   "cell_type": "code",
   "execution_count": null,
   "id": "6ac060cc",
   "metadata": {},
   "outputs": [],
   "source": [
    "for PE_chrom_num in IHS_chrom_list_PE:\n",
    "    print(len(PE_chrom_num))"
   ]
  },
  {
   "cell_type": "markdown",
   "id": "77e80d69",
   "metadata": {},
   "source": [
    "#### **Make density plot for each DH population**"
   ]
  },
  {
   "cell_type": "markdown",
   "id": "43a932ad",
   "metadata": {},
   "source": [
    "**Flatten the IHS vlaue lists**"
   ]
  },
  {
   "cell_type": "code",
   "execution_count": null,
   "id": "10149f43",
   "metadata": {},
   "outputs": [],
   "source": [
    "list_all_chrom_IHS_KL_flatten=list(itertools.chain(*list_all_chrom_IHS_KL))"
   ]
  },
  {
   "cell_type": "code",
   "execution_count": null,
   "id": "481efdf7",
   "metadata": {},
   "outputs": [],
   "source": [
    "list_all_chrom_IHS_LL_flatten=list(itertools.chain(*list_all_chrom_IHS_LL))"
   ]
  },
  {
   "cell_type": "code",
   "execution_count": null,
   "id": "f51fa6fd",
   "metadata": {},
   "outputs": [],
   "source": [
    "list_all_chrom_IHS_PE_flatten=list(itertools.chain(*list_all_chrom_IHS_PE))"
   ]
  },
  {
   "cell_type": "code",
   "execution_count": null,
   "id": "ffb9febe",
   "metadata": {},
   "outputs": [],
   "source": [
    "len(list_all_chrom_IHS_KL_flatten)"
   ]
  },
  {
   "cell_type": "code",
   "execution_count": null,
   "id": "169f89ed",
   "metadata": {},
   "outputs": [],
   "source": [
    "len(list_all_chrom_IHS_LL_flatten)"
   ]
  },
  {
   "cell_type": "code",
   "execution_count": null,
   "id": "e71f3163",
   "metadata": {},
   "outputs": [],
   "source": [
    "len(list_all_chrom_IHS_PE_flatten)"
   ]
  },
  {
   "cell_type": "markdown",
   "id": "ad39c247",
   "metadata": {},
   "source": [
    "**Make the Gaussian Distributions**"
   ]
  },
  {
   "cell_type": "code",
   "execution_count": null,
   "id": "d1a1c731",
   "metadata": {},
   "outputs": [],
   "source": [
    "#normal distribution\n",
    "mu = 0 #mu is the mean or expectation, location of max \n",
    "variance = 1 #variance is standard deviation\n",
    "sigma = math.sqrt(variance) #sigma is standard deviation squared\n",
    "x = np.linspace(mu - 3*sigma, mu + 3*sigma, 100) #make a normal distribution with 100 values \n",
    "plt.plot(x, stats.norm.pdf(x, mu, sigma)) # plot the normal distribution \n",
    "\n",
    "#set the plot parameters \n",
    "plt.xlim(-5,5) #x-axis limits \n",
    "plt.ylim(0,0.45) #y-axis limits \n",
    "sns.despine(offset={'bottom': 20}) #move the x-axis away\n",
    "plt.show()"
   ]
  },
  {
   "cell_type": "markdown",
   "id": "91aa5698",
   "metadata": {},
   "source": [
    "**Plot the IHS density plot & Gaussian distribution**"
   ]
  },
  {
   "cell_type": "code",
   "execution_count": null,
   "id": "ed62d43d",
   "metadata": {},
   "outputs": [],
   "source": [
    "#KL IHS\n",
    "sns.kdeplot(data=list_all_chrom_IHS_KL_flatten).set_title(\"Genome-wide distribution standardized IHS - DH KL\") #plot IHS\n",
    "plt.plot(x, stats.norm.pdf(x, mu, sigma)) #plot normal distribution\n",
    "\n",
    "#set the plot parameters\n",
    "plt.xlim(-5,5) #x-limit axis\n",
    "plt.ylim(0,0.45) #y-limit axis\n",
    "sns.despine(offset={'bottom': 20}) #move the x-axis away\n",
    "plt.show()"
   ]
  },
  {
   "cell_type": "code",
   "execution_count": null,
   "id": "1db1e221",
   "metadata": {},
   "outputs": [],
   "source": [
    "#LL IHS\n",
    "sns.kdeplot(list_all_chrom_IHS_LL_flatten).set_title(\"Genome-wide distribution standardized IHS - DH LL\") #plot IHS\n",
    "plt.plot(x, stats.norm.pdf(x, mu, sigma)) #plot normal distribution\n",
    "\n",
    "#set the plot parameters\n",
    "plt.xlim(-5,5) #x-limit axis\n",
    "plt.ylim(0,0.45) #y-limit axis \n",
    "sns.despine(offset={'bottom': 20}) #move the x-axis away\n",
    "plt.show()"
   ]
  },
  {
   "cell_type": "code",
   "execution_count": null,
   "id": "395ee999",
   "metadata": {},
   "outputs": [],
   "source": [
    "#PE IHS\n",
    "sns.kdeplot(list_all_chrom_IHS_PE_flatten).set_title(\"Genome-wide distribution standardized IHS - DH PE\") #plot IHS\n",
    "plt.plot(x, stats.norm.pdf(x, mu, sigma)) #plot normal distribution\n",
    "\n",
    "#set the plot parameters\n",
    "plt.xlim(-5,5) #x-limit axis\n",
    "plt.ylim(0,0.45) #y-limit axis \n",
    "sns.despine(offset={'bottom': 20}) # move the x-axis aways\n",
    "plt.show()"
   ]
  },
  {
   "cell_type": "markdown",
   "id": "d5e1d32f",
   "metadata": {},
   "source": [
    "#### **Make a IHS dataframe**"
   ]
  },
  {
   "cell_type": "markdown",
   "id": "9da928c8",
   "metadata": {},
   "source": [
    "**Flatten the lists for the dataframes** - sum(l, []) should also work"
   ]
  },
  {
   "cell_type": "markdown",
   "id": "502b6f88",
   "metadata": {},
   "source": [
    "*KL DH*"
   ]
  },
  {
   "cell_type": "code",
   "execution_count": null,
   "id": "c3ec2721",
   "metadata": {},
   "outputs": [],
   "source": [
    "IHS_pos_list_KL_flatten=list(itertools.chain(*IHS_pos_list_KL))"
   ]
  },
  {
   "cell_type": "code",
   "execution_count": null,
   "id": "0b854434",
   "metadata": {},
   "outputs": [],
   "source": [
    "IHS_chrom_list_KL_flatten=list(itertools.chain(*IHS_chrom_list_KL))"
   ]
  },
  {
   "cell_type": "code",
   "execution_count": null,
   "id": "19796091",
   "metadata": {},
   "outputs": [],
   "source": [
    "IHS_ID_list_KL_flatten=list(itertools.chain(*list_ID_KL))"
   ]
  },
  {
   "cell_type": "code",
   "execution_count": null,
   "id": "43bf2ea8",
   "metadata": {},
   "outputs": [],
   "source": [
    "#check the lengths \n",
    "print(len(list_all_chrom_IHS_KL_flatten))\n",
    "print(len(IHS_pos_list_KL_flatten))\n",
    "print(len(IHS_chrom_list_KL_flatten))\n",
    "print(len(IHS_ID_list_KL_flatten))"
   ]
  },
  {
   "cell_type": "code",
   "execution_count": null,
   "id": "922d0c37",
   "metadata": {},
   "outputs": [],
   "source": [
    "range_len_KL=len(list_all_chrom_IHS_KL_flatten)"
   ]
  },
  {
   "cell_type": "code",
   "execution_count": null,
   "id": "5e97a3bd",
   "metadata": {},
   "outputs": [],
   "source": [
    "#make the dataframe\n",
    "KL_dataframe = pd.DataFrame(\n",
    "    {'ID_KL':IHS_ID_list_KL_flatten,\n",
    "     'chrom_KL': IHS_chrom_list_KL_flatten,\n",
    "     'pos_KL': IHS_pos_list_KL_flatten,\n",
    "     'IHS_KL': list_all_chrom_IHS_KL_flatten,\n",
    "     'ind': range(len(range(range_len_KL)))\n",
    "    })"
   ]
  },
  {
   "cell_type": "code",
   "execution_count": null,
   "id": "fdcfee62",
   "metadata": {},
   "outputs": [],
   "source": [
    "KL_dataframe['chrom_KL'] = 'Chr ' + KL_dataframe['chrom_KL'].astype(str)"
   ]
  },
  {
   "cell_type": "code",
   "execution_count": null,
   "id": "97819ed5",
   "metadata": {},
   "outputs": [],
   "source": [
    "KL_dataframe"
   ]
  },
  {
   "cell_type": "markdown",
   "id": "0590e53c",
   "metadata": {},
   "source": [
    "*LL DH*"
   ]
  },
  {
   "cell_type": "code",
   "execution_count": null,
   "id": "78788ebc",
   "metadata": {},
   "outputs": [],
   "source": [
    "IHS_pos_list_LL_flatten=list(itertools.chain(*IHS_pos_list_LL))"
   ]
  },
  {
   "cell_type": "code",
   "execution_count": null,
   "id": "5695a010",
   "metadata": {},
   "outputs": [],
   "source": [
    "IHS_chrom_list_LL_flatten=list(itertools.chain(*IHS_chrom_list_LL))"
   ]
  },
  {
   "cell_type": "code",
   "execution_count": null,
   "id": "57e39ff8",
   "metadata": {},
   "outputs": [],
   "source": [
    "IHS_ID_list_LL_flatten=list(itertools.chain(*list_ID_LL))"
   ]
  },
  {
   "cell_type": "code",
   "execution_count": null,
   "id": "cdbdf1cf",
   "metadata": {},
   "outputs": [],
   "source": [
    "#check the lengths \n",
    "print(len(list_all_chrom_IHS_LL_flatten))\n",
    "print(len(IHS_pos_list_LL_flatten))\n",
    "print(len(IHS_chrom_list_LL_flatten))\n",
    "print(len(IHS_ID_list_LL_flatten))"
   ]
  },
  {
   "cell_type": "code",
   "execution_count": null,
   "id": "b13f15d8",
   "metadata": {
    "scrolled": true
   },
   "outputs": [],
   "source": [
    "range_len_LL=len(list_all_chrom_IHS_LL_flatten)"
   ]
  },
  {
   "cell_type": "code",
   "execution_count": null,
   "id": "99d689de",
   "metadata": {},
   "outputs": [],
   "source": [
    "#make the dataframe \n",
    "LL_dataframe = pd.DataFrame(\n",
    "    {'ID_LL':IHS_ID_list_LL_flatten,\n",
    "     'chrom_LL': IHS_chrom_list_LL_flatten,\n",
    "     'pos_LL': IHS_pos_list_LL_flatten,\n",
    "     'IHS_LL': list_all_chrom_IHS_LL_flatten,\n",
    "     'ind': range(len(range(range_len_LL)))\n",
    "    })"
   ]
  },
  {
   "cell_type": "code",
   "execution_count": null,
   "id": "7d890587",
   "metadata": {},
   "outputs": [],
   "source": [
    "LL_dataframe['chrom_LL'] = 'Chr ' + LL_dataframe['chrom_LL'].astype(str)"
   ]
  },
  {
   "cell_type": "code",
   "execution_count": null,
   "id": "34726275",
   "metadata": {},
   "outputs": [],
   "source": [
    "LL_dataframe"
   ]
  },
  {
   "cell_type": "markdown",
   "id": "5130fc9e",
   "metadata": {},
   "source": [
    "*PE DH*"
   ]
  },
  {
   "cell_type": "code",
   "execution_count": null,
   "id": "34051fd7",
   "metadata": {},
   "outputs": [],
   "source": [
    "IHS_pos_list_PE_flatten=list(itertools.chain(*IHS_pos_list_PE))"
   ]
  },
  {
   "cell_type": "code",
   "execution_count": null,
   "id": "8dc9db66",
   "metadata": {},
   "outputs": [],
   "source": [
    "IHS_chrom_list_PE_flatten=list(itertools.chain(*IHS_chrom_list_PE))"
   ]
  },
  {
   "cell_type": "code",
   "execution_count": null,
   "id": "4678986d",
   "metadata": {},
   "outputs": [],
   "source": [
    "IHS_ID_list_PE_flatten=list(itertools.chain(*list_ID_PE))"
   ]
  },
  {
   "cell_type": "code",
   "execution_count": null,
   "id": "1b0eb84c",
   "metadata": {},
   "outputs": [],
   "source": [
    "#check the lengths \n",
    "print(len(list_all_chrom_IHS_PE_flatten))\n",
    "print(len(IHS_pos_list_PE_flatten))\n",
    "print(len(IHS_chrom_list_PE_flatten))\n",
    "print(len(IHS_ID_list_PE_flatten))"
   ]
  },
  {
   "cell_type": "code",
   "execution_count": null,
   "id": "cfd49418",
   "metadata": {},
   "outputs": [],
   "source": [
    "range_len_PE=len(list_all_chrom_IHS_PE_flatten)"
   ]
  },
  {
   "cell_type": "code",
   "execution_count": null,
   "id": "3113cce2",
   "metadata": {},
   "outputs": [],
   "source": [
    "#make the dataframe \n",
    "PE_dataframe = pd.DataFrame(\n",
    "    {'ID_PE':IHS_ID_list_PE_flatten,\n",
    "     'chrom_PE': IHS_chrom_list_PE_flatten,\n",
    "     'pos_PE': IHS_pos_list_PE_flatten,\n",
    "     'IHS_PE': list_all_chrom_IHS_PE_flatten,\n",
    "     'ind': range(len(range(range_len_PE)))\n",
    "    })"
   ]
  },
  {
   "cell_type": "code",
   "execution_count": null,
   "id": "28665a84",
   "metadata": {},
   "outputs": [],
   "source": [
    "PE_dataframe['chrom_PE'] = 'Chr ' + PE_dataframe['chrom_PE'].astype(str)"
   ]
  },
  {
   "cell_type": "code",
   "execution_count": null,
   "id": "45aab36f",
   "metadata": {},
   "outputs": [],
   "source": [
    "PE_dataframe"
   ]
  },
  {
   "cell_type": "markdown",
   "id": "6554d7fd",
   "metadata": {},
   "source": [
    "#### **Calculate p-value for each IHS value**"
   ]
  },
  {
   "cell_type": "markdown",
   "id": "056b7e23",
   "metadata": {},
   "source": [
    "piHS=−log10(2Φ(−|iHS|))"
   ]
  },
  {
   "cell_type": "code",
   "execution_count": null,
   "id": "584f6c11",
   "metadata": {},
   "outputs": [],
   "source": [
    "KL_dataframe['pIHS_KL']=-np.log10(2 * stats.norm.cdf(-abs(KL_dataframe.IHS_KL)))"
   ]
  },
  {
   "cell_type": "code",
   "execution_count": null,
   "id": "5f8cb276",
   "metadata": {},
   "outputs": [],
   "source": [
    "LL_dataframe['pIHS_LL']=-np.log10(2 * stats.norm.cdf(-abs(LL_dataframe.IHS_LL)))"
   ]
  },
  {
   "cell_type": "code",
   "execution_count": null,
   "id": "b76d041a",
   "metadata": {},
   "outputs": [],
   "source": [
    "PE_dataframe['pIHS_PE']=-np.log10(2 * stats.norm.cdf(-abs(PE_dataframe.IHS_PE)))"
   ]
  },
  {
   "cell_type": "markdown",
   "id": "e471e152",
   "metadata": {},
   "source": [
    "#### **Make Manhattan Plot**"
   ]
  },
  {
   "cell_type": "code",
   "execution_count": null,
   "id": "750a63dd",
   "metadata": {},
   "outputs": [],
   "source": [
    "for_axis"
   ]
  },
  {
   "cell_type": "code",
   "execution_count": null,
   "id": "42aff2e1",
   "metadata": {},
   "outputs": [],
   "source": [
    "KL_dataframe_re=KL_dataframe.rename(columns={\"ID_KL\": \"ID\", \"chrom_KL\":\"CHROM\" , \"pos_KL\":\"POS\"})"
   ]
  },
  {
   "cell_type": "code",
   "execution_count": null,
   "id": "e7a49999",
   "metadata": {},
   "outputs": [],
   "source": [
    "#KL_dataframe_re"
   ]
  },
  {
   "cell_type": "code",
   "execution_count": null,
   "id": "b225a932",
   "metadata": {},
   "outputs": [],
   "source": [
    "KL_dataframe_re_dropped=KL_dataframe_re.drop(columns=[\"ind\",\"IHS_KL\",\"CHROM\"])\n",
    "KL_dataframe_re_dropped"
   ]
  },
  {
   "cell_type": "code",
   "execution_count": null,
   "id": "9634a50e",
   "metadata": {},
   "outputs": [],
   "source": [
    "LL_dataframe_re=LL_dataframe.rename(columns={\"ID_LL\": \"ID\", \"chrom_LL\":\"CHROM\" , \"pos_LL\":\"POS\"})"
   ]
  },
  {
   "cell_type": "code",
   "execution_count": null,
   "id": "f8ea30b5",
   "metadata": {},
   "outputs": [],
   "source": [
    "#LL_dataframe_re"
   ]
  },
  {
   "cell_type": "code",
   "execution_count": null,
   "id": "bd424d0f",
   "metadata": {},
   "outputs": [],
   "source": [
    "LL_dataframe_re_dropped=LL_dataframe_re.drop(columns=[\"ind\",\"IHS_LL\",\"CHROM\"])\n",
    "LL_dataframe_re_dropped"
   ]
  },
  {
   "cell_type": "code",
   "execution_count": null,
   "id": "31b874a9",
   "metadata": {},
   "outputs": [],
   "source": [
    "PE_dataframe_re=PE_dataframe.rename(columns={\"ID_PE\": \"ID\", \"chrom_PE\":\"CHROM\" , \"pos_PE\":\"POS\"})"
   ]
  },
  {
   "cell_type": "code",
   "execution_count": null,
   "id": "b04479b8",
   "metadata": {},
   "outputs": [],
   "source": [
    "#PE_dataframe_re"
   ]
  },
  {
   "cell_type": "code",
   "execution_count": null,
   "id": "51fade5a",
   "metadata": {},
   "outputs": [],
   "source": [
    "PE_dataframe_re_dropped=PE_dataframe_re.drop(columns=[\"ind\",\"IHS_PE\",\"CHROM\"])\n",
    "PE_dataframe_re_dropped"
   ]
  },
  {
   "cell_type": "code",
   "execution_count": null,
   "id": "3b228416",
   "metadata": {},
   "outputs": [],
   "source": [
    "merge_1 = pd.merge(for_axis,KL_dataframe_re_dropped, how=\"outer\", on=[\"ID\",\"POS\"])"
   ]
  },
  {
   "cell_type": "code",
   "execution_count": null,
   "id": "9757cd31",
   "metadata": {},
   "outputs": [],
   "source": [
    "merge_1"
   ]
  },
  {
   "cell_type": "code",
   "execution_count": null,
   "id": "988b758b",
   "metadata": {},
   "outputs": [],
   "source": [
    "merge_2 = pd.merge(for_axis,LL_dataframe_re_dropped, how=\"outer\", on=[\"ID\",\"POS\"])"
   ]
  },
  {
   "cell_type": "code",
   "execution_count": null,
   "id": "411cf591",
   "metadata": {},
   "outputs": [],
   "source": [
    "merge_2"
   ]
  },
  {
   "cell_type": "code",
   "execution_count": null,
   "id": "4e766592",
   "metadata": {},
   "outputs": [],
   "source": [
    "merge_3 = pd.merge(for_axis,PE_dataframe_re_dropped, how=\"outer\", on=[\"ID\",\"POS\"])"
   ]
  },
  {
   "cell_type": "code",
   "execution_count": null,
   "id": "e5327eb0",
   "metadata": {},
   "outputs": [],
   "source": [
    "merge_3"
   ]
  },
  {
   "cell_type": "code",
   "execution_count": null,
   "id": "907a2b08",
   "metadata": {},
   "outputs": [],
   "source": [
    "merge_all=merge_1.merge(merge_2,on=[\"ID\",\"POS\",\"CHROM\"]).merge(merge_3,on=[\"ID\",\"POS\",\"CHROM\"])\n",
    "merge_all"
   ]
  },
  {
   "cell_type": "code",
   "execution_count": null,
   "id": "03a43b75",
   "metadata": {},
   "outputs": [],
   "source": [
    "result_1=merge_all.loc[merge_all['CHROM'] == \"1\"]\n",
    "result_1"
   ]
  },
  {
   "cell_type": "code",
   "execution_count": null,
   "id": "22130f3b",
   "metadata": {},
   "outputs": [],
   "source": [
    "result_2=merge_all.loc[merge_all['CHROM'] == \"2\"]\n",
    "result_2"
   ]
  },
  {
   "cell_type": "code",
   "execution_count": null,
   "id": "668a7344",
   "metadata": {},
   "outputs": [],
   "source": [
    "result_3=merge_all.loc[merge_all['CHROM'] == \"3\"]\n",
    "result_3"
   ]
  },
  {
   "cell_type": "code",
   "execution_count": null,
   "id": "0977d17b",
   "metadata": {},
   "outputs": [],
   "source": [
    "result_4=merge_all.loc[merge_all['CHROM'] == \"4\"]\n",
    "result_4"
   ]
  },
  {
   "cell_type": "code",
   "execution_count": null,
   "id": "4bfab265",
   "metadata": {},
   "outputs": [],
   "source": [
    "result_5=merge_all.loc[merge_all['CHROM'] == \"5\"]\n",
    "result_5"
   ]
  },
  {
   "cell_type": "code",
   "execution_count": null,
   "id": "13b1c7dc",
   "metadata": {},
   "outputs": [],
   "source": [
    "result_6=merge_all.loc[merge_all['CHROM'] == \"6\"]\n",
    "result_6"
   ]
  },
  {
   "cell_type": "code",
   "execution_count": null,
   "id": "e2ce4cb7",
   "metadata": {},
   "outputs": [],
   "source": [
    "result_7=merge_all.loc[merge_all['CHROM'] == \"7\"]\n",
    "result_7"
   ]
  },
  {
   "cell_type": "code",
   "execution_count": null,
   "id": "3cc3ace5",
   "metadata": {},
   "outputs": [],
   "source": [
    "result_8=merge_all.loc[merge_all['CHROM'] == \"8\"]\n",
    "result_8"
   ]
  },
  {
   "cell_type": "code",
   "execution_count": null,
   "id": "fd4543c6",
   "metadata": {},
   "outputs": [],
   "source": [
    "result_9=merge_all.loc[merge_all['CHROM'] == \"9\"]\n",
    "result_9"
   ]
  },
  {
   "cell_type": "code",
   "execution_count": null,
   "id": "db05962f",
   "metadata": {},
   "outputs": [],
   "source": [
    "result_10=merge_all.loc[merge_all['CHROM'] == \"10\"]\n",
    "result_10"
   ]
  },
  {
   "cell_type": "code",
   "execution_count": null,
   "id": "3eaa723a",
   "metadata": {},
   "outputs": [],
   "source": [
    "result_list=[\"result_1\",\"result_2\",\"result_3\",\"result_4\",\"result_5\",\"result_6\",\"result_7\",\"result_8\",\"result_9\",\"result_10\"]"
   ]
  },
  {
   "cell_type": "code",
   "execution_count": null,
   "id": "68b9d1af",
   "metadata": {},
   "outputs": [],
   "source": [
    "pal=sns.color_palette(\"hls\", 10)\n",
    "hex_col=pal.as_hex()\n",
    "print(hex_col)"
   ]
  },
  {
   "cell_type": "code",
   "execution_count": null,
   "id": "18b0e627",
   "metadata": {},
   "outputs": [],
   "source": [
    "for i in range(10):\n",
    "    #print(i)\n",
    "    num=i+1\n",
    "    #print(num)\n",
    "    data_select=merge_all.loc[merge_all['CHROM'] == str(num)] \n",
    "    \n",
    "    fig1, (ax1, ax2, ax3) = plt.subplots(nrows=3, ncols=1)\n",
    "    \n",
    "    fig1.set_size_inches(10, 15)\n",
    "    fig1.subplots_adjust(hspace=0.2)\n",
    "    \n",
    "    sns.scatterplot(data=data_select, x=\"POS\", y=\"pIHS_KL\", ax=ax1, color=hex_col[i])\n",
    "    ax1.set(ylim=(0,17))\n",
    "    ax1.spines['top'].set_visible(False)\n",
    "    ax1.spines['right'].set_visible(False)\n",
    "    ax1.set_ylabel(\"-log10(pIHS value)\",fontweight=\"bold\")\n",
    "    ax1.set_xlabel(\"Chr \" + str(num) + \" - pIHS_KL\",fontweight=\"bold\",fontsize=10)\n",
    "    ax1.axhline(y=6.99, color='black', linestyle='dashed',linewidth=1)\n",
    "\n",
    "    sns.scatterplot(data=data_select, x=\"POS\", y=\"pIHS_LL\", ax=ax2, color=hex_col[i])\n",
    "    ax2.set(ylim=(0,17))\n",
    "    ax2.spines['top'].set_visible(False)\n",
    "    ax2.spines['right'].set_visible(False)\n",
    "    ax2.set_ylabel(\"-log10(pIHS value)\",fontweight=\"bold\")\n",
    "    ax2.set_xlabel(\"Chr \" + str(num) + \" - pIHS_LL\",fontweight=\"bold\",fontsize=10)\n",
    "    ax2.axhline(y=6.99, color='black', linestyle='dashed',linewidth=1)\n",
    "\n",
    "    sns.scatterplot(data=data_select, x=\"POS\", y=\"pIHS_PE\", ax=ax3, color=hex_col[i])\n",
    "    ax3.set(ylim=(0,17))\n",
    "    ax3.spines['top'].set_visible(False)\n",
    "    ax3.spines['right'].set_visible(False)\n",
    "    ax3.set_ylabel(\"-log10(pIHS value)\",fontweight=\"bold\")\n",
    "    ax3.set_xlabel(\"Chr \" + str(num) + \" - pIHS_PE\",fontweight=\"bold\",fontsize=10)\n",
    "    ax3.axhline(y=6.99, color='black', linestyle='dashed',linewidth=1)\n",
    "    \n",
    "    plt.savefig('piHS'+str(num)+'.png')\n",
    "    \n",
    "    plt.clf()\n",
    "    "
   ]
  },
  {
   "cell_type": "code",
   "execution_count": null,
   "id": "40380365",
   "metadata": {},
   "outputs": [],
   "source": []
  }
 ],
 "metadata": {
  "kernelspec": {
   "display_name": "Python 3",
   "language": "python",
   "name": "python3"
  },
  "language_info": {
   "codemirror_mode": {
    "name": "ipython",
    "version": 3
   },
   "file_extension": ".py",
   "mimetype": "text/x-python",
   "name": "python",
   "nbconvert_exporter": "python",
   "pygments_lexer": "ipython3",
   "version": "3.7.9"
  }
 },
 "nbformat": 4,
 "nbformat_minor": 5
}
