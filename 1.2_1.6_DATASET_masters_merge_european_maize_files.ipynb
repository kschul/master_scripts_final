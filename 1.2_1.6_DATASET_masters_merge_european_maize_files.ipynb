{
 "cells": [
  {
   "cell_type": "markdown",
   "id": "429ebbcf",
   "metadata": {},
   "source": [
    "## **1.2_1.6_DATASET_masters_merge_european_maize_files.ipynb**"
   ]
  },
  {
   "cell_type": "markdown",
   "id": "3c139702",
   "metadata": {},
   "source": [
    "### GOALS of this script:\n",
    "* part one of whole merging workflow for the masters\n",
    "* numbering in accordance to workflow_europe_maize_dataset_prep_masters\n",
    "* combination/check of:\n",
    "    * merging_script_final-Copy1.ipynb\n",
    "    * merging_script_final.ipynb\n",
    "    * the corresponding number steps\n",
    "* OUT: final_columns_xxx_for_masters.csv"
   ]
  },
  {
   "cell_type": "markdown",
   "id": "738e736a",
   "metadata": {},
   "source": [
    "### *Import packages*"
   ]
  },
  {
   "cell_type": "code",
   "execution_count": null,
   "id": "ba920491",
   "metadata": {},
   "outputs": [],
   "source": [
    "import gzip\n",
    "import allel\n",
    "import pandas as pd\n",
    "import numpy as np\n",
    "import tskit\n",
    "import tsinfer\n",
    "import sys\n",
    "import json\n",
    "import csv\n",
    "from IPython.display import SVG\n",
    "from IPython.display import HTML\n",
    "from collections import Counter\n",
    "import matplotlib.pyplot as plt\n",
    "import seaborn as sns\n",
    "from openpyxl import Workbook\n",
    "from progressbar import ProgressBar\n",
    "sns.set_style('white')\n",
    "sns.set_style('ticks')"
   ]
  },
  {
   "cell_type": "markdown",
   "id": "cd700048",
   "metadata": {},
   "source": [
    "## **1.2 Read in all dataset files as hapmap format**"
   ]
  },
  {
   "cell_type": "markdown",
   "id": "948099bd",
   "metadata": {},
   "source": [
    "### *Read in Unterseer_2016 files*"
   ]
  },
  {
   "cell_type": "markdown",
   "id": "56e54be3",
   "metadata": {},
   "source": [
    "#### *Read in hapmap file*"
   ]
  },
  {
   "cell_type": "code",
   "execution_count": null,
   "id": "9369cda9",
   "metadata": {},
   "outputs": [],
   "source": [
    "unterseer_2016_landraces_hapmap=pd.read_csv(\"/Users/kschul38/Documents/tsinfer-project/data/2_processed/europe_maize_dataset_600k/unterseer_2016_landraces_hapmap.hmp.txt\",sep=\"\\t\")\n",
    "unterseer_2016_landraces_hapmap"
   ]
  },
  {
   "cell_type": "code",
   "execution_count": null,
   "id": "6b309c24",
   "metadata": {},
   "outputs": [],
   "source": [
    "unterseer_2016_elite_hapmap=pd.read_csv(\"/Users/kschul38/Documents/tsinfer-project/data/2_processed/europe_maize_dataset_600k/unterseer_2016_elite_hapmap.hmp.txt\",sep=\"\\t\")\n",
    "unterseer_2016_elite_hapmap"
   ]
  },
  {
   "cell_type": "markdown",
   "id": "69c8f678",
   "metadata": {},
   "source": [
    "### *Read in Mayer_2020 files*"
   ]
  },
  {
   "cell_type": "markdown",
   "id": "9e80d0c6",
   "metadata": {},
   "source": [
    "#### *Read in .txt file* "
   ]
  },
  {
   "cell_type": "code",
   "execution_count": null,
   "id": "4dd6e343",
   "metadata": {},
   "outputs": [],
   "source": [
    "#read in the .txt file from the /data/1_raw/4_Mayer_2017 folder \n",
    "mayer_2020_dhlines=pd.read_csv('/Users/kschul38/Documents/tsinfer-project/data/1_raw/3_Mayer_2020/Mayer_et_al_genotypes_DHlines_600k_raw.txt.gz', sep=\" \")\n",
    "#markers already used as row names "
   ]
  },
  {
   "cell_type": "code",
   "execution_count": null,
   "id": "dde45189",
   "metadata": {},
   "outputs": [],
   "source": [
    "mayer_2020_dhlines"
   ]
  },
  {
   "cell_type": "markdown",
   "id": "d370e812",
   "metadata": {},
   "source": [
    "### *Read in Mayer_2017 files*"
   ]
  },
  {
   "cell_type": "markdown",
   "id": "0183b0ce",
   "metadata": {},
   "source": [
    "#### *Read in .txt file*"
   ]
  },
  {
   "cell_type": "code",
   "execution_count": null,
   "id": "823072b9",
   "metadata": {},
   "outputs": [],
   "source": [
    "#read in the .txt file from the /data/1_raw/4_Mayer_2017 folder \n",
    "mayer_2017_landraces=pd.read_csv('/Users/kschul38/Documents/tsinfer-project/data/1_raw/4_Mayer_2017/TUM-PLANTBREEDING_Maize600k_35landraces_952individuals_raw.txt', sep=\" \")\n",
    "mayer_2017_landraces=mayer_2017_landraces.reset_index()\n",
    "#markers already used as row names "
   ]
  },
  {
   "cell_type": "code",
   "execution_count": null,
   "id": "8c0693bb",
   "metadata": {},
   "outputs": [],
   "source": [
    "mayer_2017_landraces"
   ]
  },
  {
   "cell_type": "markdown",
   "id": "ec8a357e",
   "metadata": {},
   "source": [
    "# **1.3 Read in .vcf files**"
   ]
  },
  {
   "cell_type": "markdown",
   "id": "09e28a98",
   "metadata": {},
   "source": [
    "### *Read in the Axiom Array marker, the IDs and the marker quality classifications*"
   ]
  },
  {
   "cell_type": "markdown",
   "id": "caf42174",
   "metadata": {},
   "source": [
    "#### *Read in Unterseer_2016_landraces vcf file*"
   ]
  },
  {
   "cell_type": "code",
   "execution_count": null,
   "id": "7ed218be",
   "metadata": {},
   "outputs": [],
   "source": [
    "unterseer_2016_landraces_vcf= allel.read_vcf('/Users/kschul38/Documents/tsinfer-project/data/1_raw/5_Unterseer_2016/TUM-PLANTBREEDING_Maize600k_landraces.vcf',fields=['variants/ID','variants/AD', 'variants/CMT'] , log=sys.stdout)"
   ]
  },
  {
   "cell_type": "code",
   "execution_count": null,
   "id": "8a826446",
   "metadata": {},
   "outputs": [],
   "source": [
    "#unterseer_2016_landraces_vcf"
   ]
  },
  {
   "cell_type": "code",
   "execution_count": null,
   "id": "5b9eea33",
   "metadata": {},
   "outputs": [],
   "source": [
    "#unterseer_landraces_dataframe = allel.vcf_to_dataframe('/Users/kschul38/Documents/tsinfer-project/data/1_raw/5_Unterseer_2016/TUM-PLANTBREEDING_Maize600k_landraces.vcf', fields= ['variants/ID','variants/AD', 'variants/CMT'])\n",
    "#unterseer_landraces_dataframe = unterseer_landraces_dataframe.reset_index(drop=True)"
   ]
  },
  {
   "cell_type": "markdown",
   "id": "cfd5a82f",
   "metadata": {},
   "source": [
    "#### *Read in Unterseer_2016_elite vcf file*"
   ]
  },
  {
   "cell_type": "code",
   "execution_count": null,
   "id": "10900361",
   "metadata": {},
   "outputs": [],
   "source": [
    "unterseer_2016_elite_vcf= allel.read_vcf('/Users/kschul38/Documents/tsinfer-project/data/1_raw/5_Unterseer_2016/TUM-PLANTBREEDING_Maize600k_elitelines.vcf',fields=['variants/ID','variants/AD', 'variants/CMT'], log=sys.stdout)"
   ]
  },
  {
   "cell_type": "code",
   "execution_count": null,
   "id": "2f94d0ae",
   "metadata": {},
   "outputs": [],
   "source": [
    "#unterseer_2016_elite_vcf"
   ]
  },
  {
   "cell_type": "code",
   "execution_count": null,
   "id": "945e6a73",
   "metadata": {},
   "outputs": [],
   "source": [
    "#unterseer_elite_dataframe = allel.vcf_to_dataframe('/Users/kschul38/Documents/tsinfer-project/data/1_raw/5_Unterseer_2016/TUM-PLANTBREEDING_Maize600k_elitelines.vcf',fields=['variants/ID','variants/AD', 'variants/CMT'])\n",
    "#unterseer_elite_dataframe = unterseer_elite_dataframe.reset_index(drop=True)"
   ]
  },
  {
   "cell_type": "markdown",
   "id": "f5587276",
   "metadata": {},
   "source": [
    "## **1.4 Compare samples between all datasets**"
   ]
  },
  {
   "cell_type": "markdown",
   "id": "a47a3454",
   "metadata": {},
   "source": [
    "### *1.4.1 Compare sample names without prefix - overlap?*"
   ]
  },
  {
   "cell_type": "markdown",
   "id": "a4679cc8",
   "metadata": {},
   "source": [
    "**Only relevant combination - Unterseer_2016_landraces & Mayer_2017_landraces**"
   ]
  },
  {
   "cell_type": "markdown",
   "id": "b4effc4c",
   "metadata": {},
   "source": [
    "*Unterseer_2016_landraces*"
   ]
  },
  {
   "cell_type": "code",
   "execution_count": null,
   "id": "b2a421d2",
   "metadata": {},
   "outputs": [],
   "source": [
    "#get the samples in the hapmap\n",
    "unterseer_2016_landraces_hapmap_columns=list(unterseer_2016_landraces_hapmap.columns)\n",
    "unterseer_2016_landraces_hapmap_columns=unterseer_2016_landraces_hapmap_columns[11:]\n",
    "#unterseer_2016_landraces_hapmap_columns\n",
    "print(len(unterseer_2016_landraces_hapmap_columns))"
   ]
  },
  {
   "cell_type": "code",
   "execution_count": null,
   "id": "571f00c4",
   "metadata": {},
   "outputs": [],
   "source": [
    "unterseer_landraces_pop=Counter([elem.split(\".\", 1)[0] for elem in unterseer_2016_landraces_hapmap_columns])"
   ]
  },
  {
   "cell_type": "code",
   "execution_count": null,
   "id": "50970ed6",
   "metadata": {},
   "outputs": [],
   "source": [
    "unterseer_landraces_pop_array=np.array(list(unterseer_landraces_pop.items()))"
   ]
  },
  {
   "cell_type": "code",
   "execution_count": null,
   "id": "3e2ac04b",
   "metadata": {},
   "outputs": [],
   "source": [
    "unterseer_landraces_pop_dataframe=pd.DataFrame(data=unterseer_landraces_pop_array, columns=[\"Populations\", \"Numbers_unterseer\"])\n",
    "#unterseer_landraces_pop_dataframe"
   ]
  },
  {
   "cell_type": "markdown",
   "id": "53938209",
   "metadata": {},
   "source": [
    "*Mayer_2017_landraces*"
   ]
  },
  {
   "cell_type": "code",
   "execution_count": null,
   "id": "49ae16a6",
   "metadata": {},
   "outputs": [],
   "source": [
    "##get the samples in the hapmap\n",
    "mayer_2017_landraces_columns=list(mayer_2017_landraces.columns)\n",
    "mayer_2017_landraces_columns=mayer_2017_landraces_columns[6:]\n",
    "#mayer_2017_landraces_columns\n",
    "print(len(mayer_2017_landraces_columns))"
   ]
  },
  {
   "cell_type": "code",
   "execution_count": null,
   "id": "563de25b",
   "metadata": {},
   "outputs": [],
   "source": [
    "mayer_landraces_pop=Counter([elem.split(\".\", 1)[0] for elem in mayer_2017_landraces_columns])"
   ]
  },
  {
   "cell_type": "code",
   "execution_count": null,
   "id": "3f8905d7",
   "metadata": {},
   "outputs": [],
   "source": [
    "mayer_landraces_pop_array=np.array(list(mayer_landraces_pop.items()))"
   ]
  },
  {
   "cell_type": "code",
   "execution_count": null,
   "id": "08924f41",
   "metadata": {},
   "outputs": [],
   "source": [
    "mayer_landraces_pop_dataframe=pd.DataFrame(data=mayer_landraces_pop_array, columns=[\"Populations\", \"Numbers_mayer\"])"
   ]
  },
  {
   "cell_type": "code",
   "execution_count": null,
   "id": "d9f21b72",
   "metadata": {},
   "outputs": [],
   "source": [
    "result = pd.merge(unterseer_landraces_pop_dataframe,mayer_landraces_pop_dataframe, on=\"Populations\", how=\"left\")"
   ]
  },
  {
   "cell_type": "code",
   "execution_count": null,
   "id": "e04d63ff",
   "metadata": {},
   "outputs": [],
   "source": [
    "result=result.fillna(0)"
   ]
  },
  {
   "cell_type": "code",
   "execution_count": null,
   "id": "73a04fe5",
   "metadata": {},
   "outputs": [],
   "source": [
    "result[\"Numbers_unterseer\"]=result[\"Numbers_unterseer\"].astype(int)"
   ]
  },
  {
   "cell_type": "code",
   "execution_count": null,
   "id": "ee4b7660",
   "metadata": {},
   "outputs": [],
   "source": [
    "result[\"Numbers_mayer\"]=result[\"Numbers_mayer\"].astype(int)"
   ]
  },
  {
   "cell_type": "code",
   "execution_count": null,
   "id": "ad24bebd",
   "metadata": {},
   "outputs": [],
   "source": [
    "result[\"Difference\"] =result[\"Numbers_unterseer\"] - result[\"Numbers_mayer\"]"
   ]
  },
  {
   "cell_type": "code",
   "execution_count": null,
   "id": "83eef278",
   "metadata": {},
   "outputs": [],
   "source": [
    "#result"
   ]
  },
  {
   "cell_type": "markdown",
   "id": "36099d1a",
   "metadata": {},
   "source": [
    "## **1.5 Merge the quality & marker name columns back into the Unterseer tables**"
   ]
  },
  {
   "cell_type": "markdown",
   "id": "5f74cc0b",
   "metadata": {},
   "source": [
    "### *1.5.1 Add suffix*"
   ]
  },
  {
   "cell_type": "markdown",
   "id": "31ebae9e",
   "metadata": {},
   "source": [
    "#### *Add suffix to hapmap files*"
   ]
  },
  {
   "cell_type": "code",
   "execution_count": null,
   "id": "c6b0e4fa",
   "metadata": {},
   "outputs": [],
   "source": [
    "unterseer_2016_landraces_hapmap_suffix=unterseer_2016_landraces_hapmap.add_suffix('_2016_landraces')\n",
    "unterseer_2016_landraces_hapmap_suffix"
   ]
  },
  {
   "cell_type": "code",
   "execution_count": null,
   "id": "4ff89d61",
   "metadata": {},
   "outputs": [],
   "source": [
    "unterseer_2016_elite_hapmap_suffix=unterseer_2016_elite_hapmap.add_suffix('_2016_elite')\n",
    "unterseer_2016_elite_hapmap_suffix"
   ]
  },
  {
   "cell_type": "code",
   "execution_count": null,
   "id": "8ad5ee20",
   "metadata": {},
   "outputs": [],
   "source": [
    "mayer_2020_dhlines_suffix=mayer_2020_dhlines.add_suffix('_2020_dh')\n",
    "#mayer_2020_dhlines_suffix=mayer_2020_dhlines_suffix.reset_index()\n",
    "mayer_2020_dhlines_suffix"
   ]
  },
  {
   "cell_type": "code",
   "execution_count": null,
   "id": "7d3ecb16",
   "metadata": {},
   "outputs": [],
   "source": [
    "mayer_2017_landraces_suffix=mayer_2017_landraces.add_suffix('_2017_landraces')\n",
    "#mayer_2017_landraces_suffix=mayer_2017_landraces_suffix.reset_index()\n",
    "mayer_2017_landraces_suffix"
   ]
  },
  {
   "cell_type": "code",
   "execution_count": null,
   "id": "486d473d",
   "metadata": {},
   "outputs": [],
   "source": [
    "type(mayer_2017_landraces_suffix)"
   ]
  },
  {
   "cell_type": "markdown",
   "id": "c28bf27c",
   "metadata": {},
   "source": [
    "#### *Rename Unterseer .vcf columns to also contain the suffix*"
   ]
  },
  {
   "cell_type": "code",
   "execution_count": null,
   "id": "5e3a8cb2",
   "metadata": {},
   "outputs": [],
   "source": [
    "unterseer_2016_landraces_vcf.keys()"
   ]
  },
  {
   "cell_type": "code",
   "execution_count": null,
   "id": "b8538f1a",
   "metadata": {},
   "outputs": [],
   "source": [
    "unterseer_2016_elite_vcf.keys()"
   ]
  },
  {
   "cell_type": "code",
   "execution_count": null,
   "id": "d2344518",
   "metadata": {},
   "outputs": [],
   "source": [
    "unterseer_2016_landraces_vcf = pd.DataFrame(data=unterseer_2016_landraces_vcf)\n",
    "#unterseer_2016_landraces_vcf = unterseer_2016_landraces_vcf.set_index(\"variants/ID\")\n",
    "unterseer_2016_landraces_vcf = unterseer_2016_landraces_vcf.rename(columns={\"variants/AD\": \"variants/AD_2016_landraces\",\"variants/CMT\": \"variants/CMT_2016_landraces\", \"variants/ID\": \"rs#_2016_landraces\" })"
   ]
  },
  {
   "cell_type": "code",
   "execution_count": null,
   "id": "37c80663",
   "metadata": {},
   "outputs": [],
   "source": [
    "unterseer_2016_landraces_vcf"
   ]
  },
  {
   "cell_type": "code",
   "execution_count": null,
   "id": "33dbc29a",
   "metadata": {},
   "outputs": [],
   "source": [
    "unterseer_2016_elite_vcf = pd.DataFrame(data=unterseer_2016_elite_vcf)\n",
    "#unterseer_2016_elite_vcf = unterseer_2016_elite_vcf.set_index(\"variants/ID\")\n",
    "unterseer_2016_elite_vcf = unterseer_2016_elite_vcf.rename(columns={\"variants/AD\": \"variants/AD_2016_elite\",\"variants/CMT\": \"variants/CMT_2016_elite\", \"variants/ID\": \"rs#_2016_elite\"})"
   ]
  },
  {
   "cell_type": "code",
   "execution_count": null,
   "id": "b0bbf3d5",
   "metadata": {},
   "outputs": [],
   "source": [
    "type(unterseer_2016_elite_vcf)"
   ]
  },
  {
   "cell_type": "markdown",
   "id": "17fd96bd",
   "metadata": {},
   "source": [
    "### *1.5.2 Merge based on marker ID*"
   ]
  },
  {
   "cell_type": "markdown",
   "id": "94f613c1",
   "metadata": {},
   "source": [
    "#### *Unterseer_2016_elite*"
   ]
  },
  {
   "cell_type": "code",
   "execution_count": null,
   "id": "b833ae8e",
   "metadata": {},
   "outputs": [],
   "source": [
    "unterseer_2016_elite_complete=pd.merge(unterseer_2016_elite_hapmap_suffix, unterseer_2016_elite_vcf, on=\"rs#_2016_elite\")\n",
    "unterseer_2016_elite_complete"
   ]
  },
  {
   "cell_type": "markdown",
   "id": "c5fd7620",
   "metadata": {},
   "source": [
    "#### *Unterseer_2016_landraces*"
   ]
  },
  {
   "cell_type": "code",
   "execution_count": null,
   "id": "2a8b49e1",
   "metadata": {},
   "outputs": [],
   "source": [
    "unterseer_2016_landraces_complete=pd.merge(unterseer_2016_landraces_hapmap_suffix, unterseer_2016_landraces_vcf, on=\"rs#_2016_landraces\")\n",
    "unterseer_2016_landraces_complete"
   ]
  },
  {
   "cell_type": "markdown",
   "id": "1c5be22c",
   "metadata": {},
   "source": [
    "### *1.5.3 reorder the columns in the table*"
   ]
  },
  {
   "cell_type": "markdown",
   "id": "b0c275e5",
   "metadata": {},
   "source": [
    "#### *Unterseer_2016_landraces*"
   ]
  },
  {
   "cell_type": "code",
   "execution_count": null,
   "id": "c8f39ed8",
   "metadata": {},
   "outputs": [],
   "source": [
    "reorder_landraces=unterseer_2016_landraces_hapmap_suffix.columns\n",
    "reorder_landraces_geno=reorder_landraces[11:]\n",
    "reorder_landraces_geno=reorder_landraces_geno.to_list()\n",
    "#reorder_landraces_geno"
   ]
  },
  {
   "cell_type": "code",
   "execution_count": null,
   "id": "0e42438c",
   "metadata": {},
   "outputs": [],
   "source": [
    "unterseer_2016_landraces_info=[\"rs#_2016_landraces\",\"variants/AD_2016_landraces\",\"variants/CMT_2016_landraces\",\"alleles_2016_landraces\",\"chrom_2016_landraces\",\"pos_2016_landraces\",\"strand_2016_landraces\"]"
   ]
  },
  {
   "cell_type": "code",
   "execution_count": null,
   "id": "028ea348",
   "metadata": {
    "scrolled": true
   },
   "outputs": [],
   "source": [
    "unterseer_2016_landraces_reordered_list = unterseer_2016_landraces_info + reorder_landraces_geno\n",
    "#unterseer_2016_landraces_reordered_list"
   ]
  },
  {
   "cell_type": "code",
   "execution_count": null,
   "id": "7a0f79c1",
   "metadata": {},
   "outputs": [],
   "source": [
    "unterseer_2016_landraces_reordered=unterseer_2016_landraces_complete[unterseer_2016_landraces_reordered_list]"
   ]
  },
  {
   "cell_type": "code",
   "execution_count": null,
   "id": "e5485711",
   "metadata": {},
   "outputs": [],
   "source": [
    "unterseer_2016_landraces_reordered"
   ]
  },
  {
   "cell_type": "markdown",
   "id": "9d8eb841",
   "metadata": {},
   "source": [
    "#### *Unterseer_2016_elite*"
   ]
  },
  {
   "cell_type": "code",
   "execution_count": null,
   "id": "689c368a",
   "metadata": {
    "scrolled": true
   },
   "outputs": [],
   "source": [
    "reorder_elite=unterseer_2016_elite_hapmap_suffix.columns\n",
    "reorder_elite_geno=reorder_elite[11:]\n",
    "reorder_elite_geno=reorder_elite_geno.to_list()\n",
    "#reorder_elite_geno"
   ]
  },
  {
   "cell_type": "code",
   "execution_count": null,
   "id": "3df7192e",
   "metadata": {},
   "outputs": [],
   "source": [
    "unterseer_2016_elite_info=[\"rs#_2016_elite\",\"variants/AD_2016_elite\",\"variants/CMT_2016_elite\",\"alleles_2016_elite\",\"chrom_2016_elite\",\"pos_2016_elite\",\"strand_2016_elite\"]"
   ]
  },
  {
   "cell_type": "code",
   "execution_count": null,
   "id": "507ee488",
   "metadata": {
    "scrolled": true
   },
   "outputs": [],
   "source": [
    "unterseer_2016_elite_reordered_list = unterseer_2016_elite_info + reorder_elite_geno\n",
    "#unterseer_2016_elite_reordered_list"
   ]
  },
  {
   "cell_type": "code",
   "execution_count": null,
   "id": "3d2d87fd",
   "metadata": {},
   "outputs": [],
   "source": [
    "unterseer_2016_elite_reordered=unterseer_2016_elite_complete[unterseer_2016_elite_reordered_list]"
   ]
  },
  {
   "cell_type": "code",
   "execution_count": null,
   "id": "804b7eb3",
   "metadata": {},
   "outputs": [],
   "source": [
    "unterseer_2016_elite_reordered"
   ]
  },
  {
   "cell_type": "markdown",
   "id": "6f80e281",
   "metadata": {},
   "source": [
    "## **1.6 merge the AGPv4 poitions into the Unterseer_2016 files**"
   ]
  },
  {
   "cell_type": "markdown",
   "id": "1547a755",
   "metadata": {},
   "source": [
    "### *1.6.1A Get the columns from the Mayer_2017 papers - for landraces*"
   ]
  },
  {
   "cell_type": "markdown",
   "id": "ceeb0f2c",
   "metadata": {},
   "source": [
    "*Get the index column, the chromosme pos and pos for both the AGPv2 and the AGPv4 from the Mayer_2017 paper*"
   ]
  },
  {
   "cell_type": "code",
   "execution_count": null,
   "id": "7a8e004f",
   "metadata": {},
   "outputs": [],
   "source": [
    "mayer_2017_landraces_pos_columns_for_landraces=mayer_2017_landraces_suffix.columns\n",
    "mayer_2017_landraces_pos_columns_for_landraces=mayer_2017_landraces_pos_columns_for_landraces[0:5]\n",
    "mayer_2017_landraces_pos_columns_for_landraces"
   ]
  },
  {
   "cell_type": "markdown",
   "id": "ac3eb983",
   "metadata": {},
   "source": [
    "*Rename the index, the chromosome pos and pos for AGPv2 to be the same as in Unterseer_landraces*"
   ]
  },
  {
   "cell_type": "code",
   "execution_count": null,
   "id": "b572993f",
   "metadata": {},
   "outputs": [],
   "source": [
    "mayer_2017_landraces_pos_for_landraces=mayer_2017_landraces_suffix[mayer_2017_landraces_pos_columns_for_landraces]"
   ]
  },
  {
   "cell_type": "code",
   "execution_count": null,
   "id": "177c8bd3",
   "metadata": {},
   "outputs": [],
   "source": [
    "mayer_2017_landraces_pos_for_landraces"
   ]
  },
  {
   "cell_type": "code",
   "execution_count": null,
   "id": "cc5e430e",
   "metadata": {},
   "outputs": [],
   "source": [
    "mayer_2017_landraces_pos_for_landraces=mayer_2017_landraces_pos_for_landraces.rename(columns={\"index_2017_landraces\":\"variants/AD_2016_landraces\",\"chr_v2_2017_landraces\":\"chrom_2016_landraces\",\"pos_v2_2017_landraces\":\"pos_2016_landraces\"})\n",
    "mayer_2017_landraces_pos_for_landraces"
   ]
  },
  {
   "cell_type": "markdown",
   "id": "2e69733c",
   "metadata": {},
   "source": [
    "### *1.6.2A Merge based on marker ID and AGPv2 chromosome and position - for landraces*"
   ]
  },
  {
   "cell_type": "code",
   "execution_count": null,
   "id": "ec1420d3",
   "metadata": {},
   "outputs": [],
   "source": [
    "unterseer_2016_landraces_new_pos=pd.merge(mayer_2017_landraces_pos_for_landraces,unterseer_2016_landraces_reordered,on=[\"variants/AD_2016_landraces\", \"chrom_2016_landraces\",\"pos_2016_landraces\"])\n",
    "unterseer_2016_landraces_new_pos"
   ]
  },
  {
   "cell_type": "markdown",
   "id": "6cc0928e",
   "metadata": {},
   "source": [
    "### *1.6.3A Drop the columns that are not needed - for landraces*"
   ]
  },
  {
   "cell_type": "markdown",
   "id": "052ea91d",
   "metadata": {},
   "source": [
    "*Drop the AGPv2 columns*"
   ]
  },
  {
   "cell_type": "code",
   "execution_count": null,
   "id": "d9ce02ed",
   "metadata": {},
   "outputs": [],
   "source": [
    "unterseer_2016_landraces_right_pos=unterseer_2016_landraces_new_pos.drop(columns=['chrom_2016_landraces', 'pos_2016_landraces','rs#_2016_landraces'])\n",
    "unterseer_2016_landraces_right_pos"
   ]
  },
  {
   "cell_type": "markdown",
   "id": "1fe1110c",
   "metadata": {},
   "source": [
    "### *1.6.1B Get the columns from the Mayer_2017 papers - for elite*"
   ]
  },
  {
   "cell_type": "markdown",
   "id": "22bf82ae",
   "metadata": {},
   "source": [
    "*Get the index column, the chromosme pos and pos for both the AGPv2 and the AGPv4 from the Mayer_2017 paper*"
   ]
  },
  {
   "cell_type": "code",
   "execution_count": null,
   "id": "e91b11dc",
   "metadata": {},
   "outputs": [],
   "source": [
    "mayer_2017_landraces_pos_columns_for_elite=mayer_2017_landraces_suffix.columns\n",
    "mayer_2017_landraces_pos_columns_for_elite=mayer_2017_landraces_pos_columns_for_elite[0:5]\n",
    "mayer_2017_landraces_pos_columns_for_elite"
   ]
  },
  {
   "cell_type": "markdown",
   "id": "172e980b",
   "metadata": {},
   "source": [
    "*Rename the index, the chromosome pos and pos for AGPv2 to be the same as in Unterseer_landraces*"
   ]
  },
  {
   "cell_type": "code",
   "execution_count": null,
   "id": "0952fb91",
   "metadata": {},
   "outputs": [],
   "source": [
    "mayer_2017_landraces_pos_for_elite=mayer_2017_landraces_suffix[mayer_2017_landraces_pos_columns_for_elite]"
   ]
  },
  {
   "cell_type": "code",
   "execution_count": null,
   "id": "246e7cc8",
   "metadata": {},
   "outputs": [],
   "source": [
    "mayer_2017_landraces_pos_for_elite"
   ]
  },
  {
   "cell_type": "code",
   "execution_count": null,
   "id": "429bbe16",
   "metadata": {},
   "outputs": [],
   "source": [
    "mayer_2017_landraces_pos_for_elite=mayer_2017_landraces_pos_for_elite.rename(columns={\"index_2017_landraces\":\"variants/AD_2016_elite\",\"chr_v2_2017_landraces\":\"chrom_2016_elite\",\"pos_v2_2017_landraces\":\"pos_2016_elite\"})\n",
    "mayer_2017_landraces_pos_for_elite"
   ]
  },
  {
   "cell_type": "markdown",
   "id": "f51969d1",
   "metadata": {},
   "source": [
    "### *1.6.2B Merge based on marker ID and AGPv2 chromosome and position - for elite*"
   ]
  },
  {
   "cell_type": "code",
   "execution_count": null,
   "id": "6410a88e",
   "metadata": {},
   "outputs": [],
   "source": [
    "unterseer_2016_elite_new_pos=pd.merge(mayer_2017_landraces_pos_for_elite,unterseer_2016_elite_reordered,on=[\"variants/AD_2016_elite\", \"chrom_2016_elite\",\"pos_2016_elite\"])\n",
    "unterseer_2016_elite_new_pos"
   ]
  },
  {
   "cell_type": "markdown",
   "id": "60a912d1",
   "metadata": {},
   "source": [
    "### *1.6.3B Drop the columns that are not needed - for elite*"
   ]
  },
  {
   "cell_type": "markdown",
   "id": "97b51872",
   "metadata": {},
   "source": [
    "*Drop the AGPv2 columns*"
   ]
  },
  {
   "cell_type": "code",
   "execution_count": null,
   "id": "fec78c03",
   "metadata": {},
   "outputs": [],
   "source": [
    "unterseer_2016_elite_right_pos=unterseer_2016_elite_new_pos.drop(columns=['chrom_2016_elite', 'pos_2016_elite','rs#_2016_elite'])\n",
    "unterseer_2016_elite_right_pos"
   ]
  },
  {
   "cell_type": "markdown",
   "id": "d8693cde",
   "metadata": {},
   "source": [
    "## **OUTPUT**"
   ]
  },
  {
   "cell_type": "code",
   "execution_count": null,
   "id": "f2c5f8f6",
   "metadata": {},
   "outputs": [],
   "source": [
    "final_columns_unterseer_2016_elite=unterseer_2016_elite_right_pos"
   ]
  },
  {
   "cell_type": "code",
   "execution_count": null,
   "id": "033afbb8",
   "metadata": {},
   "outputs": [],
   "source": [
    "final_columns_unterseer_2016_landraces=unterseer_2016_landraces_right_pos"
   ]
  },
  {
   "cell_type": "code",
   "execution_count": null,
   "id": "c010e782",
   "metadata": {},
   "outputs": [],
   "source": [
    "final_columns_mayer_2017_landraces=mayer_2017_landraces_suffix.drop(columns=['chr_v2_2017_landraces', 'pos_v2_2017_landraces'])\n",
    "final_columns_mayer_2017_landraces"
   ]
  },
  {
   "cell_type": "code",
   "execution_count": null,
   "id": "1a027dbf",
   "metadata": {},
   "outputs": [],
   "source": [
    "final_columns_mayer_2020_dhlines=mayer_2020_dhlines_suffix\n",
    "final_columns_mayer_2020_dhlines"
   ]
  },
  {
   "cell_type": "code",
   "execution_count": null,
   "id": "b07584ca",
   "metadata": {},
   "outputs": [],
   "source": [
    "xxxx"
   ]
  },
  {
   "cell_type": "markdown",
   "id": "c495d5d6",
   "metadata": {},
   "source": [
    "### **Write to file**"
   ]
  },
  {
   "cell_type": "code",
   "execution_count": null,
   "id": "faf99411",
   "metadata": {},
   "outputs": [],
   "source": [
    "final_columns_unterseer_2016_elite.to_csv('final_columns_unterseer_2016_elite_for_masters.csv', sep=\"\\t\", index = False)"
   ]
  },
  {
   "cell_type": "code",
   "execution_count": null,
   "id": "9c1baa24",
   "metadata": {},
   "outputs": [],
   "source": [
    "final_columns_unterseer_2016_landraces.to_csv('final_columns_unterseer_2016_landraces_for_masters.csv', sep=\"\\t\", index = False)"
   ]
  },
  {
   "cell_type": "code",
   "execution_count": null,
   "id": "257a6015",
   "metadata": {},
   "outputs": [],
   "source": [
    "final_columns_mayer_2017_landraces.to_csv('final_columns_mayer_2017_landraces_for_masters.csv', sep=\"\\t\", index = False)"
   ]
  },
  {
   "cell_type": "code",
   "execution_count": null,
   "id": "684c9bb0",
   "metadata": {},
   "outputs": [],
   "source": [
    "final_columns_mayer_2020_dhlines.to_csv('final_columns_mayer_2020_dhlines_for_masters.csv', sep=\"\\t\", index = False)"
   ]
  },
  {
   "cell_type": "code",
   "execution_count": null,
   "id": "e969ddff",
   "metadata": {},
   "outputs": [],
   "source": []
  }
 ],
 "metadata": {
  "kernelspec": {
   "display_name": "Python 3",
   "language": "python",
   "name": "python3"
  },
  "language_info": {
   "codemirror_mode": {
    "name": "ipython",
    "version": 3
   },
   "file_extension": ".py",
   "mimetype": "text/x-python",
   "name": "python",
   "nbconvert_exporter": "python",
   "pygments_lexer": "ipython3",
   "version": "3.7.9"
  }
 },
 "nbformat": 4,
 "nbformat_minor": 5
}
