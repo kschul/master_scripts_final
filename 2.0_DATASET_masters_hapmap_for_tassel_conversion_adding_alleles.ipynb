{
 "cells": [
  {
   "cell_type": "markdown",
   "id": "80406e4f",
   "metadata": {},
   "source": [
    "## **2.0_DATASET_masters_hapmap_for_tassel_conversion_adding_alleles.ipynb**"
   ]
  },
  {
   "cell_type": "markdown",
   "id": "3f6ee6d9",
   "metadata": {},
   "source": [
    "### GOALS of this script:\n",
    "* merge all filtered into one \n",
    "    *intermediate output file \n",
    "* edit merged file to fit the hapmap format \n",
    "* OUT: hapmap format file\n",
    "* TASSEL COMMAND: command line tassel command \n",
    "* *with prints at different steps foe when the script is run from the command line*\n",
    "* *checking the genotype calls in the table is currently commented out because otherwise the script dosent run*\n",
    "* **this scripts edits NA into header columns, NN for the genotype calls and adds the values in the allele column back in to solve the beforehand problem with the wrong encoding of the NN as a second alt allele - see vcf_missing_sites_problem folder**"
   ]
  },
  {
   "cell_type": "markdown",
   "id": "cf6a2705",
   "metadata": {},
   "source": [
    "### *Import packages*"
   ]
  },
  {
   "cell_type": "code",
   "execution_count": null,
   "id": "059e4140",
   "metadata": {},
   "outputs": [],
   "source": [
    "import csv\n",
    "import pandas as pd\n",
    "from itertools import chain\n",
    "import numpy as np\n",
    "from collections import Counter\n",
    "import os "
   ]
  },
  {
   "cell_type": "markdown",
   "id": "8fb6d1cc",
   "metadata": {},
   "source": [
    "### *Import files* / **2.0 import the files and replace the IUPAC nucleotide code**"
   ]
  },
  {
   "cell_type": "markdown",
   "id": "94bb39bc",
   "metadata": {},
   "source": [
    "**Unterseer_2016_landraces**"
   ]
  },
  {
   "cell_type": "code",
   "execution_count": null,
   "id": "100f6395",
   "metadata": {},
   "outputs": [],
   "source": [
    "for_vcf_filtered_unterseer_2016_landraces_right_pos=pd.read_csv('filtered_unterseer_2016_landraces_for_masters.csv', sep=\"\\t\")\n",
    "#for_vcf_filtered_unterseer_2016_landraces_right_pos.csv"
   ]
  },
  {
   "cell_type": "code",
   "execution_count": null,
   "id": "d10ff8c0",
   "metadata": {},
   "outputs": [],
   "source": [
    "for_vcf_filtered_unterseer_2016_landraces_right_pos"
   ]
  },
  {
   "cell_type": "code",
   "execution_count": null,
   "id": "94b77c87",
   "metadata": {},
   "outputs": [],
   "source": [
    "for_vcf_filtered_unterseer_2016_landraces_right_pos=for_vcf_filtered_unterseer_2016_landraces_right_pos.drop(columns=['strand_2016_landraces'])"
   ]
  },
  {
   "cell_type": "code",
   "execution_count": null,
   "id": "c48e478e",
   "metadata": {},
   "outputs": [],
   "source": [
    "for_vcf_filtered_unterseer_2016_landraces_right_pos"
   ]
  },
  {
   "cell_type": "markdown",
   "id": "efb2a069",
   "metadata": {},
   "source": [
    "*Replace calls in the Unterseer files*"
   ]
  },
  {
   "cell_type": "code",
   "execution_count": null,
   "id": "f37b6710",
   "metadata": {},
   "outputs": [],
   "source": [
    "for_vcf_filtered_unterseer_2016_landraces_right_pos=for_vcf_filtered_unterseer_2016_landraces_right_pos.replace(\"A\", \"AA\")\n",
    "for_vcf_filtered_unterseer_2016_landraces_right_pos=for_vcf_filtered_unterseer_2016_landraces_right_pos.replace(\"C\", \"CC\")\n",
    "for_vcf_filtered_unterseer_2016_landraces_right_pos=for_vcf_filtered_unterseer_2016_landraces_right_pos.replace(\"G\", \"GG\")\n",
    "for_vcf_filtered_unterseer_2016_landraces_right_pos=for_vcf_filtered_unterseer_2016_landraces_right_pos.replace(\"T\", \"TT\")\n",
    "for_vcf_filtered_unterseer_2016_landraces_right_pos=for_vcf_filtered_unterseer_2016_landraces_right_pos.replace(\"R\", \"AG\")\n",
    "for_vcf_filtered_unterseer_2016_landraces_right_pos=for_vcf_filtered_unterseer_2016_landraces_right_pos.replace(\"Y\", \"CT\")\n",
    "for_vcf_filtered_unterseer_2016_landraces_right_pos=for_vcf_filtered_unterseer_2016_landraces_right_pos.replace(\"S\", \"GC\")\n",
    "for_vcf_filtered_unterseer_2016_landraces_right_pos=for_vcf_filtered_unterseer_2016_landraces_right_pos.replace(\"W\", \"AT\")\n",
    "for_vcf_filtered_unterseer_2016_landraces_right_pos=for_vcf_filtered_unterseer_2016_landraces_right_pos.replace(\"K\", \"GT\")\n",
    "for_vcf_filtered_unterseer_2016_landraces_right_pos=for_vcf_filtered_unterseer_2016_landraces_right_pos.replace(\"M\", \"AC\")"
   ]
  },
  {
   "cell_type": "code",
   "execution_count": null,
   "id": "c5d56fff",
   "metadata": {},
   "outputs": [],
   "source": [
    "#for_vcf_filtered_unterseer_2016_landraces_right_pos"
   ]
  },
  {
   "cell_type": "markdown",
   "id": "5b00aade",
   "metadata": {},
   "source": [
    "**Unterseer_2016_elite**"
   ]
  },
  {
   "cell_type": "code",
   "execution_count": null,
   "id": "e588ca75",
   "metadata": {},
   "outputs": [],
   "source": [
    "for_vcf_filtered_unterseer_2016_elite_right_pos=pd.read_csv('filtered_unterseer_2016_elite_for_masters.csv', sep=\"\\t\")"
   ]
  },
  {
   "cell_type": "code",
   "execution_count": null,
   "id": "80989fd9",
   "metadata": {},
   "outputs": [],
   "source": [
    "for_vcf_filtered_unterseer_2016_elite_right_pos"
   ]
  },
  {
   "cell_type": "code",
   "execution_count": null,
   "id": "a157c971",
   "metadata": {},
   "outputs": [],
   "source": [
    "for_vcf_filtered_unterseer_2016_elite_right_pos=for_vcf_filtered_unterseer_2016_elite_right_pos.drop(columns=['strand_2016_elite'])"
   ]
  },
  {
   "cell_type": "code",
   "execution_count": null,
   "id": "4dc2f3ff",
   "metadata": {},
   "outputs": [],
   "source": [
    "for_vcf_filtered_unterseer_2016_elite_right_pos"
   ]
  },
  {
   "cell_type": "markdown",
   "id": "29488522",
   "metadata": {},
   "source": [
    "*Replace calls in the Unterseer files*"
   ]
  },
  {
   "cell_type": "code",
   "execution_count": null,
   "id": "87a6fc45",
   "metadata": {},
   "outputs": [],
   "source": [
    "for_vcf_filtered_unterseer_2016_elite_right_pos=for_vcf_filtered_unterseer_2016_elite_right_pos.replace(\"A\", \"AA\")\n",
    "for_vcf_filtered_unterseer_2016_elite_right_pos=for_vcf_filtered_unterseer_2016_elite_right_pos.replace(\"C\", \"CC\")\n",
    "for_vcf_filtered_unterseer_2016_elite_right_pos=for_vcf_filtered_unterseer_2016_elite_right_pos.replace(\"G\", \"GG\")\n",
    "for_vcf_filtered_unterseer_2016_elite_right_pos=for_vcf_filtered_unterseer_2016_elite_right_pos.replace(\"T\", \"TT\")\n",
    "for_vcf_filtered_unterseer_2016_elite_right_pos=for_vcf_filtered_unterseer_2016_elite_right_pos.replace(\"R\", \"AG\")\n",
    "for_vcf_filtered_unterseer_2016_elite_right_pos=for_vcf_filtered_unterseer_2016_elite_right_pos.replace(\"Y\", \"CT\")\n",
    "for_vcf_filtered_unterseer_2016_elite_right_pos=for_vcf_filtered_unterseer_2016_elite_right_pos.replace(\"S\", \"GC\")\n",
    "for_vcf_filtered_unterseer_2016_elite_right_pos=for_vcf_filtered_unterseer_2016_elite_right_pos.replace(\"W\", \"AT\")\n",
    "for_vcf_filtered_unterseer_2016_elite_right_pos=for_vcf_filtered_unterseer_2016_elite_right_pos.replace(\"K\", \"GT\")\n",
    "for_vcf_filtered_unterseer_2016_elite_right_pos=for_vcf_filtered_unterseer_2016_elite_right_pos.replace(\"M\", \"AC\")"
   ]
  },
  {
   "cell_type": "code",
   "execution_count": null,
   "id": "6ee1ce40",
   "metadata": {},
   "outputs": [],
   "source": [
    "#for_vcf_filtered_unterseer_2016_elite_right_pos"
   ]
  },
  {
   "cell_type": "markdown",
   "id": "40ba5a9a",
   "metadata": {},
   "source": [
    "**Mayer_2020_dhlines**"
   ]
  },
  {
   "cell_type": "code",
   "execution_count": null,
   "id": "36ae2625",
   "metadata": {},
   "outputs": [],
   "source": [
    "for_vcf_filtered_mayer_2020_dhlines_suffix=pd.read_csv('filtered_mayer_2020_dhlines_for_masters.csv', sep=\"\\t\")"
   ]
  },
  {
   "cell_type": "code",
   "execution_count": null,
   "id": "ce3b84ea",
   "metadata": {},
   "outputs": [],
   "source": [
    "#for_vcf_filtered_mayer_2020_dhlines_suffix"
   ]
  },
  {
   "cell_type": "code",
   "execution_count": null,
   "id": "51bb2bf5",
   "metadata": {},
   "outputs": [],
   "source": [
    "#for_vcf_filtered_mayer_2020_dhlines_suffix=for_vcf_filtered_mayer_2020_dhlines_suffix.drop(columns=['Unnamed: 0'])"
   ]
  },
  {
   "cell_type": "code",
   "execution_count": null,
   "id": "9e957e01",
   "metadata": {},
   "outputs": [],
   "source": [
    "for_vcf_filtered_mayer_2020_dhlines_suffix"
   ]
  },
  {
   "cell_type": "markdown",
   "id": "c5ca567b",
   "metadata": {},
   "source": [
    "**Mayer_2017_landraces**"
   ]
  },
  {
   "cell_type": "code",
   "execution_count": null,
   "id": "2ad6d1cc",
   "metadata": {},
   "outputs": [],
   "source": [
    "for_vcf_filtered_mayer_2017_landraces_suffix=pd.read_csv('filtered_mayer_2017_landraces_for_masters.csv', sep=\"\\t\")"
   ]
  },
  {
   "cell_type": "code",
   "execution_count": null,
   "id": "16d63a2e",
   "metadata": {},
   "outputs": [],
   "source": [
    "#for_vcf_filtered_mayer_2017_landraces_suffix"
   ]
  },
  {
   "cell_type": "code",
   "execution_count": null,
   "id": "2696177e",
   "metadata": {},
   "outputs": [],
   "source": [
    "#for_vcf_filtered_mayer_2017_landraces_suffix=for_vcf_filtered_mayer_2017_landraces_suffix.drop(columns=['Unnamed: 0','chr_v2_2017_landraces','pos_v2_2017_landraces'])"
   ]
  },
  {
   "cell_type": "code",
   "execution_count": null,
   "id": "9caeb521",
   "metadata": {},
   "outputs": [],
   "source": [
    "for_vcf_filtered_mayer_2017_landraces_suffix"
   ]
  },
  {
   "cell_type": "markdown",
   "id": "4ec62381",
   "metadata": {},
   "source": [
    "### **2.1 Drop all not needed columns**"
   ]
  },
  {
   "cell_type": "markdown",
   "id": "32768d30",
   "metadata": {},
   "source": [
    "**Unterseer_2016_landraces**"
   ]
  },
  {
   "cell_type": "code",
   "execution_count": null,
   "id": "3bb38523",
   "metadata": {},
   "outputs": [],
   "source": [
    "#for_vcf_filtered_unterseer_2016_landraces_right_pos"
   ]
  },
  {
   "cell_type": "code",
   "execution_count": null,
   "id": "6b9ce573",
   "metadata": {},
   "outputs": [],
   "source": [
    "small_for_vcf_filtered_unterseer_2016_landraces_right_pos=for_vcf_filtered_unterseer_2016_landraces_right_pos.drop(columns=['alleles_2016_landraces','variants/CMT_2016_landraces'])\n",
    "#small_for_vcf_filtered_unterseer_2016_landraces_right_pos"
   ]
  },
  {
   "cell_type": "markdown",
   "id": "60ed5727",
   "metadata": {},
   "source": [
    "**Unterseer_2016_elite**"
   ]
  },
  {
   "cell_type": "code",
   "execution_count": null,
   "id": "ce042e83",
   "metadata": {},
   "outputs": [],
   "source": [
    "#for_vcf_filtered_unterseer_2016_elite_right_pos"
   ]
  },
  {
   "cell_type": "code",
   "execution_count": null,
   "id": "2c3d0c82",
   "metadata": {},
   "outputs": [],
   "source": [
    "small_for_vcf_filtered_unterseer_2016_elite_right_pos=for_vcf_filtered_unterseer_2016_elite_right_pos.drop(columns=['alleles_2016_elite','variants/CMT_2016_elite'])\n",
    "#small_for_vcf_filtered_unterseer_2016_elite_right_pos"
   ]
  },
  {
   "cell_type": "markdown",
   "id": "7106b3a1",
   "metadata": {},
   "source": [
    "**Mayer_2017_landraces**"
   ]
  },
  {
   "cell_type": "code",
   "execution_count": null,
   "id": "d4722d5b",
   "metadata": {},
   "outputs": [],
   "source": [
    "#for_vcf_filtered_mayer_2017_landraces_suffix"
   ]
  },
  {
   "cell_type": "code",
   "execution_count": null,
   "id": "3068373f",
   "metadata": {},
   "outputs": [],
   "source": [
    "small_for_vcf_filtered_mayer_2017_landraces_suffix=for_vcf_filtered_mayer_2017_landraces_suffix.drop(columns=['quality_2017_landraces'])\n",
    "#small_for_vcf_filtered_mayer_2017_landraces_suffix"
   ]
  },
  {
   "cell_type": "markdown",
   "id": "45a94057",
   "metadata": {},
   "source": [
    "**Mayer_2020_dhlines**"
   ]
  },
  {
   "cell_type": "code",
   "execution_count": null,
   "id": "f6d3af86",
   "metadata": {},
   "outputs": [],
   "source": [
    "#for_vcf_filtered_mayer_2020_dhlines_suffix"
   ]
  },
  {
   "cell_type": "code",
   "execution_count": null,
   "id": "bfa781af",
   "metadata": {},
   "outputs": [],
   "source": [
    "small_for_vcf_filtered_mayer_2020_dhlines_suffix=for_vcf_filtered_mayer_2020_dhlines_suffix.drop(columns=['quality_2020_dh'])\n",
    "#small_for_vcf_filtered_mayer_2020_dhlines_suffix"
   ]
  },
  {
   "cell_type": "code",
   "execution_count": null,
   "id": "02b06299",
   "metadata": {},
   "outputs": [],
   "source": [
    "print(\"Finished - Drop all not needed columns\")"
   ]
  },
  {
   "cell_type": "markdown",
   "id": "36618616",
   "metadata": {},
   "source": [
    "### **2.2 Rename the remaining columns**"
   ]
  },
  {
   "cell_type": "markdown",
   "id": "890ebea2",
   "metadata": {},
   "source": [
    "**Unterseer_2016_elite**"
   ]
  },
  {
   "cell_type": "code",
   "execution_count": null,
   "id": "23d8814e",
   "metadata": {},
   "outputs": [],
   "source": [
    "small_for_vcf_filtered_unterseer_2016_elite_right_pos=small_for_vcf_filtered_unterseer_2016_elite_right_pos.rename(columns={\"variants/AD_2016_elite\": \"rs#\", \"chr_v4_2017_landraces\": \"chrom\",\"pos_v4_2017_landraces\":\"pos\"})\n",
    "#small_for_vcf_filtered_unterseer_2016_elite_right_pos"
   ]
  },
  {
   "cell_type": "markdown",
   "id": "b3969241",
   "metadata": {},
   "source": [
    "**Unterseer_2016_landraces**"
   ]
  },
  {
   "cell_type": "code",
   "execution_count": null,
   "id": "f32b765e",
   "metadata": {},
   "outputs": [],
   "source": [
    "small_for_vcf_filtered_unterseer_2016_landraces_right_pos=small_for_vcf_filtered_unterseer_2016_landraces_right_pos.rename(columns={\"variants/AD_2016_landraces\": \"rs#\", \"chr_v4_2017_landraces\": \"chrom\",\"pos_v4_2017_landraces\":\"pos\"})\n",
    "#small_for_vcf_filtered_unterseer_2016_landraces_right_pos"
   ]
  },
  {
   "cell_type": "markdown",
   "id": "41e5ff5c",
   "metadata": {},
   "source": [
    "**Mayer_2020_dhlines**"
   ]
  },
  {
   "cell_type": "code",
   "execution_count": null,
   "id": "4722bb81",
   "metadata": {},
   "outputs": [],
   "source": [
    "small_for_vcf_filtered_mayer_2020_dhlines_suffix=small_for_vcf_filtered_mayer_2020_dhlines_suffix.rename(columns={\"marker_2020_dh\": \"rs#\", \"chr_2020_dh\": \"chrom\",\"pos_2020_dh\":\"pos\"})\n",
    "#small_for_vcf_filtered_mayer_2020_dhlines_suffix"
   ]
  },
  {
   "cell_type": "markdown",
   "id": "984aa116",
   "metadata": {},
   "source": [
    "**Mayer_2017_landraces**"
   ]
  },
  {
   "cell_type": "code",
   "execution_count": null,
   "id": "1aa17885",
   "metadata": {},
   "outputs": [],
   "source": [
    "small_for_vcf_filtered_mayer_2017_landraces_suffix=small_for_vcf_filtered_mayer_2017_landraces_suffix.rename(columns={\"index_2017_landraces\": \"rs#\", \"chr_v4_2017_landraces\": \"chrom\",\"pos_v4_2017_landraces\":\"pos\"})\n",
    "#small_for_vcf_filtered_mayer_2017_landraces_suffix"
   ]
  },
  {
   "cell_type": "code",
   "execution_count": null,
   "id": "74be155d",
   "metadata": {},
   "outputs": [],
   "source": [
    "print(\"Finished - Rename the remaining columns\")"
   ]
  },
  {
   "cell_type": "markdown",
   "id": "d0124035",
   "metadata": {},
   "source": [
    "### **2.3 Merge between Unterseer**"
   ]
  },
  {
   "cell_type": "code",
   "execution_count": null,
   "id": "7ce9a568",
   "metadata": {},
   "outputs": [],
   "source": [
    "merge_marker_unterseer=pd.merge(small_for_vcf_filtered_unterseer_2016_elite_right_pos,small_for_vcf_filtered_unterseer_2016_landraces_right_pos, on=['rs#','chrom','pos'], how='outer')"
   ]
  },
  {
   "cell_type": "code",
   "execution_count": null,
   "id": "0fab30e1",
   "metadata": {},
   "outputs": [],
   "source": [
    "#merge_marker_unterseer"
   ]
  },
  {
   "cell_type": "code",
   "execution_count": null,
   "id": "7e3ae9e2",
   "metadata": {},
   "outputs": [],
   "source": [
    "print(\"Finished - Merge between Unterseer\")"
   ]
  },
  {
   "cell_type": "markdown",
   "id": "885fe7e4",
   "metadata": {},
   "source": [
    "### **2.4 Merge between Mayer**"
   ]
  },
  {
   "cell_type": "code",
   "execution_count": null,
   "id": "849e98bb",
   "metadata": {},
   "outputs": [],
   "source": [
    "merge_marker_mayer=pd.merge(small_for_vcf_filtered_mayer_2020_dhlines_suffix,small_for_vcf_filtered_mayer_2017_landraces_suffix,on=['rs#','chrom','pos'], how='outer')"
   ]
  },
  {
   "cell_type": "code",
   "execution_count": null,
   "id": "02bb807d",
   "metadata": {},
   "outputs": [],
   "source": [
    "#merge_marker_mayer"
   ]
  },
  {
   "cell_type": "code",
   "execution_count": null,
   "id": "16ee1aa5",
   "metadata": {},
   "outputs": [],
   "source": [
    "print(\"Finished - Merge between Mayer\")"
   ]
  },
  {
   "cell_type": "markdown",
   "id": "fd679760",
   "metadata": {},
   "source": [
    "### **2.5 Final merge**"
   ]
  },
  {
   "cell_type": "code",
   "execution_count": null,
   "id": "631c42fa",
   "metadata": {},
   "outputs": [],
   "source": [
    "merge_merge=pd.merge(merge_marker_unterseer,merge_marker_mayer,on=['rs#','chrom','pos'], how='outer')"
   ]
  },
  {
   "cell_type": "code",
   "execution_count": null,
   "id": "9e35bfff",
   "metadata": {},
   "outputs": [],
   "source": [
    "#merge_merge"
   ]
  },
  {
   "cell_type": "code",
   "execution_count": null,
   "id": "810048cc",
   "metadata": {},
   "outputs": [],
   "source": [
    "print(\"Finished - Final merge\")"
   ]
  },
  {
   "cell_type": "markdown",
   "id": "54bf2012",
   "metadata": {},
   "source": [
    "## **Intermediate OUTPUT I**"
   ]
  },
  {
   "cell_type": "markdown",
   "id": "8ca0d497",
   "metadata": {},
   "source": [
    "### **Write to file**"
   ]
  },
  {
   "cell_type": "code",
   "execution_count": null,
   "id": "bda10e7a",
   "metadata": {},
   "outputs": [],
   "source": [
    "#merge_merge.to_csv(\"merge_merge_all_chromosomes_no_edits_for_masters.hmp.txt\", sep=\"\\t\", index=False)"
   ]
  },
  {
   "cell_type": "markdown",
   "id": "91a0090a",
   "metadata": {},
   "source": [
    "### **Read in file again**"
   ]
  },
  {
   "cell_type": "code",
   "execution_count": null,
   "id": "c87685aa",
   "metadata": {},
   "outputs": [],
   "source": [
    "merge_merge=pd.read_csv(\"merge_merge_all_chromosomes_no_edits_for_masters.hmp.txt\", sep=\"\\t\")"
   ]
  },
  {
   "cell_type": "code",
   "execution_count": null,
   "id": "c9f6a553",
   "metadata": {},
   "outputs": [],
   "source": [
    "merge_merge"
   ]
  },
  {
   "cell_type": "markdown",
   "id": "2ef425ee",
   "metadata": {},
   "source": [
    "### **2.6 Add columns for hapmap format**"
   ]
  },
  {
   "cell_type": "code",
   "execution_count": null,
   "id": "515d2a7c",
   "metadata": {},
   "outputs": [],
   "source": [
    "#generate new columns\n",
    "alleles = pd.DataFrame({'alleles' : []})\n",
    "strand = pd.DataFrame({'strand' : []})\n",
    "assembly = pd.DataFrame({'assembly' : []})\n",
    "center = pd.DataFrame({'center' : []})\n",
    "protLSID = pd.DataFrame({'protLSID' : []})\n",
    "assayLSID = pd.DataFrame({'assayLSID' : []})\n",
    "paneLSID = pd.DataFrame({'paneLSID' : []})\n",
    "QCcode = pd.DataFrame({'QCcode' : []})"
   ]
  },
  {
   "cell_type": "code",
   "execution_count": null,
   "id": "dca43086",
   "metadata": {},
   "outputs": [],
   "source": [
    "#add columns in\n",
    "merge_merge.insert(loc=1, column = 'alleles', value = alleles)\n",
    "merge_merge.insert(loc=4, column = 'strand', value = strand)\n",
    "merge_merge.insert(loc=5, column = 'assembly#', value = assembly)\n",
    "merge_merge.insert(loc=6, column = 'center', value = center)\n",
    "merge_merge.insert(loc=7, column = 'protLSID', value = protLSID)\n",
    "merge_merge.insert(loc=8, column = 'assayLSID', value = assayLSID)\n",
    "merge_merge.insert(loc=9, column = 'panel', value = paneLSID)\n",
    "merge_merge.insert(loc=10, column = 'QCcode', value = QCcode)"
   ]
  },
  {
   "cell_type": "code",
   "execution_count": null,
   "id": "d6432af6",
   "metadata": {},
   "outputs": [],
   "source": [
    "merge_merge"
   ]
  },
  {
   "cell_type": "markdown",
   "id": "0ce96e84",
   "metadata": {},
   "source": [
    "### **2.7 Additional edits**"
   ]
  },
  {
   "cell_type": "markdown",
   "id": "3a83d071",
   "metadata": {},
   "source": [
    "**Check the contents of the genotype columns**"
   ]
  },
  {
   "cell_type": "markdown",
   "id": "011b9002",
   "metadata": {},
   "source": [
    "#subset the table\n",
    "check_genotype_counts=merge_merge.iloc[:,11:]"
   ]
  },
  {
   "cell_type": "markdown",
   "id": "857d871a",
   "metadata": {},
   "source": [
    "#print(check_genotype_counts)"
   ]
  },
  {
   "cell_type": "markdown",
   "id": "1990adfd",
   "metadata": {},
   "source": [
    "#get 2D list from the genotype columns\n",
    "check_genotype_counts_values=check_genotype_counts.values.tolist()"
   ]
  },
  {
   "cell_type": "markdown",
   "id": "6434eb85",
   "metadata": {},
   "source": [
    "#flatten the list \n",
    "flatten_list = list(chain.from_iterable(check_genotype_counts_values))"
   ]
  },
  {
   "cell_type": "markdown",
   "id": "dfe63f11",
   "metadata": {},
   "source": [
    "#get all unique values\n",
    "flatten_list_unique_values=pd.unique(flatten_list)"
   ]
  },
  {
   "cell_type": "markdown",
   "id": "c6356c8d",
   "metadata": {},
   "source": [
    "print(flatten_list_unique_values)"
   ]
  },
  {
   "cell_type": "markdown",
   "id": "07a591d7",
   "metadata": {},
   "source": [
    "**2.7.1 Replace NaN with NN**"
   ]
  },
  {
   "cell_type": "code",
   "execution_count": null,
   "id": "359d2081",
   "metadata": {},
   "outputs": [],
   "source": [
    "#replace NaN with NN\n",
    "merge_merge=merge_merge.fillna(\"NN\")"
   ]
  },
  {
   "cell_type": "markdown",
   "id": "8914cb57",
   "metadata": {},
   "source": [
    "**2.7.2 Replace of target variant genotype calls OO**"
   ]
  },
  {
   "cell_type": "code",
   "execution_count": null,
   "id": "0f88f58f",
   "metadata": {},
   "outputs": [],
   "source": [
    "merge_merge=merge_merge.replace(to_replace='OO', value=\"NN\") "
   ]
  },
  {
   "cell_type": "markdown",
   "id": "619ea6da",
   "metadata": {},
   "source": [
    "**2.7.3 Replace of N genotype call with NN**"
   ]
  },
  {
   "cell_type": "code",
   "execution_count": null,
   "id": "2403b453",
   "metadata": {},
   "outputs": [],
   "source": [
    "merge_merge=merge_merge.replace(to_replace='N', value=\"NN\") "
   ]
  },
  {
   "cell_type": "code",
   "execution_count": null,
   "id": "de675d99",
   "metadata": {},
   "outputs": [],
   "source": [
    "#recheck the genotype calls \n",
    "#check_genotype_counts_re=merge_merge.iloc[:,11:]\n",
    "#check_genotype_counts_values_re=check_genotype_counts_re.values.tolist()\n",
    "#flatten_list_re = list(chain.from_iterable(check_genotype_counts_values_re))\n",
    "#flatten_list_unique_values_re=pd.unique(flatten_list_re)"
   ]
  },
  {
   "cell_type": "code",
   "execution_count": null,
   "id": "f6dd7616",
   "metadata": {},
   "outputs": [],
   "source": [
    "#print(flatten_list_unique_values_re)\n",
    "len(flatten_list_unique_values_re)"
   ]
  },
  {
   "cell_type": "markdown",
   "id": "0805ea0c",
   "metadata": {},
   "source": [
    "**2.7.4 Turn around double calls**"
   ]
  },
  {
   "cell_type": "markdown",
   "id": "552bf352",
   "metadata": {},
   "source": [
    "*Exchange C/T for T/C*"
   ]
  },
  {
   "cell_type": "code",
   "execution_count": null,
   "id": "cba8d99d",
   "metadata": {},
   "outputs": [],
   "source": [
    "merge_merge=merge_merge.replace(to_replace='CT',value='TC')"
   ]
  },
  {
   "cell_type": "markdown",
   "id": "ff00ab51",
   "metadata": {},
   "source": [
    "*Exchange G/T for T/G*"
   ]
  },
  {
   "cell_type": "code",
   "execution_count": null,
   "id": "cb72cc60",
   "metadata": {},
   "outputs": [],
   "source": [
    "merge_merge=merge_merge.replace(to_replace='GT',value='TG')"
   ]
  },
  {
   "cell_type": "markdown",
   "id": "5d1df35b",
   "metadata": {},
   "source": [
    "*Exchange A/T for T/A*"
   ]
  },
  {
   "cell_type": "code",
   "execution_count": null,
   "id": "01cd2378",
   "metadata": {},
   "outputs": [],
   "source": [
    "merge_merge=merge_merge.replace(to_replace='AT',value='TA')"
   ]
  },
  {
   "cell_type": "markdown",
   "id": "927a6cff",
   "metadata": {},
   "source": [
    "*Exchange A/G for G/A*"
   ]
  },
  {
   "cell_type": "code",
   "execution_count": null,
   "id": "22abdf5b",
   "metadata": {},
   "outputs": [],
   "source": [
    "merge_merge=merge_merge.replace(to_replace='AG',value='GA')"
   ]
  },
  {
   "cell_type": "markdown",
   "id": "82c515a1",
   "metadata": {},
   "source": [
    "*Exchange C/G for G/C*"
   ]
  },
  {
   "cell_type": "code",
   "execution_count": null,
   "id": "8af04c83",
   "metadata": {},
   "outputs": [],
   "source": [
    "merge_merge=merge_merge.replace(to_replace='CG',value='GC')"
   ]
  },
  {
   "cell_type": "markdown",
   "id": "2d2d234c",
   "metadata": {},
   "source": [
    "*Exchange C/A for A/C*"
   ]
  },
  {
   "cell_type": "code",
   "execution_count": null,
   "id": "eea678f6",
   "metadata": {},
   "outputs": [],
   "source": [
    "merge_merge=merge_merge.replace(to_replace='CA',value='AC')"
   ]
  },
  {
   "cell_type": "code",
   "execution_count": null,
   "id": "48105d78",
   "metadata": {},
   "outputs": [],
   "source": [
    "merge_merge"
   ]
  },
  {
   "cell_type": "markdown",
   "id": "42f1a416",
   "metadata": {},
   "source": [
    "## **Intermediate OUTPUT II**"
   ]
  },
  {
   "cell_type": "markdown",
   "id": "070fc81b",
   "metadata": {},
   "source": [
    "### **Write to file**"
   ]
  },
  {
   "cell_type": "code",
   "execution_count": null,
   "id": "177b8f3c",
   "metadata": {},
   "outputs": [],
   "source": [
    "merge_merge.to_csv(\"merge_merge_all_chromosomes_turn_around_for_masters.hmp.txt\", sep=\"\\t\", index=False)"
   ]
  },
  {
   "cell_type": "markdown",
   "id": "111730ec",
   "metadata": {},
   "source": [
    "### **Read in file again**"
   ]
  },
  {
   "cell_type": "code",
   "execution_count": null,
   "id": "823c0859",
   "metadata": {},
   "outputs": [],
   "source": [
    "merge_merge_turn_around=pd.read_csv(\"merge_merge_all_chromosomes_turn_around_for_masters.hmp.txt\", sep=\"\\t\")"
   ]
  },
  {
   "cell_type": "code",
   "execution_count": null,
   "id": "56c3e0ca",
   "metadata": {},
   "outputs": [],
   "source": [
    "merge_merge_turn_around"
   ]
  },
  {
   "cell_type": "code",
   "execution_count": null,
   "id": "1de30d89",
   "metadata": {},
   "outputs": [],
   "source": [
    "#recheck the genotype calls \n",
    "check_genotype_counts_after_turn=merge_merge_turn_around.iloc[:,11:]"
   ]
  },
  {
   "cell_type": "code",
   "execution_count": null,
   "id": "614ad2d6",
   "metadata": {},
   "outputs": [],
   "source": [
    "check_genotype_counts_values_after_turn=check_genotype_counts_after_turn.values.tolist()"
   ]
  },
  {
   "cell_type": "code",
   "execution_count": null,
   "id": "1027fd28",
   "metadata": {},
   "outputs": [],
   "source": [
    "#flatten_list_after_turn= list(chain.from_iterable(check_genotype_counts_values_after_turn))"
   ]
  },
  {
   "cell_type": "code",
   "execution_count": null,
   "id": "17326d3d",
   "metadata": {},
   "outputs": [],
   "source": [
    "#flatten_list_unique_values_after_turn=pd.unique(flatten_list_after_turn)"
   ]
  },
  {
   "cell_type": "code",
   "execution_count": null,
   "id": "37121b1d",
   "metadata": {},
   "outputs": [],
   "source": [
    "#flatten_list_unique_values_after_turn\n",
    "#len(flatten_list_unique_values_after_turn)"
   ]
  },
  {
   "cell_type": "markdown",
   "id": "9183d992",
   "metadata": {},
   "source": [
    "**2.7.5 Replace the header columns with NA**"
   ]
  },
  {
   "cell_type": "code",
   "execution_count": null,
   "id": "24b877bc",
   "metadata": {},
   "outputs": [],
   "source": [
    "#select the first 11 columns \n",
    "first_11=merge_merge_turn_around.iloc[:,:11]"
   ]
  },
  {
   "cell_type": "code",
   "execution_count": null,
   "id": "7d72eadd",
   "metadata": {},
   "outputs": [],
   "source": [
    "first_11"
   ]
  },
  {
   "cell_type": "code",
   "execution_count": null,
   "id": "3afa293f",
   "metadata": {},
   "outputs": [],
   "source": [
    "#replace the header NN with with a NA \n",
    "merge_merge_turn_around.iloc[:,0:11]=merge_merge_turn_around.iloc[:,0:11].replace(to_replace='NN',value=\"NA\")"
   ]
  },
  {
   "cell_type": "code",
   "execution_count": null,
   "id": "e624fbf3",
   "metadata": {},
   "outputs": [],
   "source": [
    "#select the first 11 columns again\n",
    "first_11_2=merge_merge_turn_around.iloc[:,:11]"
   ]
  },
  {
   "cell_type": "code",
   "execution_count": null,
   "id": "0570a040",
   "metadata": {},
   "outputs": [],
   "source": [
    "first_11_2"
   ]
  },
  {
   "cell_type": "markdown",
   "id": "b67c8030",
   "metadata": {},
   "source": [
    "**2.7.6 Make allele column for table**"
   ]
  },
  {
   "cell_type": "markdown",
   "id": "0c2bca04",
   "metadata": {},
   "source": [
    "*Get the row-wise alleles from the table*"
   ]
  },
  {
   "cell_type": "code",
   "execution_count": null,
   "id": "94bd01e9",
   "metadata": {},
   "outputs": [],
   "source": [
    "merge_merge_set=list(map(set,check_genotype_counts_after_turn.values))"
   ]
  },
  {
   "cell_type": "code",
   "execution_count": null,
   "id": "7d5ff128",
   "metadata": {
    "scrolled": true
   },
   "outputs": [],
   "source": [
    "#list of sets \n",
    "merge_merge_set"
   ]
  },
  {
   "cell_type": "code",
   "execution_count": null,
   "id": "277c7458",
   "metadata": {},
   "outputs": [],
   "source": [
    "len(merge_merge_set)"
   ]
  },
  {
   "cell_type": "markdown",
   "id": "e7a80e15",
   "metadata": {},
   "source": [
    "*Make list of sets into list of lists*"
   ]
  },
  {
   "cell_type": "code",
   "execution_count": null,
   "id": "de5b4148",
   "metadata": {},
   "outputs": [],
   "source": [
    "#mayer_2017_genotypes\n",
    "merge_merge_list=[]"
   ]
  },
  {
   "cell_type": "code",
   "execution_count": null,
   "id": "c76e045e",
   "metadata": {},
   "outputs": [],
   "source": [
    "for e in merge_merge_set:\n",
    "    #print(e)\n",
    "    geno_row=list(e)\n",
    "    merge_merge_list.append(geno_row)"
   ]
  },
  {
   "cell_type": "code",
   "execution_count": null,
   "id": "277d6b3f",
   "metadata": {
    "scrolled": true
   },
   "outputs": [],
   "source": [
    "merge_merge_list"
   ]
  },
  {
   "cell_type": "code",
   "execution_count": null,
   "id": "984130c4",
   "metadata": {},
   "outputs": [],
   "source": [
    "len(merge_merge_list)"
   ]
  },
  {
   "cell_type": "code",
   "execution_count": null,
   "id": "9e150126",
   "metadata": {},
   "outputs": [],
   "source": [
    "#check the genotype calls that are contained\n",
    "flatten_list= list(chain.from_iterable(merge_merge_list))\n",
    "flatten_list_unique_values_merge_merge_list=pd.unique(flatten_list)"
   ]
  },
  {
   "cell_type": "code",
   "execution_count": null,
   "id": "db405b8b",
   "metadata": {},
   "outputs": [],
   "source": [
    "flatten_list_unique_values_merge_merge_list\n",
    "len(flatten_list_unique_values_merge_merge_list)"
   ]
  },
  {
   "cell_type": "code",
   "execution_count": null,
   "id": "bc030ee8",
   "metadata": {},
   "outputs": [],
   "source": [
    "print(flatten_list_unique_values_merge_merge_list)"
   ]
  },
  {
   "cell_type": "markdown",
   "id": "20ff18bc",
   "metadata": {},
   "source": [
    "*Remove \"NN\" from the rows*"
   ]
  },
  {
   "cell_type": "code",
   "execution_count": null,
   "id": "8751ed3c",
   "metadata": {
    "scrolled": true
   },
   "outputs": [],
   "source": [
    "for sublist in merge_merge_list:\n",
    "    #print(sublist)\n",
    "    for element in sublist:\n",
    "        #print(element)\n",
    "        if element == \"NN\":\n",
    "            #print(\"yes\")\n",
    "            sublist.remove(element)"
   ]
  },
  {
   "cell_type": "code",
   "execution_count": null,
   "id": "ff9d4339",
   "metadata": {
    "scrolled": true
   },
   "outputs": [],
   "source": [
    "merge_merge_list"
   ]
  },
  {
   "cell_type": "code",
   "execution_count": null,
   "id": "bda440ca",
   "metadata": {},
   "outputs": [],
   "source": [
    "len(merge_merge_list)"
   ]
  },
  {
   "cell_type": "markdown",
   "id": "41edb97a",
   "metadata": {},
   "source": [
    "*Merge all the row elements into one*"
   ]
  },
  {
   "cell_type": "code",
   "execution_count": null,
   "id": "ddc7dc6c",
   "metadata": {},
   "outputs": [],
   "source": [
    "merge_merge_genotypes_list=[]"
   ]
  },
  {
   "cell_type": "code",
   "execution_count": null,
   "id": "d6c8e07a",
   "metadata": {},
   "outputs": [],
   "source": [
    "for sublist_without_NN in merge_merge_list:\n",
    "    #print(sublist_without_2017)\n",
    "    s=''.join(sublist_without_NN)\n",
    "    merge_merge_genotypes_list.append(s)\n",
    "    #print(s)"
   ]
  },
  {
   "cell_type": "code",
   "execution_count": null,
   "id": "7dff3444",
   "metadata": {
    "scrolled": true
   },
   "outputs": [],
   "source": [
    "merge_merge_genotypes_list"
   ]
  },
  {
   "cell_type": "code",
   "execution_count": null,
   "id": "33f60772",
   "metadata": {},
   "outputs": [],
   "source": [
    "len(merge_merge_genotypes_list)"
   ]
  },
  {
   "cell_type": "code",
   "execution_count": null,
   "id": "96cc37f2",
   "metadata": {},
   "outputs": [],
   "source": [
    "substring_T=\"T\"\n",
    "substring_G=\"G\"\n",
    "substring_A=\"A\"\n",
    "substring_C=\"C\""
   ]
  },
  {
   "cell_type": "code",
   "execution_count": null,
   "id": "01538061",
   "metadata": {},
   "outputs": [],
   "source": [
    "count_row=[]\n",
    "all_counts=[]\n",
    "filter_boolean=[]"
   ]
  },
  {
   "cell_type": "markdown",
   "id": "3c4df508",
   "metadata": {},
   "source": [
    "*Check for sites with more than two alleles*"
   ]
  },
  {
   "cell_type": "code",
   "execution_count": null,
   "id": "53571260",
   "metadata": {},
   "outputs": [],
   "source": [
    "for merged_element in merge_merge_genotypes_list:\n",
    "    #print(merged_element)\n",
    "    \n",
    "    #count how many times each allel appears in the row \n",
    "    count_T=merged_element.count(substring_T)\n",
    "    count_G=merged_element.count(substring_G)\n",
    "    count_A=merged_element.count(substring_A)\n",
    "    count_C=merged_element.count(substring_C)\n",
    "    #print(count_T)\n",
    "    \n",
    "    #add the rowwise counts of the alleles to a list\n",
    "    count_row=[count_T,count_G,count_A,count_C]\n",
    "    #add the row counts to a list of lists\n",
    "    all_counts.append(count_row)\n",
    "\n",
    "    #count number of non-zero numbers in the count of alleles list (are there more than two alleles )\n",
    "    num_of_alleles=np.count_nonzero(count_row)\n",
    "    #print(num_of_alleles)\n",
    "    \n",
    "    if num_of_alleles > 2: #if there are more than two alleles \n",
    "        #print(merged_element)\n",
    "        #print(num_of_alleles)\n",
    "        filter_boolean.append(False) #append False to the list \n",
    "    \n",
    "    elif num_of_alleles <=2: #if there are less than two allels\n",
    "        filter_boolean.append(True)\n",
    "              \n",
    "    else:\n",
    "        print(\"Problem\")\n",
    "        break  "
   ]
  },
  {
   "cell_type": "code",
   "execution_count": null,
   "id": "06083e5a",
   "metadata": {},
   "outputs": [],
   "source": [
    "print(len(filter_boolean))\n",
    "Counter(filter_boolean)"
   ]
  },
  {
   "cell_type": "markdown",
   "id": "a67980b6",
   "metadata": {},
   "source": [
    "*Make the allele column*"
   ]
  },
  {
   "cell_type": "code",
   "execution_count": null,
   "id": "38530f39",
   "metadata": {},
   "outputs": [],
   "source": [
    "allel_column=[]"
   ]
  },
  {
   "cell_type": "code",
   "execution_count": null,
   "id": "dc0f9145",
   "metadata": {},
   "outputs": [],
   "source": [
    "#make the allel column \n",
    "for count_row_element in all_counts :\n",
    "            #print(count_row_element)\n",
    "            if count_row_element[0] != 0 and count_row_element[1] != 0:\n",
    "                allel_column.extend([\"T/G\"])\n",
    "            elif count_row_element[0] != 0 and count_row_element[2] !=0:\n",
    "                allel_column.extend([\"T/A\"])\n",
    "            elif count_row_element[0] != 0 and count_row_element[3] !=0:\n",
    "                allel_column.extend([\"T/C\"])\n",
    "            elif count_row_element[1] != 0 and count_row_element[2] !=0:\n",
    "                allel_column.extend([\"G/A\"])\n",
    "            elif count_row_element[1] != 0 and count_row_element[3] !=0:\n",
    "                allel_column.extend([\"G/C\"])\n",
    "            elif count_row_element[2] != 0 and count_row_element[3] !=0:\n",
    "                allel_column.extend([\"A/C\"])\n",
    "            elif count_row_element[0] != 0 and count_row_element[1] ==0 and count_row_element[2] ==0 and count_row_element[3]==0:\n",
    "                allel_column.extend([\"T\"])\n",
    "            elif count_row_element[1] != 0 and count_row_element[0] ==0 and count_row_element[2] ==0 and count_row_element[3]==0:\n",
    "                allel_column.extend([\"G\"])\n",
    "            elif count_row_element[2] != 0 and count_row_element[0] ==0 and count_row_element[1] ==0 and count_row_element[3]==0:\n",
    "                allel_column.extend([\"A\"])\n",
    "            elif count_row_element[3] != 0 and count_row_element[0] ==0 and count_row_element[1] ==0 and count_row_element[2]==0:\n",
    "                allel_column.extend([\"C\"])\n",
    "            else:\n",
    "                allel_column.extend([\"-/-\"])\n"
   ]
  },
  {
   "cell_type": "code",
   "execution_count": null,
   "id": "62e0dce1",
   "metadata": {},
   "outputs": [],
   "source": [
    "len(allel_column)"
   ]
  },
  {
   "cell_type": "code",
   "execution_count": null,
   "id": "dbe62318",
   "metadata": {},
   "outputs": [],
   "source": [
    "Counter(allel_column)"
   ]
  },
  {
   "cell_type": "code",
   "execution_count": null,
   "id": "d65f1e8e",
   "metadata": {},
   "outputs": [],
   "source": [
    "205756+203870+49079+35345+57468+57654+56+59+66+89"
   ]
  },
  {
   "cell_type": "code",
   "execution_count": null,
   "id": "ac433a27",
   "metadata": {},
   "outputs": [],
   "source": [
    "56+59+66+89"
   ]
  },
  {
   "cell_type": "code",
   "execution_count": null,
   "id": "14e37302",
   "metadata": {
    "scrolled": true
   },
   "outputs": [],
   "source": [
    "allel_column"
   ]
  },
  {
   "cell_type": "markdown",
   "id": "b07604c7",
   "metadata": {},
   "source": [
    "*Add the allele column into the table*"
   ]
  },
  {
   "cell_type": "code",
   "execution_count": null,
   "id": "163b9c3a",
   "metadata": {},
   "outputs": [],
   "source": [
    "merge_merge_turn_around"
   ]
  },
  {
   "cell_type": "code",
   "execution_count": null,
   "id": "e287fe21",
   "metadata": {},
   "outputs": [],
   "source": [
    "#read-in the array.txt\n",
    "check_strand=pd.read_csv(\"/Users/kschul38/Documents/tsinfer-project/data/2_processed/europe_maize_dataset_600k/600k_array_info_header_removed.txt\", sep=\"\\t\", dtype = str)\n",
    "check_strand"
   ]
  },
  {
   "cell_type": "code",
   "execution_count": null,
   "id": "52a1b0a8",
   "metadata": {},
   "outputs": [],
   "source": [
    "#get all the genotype-calls from the array.txt\n",
    "genotype_call=check_strand[\"alleles_f\"].values.ravel()"
   ]
  },
  {
   "cell_type": "code",
   "execution_count": null,
   "id": "a9f7e32b",
   "metadata": {},
   "outputs": [],
   "source": [
    "#check that number of genotype calls is correct\n",
    "len(genotype_call)"
   ]
  },
  {
   "cell_type": "code",
   "execution_count": null,
   "id": "64bb6a6c",
   "metadata": {},
   "outputs": [],
   "source": [
    "#get a list of all unique calls\n",
    "unique_values_array = pd.unique(genotype_call)"
   ]
  },
  {
   "cell_type": "code",
   "execution_count": null,
   "id": "30903b70",
   "metadata": {},
   "outputs": [],
   "source": [
    "#look at complete list\n",
    "#unique_values_array"
   ]
  },
  {
   "cell_type": "code",
   "execution_count": null,
   "id": "913c9388",
   "metadata": {},
   "outputs": [],
   "source": [
    "#remove the \"typical genotype calls\" - so that just indels remain\n",
    "unique_values_array = np.delete(unique_values_array, [0,1,2,3,4,5])"
   ]
  },
  {
   "cell_type": "code",
   "execution_count": null,
   "id": "809be60e",
   "metadata": {},
   "outputs": [],
   "source": [
    "#check that it only contains a-typical genotype calls\n",
    "#unique_values_array"
   ]
  },
  {
   "cell_type": "code",
   "execution_count": null,
   "id": "47c42f2a",
   "metadata": {},
   "outputs": [],
   "source": [
    "#create a boolean over the whole allele column, where typical calls == True & atypical calls == False \n",
    "array_marker_filter_table=~check_strand[\"alleles_f\"].isin(unique_values_array)"
   ]
  },
  {
   "cell_type": "code",
   "execution_count": null,
   "id": "3b1d81a2",
   "metadata": {},
   "outputs": [],
   "source": [
    "array_marker_filter_table"
   ]
  },
  {
   "cell_type": "markdown",
   "id": "8f6ef993",
   "metadata": {},
   "source": [
    "**Get the filtered markers from the array.txt**"
   ]
  },
  {
   "cell_type": "code",
   "execution_count": null,
   "id": "6f125ab0",
   "metadata": {},
   "outputs": [],
   "source": [
    "filter_boolean_array_txt=array_marker_filter_table #taken from the non-typical genotypes removed to use here\n",
    "#Counter(filter_boolean_array_txt)"
   ]
  },
  {
   "cell_type": "code",
   "execution_count": null,
   "id": "d9ccbd00",
   "metadata": {},
   "outputs": [],
   "source": [
    "#filter_boolean_array_txt"
   ]
  },
  {
   "cell_type": "code",
   "execution_count": null,
   "id": "1db33668",
   "metadata": {},
   "outputs": [],
   "source": [
    "Counter(filter_boolean_array_txt)"
   ]
  },
  {
   "cell_type": "code",
   "execution_count": null,
   "id": "92f197f4",
   "metadata": {},
   "outputs": [],
   "source": [
    "#check_strand[[\"ID\",\"alleles_f\"]]\n",
    "array_txt_alleles=check_strand[[\"ID\",\"alleles_f\"]]\n",
    "array_txt_alleles_merge=array_txt_alleles.rename(columns={\"ID\":\"rs#\"}) #rename the column for merge \n",
    "array_txt_alleles_merge_filter=array_txt_alleles_merge[filter_boolean_array_txt] # remove the lines with ne non-typical genotype calls "
   ]
  },
  {
   "cell_type": "code",
   "execution_count": null,
   "id": "327d31b4",
   "metadata": {},
   "outputs": [],
   "source": [
    "array_txt_alleles_merge_filter"
   ]
  },
  {
   "cell_type": "code",
   "execution_count": null,
   "id": "053d279a",
   "metadata": {},
   "outputs": [],
   "source": [
    "merge_merge_with_column=pd.merge(array_txt_alleles_merge_filter,merge_merge_turn_around,on=['rs#'], how='outer')"
   ]
  },
  {
   "cell_type": "code",
   "execution_count": null,
   "id": "3f8ef06a",
   "metadata": {},
   "outputs": [],
   "source": [
    "merge_merge_with_column"
   ]
  },
  {
   "cell_type": "code",
   "execution_count": null,
   "id": "42c39a40",
   "metadata": {},
   "outputs": [],
   "source": []
  },
  {
   "cell_type": "code",
   "execution_count": null,
   "id": "0422f032",
   "metadata": {},
   "outputs": [],
   "source": []
  },
  {
   "cell_type": "code",
   "execution_count": null,
   "id": "121417eb",
   "metadata": {},
   "outputs": [],
   "source": []
  },
  {
   "cell_type": "code",
   "execution_count": null,
   "id": "bdce5a0f",
   "metadata": {},
   "outputs": [],
   "source": [
    "merge_merge_with_column = merge_merge_turn_around.assign(alleles=allel_column)"
   ]
  },
  {
   "cell_type": "code",
   "execution_count": null,
   "id": "0361294f",
   "metadata": {},
   "outputs": [],
   "source": [
    "merge_merge_with_column"
   ]
  },
  {
   "cell_type": "code",
   "execution_count": null,
   "id": "e91bb531",
   "metadata": {},
   "outputs": [],
   "source": [
    "col_check=merge_merge_with_column.loc[merge_merge_with_column['rs#']==\"AX-91835112\"]\n",
    "col_check"
   ]
  },
  {
   "cell_type": "code",
   "execution_count": null,
   "id": "d469f6ef",
   "metadata": {},
   "outputs": [],
   "source": [
    "pd.unique(col_check.iloc[:,11:].values.ravel())"
   ]
  },
  {
   "cell_type": "markdown",
   "id": "52b5524d",
   "metadata": {},
   "source": [
    "**2.7.7 Reorder first by chromosome than by position**"
   ]
  },
  {
   "cell_type": "code",
   "execution_count": null,
   "id": "34de542e",
   "metadata": {},
   "outputs": [],
   "source": [
    "#sort by chromosome and then by position\n",
    "merge_merge_with_column=merge_merge_with_column.sort_values(by=['chrom', 'pos'])"
   ]
  },
  {
   "cell_type": "markdown",
   "id": "e7cd6d3e",
   "metadata": {},
   "source": [
    "**2.7.8 Convert the position of the markers into integer**"
   ]
  },
  {
   "cell_type": "code",
   "execution_count": null,
   "id": "e95bc22f",
   "metadata": {},
   "outputs": [],
   "source": [
    "merge_merge_with_column[[\"pos\"]]=merge_merge_with_column[[\"pos\"]].astype(int)"
   ]
  },
  {
   "cell_type": "code",
   "execution_count": null,
   "id": "5cee65b7",
   "metadata": {},
   "outputs": [],
   "source": [
    "merge_merge_with_column"
   ]
  },
  {
   "cell_type": "code",
   "execution_count": null,
   "id": "5302629e",
   "metadata": {},
   "outputs": [],
   "source": [
    "#replace the header NN with with a NA \n",
    "merge_merge_with_column.iloc[:,0:11]=merge_merge_with_column.iloc[:,0:11].replace(to_replace='NN',value=\"NA\")"
   ]
  },
  {
   "cell_type": "code",
   "execution_count": null,
   "id": "b9f64231",
   "metadata": {},
   "outputs": [],
   "source": [
    "print(\"Finished - Additional edtis\")"
   ]
  },
  {
   "cell_type": "code",
   "execution_count": null,
   "id": "2e385a53",
   "metadata": {},
   "outputs": [],
   "source": [
    "merge_merge_with_column"
   ]
  },
  {
   "cell_type": "code",
   "execution_count": null,
   "id": "3313d523",
   "metadata": {},
   "outputs": [],
   "source": [
    "merge_merge_with_column=merge_merge_with_column.drop(columns=[\"alleles\"])"
   ]
  },
  {
   "cell_type": "code",
   "execution_count": null,
   "id": "ac346871",
   "metadata": {},
   "outputs": [],
   "source": [
    "merge_merge_with_column"
   ]
  },
  {
   "cell_type": "code",
   "execution_count": null,
   "id": "c9522c4e",
   "metadata": {},
   "outputs": [],
   "source": [
    "merge_merge_with_column=merge_merge_with_column.rename(columns={\"alleles_f\":\"alleles\"})"
   ]
  },
  {
   "cell_type": "code",
   "execution_count": null,
   "id": "6d221e7f",
   "metadata": {},
   "outputs": [],
   "source": [
    "merge_merge_with_column"
   ]
  },
  {
   "cell_type": "markdown",
   "id": "7375b075",
   "metadata": {},
   "source": [
    "## **OUTPUT**"
   ]
  },
  {
   "cell_type": "markdown",
   "id": "856c3de6",
   "metadata": {},
   "source": [
    "### **Write to file**"
   ]
  },
  {
   "cell_type": "code",
   "execution_count": null,
   "id": "7f575e9c",
   "metadata": {},
   "outputs": [],
   "source": [
    "merge_merge_with_column.to_csv(\"merge_merge_all_chrom_all_edits_with_allel_column_from_array_600k_for_masters.hmp.txt\", sep=\"\\t\", index=False)"
   ]
  },
  {
   "cell_type": "code",
   "execution_count": null,
   "id": "99d1c231",
   "metadata": {},
   "outputs": [],
   "source": [
    "print(\"Finished written to file\")"
   ]
  },
  {
   "cell_type": "markdown",
   "id": "7a232d73",
   "metadata": {},
   "source": [
    "### **TASSEL command**"
   ]
  },
  {
   "cell_type": "code",
   "execution_count": null,
   "id": "30af4284",
   "metadata": {},
   "outputs": [],
   "source": [
    "%cd /Users/kschul38/Documents/Tassel_5.0"
   ]
  },
  {
   "cell_type": "code",
   "execution_count": null,
   "id": "39a8a631",
   "metadata": {},
   "outputs": [],
   "source": [
    "os.system(\"./run_pipeline.pl -Xmx10g  -h merge_merge_all_chrom_all_edits_with_allel_column_from_array_600k_for_masters.hmp.txt -export merge_merge_all_chrom_all_edits_with_allel_column_from_array_600k_for_masters_vcf.vcf -exportType VCF\")"
   ]
  }
 ],
 "metadata": {
  "kernelspec": {
   "display_name": "Python 3",
   "language": "python",
   "name": "python3"
  },
  "language_info": {
   "codemirror_mode": {
    "name": "ipython",
    "version": 3
   },
   "file_extension": ".py",
   "mimetype": "text/x-python",
   "name": "python",
   "nbconvert_exporter": "python",
   "pygments_lexer": "ipython3",
   "version": "3.7.9"
  }
 },
 "nbformat": 4,
 "nbformat_minor": 5
}
