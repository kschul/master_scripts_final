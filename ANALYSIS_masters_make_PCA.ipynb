{
 "cells": [
  {
   "cell_type": "markdown",
   "id": "b5b5c5a7",
   "metadata": {},
   "source": [
    "## **ANALYSIS_masters_make_PCA**"
   ]
  },
  {
   "cell_type": "markdown",
   "id": "1db1cc51",
   "metadata": {},
   "source": [
    "### GOALS of this script:\n",
    "* make the PCAs for masters thesis\n",
    "* with all landraces and elite lines & with downsampled DH lines (31 individuals)\n",
    "* for all SNPs\n",
    "* final figure desgin\n",
    "* **remove the unassigned Unterseer_2016 elite lines**\n",
    "* **remove the duplicated Unterseer_2016 landrace lines and only use the 3 unique landraces**"
   ]
  },
  {
   "cell_type": "markdown",
   "id": "76ea9efb",
   "metadata": {},
   "source": [
    "> #### **removed the suffix from the pop column since in this PCA**  <br /> \n",
    "> #### **- there shouldnt be any duplicates**"
   ]
  },
  {
   "cell_type": "markdown",
   "id": "65f9cd03",
   "metadata": {},
   "source": [
    "### **Import packages**"
   ]
  },
  {
   "cell_type": "code",
   "execution_count": null,
   "id": "f21aefd2",
   "metadata": {},
   "outputs": [],
   "source": [
    "import numpy as np\n",
    "import seaborn as sns\n",
    "sns.set_style('white')\n",
    "sns.set_style('ticks')\n",
    "import pandas as pd\n",
    "import matplotlib.pyplot as plt\n",
    "%matplotlib inline\n",
    "import allel\n",
    "import random\n",
    "import h5py\n",
    "import bcolz\n",
    "import csv\n",
    "from itertools import chain\n",
    "import os\n",
    "from collections import Counter\n",
    "from matplotlib.patches import Patch\n",
    "from matplotlib.lines import Line2D\n",
    "from matplotlib.legend_handler import HandlerLine2D"
   ]
  },
  {
   "cell_type": "markdown",
   "id": "78d7707f",
   "metadata": {},
   "source": [
    "### **Subset the populations from the dataset**"
   ]
  },
  {
   "cell_type": "code",
   "execution_count": null,
   "id": "aabbc2ef",
   "metadata": {},
   "outputs": [],
   "source": [
    "callset = allel.read_vcf('/Users/kschul38/Documents/tsinfer-project/data/2_processed/europe_maize_dataset_600k/merge_merge_all_chrom_all_edits_with_allel_column_vcf.vcf')"
   ]
  },
  {
   "cell_type": "code",
   "execution_count": null,
   "id": "0c516a25",
   "metadata": {},
   "outputs": [],
   "source": [
    "#callset"
   ]
  },
  {
   "cell_type": "code",
   "execution_count": null,
   "id": "6cef9a28",
   "metadata": {},
   "outputs": [],
   "source": [
    "sorted(callset.keys())"
   ]
  },
  {
   "cell_type": "code",
   "execution_count": null,
   "id": "839ab25b",
   "metadata": {},
   "outputs": [],
   "source": [
    "#get the samples in the .vcf\n",
    "samples= callset[\"samples\"]\n",
    "#samples"
   ]
  },
  {
   "cell_type": "code",
   "execution_count": null,
   "id": "7b077f03",
   "metadata": {},
   "outputs": [],
   "source": [
    "#total number of the samples inn the vcf\n",
    "len(samples)"
   ]
  },
  {
   "cell_type": "code",
   "execution_count": null,
   "id": "523830ab",
   "metadata": {},
   "outputs": [],
   "source": [
    "#put all the samples in a Dataframe\n",
    "sample_subset = pd.DataFrame(data=samples, columns = ['sample_names'])\n",
    "#sample_subset"
   ]
  },
  {
   "cell_type": "code",
   "execution_count": null,
   "id": "dc1e4ad2",
   "metadata": {},
   "outputs": [],
   "source": [
    "#sample_subset"
   ]
  },
  {
   "cell_type": "markdown",
   "id": "1a6ea635",
   "metadata": {},
   "source": [
    "#### **Mayer_2020_dhlines** - 941 DH individuals based on three landraces"
   ]
  },
  {
   "cell_type": "markdown",
   "id": "099b74a3",
   "metadata": {},
   "source": [
    "#### 941 DH individuals based on three landraces - 31 individuals per Pop"
   ]
  },
  {
   "cell_type": "code",
   "execution_count": null,
   "id": "4b3fee1d",
   "metadata": {},
   "outputs": [],
   "source": [
    "#all Mayer_2020 sample names in the dataframe\n",
    "mayer_2020_dhlines_samples=sample_subset[sample_subset.sample_names.str.contains(\"_2020_dh\")]\n",
    "#mayer_2020_dhlines_samples"
   ]
  },
  {
   "cell_type": "code",
   "execution_count": null,
   "id": "cce96101",
   "metadata": {},
   "outputs": [],
   "source": [
    "#number of all Mayer_2020_dhline individuals\n",
    "print(len(mayer_2020_dhlines_samples))\n",
    "#mayer_2020_dhlines_samples"
   ]
  },
  {
   "cell_type": "markdown",
   "id": "59ed9a08",
   "metadata": {},
   "source": [
    "#### *DH_KE*"
   ]
  },
  {
   "cell_type": "code",
   "execution_count": null,
   "id": "abc88829",
   "metadata": {},
   "outputs": [],
   "source": [
    "#all DH_KE samples in the Mayer_2020_dhlines\n",
    "df_DH_KE_samples=mayer_2020_dhlines_samples[mayer_2020_dhlines_samples.sample_names.str.contains(\"DH_KE\")]"
   ]
  },
  {
   "cell_type": "code",
   "execution_count": null,
   "id": "9324c3b8",
   "metadata": {},
   "outputs": [],
   "source": [
    "#number of all DH_KE individuals\n",
    "print(len(df_DH_KE_samples))\n",
    "#df_DH_KE_samples"
   ]
  },
  {
   "cell_type": "code",
   "execution_count": null,
   "id": "0ebadc3a",
   "metadata": {
    "scrolled": true
   },
   "outputs": [],
   "source": [
    "#take the first 31 DH_KE individuals \n",
    "df_DH_KE_samples_first_31=df_DH_KE_samples.head(31)\n",
    "print(len(df_DH_KE_samples_first_31))\n",
    "#df_DH_KE_samples_first_31"
   ]
  },
  {
   "cell_type": "markdown",
   "id": "daaa4a46",
   "metadata": {},
   "source": [
    "#### *DH_LL*"
   ]
  },
  {
   "cell_type": "code",
   "execution_count": null,
   "id": "2f1e38e1",
   "metadata": {},
   "outputs": [],
   "source": [
    "#all DH_LL samples in the Mayer_2020_dhlines\n",
    "df_DH_LL_samples=mayer_2020_dhlines_samples[mayer_2020_dhlines_samples.sample_names.str.contains(\"DH_LL\")]"
   ]
  },
  {
   "cell_type": "code",
   "execution_count": null,
   "id": "c8a99c22",
   "metadata": {},
   "outputs": [],
   "source": [
    "#number of all DH_LL individuals\n",
    "print(len(df_DH_LL_samples))\n",
    "#df_DH_LL_samples"
   ]
  },
  {
   "cell_type": "code",
   "execution_count": null,
   "id": "25275fd2",
   "metadata": {
    "scrolled": true
   },
   "outputs": [],
   "source": [
    "#take the first 31 DH_LL individuals \n",
    "df_DH_LL_samples_first_31=df_DH_LL_samples.head(31)\n",
    "print(len(df_DH_LL_samples_first_31))\n",
    "df_DH_LL_samples_first_31"
   ]
  },
  {
   "cell_type": "markdown",
   "id": "64cf14ac",
   "metadata": {},
   "source": [
    "#### *DH_PE*"
   ]
  },
  {
   "cell_type": "code",
   "execution_count": null,
   "id": "7f89a91f",
   "metadata": {},
   "outputs": [],
   "source": [
    "#all DH_PE samples in the Mayer_2020_dhlines\n",
    "df_DH_PE_samples=mayer_2020_dhlines_samples[mayer_2020_dhlines_samples.sample_names.str.contains(\"DH_PE\")]"
   ]
  },
  {
   "cell_type": "code",
   "execution_count": null,
   "id": "789a6eb2",
   "metadata": {},
   "outputs": [],
   "source": [
    "#number of all DH_PE individuals \n",
    "print(len(df_DH_PE_samples))\n",
    "#df_DH_PE_samples"
   ]
  },
  {
   "cell_type": "code",
   "execution_count": null,
   "id": "ddc8566c",
   "metadata": {
    "scrolled": true
   },
   "outputs": [],
   "source": [
    "#take the first 31 DH_PE individuals\n",
    "df_DH_PE_samples_first_31=df_DH_PE_samples.head(31)\n",
    "print(len(df_DH_PE_samples_first_31))\n",
    "df_DH_PE_samples_first_31"
   ]
  },
  {
   "cell_type": "markdown",
   "id": "df64483a",
   "metadata": {},
   "source": [
    "#### Asign populations to the 31 DH sample subsets"
   ]
  },
  {
   "cell_type": "code",
   "execution_count": null,
   "id": "7c28693b",
   "metadata": {
    "scrolled": true
   },
   "outputs": [],
   "source": [
    "mayer_2020_DH_landraces_KL=df_DH_KE_samples_first_31.assign(Population=\"KL DH\") #(Population=\"KL_mayer_2020\")\n",
    "mayer_2020_DH_landraces_KL"
   ]
  },
  {
   "cell_type": "code",
   "execution_count": null,
   "id": "624043f0",
   "metadata": {
    "scrolled": true
   },
   "outputs": [],
   "source": [
    "mayer_2020_DH_landraces_LL=df_DH_LL_samples_first_31.assign(Population=\"LL DH\") #(Population=\"LL_mayer_2020\")\n",
    "mayer_2020_DH_landraces_LL"
   ]
  },
  {
   "cell_type": "code",
   "execution_count": null,
   "id": "b1196d2e",
   "metadata": {
    "scrolled": true
   },
   "outputs": [],
   "source": [
    "mayer_2020_DH_landraces_PE=df_DH_PE_samples_first_31.assign(Population=\"PE DH\") #(Population=\"PE_mayer_2020\")\n",
    "mayer_2020_DH_landraces_PE"
   ]
  },
  {
   "cell_type": "markdown",
   "id": "3e6c7ac8",
   "metadata": {},
   "source": [
    "#### **Mayer_2017_landraces** - 952 individuals based on 35 landraces"
   ]
  },
  {
   "cell_type": "code",
   "execution_count": null,
   "id": "a49602c9",
   "metadata": {},
   "outputs": [],
   "source": [
    "#all mayer_2017 sample names\n",
    "mayer_2017_landraces_samples=sample_subset[sample_subset.sample_names.str.contains(\"_2017_landraces\")]"
   ]
  },
  {
   "cell_type": "code",
   "execution_count": null,
   "id": "93b7c9ac",
   "metadata": {},
   "outputs": [],
   "source": [
    "#number of all Mayer_2017_landraces\n",
    "print(len(mayer_2017_landraces_samples))\n",
    "#mayer_2017_landraces_samples"
   ]
  },
  {
   "cell_type": "code",
   "execution_count": null,
   "id": "2c5e94b5",
   "metadata": {},
   "outputs": [],
   "source": [
    "mayer_2017_landraces_samples"
   ]
  },
  {
   "cell_type": "code",
   "execution_count": null,
   "id": "cea0b67c",
   "metadata": {},
   "outputs": [],
   "source": [
    "#add the populations to the individuals\n",
    "for index, row in mayer_2017_landraces_samples.iterrows():\n",
    "    #print(row['sample_names'])\n",
    "    mayer_string=row['sample_names']#take the sample names row\n",
    "    #print(mayer_string) \n",
    "    mayer_substring=mayer_string[0:2] #take the first two letters of the sample names\n",
    "    #print(mayer_substring)\n",
    "    mayer_2017_landraces_samples.at[index,'Population'] = mayer_substring #append the first two letters as the pop name "
   ]
  },
  {
   "cell_type": "code",
   "execution_count": null,
   "id": "a17a0f13",
   "metadata": {},
   "outputs": [],
   "source": [
    "mayer_2017_landraces_samples"
   ]
  },
  {
   "cell_type": "code",
   "execution_count": null,
   "id": "eae3751f",
   "metadata": {},
   "outputs": [],
   "source": [
    "#get all the unique population that you have assigned and check the number \n",
    "populations_mayer = mayer_2017_landraces_samples.Population.unique()\n",
    "print(len(populations_mayer))\n",
    "print(populations_mayer)"
   ]
  },
  {
   "cell_type": "code",
   "execution_count": null,
   "id": "cd9a29c3",
   "metadata": {},
   "outputs": [],
   "source": [
    "#get the number of the individuals per pop\n",
    "#Counter(mayer_2017_landraces_samples.Population)"
   ]
  },
  {
   "cell_type": "markdown",
   "id": "c76c87b1",
   "metadata": {},
   "source": [
    "#### **Unterseer_2016_landraces** - 906 individuals based on 38 european landraces"
   ]
  },
  {
   "cell_type": "code",
   "execution_count": null,
   "id": "8b1538d6",
   "metadata": {},
   "outputs": [],
   "source": [
    "#all Unterseer_2016_landraces sample names\n",
    "unterseer_2016_landraces_samples=sample_subset[sample_subset.sample_names.str.contains(\"_2016_landraces\")]\n",
    "#unterseer_2016_landraces_samples"
   ]
  },
  {
   "cell_type": "code",
   "execution_count": null,
   "id": "bfd0b263",
   "metadata": {},
   "outputs": [],
   "source": [
    "#number of all Unterseer_2016_landraces samples\n",
    "print(len(unterseer_2016_landraces_samples))\n",
    "#unterseer_2016_landraces_samples"
   ]
  },
  {
   "cell_type": "code",
   "execution_count": null,
   "id": "23a17033",
   "metadata": {},
   "outputs": [],
   "source": [
    "#add the populations to all the individuals \n",
    "for index, row in unterseer_2016_landraces_samples.iterrows():\n",
    "    #print(row['sample_names'])\n",
    "    unterseer_string=row['sample_names'] #take the sample names row\n",
    "    #print(unterseer_string) \n",
    "    unterseer_substring=unterseer_string[0:2] #take the first two letters of the sample names\n",
    "    #print(unterseer_substring)\n",
    "    unterseer_2016_landraces_samples.at[index,'Population'] = unterseer_substring #append the first two letters as the pop name"
   ]
  },
  {
   "cell_type": "code",
   "execution_count": null,
   "id": "ca6c3224",
   "metadata": {},
   "outputs": [],
   "source": [
    "unterseer_2016_landraces_samples"
   ]
  },
  {
   "cell_type": "code",
   "execution_count": null,
   "id": "4ff2d4ff",
   "metadata": {},
   "outputs": [],
   "source": [
    "#get all the unique population that you have assigned and check the number \n",
    "populations_unterseer = unterseer_2016_landraces_samples.Population.unique()\n",
    "print(len(populations_unterseer))\n",
    "print(populations_unterseer)"
   ]
  },
  {
   "cell_type": "code",
   "execution_count": null,
   "id": "4948fcd3",
   "metadata": {},
   "outputs": [],
   "source": [
    "#get the number of the individuals per pop\n",
    "#Counter(unterseer_2016_landraces_samples.Population)"
   ]
  },
  {
   "cell_type": "markdown",
   "id": "296b24b4",
   "metadata": {},
   "source": [
    "#### **Select the three unique populations from the Unterseer_2016 landraces**"
   ]
  },
  {
   "cell_type": "code",
   "execution_count": null,
   "id": "44e70caf",
   "metadata": {},
   "outputs": [],
   "source": [
    "unique_unterseer_2016_landraces_samples=unterseer_2016_landraces_samples.loc[unterseer_2016_landraces_samples['Population'].isin(['AL','SO','FL'])]"
   ]
  },
  {
   "cell_type": "code",
   "execution_count": null,
   "id": "960a9392",
   "metadata": {},
   "outputs": [],
   "source": [
    "unique_unterseer_2016_landraces_samples"
   ]
  },
  {
   "cell_type": "code",
   "execution_count": null,
   "id": "2c57759c",
   "metadata": {},
   "outputs": [],
   "source": [
    "#get all the unique population that you have assigned and check the number \n",
    "print(len(unique_unterseer_2016_landraces_samples))\n",
    "print(pd.unique(unique_unterseer_2016_landraces_samples['Population']))"
   ]
  },
  {
   "cell_type": "code",
   "execution_count": null,
   "id": "b0ae7dc6",
   "metadata": {},
   "outputs": [],
   "source": [
    "#get the number of the individuals per pop\n",
    "Counter(unique_unterseer_2016_landraces_samples.Population)"
   ]
  },
  {
   "cell_type": "markdown",
   "id": "264fd6a0",
   "metadata": {},
   "source": [
    "#### **Unterseer_2016_elite** - 155 individuals based on 155 maize elite lines"
   ]
  },
  {
   "cell_type": "code",
   "execution_count": null,
   "id": "a27a9dd6",
   "metadata": {},
   "outputs": [],
   "source": [
    "#all Unterseer_2016_elite sample names\n",
    "unterseer_2016_elite_sample=sample_subset[sample_subset.sample_names.str.contains(\"_2016_elite\")]\n",
    "#unterseer_2016_elite_sample"
   ]
  },
  {
   "cell_type": "code",
   "execution_count": null,
   "id": "20c28580",
   "metadata": {},
   "outputs": [],
   "source": [
    "unterseer_2016_elite_sample"
   ]
  },
  {
   "cell_type": "code",
   "execution_count": null,
   "id": "d5ee9fce",
   "metadata": {},
   "outputs": [],
   "source": [
    "sample_subset[sample_subset.sample_names.str.contains(\"Il14H\")]"
   ]
  },
  {
   "cell_type": "code",
   "execution_count": null,
   "id": "ee71bf39",
   "metadata": {},
   "outputs": [],
   "source": [
    "sample_subset[sample_subset.sample_names.str.contains(\"W64A\")]"
   ]
  },
  {
   "cell_type": "markdown",
   "id": "6cd0b1a3",
   "metadata": {},
   "source": [
    "#### Make flint and dent lists with the samples to include in the PCA"
   ]
  },
  {
   "cell_type": "code",
   "execution_count": null,
   "id": "0a6af1f1",
   "metadata": {},
   "outputs": [],
   "source": [
    "#info from Unterseer_2016 supplement\n",
    "dent_list=[\"A632\",\"B14\",\"B37\",\"B73\",\"B97\",\"CM105\",\"CO125\",\"CR1Ht\",\"D06\",\"D09\",\"DJ7\",\"EC169\",\"F252\",\"F288\",\"F353\",\"F618\",\"F748\",\"F838\",\"F922\",\n",
    "\"F98902\",\"Fv113\",\"Fv230\",\"Fv310\",\"K55\",\"Ky21\",\"LH119\",\"LH132\",\"LH149\",\"LH160\",\"LH202\",\"LH38\",\"LH39\",\"LH51\",\"LH54\",\"LH59\",\"LH61\",\n",
    "\"LH65\",\"LH74\",\"LH93\",\"M162W\",\"M37W\",\"MBS847\",\"ML606\",\"MO17\",\"Mo18W\",\"Ms71\",\"OH43\",\"Oh7B\",\"PA91\",\"PH207\",\n",
    "\"PHG29\",\"PHG50\",\"PHG72\",\"PHH93\",\"PHJ90\",\"PHK29\",\"PHK42\",\"PHN82\",\"PHP02\",\"PHR25\",\"PHW17\",\"PHW52\",\"UH250\",\"UH304\",\"VA85\",\"W117\",\"W22\",\n",
    "\"W401\",\"W64A\",\"WF9\",\"X740\"]"
   ]
  },
  {
   "cell_type": "code",
   "execution_count": null,
   "id": "d4f4e5d5",
   "metadata": {},
   "outputs": [],
   "source": [
    "len(dent_list)"
   ]
  },
  {
   "cell_type": "code",
   "execution_count": null,
   "id": "8c037549",
   "metadata": {},
   "outputs": [],
   "source": [
    "#info from Unterseer_2016 supplement \n",
    "flint_list=[\"CH10\",\"CO255\",\"D102\",\"D118\",\"D141\",\"D142\",\"D143\",\"D152\",\"D171\",\"D503\",\"DK105\",\"EC49A\",\"EM1349\",\n",
    "\"EP1\",\"EP42\",\"EP44\",\"EZ5\",\"F03802\",\"F2\",\"F283\",\"F4\",\"F41\",\"F471\",\"F48\",\"F564\",\"F64\",\"F7\",\"F7012\",\"F902\",\"FC13\",\n",
    "\"FC1571\",\"FC23\",\"FC24\",\"FC25\",\"FC26\",\"FF0721H.7\",\"FV1\",\"FV10\",\"FV11\",\"FV131\",\"FV226\",\"FV268\",\"FV286\",\"FV324\",\n",
    "\"FV65\",\"FV66\",\"FV69A\",\"FV70\",\"FV79\",\"FV83\",\"FV85\",\"Il14H\",\"Lo11\",\"Lo32\",\"P39\",\"UH006\",\"UH007\",\"UH009\",\n",
    "\"X1G0895.DH101\",\"X1G0895.DH104\",\"X1G0895.DH109\",\"X1G0896.DH102\",\"X1G0896.DH116\",\"X1G0896.DH123\",\n",
    "\"X1G0896.DH212\",\"X1G0897.DH102\",\"X1G0897.DH135\",\"X1G0897.DH203\"]"
   ]
  },
  {
   "cell_type": "code",
   "execution_count": null,
   "id": "2cfe11c8",
   "metadata": {},
   "outputs": [],
   "source": [
    "len(flint_list)"
   ]
  },
  {
   "cell_type": "markdown",
   "id": "cf497e2c",
   "metadata": {},
   "source": [
    "#### Remove the elite lines that were not genotyped with the 600k array from the lists"
   ]
  },
  {
   "cell_type": "markdown",
   "id": "303ce935",
   "metadata": {},
   "source": [
    "*Dent lines*"
   ]
  },
  {
   "cell_type": "code",
   "execution_count": null,
   "id": "2aae9395",
   "metadata": {},
   "outputs": [],
   "source": [
    "dent_list.remove(\"W64A\")"
   ]
  },
  {
   "cell_type": "code",
   "execution_count": null,
   "id": "220364d4",
   "metadata": {},
   "outputs": [],
   "source": [
    "len(dent_list)"
   ]
  },
  {
   "cell_type": "markdown",
   "id": "d1e41226",
   "metadata": {},
   "source": [
    "*Flint lines*"
   ]
  },
  {
   "cell_type": "code",
   "execution_count": null,
   "id": "785b13b7",
   "metadata": {},
   "outputs": [],
   "source": [
    "flint_list.remove(\"EZ5\")"
   ]
  },
  {
   "cell_type": "code",
   "execution_count": null,
   "id": "5568f889",
   "metadata": {},
   "outputs": [],
   "source": [
    "flint_list.remove(\"F64\")"
   ]
  },
  {
   "cell_type": "code",
   "execution_count": null,
   "id": "2a8b71e3",
   "metadata": {},
   "outputs": [],
   "source": [
    "len(flint_list)"
   ]
  },
  {
   "cell_type": "code",
   "execution_count": null,
   "id": "464a8d6f",
   "metadata": {},
   "outputs": [],
   "source": [
    "#number matches with the one given in the paper \n",
    "70+66"
   ]
  },
  {
   "cell_type": "markdown",
   "id": "65bc6d04",
   "metadata": {},
   "source": [
    "#### Assign the right population to the Unterseer_2016_elite dataframe"
   ]
  },
  {
   "cell_type": "code",
   "execution_count": null,
   "id": "b192b3fe",
   "metadata": {},
   "outputs": [],
   "source": [
    "#append the germplasm pool assignment\n",
    "for index, row in unterseer_2016_elite_sample.iterrows():\n",
    "    #print(row['sample_names'])\n",
    "    element=row['sample_names']\n",
    "    sub_element=element.partition(\"_\")[0]\n",
    "    #print(sub_element)\n",
    "    if sub_element in dent_list: \n",
    "        unterseer_2016_elite_sample.at[index,'Population'] = \"dent\"\n",
    "    if sub_element in flint_list:\n",
    "        unterseer_2016_elite_sample.at[index,'Population'] = \"flint\"\n",
    "    if sub_element not in dent_list and sub_element not in flint_list:\n",
    "        unterseer_2016_elite_sample.at[index,'Population'] = \"-\""
   ]
  },
  {
   "cell_type": "code",
   "execution_count": null,
   "id": "891831cb",
   "metadata": {},
   "outputs": [],
   "source": [
    "unterseer_2016_elite_sample"
   ]
  },
  {
   "cell_type": "code",
   "execution_count": null,
   "id": "c9d8a5ed",
   "metadata": {},
   "outputs": [],
   "source": [
    "Counter(unterseer_2016_elite_sample[\"Population\"])"
   ]
  },
  {
   "cell_type": "markdown",
   "id": "387f431a",
   "metadata": {},
   "source": [
    "#### Make the subset out of the large dataframe"
   ]
  },
  {
   "cell_type": "code",
   "execution_count": null,
   "id": "fe830eb5",
   "metadata": {},
   "outputs": [],
   "source": [
    "subset_slash=unterseer_2016_elite_sample.loc[unterseer_2016_elite_sample['Population'] == \"-\"]\n",
    "subset_slash"
   ]
  },
  {
   "cell_type": "code",
   "execution_count": null,
   "id": "c2b18ce8",
   "metadata": {},
   "outputs": [],
   "source": [
    "len(subset_slash)"
   ]
  },
  {
   "cell_type": "code",
   "execution_count": null,
   "id": "02f63e0a",
   "metadata": {},
   "outputs": [],
   "source": [
    "len(subset_slash)"
   ]
  },
  {
   "cell_type": "code",
   "execution_count": null,
   "id": "65b699f1",
   "metadata": {},
   "outputs": [],
   "source": [
    "subset_dent=unterseer_2016_elite_sample.loc[unterseer_2016_elite_sample['Population'] == \"dent\"]\n",
    "subset_dent"
   ]
  },
  {
   "cell_type": "code",
   "execution_count": null,
   "id": "3ef33075",
   "metadata": {},
   "outputs": [],
   "source": [
    "subset_flint=unterseer_2016_elite_sample.loc[unterseer_2016_elite_sample['Population'] == \"flint\"]\n",
    "subset_flint"
   ]
  },
  {
   "cell_type": "code",
   "execution_count": null,
   "id": "775e9f51",
   "metadata": {},
   "outputs": [],
   "source": [
    "#check if the number of assignments equals 136 and the total 155\n",
    "print(len(subset_slash))\n",
    "print(len(subset_dent))\n",
    "print(len(subset_flint))"
   ]
  },
  {
   "cell_type": "code",
   "execution_count": null,
   "id": "57532615",
   "metadata": {},
   "outputs": [],
   "source": [
    "19+70+66"
   ]
  },
  {
   "cell_type": "code",
   "execution_count": null,
   "id": "1f08cc2a",
   "metadata": {},
   "outputs": [],
   "source": [
    "#check the assignment of specific columns by conten\n",
    "#unterseer_2016_elite_sample.loc[unterseer_2016_elite_sample[\"F2\"]]\n",
    "#check the assignment of specific column by index\n",
    "#unterseer_2016_elite_sample.loc[38]"
   ]
  },
  {
   "cell_type": "markdown",
   "id": "8c5051a1",
   "metadata": {},
   "source": [
    "#### Combine flint and dent subsets"
   ]
  },
  {
   "cell_type": "code",
   "execution_count": null,
   "id": "ce107c0d",
   "metadata": {},
   "outputs": [],
   "source": [
    "flint_and_dent_unterseer_2016_elite_sample=unterseer_2016_elite_sample.loc[unterseer_2016_elite_sample['Population'].isin(['dent','flint'])]"
   ]
  },
  {
   "cell_type": "code",
   "execution_count": null,
   "id": "a90b62aa",
   "metadata": {},
   "outputs": [],
   "source": [
    "#flint_and_dent_unterseer_2016_elite_sample"
   ]
  },
  {
   "cell_type": "code",
   "execution_count": null,
   "id": "0b9f3cb4",
   "metadata": {},
   "outputs": [],
   "source": [
    "flint_and_dent_unterseer_2016_elite_sample[flint_and_dent_unterseer_2016_elite_sample[\"Population\"]==\"dent\"]"
   ]
  },
  {
   "cell_type": "code",
   "execution_count": null,
   "id": "ef1c761d",
   "metadata": {},
   "outputs": [],
   "source": [
    "flint_and_dent_unterseer_2016_elite_sample[flint_and_dent_unterseer_2016_elite_sample[\"Population\"]==\"flint\"]"
   ]
  },
  {
   "cell_type": "markdown",
   "id": "d78a4e26",
   "metadata": {},
   "source": [
    "*Write the final lists to file*"
   ]
  },
  {
   "cell_type": "markdown",
   "id": "2a381359",
   "metadata": {},
   "source": [
    "textfile = open(\"subset_dent_list.txt\", \"w\")\n",
    "for element in subset_dent_list:\n",
    "    textfile.write(element + \"\\n\")\n",
    "textfile.close()"
   ]
  },
  {
   "cell_type": "markdown",
   "id": "087a6006",
   "metadata": {},
   "source": [
    "textfile = open(\"subset_flint_list.txt\", \"w\")\n",
    "for element in subset_flint_list:\n",
    "    textfile.write(element + \"\\n\")\n",
    "textfile.close()"
   ]
  },
  {
   "cell_type": "markdown",
   "id": "ba48df38",
   "metadata": {},
   "source": [
    "#### Add all individual lists into one list"
   ]
  },
  {
   "cell_type": "markdown",
   "id": "d3588965",
   "metadata": {},
   "source": [
    "> ###### **Unterseer_2016_elite - flint&dent** \n",
    "> ###### **Unterseer_2016 landrace lines - 3 unique lines [AL,FL,SO]** <br /> \n",
    "> ###### **Mayer_2020 DH lines - 31 individuals per DH** <br />\n",
    "> ###### **Mayer_2017_landrace - all individuals from the 35 landraces** <br />"
   ]
  },
  {
   "cell_type": "markdown",
   "id": "3a8b8fa4",
   "metadata": {},
   "source": [
    "#### Unterseer_2016_elite - flint&dent"
   ]
  },
  {
   "cell_type": "code",
   "execution_count": null,
   "id": "56e53462",
   "metadata": {},
   "outputs": [],
   "source": [
    "#flint_and_dent_unterseer_2016_elite_sample"
   ]
  },
  {
   "cell_type": "code",
   "execution_count": null,
   "id": "6f0e183a",
   "metadata": {},
   "outputs": [],
   "source": [
    "print(len(flint_and_dent_unterseer_2016_elite_sample))"
   ]
  },
  {
   "cell_type": "markdown",
   "id": "b0b210d4",
   "metadata": {},
   "source": [
    "#### Unterseer_2016 landrace lines - 3 unique lines [AL,FL,SO]"
   ]
  },
  {
   "cell_type": "code",
   "execution_count": null,
   "id": "34cbdece",
   "metadata": {},
   "outputs": [],
   "source": [
    "#unique_unterseer_2016_landraces_samples"
   ]
  },
  {
   "cell_type": "code",
   "execution_count": null,
   "id": "ce2abe0c",
   "metadata": {},
   "outputs": [],
   "source": [
    "print(len(unique_unterseer_2016_landraces_samples))"
   ]
  },
  {
   "cell_type": "markdown",
   "id": "44a97d41",
   "metadata": {},
   "source": [
    "#### Mayer_2020 DH lines - 31 individuals per DH"
   ]
  },
  {
   "cell_type": "code",
   "execution_count": null,
   "id": "401fe138",
   "metadata": {},
   "outputs": [],
   "source": [
    "#mayer_2020_DH_landraces_KL"
   ]
  },
  {
   "cell_type": "code",
   "execution_count": null,
   "id": "ef144e3a",
   "metadata": {},
   "outputs": [],
   "source": [
    "#mayer_2020_DH_landraces_LL"
   ]
  },
  {
   "cell_type": "code",
   "execution_count": null,
   "id": "26a6680b",
   "metadata": {},
   "outputs": [],
   "source": [
    "#mayer_2020_DH_landraces_PE"
   ]
  },
  {
   "cell_type": "code",
   "execution_count": null,
   "id": "2e141825",
   "metadata": {},
   "outputs": [],
   "source": [
    "print(len(mayer_2020_DH_landraces_KL))\n",
    "print(len(mayer_2020_DH_landraces_LL))\n",
    "print(len(mayer_2020_DH_landraces_PE))"
   ]
  },
  {
   "cell_type": "markdown",
   "id": "9a1d8e4c",
   "metadata": {},
   "source": [
    "#### Mayer_2017_landrace - all individuals from the 35 landraces"
   ]
  },
  {
   "cell_type": "code",
   "execution_count": null,
   "id": "05463c1a",
   "metadata": {},
   "outputs": [],
   "source": [
    "#mayer_2017_landraces_samples"
   ]
  },
  {
   "cell_type": "code",
   "execution_count": null,
   "id": "049d1ef8",
   "metadata": {},
   "outputs": [],
   "source": [
    "print(len(mayer_2017_landraces_samples))"
   ]
  },
  {
   "cell_type": "markdown",
   "id": "da21031e",
   "metadata": {},
   "source": [
    "#### Combine the subset of samples"
   ]
  },
  {
   "cell_type": "code",
   "execution_count": null,
   "id": "c359bee6",
   "metadata": {},
   "outputs": [],
   "source": [
    "#combine the subset of samples\n",
    "filtered_subset_samples_landraces_and_Dh_and_elite=pd.concat([flint_and_dent_unterseer_2016_elite_sample,unique_unterseer_2016_landraces_samples,mayer_2020_DH_landraces_KL,mayer_2020_DH_landraces_LL,mayer_2020_DH_landraces_PE,mayer_2017_landraces_samples])"
   ]
  },
  {
   "cell_type": "code",
   "execution_count": null,
   "id": "63fdb5c3",
   "metadata": {},
   "outputs": [],
   "source": [
    "filtered_subset_samples_landraces_and_Dh_and_elite"
   ]
  },
  {
   "cell_type": "code",
   "execution_count": null,
   "id": "d6def26e",
   "metadata": {},
   "outputs": [],
   "source": [
    "#check the composition of the samples for the PCA\n",
    "#Counter(filtered_subset_samples_landraces_and_Dh_and_elite[\"Population\"])"
   ]
  },
  {
   "cell_type": "code",
   "execution_count": null,
   "id": "fdd4960d",
   "metadata": {},
   "outputs": [],
   "source": [
    "#number of populations included\n",
    "print(len(filtered_subset_samples_landraces_and_Dh_and_elite.Population.unique()))"
   ]
  },
  {
   "cell_type": "code",
   "execution_count": null,
   "id": "1f517b08",
   "metadata": {},
   "outputs": [],
   "source": [
    "#summarize the lists to check the lenghts \n",
    "136+72+31+31+31+952"
   ]
  },
  {
   "cell_type": "markdown",
   "id": "c1ef997e",
   "metadata": {},
   "source": [
    "### **Load the subset .vcf for the 1253 individuals**"
   ]
  },
  {
   "cell_type": "code",
   "execution_count": null,
   "id": "f1d0f7f2",
   "metadata": {},
   "outputs": [],
   "source": [
    "#flatten into 1 D array\n",
    "filtered_subset_samples_landraces_and_Dh_and_elite_array=filtered_subset_samples_landraces_and_Dh_and_elite[\"sample_names\"].to_numpy().flatten()\n",
    "filtered_subset_samples_landraces_and_Dh_and_elite_array"
   ]
  },
  {
   "cell_type": "code",
   "execution_count": null,
   "id": "bd656c9a",
   "metadata": {},
   "outputs": [],
   "source": [
    "len(filtered_subset_samples_landraces_and_Dh_and_elite_array)"
   ]
  },
  {
   "cell_type": "markdown",
   "id": "a9705ae6",
   "metadata": {},
   "source": [
    "### **Load the subset .vcf for the 2016 individuals**"
   ]
  },
  {
   "cell_type": "code",
   "execution_count": null,
   "id": "38a49cb4",
   "metadata": {},
   "outputs": [],
   "source": [
    "#flatten into 1 D array\n",
    "#subset_samples_landraces_and_DH_and_elite_array=subset_samples_landraces_and_DH_and_elite[\"sample_names\"].to_numpy().flatten()\n",
    "#subset_samples_landraces_and_DH_and_elite_array"
   ]
  },
  {
   "cell_type": "code",
   "execution_count": null,
   "id": "10551b25",
   "metadata": {},
   "outputs": [],
   "source": [
    "#len(subset_samples_landraces_and_DH_and_elite_array)"
   ]
  },
  {
   "cell_type": "markdown",
   "id": "6ef811d9",
   "metadata": {},
   "source": [
    "### **Read in the subsets of the samples**"
   ]
  },
  {
   "cell_type": "markdown",
   "id": "3cefbcfc",
   "metadata": {},
   "source": [
    "**1253 lines**"
   ]
  },
  {
   "cell_type": "code",
   "execution_count": null,
   "id": "80276ed9",
   "metadata": {},
   "outputs": [],
   "source": [
    "#read in the subset of the samples\n",
    "loc_samples = allel.read_vcf('merge_merge_all_chrom_all_edits_with_allel_column_from_array_600k_for_masters_vcf.vcf', samples= filtered_subset_samples_landraces_and_Dh_and_elite_array)  "
   ]
  },
  {
   "cell_type": "markdown",
   "id": "34e772ea",
   "metadata": {},
   "source": [
    "**2106 lines**"
   ]
  },
  {
   "cell_type": "code",
   "execution_count": null,
   "id": "5a99bc72",
   "metadata": {},
   "outputs": [],
   "source": [
    "#read in the subset of the samples\n",
    "#loc_samples = allel.read_vcf('/Users/kschul38/Documents/tsinfer-project/data/2_processed/europe_maize_dataset_600k/merge_merge_all_chrom_all_edits_with_allel_column_vcf.vcf', samples= subset_samples_landraces_and_DH_and_elite_array)  "
   ]
  },
  {
   "cell_type": "code",
   "execution_count": null,
   "id": "a9309014",
   "metadata": {},
   "outputs": [],
   "source": [
    "sorted(loc_samples.keys())"
   ]
  },
  {
   "cell_type": "code",
   "execution_count": null,
   "id": "a07b2478",
   "metadata": {},
   "outputs": [],
   "source": [
    "#check the number of the samples in the subset .vcf\n",
    "loc_samples_check= loc_samples[\"samples\"]\n",
    "print(len(loc_samples_check))"
   ]
  },
  {
   "cell_type": "code",
   "execution_count": null,
   "id": "3d773d43",
   "metadata": {},
   "outputs": [],
   "source": [
    "Counter(filtered_subset_samples_landraces_and_Dh_and_elite[\"sample_names\"]==loc_samples_check)"
   ]
  },
  {
   "cell_type": "markdown",
   "id": "a1f5530d",
   "metadata": {},
   "source": [
    "### **Get the genotype data for the 1253 individuals**"
   ]
  },
  {
   "cell_type": "code",
   "execution_count": null,
   "id": "2c454164",
   "metadata": {},
   "outputs": [],
   "source": [
    "genotype_array = allel.GenotypeArray(loc_samples['calldata/GT'])\n",
    "genotype_array"
   ]
  },
  {
   "cell_type": "code",
   "execution_count": null,
   "id": "5cda90fd",
   "metadata": {
    "scrolled": true
   },
   "outputs": [],
   "source": [
    "#check if the genotype array contains the right encoding\n",
    "check_genotype_array=pd.unique(np.asarray(genotype_array).flatten())\n",
    "check_genotype_array\n",
    "#Where 0 is the reference allele\n",
    "#1 is the first alternate allele\n",
    "#2 is the second alternate allele\n",
    "#-1 (or any other negative integer) is a missing allele call\n",
    "\n",
    "#Thought the -1 was a problem but http://alimanfoo.github.io/2017/06/14/read-vcf.html states:\n",
    "#By default scikit-allel uses -1 to indicate a missing value for any array with a signed integer data type."
   ]
  },
  {
   "cell_type": "markdown",
   "id": "bc2ab2fb",
   "metadata": {},
   "source": [
    "### **Count alleles at each variant**"
   ]
  },
  {
   "cell_type": "code",
   "execution_count": null,
   "id": "0a23b64e",
   "metadata": {},
   "outputs": [],
   "source": [
    "#Each integer within the array corresponds to an allele index\n",
    "allelecountsarray = genotype_array.count_alleles()[:]\n",
    "allelecountsarray"
   ]
  },
  {
   "cell_type": "markdown",
   "id": "55c8ebcb",
   "metadata": {},
   "source": [
    "### **Remove singletons and multiallelic SNPs**"
   ]
  },
  {
   "cell_type": "code",
   "execution_count": null,
   "id": "90ba2928",
   "metadata": {},
   "outputs": [],
   "source": [
    "#number multiallelic SNPs \n",
    "np.count_nonzero(allelecountsarray.max_allele() > 1)"
   ]
  },
  {
   "cell_type": "code",
   "execution_count": null,
   "id": "8a538bd1",
   "metadata": {},
   "outputs": [],
   "source": [
    "#number of biallelic SNPs\n",
    "np.count_nonzero(allelecountsarray.max_allele() == 1)"
   ]
  },
  {
   "cell_type": "code",
   "execution_count": null,
   "id": "ffcf1d4b",
   "metadata": {},
   "outputs": [],
   "source": [
    "#number of singletons\n",
    "np.count_nonzero(allelecountsarray.max_allele() == 0)"
   ]
  },
  {
   "cell_type": "code",
   "execution_count": null,
   "id": "ee251966",
   "metadata": {},
   "outputs": [],
   "source": [
    "#number biallelic singletons\n",
    "np.count_nonzero((allelecountsarray.max_allele() == 1) & allelecountsarray.is_singleton(1))"
   ]
  },
  {
   "cell_type": "code",
   "execution_count": null,
   "id": "653409c6",
   "metadata": {},
   "outputs": [],
   "source": [
    "#total number of SNPs removed\n",
    "458+182"
   ]
  },
  {
   "cell_type": "code",
   "execution_count": null,
   "id": "41035c63",
   "metadata": {},
   "outputs": [],
   "source": [
    "Counter((allelecountsarray[:, :2].min(axis=1) > 1))"
   ]
  },
  {
   "cell_type": "code",
   "execution_count": null,
   "id": "89388df5",
   "metadata": {},
   "outputs": [],
   "source": [
    "#apply flitering, remove singeltons and multiallelic SNPs\n",
    "flt = (allelecountsarray.max_allele() == 1) & (allelecountsarray[:, :2].min(axis=1) > 1)\n",
    "genotype_array_filtered = genotype_array.compress(flt, axis=0)\n",
    "genotype_array_filtered"
   ]
  },
  {
   "cell_type": "code",
   "execution_count": null,
   "id": "187f1d4c",
   "metadata": {},
   "outputs": [],
   "source": [
    "#check if the genotype array still contains the right encoding\n",
    "check_genotype_array_filtered=pd.unique(np.asarray(genotype_array_filtered).flatten())\n",
    "check_genotype_array_filtered"
   ]
  },
  {
   "cell_type": "markdown",
   "id": "ee0098f7",
   "metadata": {},
   "source": [
    "### **Transform the genotype data into a 2-dimensional matrix**"
   ]
  },
  {
   "cell_type": "code",
   "execution_count": null,
   "id": "b68b08ee",
   "metadata": {},
   "outputs": [],
   "source": [
    "#Transform each genotype call into the number of non-reference alleles\n",
    "number_of_non_reference_alleles = genotype_array_filtered.to_n_alt()\n",
    "number_of_non_reference_alleles"
   ]
  },
  {
   "cell_type": "code",
   "execution_count": null,
   "id": "728ae37e",
   "metadata": {},
   "outputs": [],
   "source": [
    "#check if the array still contains the right encoding\n",
    "pd.unique(number_of_non_reference_alleles.flatten())"
   ]
  },
  {
   "cell_type": "code",
   "execution_count": null,
   "id": "b74f6ea4",
   "metadata": {},
   "outputs": [],
   "source": [
    "#check correct number of SNPs\n",
    "print(len(number_of_non_reference_alleles))"
   ]
  },
  {
   "cell_type": "markdown",
   "id": "cb5f3491",
   "metadata": {},
   "source": [
    "### **Subset the number of SNPs**"
   ]
  },
  {
   "cell_type": "code",
   "execution_count": null,
   "id": "742991b6",
   "metadata": {},
   "outputs": [],
   "source": [
    "#n = 20000 #Number of SNPs to choose randomly\n",
    "#vidx = np.random.choice(number_of_non_reference_alleles.shape[0], n, replace=False)\n",
    "#vidx.sort()\n",
    "#number_of_non_reference_alleles_random = number_of_non_reference_alleles.take(vidx, axis=0)\n",
    "#number_of_non_reference_alleles_random"
   ]
  },
  {
   "cell_type": "code",
   "execution_count": null,
   "id": "33848c13",
   "metadata": {},
   "outputs": [],
   "source": [
    "#check correct number of SNPs\n",
    "#print(len(number_of_non_reference_alleles_random))"
   ]
  },
  {
   "cell_type": "code",
   "execution_count": null,
   "id": "7f02ea1f",
   "metadata": {},
   "outputs": [],
   "source": [
    "#check if the array still contains the right encoding\n",
    "#pd.unique(number_of_non_reference_alleles_random.flatten())"
   ]
  },
  {
   "cell_type": "markdown",
   "id": "0b1f8721",
   "metadata": {},
   "source": [
    "### **Linkage Disequilibrium pruning**"
   ]
  },
  {
   "cell_type": "code",
   "execution_count": null,
   "id": "2a3d893a",
   "metadata": {},
   "outputs": [],
   "source": [
    "#Plotting Linkage Disequilibrium - defining the plotting \n",
    "def plot_ld(number_of_non_reference_alleles_random, title):\n",
    "    m = allel.rogers_huff_r(number_of_non_reference_alleles_random) ** 2\n",
    "    fig = allel.plot_pairwise_ld(m)\n",
    "    fig.set_title(title)\n",
    "    fig.savefig(\"PCA_LD_before_pruning.pdf\",bbox_inches='tight') #save figure as pdf "
   ]
  },
  {
   "cell_type": "markdown",
   "id": "50afc683",
   "metadata": {},
   "source": [
    "#### **Plotting LD before LD pruning** - subset 20.000 SNPs"
   ]
  },
  {
   "cell_type": "markdown",
   "id": "ab2e5628",
   "metadata": {},
   "source": [
    "#plot LD for 20.000 SNPs before pruning\n",
    "#plot_ld(number_of_non_reference_alleles_random, 'Figure 1A. Pairwise LD for random subset of 20.000 SNPs - not pruned')\n",
    "#dots show indicate pairs of SNPs where genotypes are correlated."
   ]
  },
  {
   "cell_type": "markdown",
   "id": "c9036bea",
   "metadata": {},
   "source": [
    "#### **Plotting LD before LD pruning** - all SNPs"
   ]
  },
  {
   "cell_type": "markdown",
   "id": "c61b3c15",
   "metadata": {},
   "source": [
    "#plot LD for all SNPs before pruning\n",
    "plot_ld(number_of_non_reference_alleles, 'Figure 1A. Pairwise LD for all SNPs - not pruned')\n",
    "#dots show indicate pairs of SNPs where genotypes are correlated."
   ]
  },
  {
   "cell_type": "markdown",
   "id": "eea72b44",
   "metadata": {},
   "source": [
    "### **Removing correlated features (LD)**"
   ]
  },
  {
   "cell_type": "code",
   "execution_count": null,
   "id": "2c244a0b",
   "metadata": {},
   "outputs": [],
   "source": [
    "#Removing correlated features (LD)\n",
    "def ld_prune(gn, size, step, threshold=.1, n_iter=1):\n",
    "    for i in range(n_iter):\n",
    "        loc_unlinked = allel.locate_unlinked(gn, size=size, step=step, threshold=threshold)\n",
    "        n = np.count_nonzero(loc_unlinked)\n",
    "        n_remove = gn.shape[0] - n\n",
    "        print('iteration', i+1, 'retaining', n, 'removing', n_remove, 'variants')\n",
    "        gn = gn.compress(loc_unlinked, axis=0)\n",
    "    return gn"
   ]
  },
  {
   "cell_type": "markdown",
   "id": "368502e1",
   "metadata": {},
   "source": [
    "pruned_subset = ld_prune(number_of_non_reference_alleles_random, size=500, step=200, threshold=.1, n_iter=5)"
   ]
  },
  {
   "cell_type": "code",
   "execution_count": null,
   "id": "373fa2af",
   "metadata": {},
   "outputs": [],
   "source": [
    "pruned_all = ld_prune(number_of_non_reference_alleles, size=500, step=200, threshold=.1, n_iter=5)"
   ]
  },
  {
   "cell_type": "markdown",
   "id": "4b71b3bf",
   "metadata": {},
   "source": [
    "#### **Plotting LD after LD pruning** - subset 20.000 SNPs"
   ]
  },
  {
   "cell_type": "markdown",
   "id": "599c9ab5",
   "metadata": {},
   "source": [
    "#plot LD for all SNPs in the array before pruning\n",
    "#plot_ld(pruned_subset, 'Figure 1. Pairwise LD for random subset of 20.000 SNPs - pruned')\n",
    "#dots show indicate pairs of SNPs where genotypes are correlated."
   ]
  },
  {
   "cell_type": "markdown",
   "id": "6736f700",
   "metadata": {},
   "source": [
    "#### **Plotting LD after LD pruning** - all SNPs"
   ]
  },
  {
   "cell_type": "markdown",
   "id": "6886cde4",
   "metadata": {},
   "source": [
    "#plot LD for all SNPs in the array before pruning\n",
    "#plot_ld(pruned_all, 'Figure 1. Pairwise LD for all SNPs - pruned')\n",
    "#dots show indicate pairs of SNPs where genotypes are correlated."
   ]
  },
  {
   "cell_type": "markdown",
   "id": "73b7dbe3",
   "metadata": {},
   "source": [
    "pruned_subset=pruned_subset[:]\n",
    "pruned_subset"
   ]
  },
  {
   "cell_type": "code",
   "execution_count": null,
   "id": "76c3e0f4",
   "metadata": {},
   "outputs": [],
   "source": [
    "pruned_all=pruned_all[:]\n",
    "pruned_all"
   ]
  },
  {
   "cell_type": "markdown",
   "id": "f188d7ef",
   "metadata": {},
   "source": [
    "##check if the array still contains the right encoding\n",
    "pd.unique(pruned_subset.flatten())"
   ]
  },
  {
   "cell_type": "code",
   "execution_count": null,
   "id": "11e624b9",
   "metadata": {},
   "outputs": [],
   "source": [
    "##check if the array still contains the right encoding\n",
    "pd.unique(pruned_all.flatten())"
   ]
  },
  {
   "cell_type": "markdown",
   "id": "0fa3b701",
   "metadata": {},
   "source": [
    "### **Make the PCA**"
   ]
  },
  {
   "cell_type": "code",
   "execution_count": null,
   "id": "b43fe712",
   "metadata": {},
   "outputs": [],
   "source": [
    "#check the populations included\n",
    "populations = filtered_subset_samples_landraces_and_Dh_and_elite.Population.unique()\n",
    "print(populations)\n",
    "print(len(populations))"
   ]
  },
  {
   "cell_type": "markdown",
   "id": "6718865c",
   "metadata": {},
   "source": [
    "#### **Make PCA** - 20.000 SNP subset"
   ]
  },
  {
   "cell_type": "markdown",
   "id": "82913700",
   "metadata": {},
   "source": [
    "coords1_subset, model1_subset = allel.pca(pruned_subset, n_components=10, scaler='patterson', ploidy=2)"
   ]
  },
  {
   "cell_type": "markdown",
   "id": "fbc06f0d",
   "metadata": {},
   "source": [
    "#### **Make PCA** - all SNPs"
   ]
  },
  {
   "cell_type": "code",
   "execution_count": null,
   "id": "d374e448",
   "metadata": {},
   "outputs": [],
   "source": [
    "coords1_all, model1_all = allel.pca(pruned_all, n_components=10, scaler='patterson', ploidy=2)"
   ]
  },
  {
   "cell_type": "markdown",
   "id": "8fa7baf7",
   "metadata": {},
   "source": [
    "#### **Extract the Principal components** - 20.000 SNP subset"
   ]
  },
  {
   "cell_type": "markdown",
   "id": "0929376c",
   "metadata": {},
   "source": [
    "pca1_subset=coords1_subset[:,0]"
   ]
  },
  {
   "cell_type": "markdown",
   "id": "8845a7da",
   "metadata": {},
   "source": [
    "pca2_subset=coords1_subset[:,1]"
   ]
  },
  {
   "cell_type": "markdown",
   "id": "6ad951dc",
   "metadata": {},
   "source": [
    "pca3_subset=coords1_subset[:,2]"
   ]
  },
  {
   "cell_type": "markdown",
   "id": "a7609a2f",
   "metadata": {},
   "source": [
    "#### **Extract the Principal components** - all SNPs"
   ]
  },
  {
   "cell_type": "code",
   "execution_count": null,
   "id": "d01563dd",
   "metadata": {},
   "outputs": [],
   "source": [
    "pca1_all=coords1_all[:,0]"
   ]
  },
  {
   "cell_type": "code",
   "execution_count": null,
   "id": "b9f2ddee",
   "metadata": {},
   "outputs": [],
   "source": [
    "pca2_all=coords1_all[:,1]"
   ]
  },
  {
   "cell_type": "code",
   "execution_count": null,
   "id": "188e45ad",
   "metadata": {},
   "outputs": [],
   "source": [
    "pca3_all=coords1_all[:,2]"
   ]
  },
  {
   "cell_type": "markdown",
   "id": "b1ac79ca",
   "metadata": {},
   "source": [
    "#### **Make PCA Table for each point** - 20.000 SNP subset"
   ]
  },
  {
   "cell_type": "markdown",
   "id": "202b64df",
   "metadata": {},
   "source": [
    "PCA_table_SNP_subset=filtered_subset_samples_landraces_and_Dh_and_elite"
   ]
  },
  {
   "cell_type": "markdown",
   "id": "14c00087",
   "metadata": {},
   "source": [
    "PCA_table_SNP_subset[\"pc1\"]=pca1_subset\n",
    "PCA_table_SNP_subset[\"pc2\"]=pca2_subset\n",
    "PCA_table_SNP_subset[\"pc3\"]=pca3_subset"
   ]
  },
  {
   "cell_type": "markdown",
   "id": "aee212a4",
   "metadata": {},
   "source": [
    "#table with the name, Population and the first three Principal Components\n",
    "PCA_table_SNP_subset"
   ]
  },
  {
   "cell_type": "markdown",
   "id": "648dad6a",
   "metadata": {},
   "source": [
    "#### **Make PCA Table for each point** - all SNPs"
   ]
  },
  {
   "cell_type": "code",
   "execution_count": null,
   "id": "dc2a4ccc",
   "metadata": {},
   "outputs": [],
   "source": [
    "PCA_table_SNP_all=filtered_subset_samples_landraces_and_Dh_and_elite"
   ]
  },
  {
   "cell_type": "code",
   "execution_count": null,
   "id": "ed386eac",
   "metadata": {},
   "outputs": [],
   "source": [
    "PCA_table_SNP_all[\"pc1\"]=pca1_all\n",
    "PCA_table_SNP_all[\"pc2\"]=pca2_all\n",
    "PCA_table_SNP_all[\"pc3\"]=pca3_all"
   ]
  },
  {
   "cell_type": "markdown",
   "id": "da3781da",
   "metadata": {},
   "source": [
    "### **Load the metadata file**"
   ]
  },
  {
   "cell_type": "code",
   "execution_count": null,
   "id": "e3b51715",
   "metadata": {},
   "outputs": [],
   "source": [
    "meta_PCA=pd.read_csv('metadata_for_PCA.csv') \n",
    "meta_PCA"
   ]
  },
  {
   "cell_type": "code",
   "execution_count": null,
   "id": "71b2220f",
   "metadata": {},
   "outputs": [],
   "source": [
    "#set abbreviation as the index\n",
    "meta_PCA=meta_PCA.set_index('Abb.')\n",
    "meta_PCA"
   ]
  },
  {
   "cell_type": "code",
   "execution_count": null,
   "id": "9b5a6821",
   "metadata": {},
   "outputs": [],
   "source": [
    "#make dictionary of the metadata\n",
    "meta_PCA_dict=meta_PCA.to_dict('index')\n",
    "#meta_PCA_dict"
   ]
  },
  {
   "cell_type": "code",
   "execution_count": null,
   "id": "71e22057",
   "metadata": {},
   "outputs": [],
   "source": [
    "len(meta_PCA_dict)"
   ]
  },
  {
   "cell_type": "markdown",
   "id": "2243c88b",
   "metadata": {},
   "source": [
    "### **Plot the PCA**"
   ]
  },
  {
   "cell_type": "code",
   "execution_count": null,
   "id": "438d527f",
   "metadata": {},
   "outputs": [],
   "source": [
    "def plot_pca_coords(coords, model, pc1, pc2, ax, sample_population):\n",
    "    sns.despine(ax=ax, offset=5)\n",
    "    x = coords[:, pc1]\n",
    "    y = coords[:, pc2]\n",
    "    #print(coords)\n",
    "    for pop in populations:\n",
    "        flt = (sample_population == pop)\n",
    "        #dent, flint & - \n",
    "        if pop in meta_PCA_dict.keys(): # go through the dictionary meta_PCA_dict\n",
    "            #print(pop)\n",
    "            popstr=str(pop)\n",
    "            poptext=\"$\\\\bf{}$\".format(popstr) # make population name to string\n",
    "            hex_col=meta_PCA_dict.get(pop).get(\"hex_col\") #get the pop dictionary entry and get the value that goes with the \"hex_col\" key\n",
    "            shape=meta_PCA_dict.get(pop).get(\"shape_PCA\") #get the pop dictionary entry and get the value that goes with the \"shape\" key\n",
    "            full_name_duplicate=meta_PCA_dict.get(pop).get(\"Full name duplicate\") #get the pop dictionary entry and get the value that goes with the \"Full name duplicate\" key\n",
    "            #print(full_name_duplicate)\n",
    "            ax.plot(x[flt], y[flt], marker=shape, linestyle=' ', color=hex_col, #for plotting use the shape and hex_col form the dict\n",
    "            label=full_name_duplicate + ' ' + \"[{}]\".format(poptext), markersize=5, mec='k', mew=.5) #markeredgecolor or mec\tcolor markeredgewidth or mew\tfloat\n",
    "                  \n",
    "    ax.set_xlabel('PC%s (%.1f%%)' % (pc1+1, model.explained_variance_ratio_[pc1]*100)) # x-axis label, add +1 for correct labeling and *100 to express as percent  \n",
    "    ax.set_ylabel('PC%s (%.1f%%)' % (pc2+1, model.explained_variance_ratio_[pc2]*100)) # y-axis label, add +1 for correct labeling and *100 to express as percent "
   ]
  },
  {
   "cell_type": "code",
   "execution_count": null,
   "id": "124533c8",
   "metadata": {},
   "outputs": [],
   "source": [
    "def fig_pca(coords, model, title, sample_population=None):\n",
    "    if sample_population is None:\n",
    "        sample_population = filtered_subset_samples_landraces_and_Dh_and_elite.Population.values\n",
    "    # plot coords for PCs 1 vs 2, 3 vs 4\n",
    "    fig = plt.figure(figsize=(26,13 )) #figure size\n",
    "    ax = fig.add_subplot(1, 2, 1) # add subplot on location on grid\n",
    "    plot_pca_coords(coords, model, 0, 1, ax, sample_population) #take the PC1 (0) and PC2 (1)\n",
    "    #ax = fig.add_subplot(1, 2, 2) # add subplot on location on grid\n",
    "    #plot_pca_coords(coords, model, 1, 2, ax, sample_population) #take the PC2 (1) and PC3 (2)\n",
    "    handles, labels = ax.get_legend_handles_labels() # get the labels form the dict \n",
    "    #print(labels)\n",
    "    labels, handles = zip(*sorted(zip(labels, handles), key=lambda t: t[0])) # sort labels \n",
    "    #print(labels)\n",
    "    #my_handler = HandlerLine2D(numpoints=3)\n",
    "    #legend_elements = [Line2D([0], [0], marker='X', color='w', label='European landraces', markeredgecolor=\"black\", markersize=15), #set the specifics for the maize group table\n",
    "                      #Line2D([0], [0], marker='d', color='w', label='Unterseer landraces', markeredgecolor=\"black\", markersize=15), #set the specifics for the maize group table\n",
    "                      #Line2D([0], [0], marker='^', color='w', label='DH mother lines', markeredgecolor='black', markersize=15), #set the specifics for the maize group table\n",
    "                      #Line2D([0], [0], marker='s', color='w', label='DH lines', markeredgecolor='black', markersize=15), #set the specifics for the maize group table\n",
    "                      #Line2D([0], [0], marker='p', color='w', label='elite breeding lines', markeredgecolor='black', markersize=15)] #set the specifics for the maize group table\n",
    "    #leg1 = ax.legend(handles=legend_elements,bbox_to_anchor=(1.1,1), loc='upper left', labelspacing = 1.4, title= \"$\\\\bf{Maize\\ groups}$\",fontsize=\"large\", title_fontsize=\"x-large\") #put the specifics into the box, place the box and name the box \n",
    "    #leg2 = ax.legend(handles,labels, bbox_to_anchor=(1.5,1), loc='upper left', ncol=2,title= \"$\\\\bf{Populations}$\", fontsize=\"large\",title_fontsize=\"x-large\", markerscale=2.5,labelspacing = 1.2) #get the specifics for the maize pops, put into the box, place and name the box \n",
    "    #ax.add_artist(leg1)\n",
    "    fig.suptitle(title, fontsize=\"xx-large\",fontweight='bold', y=1.02) #add title \n",
    "    #fig.tight_layout()\n",
    "\n",
    "\n",
    "    #fig.savefig(\"PCA.pdf\",bbox_inches='tight') #save figure as pdf "
   ]
  },
  {
   "cell_type": "markdown",
   "id": "bbbc1df7",
   "metadata": {},
   "source": [
    "#plot the figure\n",
    "fig_pca(coords1_subset, model1_subset, 'European maize PCA')"
   ]
  },
  {
   "cell_type": "code",
   "execution_count": null,
   "id": "0aeb7d10",
   "metadata": {},
   "outputs": [],
   "source": [
    "#plot the figure\n",
    "fig_pca(coords1_all, model1_all, 'European maize PCA')"
   ]
  },
  {
   "cell_type": "markdown",
   "id": "e60d97d0",
   "metadata": {},
   "source": [
    "#### **Filter PCA Table to find groupings** - 20.000 SNPs subset"
   ]
  },
  {
   "cell_type": "markdown",
   "id": "b0e88e9c",
   "metadata": {},
   "source": [
    "pd.unique(PCA_table_SNP_subset[(PCA_table_SNP_subset.pc1>0)&(PCA_table_SNP_subset.pc2>-20)].Population)"
   ]
  },
  {
   "cell_type": "markdown",
   "id": "274b23bf",
   "metadata": {},
   "source": [
    "pd.unique(PCA_table_SNP_subset[(PCA_table_SNP_subset.pc1<0)&(PCA_table_SNP_subset.pc2>-20)].Population)"
   ]
  },
  {
   "cell_type": "markdown",
   "id": "f17a5882",
   "metadata": {},
   "source": [
    "pd.unique(PCA_table_SNP_subset[(PCA_table_SNP_subset.pc1>0)&(PCA_table_SNP_subset.pc2>-0)].Population)"
   ]
  },
  {
   "cell_type": "markdown",
   "id": "8c769e77",
   "metadata": {},
   "source": [
    "pd.unique(PCA_table_SNP_subset[(PCA_table_SNP_subset.pc1<0)&(PCA_table_SNP_subset.pc2>-40)].Population)"
   ]
  },
  {
   "cell_type": "markdown",
   "id": "bdcf2af5",
   "metadata": {},
   "source": [
    "pd.unique(PCA_table_SNP_subset[(PCA_table_SNP_subset.pc1<0)&(PCA_table_SNP_subset.pc2<-40)].Population)"
   ]
  },
  {
   "cell_type": "markdown",
   "id": "b8b10dd2",
   "metadata": {},
   "source": [
    "#### **Filter PCA Table to find groupings** - all SNPs"
   ]
  },
  {
   "cell_type": "code",
   "execution_count": null,
   "id": "6809716e",
   "metadata": {},
   "outputs": [],
   "source": [
    "#dent like landraces\n",
    "pd.unique(PCA_table_SNP_all[(PCA_table_SNP_all.pc1<0)&(PCA_table_SNP_all.pc2<-90)].Population)"
   ]
  },
  {
   "cell_type": "code",
   "execution_count": null,
   "id": "78899080",
   "metadata": {},
   "outputs": [],
   "source": [
    "#Northern european cluster filter 1\n",
    "pd.unique(PCA_table_SNP_all[(PCA_table_SNP_all.pc1>-10)&(PCA_table_SNP_all.pc2>-70)&(PCA_table_SNP_all.pc2<0)].Population)"
   ]
  },
  {
   "cell_type": "code",
   "execution_count": null,
   "id": "6c20edac",
   "metadata": {},
   "outputs": [],
   "source": [
    "#Northern european cluster filter 2\n",
    "pd.unique(PCA_table_SNP_all[(PCA_table_SNP_all.pc1>50)&(PCA_table_SNP_all.pc2>0)].Population)"
   ]
  },
  {
   "cell_type": "code",
   "execution_count": null,
   "id": "68738209",
   "metadata": {},
   "outputs": [],
   "source": [
    "#Southern european cluster\n",
    "pd.unique(PCA_table_SNP_all[(PCA_table_SNP_all.pc1<0)&(PCA_table_SNP_all.pc2>0)].Population)"
   ]
  },
  {
   "cell_type": "code",
   "execution_count": null,
   "id": "748dd16d",
   "metadata": {},
   "outputs": [],
   "source": [
    "pd.unique(PCA_table_SNP_all[(PCA_table_SNP_all.pc1<-90)&(PCA_table_SNP_all.pc2<0)].Population)"
   ]
  }
 ],
 "metadata": {
  "kernelspec": {
   "display_name": "Python 3",
   "language": "python",
   "name": "python3"
  },
  "language_info": {
   "codemirror_mode": {
    "name": "ipython",
    "version": 3
   },
   "file_extension": ".py",
   "mimetype": "text/x-python",
   "name": "python",
   "nbconvert_exporter": "python",
   "pygments_lexer": "ipython3",
   "version": "3.7.9"
  }
 },
 "nbformat": 4,
 "nbformat_minor": 5
}
