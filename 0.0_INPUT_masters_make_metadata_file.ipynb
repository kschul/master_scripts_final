{
 "cells": [
  {
   "cell_type": "markdown",
   "id": "91f59e4e",
   "metadata": {},
   "source": [
    "## **0.0_INPUT_master_make_metadata_file**"
   ]
  },
  {
   "cell_type": "markdown",
   "id": "4614797a",
   "metadata": {},
   "source": [
    "### GOALS of this script:\n",
    "* make metadatafiles \n",
    "* same as the ones used just without obs_het column\n",
    "* hex_col colors put in by hand"
   ]
  },
  {
   "cell_type": "code",
   "execution_count": null,
   "id": "1b1a2301",
   "metadata": {},
   "outputs": [],
   "source": [
    "#import all needed datasets\n",
    "import pandas as pd\n",
    "import numpy as np\n",
    "import scipy as sp"
   ]
  },
  {
   "cell_type": "markdown",
   "id": "2d027d93",
   "metadata": {},
   "source": [
    "#### *Read in the Mayer_2017 metadata excel file*"
   ]
  },
  {
   "cell_type": "code",
   "execution_count": null,
   "id": "4cc03d61",
   "metadata": {},
   "outputs": [],
   "source": [
    "meta_mayer_2017_landraces= pd.read_excel(r'/Users/kschul38/Documents/tsinfer-project/data/1_raw/4_Mayer_2017/mayer_2017_landraces_meta.xlsx', sheet_name='Table 1')"
   ]
  },
  {
   "cell_type": "code",
   "execution_count": null,
   "id": "448388e4",
   "metadata": {},
   "outputs": [],
   "source": [
    "meta_mayer_2017_landraces"
   ]
  },
  {
   "cell_type": "code",
   "execution_count": null,
   "id": "1985522a",
   "metadata": {},
   "outputs": [],
   "source": [
    "meta_for_plotly=meta_mayer_2017_landraces"
   ]
  },
  {
   "cell_type": "code",
   "execution_count": null,
   "id": "4a5ca6c7",
   "metadata": {},
   "outputs": [],
   "source": [
    "#remove last line that sums the total number of samples\n",
    "meta_for_plotly=meta_for_plotly.drop(35)"
   ]
  },
  {
   "cell_type": "markdown",
   "id": "df194792",
   "metadata": {},
   "source": [
    "#### *Drop irrelevant columns*"
   ]
  },
  {
   "cell_type": "code",
   "execution_count": null,
   "id": "7c2e1631",
   "metadata": {},
   "outputs": [],
   "source": [
    "meta_for_plotly=meta_for_plotly.drop(['Regiona', 'Country','Seed Source'], axis=1)"
   ]
  },
  {
   "cell_type": "code",
   "execution_count": null,
   "id": "f93b1988",
   "metadata": {},
   "outputs": [],
   "source": [
    "#meta_for_plotly"
   ]
  },
  {
   "cell_type": "markdown",
   "id": "97d1679a",
   "metadata": {},
   "source": [
    "#### *Add columns for marker color, shape & size*"
   ]
  },
  {
   "cell_type": "code",
   "execution_count": null,
   "id": "208d0fae",
   "metadata": {},
   "outputs": [],
   "source": [
    "#add columns for marker color, shape & size\n",
    "meta_for_plotly['hex_col']= \" \"\n",
    "meta_for_plotly['shape']= \"circle\"\n",
    "meta_for_plotly['size']= 5"
   ]
  },
  {
   "cell_type": "markdown",
   "id": "22430d9c",
   "metadata": {},
   "source": [
    "#### *Duplicate name column*"
   ]
  },
  {
   "cell_type": "code",
   "execution_count": null,
   "id": "d0a2fbe9",
   "metadata": {},
   "outputs": [],
   "source": [
    "meta_for_plotly['Full name duplicate'] = meta_for_plotly['Full name']"
   ]
  },
  {
   "cell_type": "markdown",
   "id": "f77fcf95",
   "metadata": {},
   "source": [
    "#### *Add PCA_shape columns*"
   ]
  },
  {
   "cell_type": "code",
   "execution_count": null,
   "id": "7d66a4ec",
   "metadata": {},
   "outputs": [],
   "source": [
    "meta_for_plotly['shape_PCA']= \"X\""
   ]
  },
  {
   "cell_type": "code",
   "execution_count": null,
   "id": "04be2c75",
   "metadata": {},
   "outputs": [],
   "source": [
    "meta_for_plotly"
   ]
  },
  {
   "cell_type": "markdown",
   "id": "2555f839",
   "metadata": {},
   "source": [
    "#### *Add the lines from the Unterseer_landraces by hand - long und lat found via google maps*"
   ]
  },
  {
   "cell_type": "code",
   "execution_count": null,
   "id": "795bc157",
   "metadata": {},
   "outputs": [],
   "source": [
    "unterseer_additional_landraces = pd.DataFrame([[\"Altreier\", \"AL\",46.277,11.365,24,\"\",\"circle\",5,\"Altreier\",\"X\"],\n",
    "                                    [\"Fleimstal\",\"FL\",46.303,11.600,24,\"\",\"circle\",5,\"Fleimstal\",\"X\"],\n",
    "                                    [\"Sornay\",\"SO\",46.627, 5.178,23,\"\",\"circle\",5,\"Sornay\",\"X\"]],columns=list('ABCDEFGHJK'))"
   ]
  },
  {
   "cell_type": "code",
   "execution_count": null,
   "id": "23eeafd6",
   "metadata": {},
   "outputs": [],
   "source": [
    "unterseer_additional_landraces"
   ]
  },
  {
   "cell_type": "code",
   "execution_count": null,
   "id": "a57b92a8",
   "metadata": {},
   "outputs": [],
   "source": [
    "unterseer_additional_landraces=unterseer_additional_landraces.rename(columns={\"A\": \"Full name\", \"B\": \"Abb.\", \"C\":\"Latitudeb\",\"D\":\"Longitudeb\",\"E\":\"Num of Individuals\",\"F\":\"hex_col\",\"G\":\"shape\",\"H\":\"size\",\"J\":\"Full name duplicate\",\"K\":\"shape_PCA\"})\n"
   ]
  },
  {
   "cell_type": "code",
   "execution_count": null,
   "id": "c7fa96f0",
   "metadata": {},
   "outputs": [],
   "source": [
    "unterseer_additional_landraces"
   ]
  },
  {
   "cell_type": "code",
   "execution_count": null,
   "id": "a48f43ff",
   "metadata": {},
   "outputs": [],
   "source": [
    "meta_for_plotly=meta_for_plotly.append(unterseer_additional_landraces)"
   ]
  },
  {
   "cell_type": "code",
   "execution_count": null,
   "id": "f5947acf",
   "metadata": {},
   "outputs": [],
   "source": [
    "meta_for_plotly"
   ]
  },
  {
   "cell_type": "code",
   "execution_count": null,
   "id": "d3a15b07",
   "metadata": {},
   "outputs": [],
   "source": [
    "#reindex the table\n",
    "meta_for_plotly=meta_for_plotly.reset_index(drop=True)\n",
    "meta_for_plotly"
   ]
  },
  {
   "cell_type": "markdown",
   "id": "ebaa22f9",
   "metadata": {},
   "source": [
    "#### *Edit the landraces corresponding to the Mayer_2020 DH lines rows and add them*"
   ]
  },
  {
   "cell_type": "code",
   "execution_count": null,
   "id": "76f91ca1",
   "metadata": {},
   "outputs": [],
   "source": [
    "KL_row=meta_for_plotly.iloc[[8]]\n",
    "KL_row[\"shape_PCA\"]=\"^\""
   ]
  },
  {
   "cell_type": "code",
   "execution_count": null,
   "id": "c404c831",
   "metadata": {},
   "outputs": [],
   "source": [
    "PE_row=meta_for_plotly.iloc[[21]]\n",
    "PE_row[\"shape_PCA\"]=\"^\""
   ]
  },
  {
   "cell_type": "code",
   "execution_count": null,
   "id": "48462678",
   "metadata": {},
   "outputs": [],
   "source": [
    "LL_row=meta_for_plotly.iloc[[12]]\n",
    "LL_row[\"shape_PCA\"]=\"^\""
   ]
  },
  {
   "cell_type": "code",
   "execution_count": null,
   "id": "845742ea",
   "metadata": {},
   "outputs": [],
   "source": [
    "#drop the columns\n",
    "meta_for_plotly=meta_for_plotly.drop([8, 21,12])"
   ]
  },
  {
   "cell_type": "code",
   "execution_count": null,
   "id": "d6eda3d7",
   "metadata": {},
   "outputs": [],
   "source": [
    "#append the rows at the end\n",
    "meta_for_plotly=meta_for_plotly.append(KL_row, ignore_index=False)\n",
    "meta_for_plotly=meta_for_plotly.append(PE_row, ignore_index=False)\n",
    "meta_for_plotly=meta_for_plotly.append(LL_row, ignore_index=False)"
   ]
  },
  {
   "cell_type": "code",
   "execution_count": null,
   "id": "ff375aae",
   "metadata": {},
   "outputs": [],
   "source": [
    "meta_for_plotly"
   ]
  },
  {
   "cell_type": "code",
   "execution_count": null,
   "id": "42ec932f",
   "metadata": {},
   "outputs": [],
   "source": [
    "#reindex the table\n",
    "meta_for_plotly=meta_for_plotly.reset_index(drop=True)\n",
    "#meta_for_plotly"
   ]
  },
  {
   "cell_type": "markdown",
   "id": "0b2382ec",
   "metadata": {},
   "source": [
    "#### *Add the three DH lines from the Mayer_2020 paper by hand*"
   ]
  },
  {
   "cell_type": "code",
   "execution_count": null,
   "id": "54bc8f16",
   "metadata": {},
   "outputs": [],
   "source": [
    "#set up the columns\n",
    "meta_mayer_2020_dh_lines = pd.DataFrame([[\"Kemater Landmais Gelb DH\", \"KL DH\",47.255,11.274,501,\"\",\"square\",10,\"Kemater Landmais Gelb DH\",\"s\"],\n",
    "                                         [\"Petkuser Ferdinand Rot DH\",\"PE DH\",51.981,13.349,409,\"\",\"square\",10,\"Petkuser Ferdinand Rot DH\",\"s\"],\n",
    "                                         [\"Lalin DH\", \"LL DH\",42.661,-8.111,31,\"\",\"square\",10,\"Lalin DH\",\"s\"]],columns=list('ABCDEFGHJK'))\n"
   ]
  },
  {
   "cell_type": "code",
   "execution_count": null,
   "id": "136a752d",
   "metadata": {},
   "outputs": [],
   "source": [
    "#meta_mayer_2020_dh_lines"
   ]
  },
  {
   "cell_type": "code",
   "execution_count": null,
   "id": "b3819609",
   "metadata": {},
   "outputs": [],
   "source": [
    "#rename the columns\n",
    "meta_mayer_2020_dh_lines=meta_mayer_2020_dh_lines.rename(columns={\"A\": \"Full name\", \"B\": \"Abb.\", \"C\":\"Latitudeb\",\"D\":\"Longitudeb\",\"E\":\"Num of Individuals\",\"F\":\"hex_col\",\"G\":\"shape\",\"H\":\"size\",\"J\":\"Full name duplicate\",\"K\":\"shape_PCA\"})\n"
   ]
  },
  {
   "cell_type": "code",
   "execution_count": null,
   "id": "299e58c4",
   "metadata": {},
   "outputs": [],
   "source": [
    "#meta_mayer_2020_dh_lines"
   ]
  },
  {
   "cell_type": "markdown",
   "id": "35394063",
   "metadata": {},
   "source": [
    "#### *Append the Mayer_2020 table to the meta_for_plotly table*"
   ]
  },
  {
   "cell_type": "code",
   "execution_count": null,
   "id": "1bc7dcb0",
   "metadata": {},
   "outputs": [],
   "source": [
    "meta_for_plotly=meta_for_plotly.append(meta_mayer_2020_dh_lines)"
   ]
  },
  {
   "cell_type": "code",
   "execution_count": null,
   "id": "38ebf04f",
   "metadata": {},
   "outputs": [],
   "source": [
    "#meta_for_plotly"
   ]
  },
  {
   "cell_type": "code",
   "execution_count": null,
   "id": "4011d310",
   "metadata": {},
   "outputs": [],
   "source": [
    "#reindex the table\n",
    "meta_for_plotly=meta_for_plotly.reset_index(drop=True)\n",
    "meta_for_plotly"
   ]
  },
  {
   "cell_type": "markdown",
   "id": "47fd1cb5",
   "metadata": {},
   "source": [
    "#### *Append Unterseer_2016 elite lines info* & make the two metadata file"
   ]
  },
  {
   "cell_type": "markdown",
   "id": "97d3c499",
   "metadata": {},
   "source": [
    "**Make meta_full_landraces_with_PCA_shapes_reordered_new_colorpalette**"
   ]
  },
  {
   "cell_type": "code",
   "execution_count": null,
   "id": "5db9de06",
   "metadata": {},
   "outputs": [],
   "source": [
    "meta_for_plotly_1=meta_for_plotly"
   ]
  },
  {
   "cell_type": "code",
   "execution_count": null,
   "id": "a4b56693",
   "metadata": {},
   "outputs": [],
   "source": [
    "#set up the columns\n",
    "meta_unterseer_2016_1 = pd.DataFrame([[\"Unterseer_2016_elite flint\", \"flint\",0.0,0.0,66,\"\",\"diamond\",10,\"Unterseer_2016_elite flint\",\"p\"],\n",
    "                                    [\"Unterseer_2016_elite dent\",\"dent\",0.0,0.0,77,\"\",\"diamond\",10,\"Unterseer_2016_elite dent\",\"p\"],\n",
    "                                    [\"Unterseer_2016_elite other\",\"-\",0.0,0.0,19,\"\",\"diamond\",10,\"Unterseer_2016_elite other\",\"p\"]],columns=list('ABCDEFGHJK'))\n"
   ]
  },
  {
   "cell_type": "code",
   "execution_count": null,
   "id": "000bcc45",
   "metadata": {},
   "outputs": [],
   "source": [
    "#rename the columns\n",
    "meta_unterseer_2016_1=meta_unterseer_2016_1.rename(columns={\"A\": \"Full name\", \"B\": \"Abb.\", \"C\":\"Latitudeb\",\"D\":\"Longitudeb\",\"E\":\"Num of Individuals\",\"F\":\"hex_col\",\"G\":\"shape\",\"H\":\"size\",\"J\":\"Full name duplicate\",\"K\":\"shape_PCA\"})\n"
   ]
  },
  {
   "cell_type": "code",
   "execution_count": null,
   "id": "e8b76b18",
   "metadata": {},
   "outputs": [],
   "source": [
    "#meta_unterseer_2016_1"
   ]
  },
  {
   "cell_type": "code",
   "execution_count": null,
   "id": "c0de0cfa",
   "metadata": {},
   "outputs": [],
   "source": [
    "meta_for_plotly_1=meta_for_plotly.append(meta_unterseer_2016_1, ignore_index=False)"
   ]
  },
  {
   "cell_type": "code",
   "execution_count": null,
   "id": "5746ea69",
   "metadata": {},
   "outputs": [],
   "source": [
    "#reindex the table\n",
    "meta_for_plotly_1=meta_for_plotly_1.reset_index(drop=True)\n",
    "meta_for_plotly_1"
   ]
  },
  {
   "cell_type": "markdown",
   "id": "9fbf849d",
   "metadata": {},
   "source": [
    "**Write to csv file**"
   ]
  },
  {
   "cell_type": "code",
   "execution_count": null,
   "id": "ebd67749",
   "metadata": {},
   "outputs": [],
   "source": [
    "#meta_for_plotly_1.to_csv('meta_full_landraces_with_PCA_shapes_reordered_new_colorpalette.csv', index=False) "
   ]
  },
  {
   "cell_type": "markdown",
   "id": "e530dd6d",
   "metadata": {},
   "source": [
    "**Make metadata_for_PCA**"
   ]
  },
  {
   "cell_type": "code",
   "execution_count": null,
   "id": "559c6ae1",
   "metadata": {},
   "outputs": [],
   "source": [
    "meta_for_plotly_2=meta_for_plotly"
   ]
  },
  {
   "cell_type": "code",
   "execution_count": null,
   "id": "a11a35da",
   "metadata": {},
   "outputs": [],
   "source": [
    "#set up the columns\n",
    "meta_unterseer_2016_2 = pd.DataFrame([[\"Unterseer_2016_elite flint\", \"flint\",0.0,0.0,66,\"\",\"diamond\",10,\"european breeding lines\",\"p\"],\n",
    "                                      [\"Unterseer_2016_elite dent\",\"dent\",0.0,0.0,77,\"\",\"diamond\",10,\"european breeding lines\",\"p\"]],columns=list('ABCDEFGHJK'))\n"
   ]
  },
  {
   "cell_type": "code",
   "execution_count": null,
   "id": "e82eff87",
   "metadata": {},
   "outputs": [],
   "source": [
    "#rename the columns\n",
    "meta_unterseer_2016_2=meta_unterseer_2016_2.rename(columns={\"A\": \"Full name\", \"B\": \"Abb.\", \"C\":\"Latitudeb\",\"D\":\"Longitudeb\",\"E\":\"Num of Individuals\",\"F\":\"hex_col\",\"G\":\"shape\",\"H\":\"size\",\"J\":\"Full name duplicate\",\"K\":\"shape_PCA\"})\n"
   ]
  },
  {
   "cell_type": "code",
   "execution_count": null,
   "id": "f96c8209",
   "metadata": {},
   "outputs": [],
   "source": [
    "meta_unterseer_2016_2"
   ]
  },
  {
   "cell_type": "code",
   "execution_count": null,
   "id": "75f00b94",
   "metadata": {},
   "outputs": [],
   "source": [
    "meta_for_plotly_2=meta_for_plotly.append(meta_unterseer_2016_2, ignore_index=False)"
   ]
  },
  {
   "cell_type": "code",
   "execution_count": null,
   "id": "83093bec",
   "metadata": {},
   "outputs": [],
   "source": [
    "#reindex the table\n",
    "meta_for_plotly_2=meta_for_plotly_2.reset_index(drop=True)\n",
    "meta_for_plotly_2"
   ]
  },
  {
   "cell_type": "markdown",
   "id": "d75e0877",
   "metadata": {},
   "source": [
    "**Write to csv file**"
   ]
  },
  {
   "cell_type": "code",
   "execution_count": null,
   "id": "c3683f65",
   "metadata": {},
   "outputs": [],
   "source": [
    "#meta_for_plotly_2.to_csv('metadata_for_PCA.csv', index=False) "
   ]
  }
 ],
 "metadata": {
  "kernelspec": {
   "display_name": "Python 3",
   "language": "python",
   "name": "python3"
  },
  "language_info": {
   "codemirror_mode": {
    "name": "ipython",
    "version": 3
   },
   "file_extension": ".py",
   "mimetype": "text/x-python",
   "name": "python",
   "nbconvert_exporter": "python",
   "pygments_lexer": "ipython3",
   "version": "3.7.9"
  }
 },
 "nbformat": 4,
 "nbformat_minor": 5
}
